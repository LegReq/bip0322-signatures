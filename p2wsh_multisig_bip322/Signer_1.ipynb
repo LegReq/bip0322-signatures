{
 "cells": [
  {
   "cell_type": "markdown",
   "id": "f206732a",
   "metadata": {},
   "source": [
    "# P2WSH MultiSig BIP322\n",
    "## Role: Signer"
   ]
  },
  {
   "cell_type": "markdown",
   "id": "206f9b5b",
   "metadata": {},
   "source": [
    "## 1. Generate HD Key from mneumonic"
   ]
  },
  {
   "cell_type": "code",
   "execution_count": 1,
   "id": "b298a924",
   "metadata": {},
   "outputs": [],
   "source": [
    "from buidl.mnemonic import secure_mnemonic\n",
    "from buidl.hd import HDPrivateKey\n",
    "\n",
    "# mnemonic = secure_mnemonic()\n",
    "mnemonic = 'prison strike index fine dial melody melody gold noble possible any run range title lens quick visit annual clog ozone core tobacco abstract void'\n",
    "hd_root = HDPrivateKey.from_mnemonic(mnemonic)"
   ]
  },
  {
   "cell_type": "markdown",
   "id": "ed845561",
   "metadata": {},
   "source": [
    "## 2. Select Key to Sign With"
   ]
  },
  {
   "cell_type": "code",
   "execution_count": 2,
   "id": "6f90719f",
   "metadata": {},
   "outputs": [],
   "source": [
    "bip32_path = \"m/45'/0/0/9\"\n",
    "\n",
    "signing_privkey = hd_root.traverse(bip32_path)\n",
    "signing_pubkey = signing_privkey.pub.point\n",
    "root_xfp = hd_root.fingerprint().hex()"
   ]
  },
  {
   "cell_type": "markdown",
   "id": "d5468183",
   "metadata": {},
   "source": [
    "## 3. Share Public Key with Creator\n",
    "\n",
    "The public key to include in a p2sh redeem script must be communicated to the creator of a BIP322 signature through some communication channel. This channel is out of scope.\n",
    "\n",
    "In this example we will copy a hex representation of the public key across to the [PSBT Creator notebook](http://localhost:8888/notebooks/p2sh_multisig_bip322/PSBT_creator.ipynb)"
   ]
  },
  {
   "cell_type": "code",
   "execution_count": 4,
   "id": "145e9a2b",
   "metadata": {},
   "outputs": [
    {
     "name": "stdout",
     "output_type": "stream",
     "text": [
      "Copy the below line into step 3 of the creator notebook \n",
      "\n",
      "signer_1_pubkey = '03c2a23919504eb85905cd03861f97931314808f667f2c357f85b72f00f41d9493'\n"
     ]
    }
   ],
   "source": [
    "print(\"Copy the below line into step 3 of the creator notebook \\n\")\n",
    "print(f\"signer_1_pubkey = '{signing_pubkey.sec().hex()}'\")"
   ]
  },
  {
   "cell_type": "markdown",
   "id": "5ac0edee",
   "metadata": {},
   "source": [
    "## 4. Recieve PSBT from Creator\n",
    "\n",
    "Some out of band communication mechanism"
   ]
  },
  {
   "cell_type": "code",
   "execution_count": 5,
   "id": "277070db",
   "metadata": {},
   "outputs": [],
   "source": [
    "#### Copy from PSBT_Creator notebook Step 8. ######\n",
    "\n",
    "b64_psbt = 'cHNidP8BAD0AAAAAAeTHmyyL0BtEMKgIYJ4VxLouFJf/k9NLF6+gu5yMrmP7AAAAAAAAAAAAAQAAAAAAAAAAAWoAAAAAAAEBKwAAAAAAAAAAIgAg+BfBB30QVG3ji/uY8DEIazOzs7e2IxjyGSVRC3EHnxcBBWlTIQP3dyWvTZjUENWJowMWBsQrrXCUs20Gu5YF79CG5Ga0XSEDwqI5GVBOuFkFzQOGH5eTExSAj2Z/LDV/hbcvAPQdlJMhA17FuuJd+4wGuj+ZbVxEsFapTKAOwyhfw9qpch52JKxbU64iBgP3dyWvTZjUENWJowMWBsQrrXCUs20Gu5YF79CG5Ga0XRR7BeobLQAAgAAAAAAAAAAABgAAAAAA'"
   ]
  },
  {
   "cell_type": "code",
   "execution_count": 6,
   "id": "5c9f89b1",
   "metadata": {},
   "outputs": [],
   "source": [
    "from buidl.psbt import PSBT\n",
    "psbt_to_sign = PSBT.parse_base64(b64_psbt)"
   ]
  },
  {
   "cell_type": "markdown",
   "id": "9d5032f5",
   "metadata": {},
   "source": [
    "## 5. TODO: How does the signer Verify the Message that they are signing with this\n",
    "\n",
    "I assume they must be given the means to construct the to_spend transaction themselves and verify that this is referenced as the only input to the tx_obj in the PSBT"
   ]
  },
  {
   "cell_type": "markdown",
   "id": "1ab4c922",
   "metadata": {},
   "source": [
    "## 6. Update PSBT with pubkey"
   ]
  },
  {
   "cell_type": "code",
   "execution_count": 7,
   "id": "e4554781",
   "metadata": {},
   "outputs": [],
   "source": [
    "from buidl.psbt import NamedHDPublicKey\n",
    "\n",
    "pubkey_lookup = {}\n",
    "\n",
    "named_hd_pubkey_obj = NamedHDPublicKey.from_hd_pub(\n",
    "    child_hd_pub=signing_privkey.pub,\n",
    "    xfp_hex=root_xfp,\n",
    "    path=bip32_path,\n",
    ")\n",
    "# pubkey lookups needed for validation\n",
    "pubkey_lookup[named_hd_pubkey_obj.sec()] = named_hd_pubkey_obj"
   ]
  },
  {
   "cell_type": "code",
   "execution_count": 8,
   "id": "504fcfd2",
   "metadata": {},
   "outputs": [],
   "source": [
    "psbt_to_sign.update({}, pubkey_lookup)"
   ]
  },
  {
   "cell_type": "markdown",
   "id": "82215ac2",
   "metadata": {},
   "source": [
    "## 7. Sign the PSBT"
   ]
  },
  {
   "cell_type": "code",
   "execution_count": 9,
   "id": "b9d6dbed",
   "metadata": {},
   "outputs": [
    {
     "data": {
      "text/plain": [
       "True"
      ]
     },
     "execution_count": 9,
     "metadata": {},
     "output_type": "execute_result"
    }
   ],
   "source": [
    "psbt_to_sign.sign(hd_root)"
   ]
  },
  {
   "cell_type": "markdown",
   "id": "fb2d7a4b",
   "metadata": {},
   "source": [
    "## 8. Obfuscate Root Fingerprint \n",
    "\n",
    "This is optionally included for additional privacy"
   ]
  },
  {
   "cell_type": "code",
   "execution_count": 10,
   "id": "9200c42d",
   "metadata": {},
   "outputs": [],
   "source": [
    "xfp_map = {}\n",
    "xfp_map[root_xfp] = \"00000000\"\n",
    "psbt_to_sign.replace_root_xfps(xfp_map)"
   ]
  },
  {
   "cell_type": "markdown",
   "id": "24a9b169",
   "metadata": {},
   "source": [
    "## 9. Serialize Signed PSBT and Return to Creator\n",
    "\n",
    "Note: Communication channel out of band. We use copy and paste."
   ]
  },
  {
   "cell_type": "code",
   "execution_count": 11,
   "id": "b7c5cf49",
   "metadata": {},
   "outputs": [
    {
     "name": "stdout",
     "output_type": "stream",
     "text": [
      "Copy this VVVV \n",
      "\n",
      "\n",
      "signer_1_psbt_b64 = 'cHNidP8BAD0AAAAAAeTHmyyL0BtEMKgIYJ4VxLouFJf/k9NLF6+gu5yMrmP7AAAAAAAAAAAAAQAAAAAAAAAAAWoAAAAAAAEBKwAAAAAAAAAAIgAg+BfBB30QVG3ji/uY8DEIazOzs7e2IxjyGSVRC3EHnxciAgPCojkZUE64WQXNA4Yfl5MTFICPZn8sNX+Fty8A9B2Uk0cwRAIgE3oMsFZehlqxvYybj6TcLYByslWAl9sn7kkg0RQEwGkCIEy5VOq3i0LEiK0Ehdtc9z7VDtsgFLHlFhmakVCBO1SqAQEFaVMhA/d3Ja9NmNQQ1YmjAxYGxCutcJSzbQa7lgXv0IbkZrRdIQPCojkZUE64WQXNA4Yfl5MTFICPZn8sNX+Fty8A9B2UkyEDXsW64l37jAa6P5ltXESwVqlMoA7DKF/D2qlyHnYkrFtTriIGA8KiORlQTrhZBc0Dhh+XkxMUgI9mfyw1f4W3LwD0HZSTFAAAAAAtAACAAAAAAAAAAAAJAAAAIgYD93clr02Y1BDViaMDFgbEK61wlLNtBruWBe/QhuRmtF0UewXqGy0AAIAAAAAAAAAAAAYAAAAAAA=='\n"
     ]
    }
   ],
   "source": [
    "signer_1_psbt_b64 = psbt_to_sign.serialize_base64()\n",
    "print(\"Copy this VVVV \\n\\n\")\n",
    "print(f\"signer_1_psbt_b64 = '{signer_1_psbt_b64}'\")"
   ]
  },
  {
   "cell_type": "code",
   "execution_count": null,
   "id": "12b81bd0",
   "metadata": {},
   "outputs": [],
   "source": []
  }
 ],
 "metadata": {
  "kernelspec": {
   "display_name": "Python 3",
   "language": "python",
   "name": "python3"
  },
  "language_info": {
   "codemirror_mode": {
    "name": "ipython",
    "version": 3
   },
   "file_extension": ".py",
   "mimetype": "text/x-python",
   "name": "python",
   "nbconvert_exporter": "python",
   "pygments_lexer": "ipython3",
   "version": "3.8.5"
  }
 },
 "nbformat": 4,
 "nbformat_minor": 5
}
