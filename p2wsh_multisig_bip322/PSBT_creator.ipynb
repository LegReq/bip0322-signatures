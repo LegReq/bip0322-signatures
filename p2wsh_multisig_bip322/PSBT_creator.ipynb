{
 "cells": [
  {
   "cell_type": "markdown",
   "id": "cdac51b5",
   "metadata": {},
   "source": [
    "# P2WSH MultiSig BIP322\n",
    "## Role: Creator / Updator (see role definitions [here](https://github.com/bitcoin/bips/blob/master/bip-0174.mediawiki#Roles))"
   ]
  },
  {
   "cell_type": "markdown",
   "id": "14f490c6",
   "metadata": {},
   "source": [
    "## Workflow diagram\n",
    "\n",
    "Taken from [BIP174: Partially Signed Bitcoin Transaction Format](https://github.com/bitcoin/bips/blob/master/bip-0174.mediawik)\n",
    "\n",
    "<img src=\"https://github.com/bitcoin/bips/raw/master/bip-0174/multisig-workflow.svg\">\n"
   ]
  },
  {
   "cell_type": "code",
   "execution_count": 1,
   "id": "36e91285",
   "metadata": {},
   "outputs": [
    {
     "name": "stdout",
     "output_type": "stream",
     "text": [
      "/home/will/work/LegendaryRequirements/clients/dcd/bip0322-sigs\n"
     ]
    }
   ],
   "source": [
    "cd .."
   ]
  },
  {
   "cell_type": "markdown",
   "id": "22a914e4",
   "metadata": {},
   "source": [
    "## 1. Create HD Key from mnemonic\n",
    "\n",
    "Note: this would typically access some wallet"
   ]
  },
  {
   "cell_type": "code",
   "execution_count": 2,
   "id": "94d315b1",
   "metadata": {},
   "outputs": [],
   "source": [
    "from buidl.mnemonic import secure_mnemonic\n",
    "from buidl.hd import HDPrivateKey\n"
   ]
  },
  {
   "cell_type": "code",
   "execution_count": 3,
   "id": "f543f046",
   "metadata": {},
   "outputs": [],
   "source": [
    "mnemonic = 'priority orange artist purpose sport blade spike leg calm renew dress figure session play solve fatal spy reform humble carry finger response order print'"
   ]
  },
  {
   "cell_type": "code",
   "execution_count": 4,
   "id": "93ea1c2b",
   "metadata": {},
   "outputs": [],
   "source": [
    "hd_rootkey = HDPrivateKey.from_mnemonic(mnemonic)\n",
    "\n",
    "root_fp = hd_rootkey.fingerprint().hex()"
   ]
  },
  {
   "cell_type": "markdown",
   "id": "0fa8efea",
   "metadata": {},
   "source": [
    "## 2. Select Key to Sign With"
   ]
  },
  {
   "cell_type": "code",
   "execution_count": 5,
   "id": "f7819367",
   "metadata": {},
   "outputs": [],
   "source": [
    "bip32_path = \"m/45'/0/0/6\"\n",
    "\n",
    "signing_privkey= hd_rootkey.traverse(bip32_path)\n",
    "signing_pubkey = signing_privkey.pub.point\n"
   ]
  },
  {
   "cell_type": "markdown",
   "id": "ba459e6b",
   "metadata": {},
   "source": [
    "## 3. Fetch Other Signing Parties Public Keys\n",
    "\n",
    "See [signer_1](./Signer_1.ipynb) and [signer_2](./Signer_2.ipynb) notebooks steps 1 to 3"
   ]
  },
  {
   "cell_type": "code",
   "execution_count": 6,
   "id": "5b4d4b18",
   "metadata": {},
   "outputs": [],
   "source": [
    "signer_1_pubkey = '03c2a23919504eb85905cd03861f97931314808f667f2c357f85b72f00f41d9493'\n",
    "signer_2_pubkey = '035ec5bae25dfb8c06ba3f996d5c44b056a94ca00ec3285fc3daa9721e7624ac5b'\n"
   ]
  },
  {
   "cell_type": "markdown",
   "id": "5c0f3506",
   "metadata": {},
   "source": [
    "## 4. Create 3-of-3 MultiSig Pay-to-Witness-Script Hash\n",
    "\n",
    "Note: This p2wsh_address would likely be something that the signers would want to include in a DID Document.\n",
    "\n",
    "The address of a p2wsh scriptPubKey is OP_0 plus a sha256 hash of the witness script. The witness script is equivalent to the redeemscript used for a p2sh multisig"
   ]
  },
  {
   "cell_type": "code",
   "execution_count": 7,
   "id": "4e72a861",
   "metadata": {},
   "outputs": [
    {
     "data": {
      "text/plain": [
       "OP_0 f817c1077d10546de38bfb98f031086b33b3b3b7b62318f21925510b71079f17 "
      ]
     },
     "execution_count": 7,
     "metadata": {},
     "output_type": "execute_result"
    }
   ],
   "source": [
    "from buidl.script import RedeemScript, WitnessScript\n",
    "\n",
    "# YOU COULD CHANGE THIS\n",
    "quorum_m=3\n",
    "\n",
    "redeem_script = RedeemScript.create_p2sh_multisig(\n",
    "            quorum_m=quorum_m,\n",
    "            pubkey_hexes=[signing_pubkey.sec().hex(),signer_1_pubkey,signer_2_pubkey],\n",
    "            sort_keys=False,\n",
    "        )\n",
    "\n",
    "\n",
    "\n",
    "witness_script = WitnessScript.convert(redeem_script.raw_serialize())\n",
    "p2wsh_script_pubkey = witness_script.script_pubkey()\n",
    "p2wsh_address = witness_script.address()\n",
    "# segwit_script_pubkey.address()\n",
    "p2wsh_script_pubkey"
   ]
  },
  {
   "cell_type": "code",
   "execution_count": 8,
   "id": "4f3d22e1",
   "metadata": {},
   "outputs": [
    {
     "data": {
      "text/plain": [
       "OP_3 03f77725af4d98d410d589a3031606c42bad7094b36d06bb9605efd086e466b45d 03c2a23919504eb85905cd03861f97931314808f667f2c357f85b72f00f41d9493 035ec5bae25dfb8c06ba3f996d5c44b056a94ca00ec3285fc3daa9721e7624ac5b OP_3 OP_CHECKMULTISIG "
      ]
     },
     "execution_count": 8,
     "metadata": {},
     "output_type": "execute_result"
    }
   ],
   "source": [
    "redeem_script"
   ]
  },
  {
   "cell_type": "code",
   "execution_count": 9,
   "id": "86c6223d",
   "metadata": {},
   "outputs": [
    {
     "data": {
      "text/plain": [
       "OP_3 03f77725af4d98d410d589a3031606c42bad7094b36d06bb9605efd086e466b45d 03c2a23919504eb85905cd03861f97931314808f667f2c357f85b72f00f41d9493 035ec5bae25dfb8c06ba3f996d5c44b056a94ca00ec3285fc3daa9721e7624ac5b OP_3 OP_CHECKMULTISIG "
      ]
     },
     "execution_count": 9,
     "metadata": {},
     "output_type": "execute_result"
    }
   ],
   "source": [
    "witness_script"
   ]
  },
  {
   "cell_type": "code",
   "execution_count": 10,
   "id": "c7d59fb6",
   "metadata": {},
   "outputs": [
    {
     "name": "stdout",
     "output_type": "stream",
     "text": [
      "The BIP322 to_spend tx will be `locked` with a script_pubkey with the following address :  bc1qlqtuzpmazp2xmcutlwv0qvggdvem8vahkc333usey4gskug8nutsz53msw\n"
     ]
    }
   ],
   "source": [
    "print(\"The BIP322 to_spend tx will be `locked` with a script_pubkey with the following address : \", p2wsh_address)"
   ]
  },
  {
   "cell_type": "markdown",
   "id": "3b146e0a",
   "metadata": {},
   "source": [
    "## 5. Create the virtual to_spend transaction locked with the p2wsh_multisig\n",
    "\n",
    "BIP 0322 defines the structure of this transaction as follows:\n",
    "\n",
    "```python\n",
    "    nVersion = 0\n",
    "    nLockTime = 0\n",
    "    vin[0].prevout.hash = 0000...000\n",
    "    vin[0].prevout.n = 0xFFFFFFFF\n",
    "    vin[0].nSequence = 0\n",
    "    vin[0].scriptSig = OP_0 PUSH32[ message_hash ]\n",
    "    vin[0].scriptWitness = []\n",
    "    vout[0].nValue = 0\n",
    "    vout[0].scriptPubKey = message_challenge\n",
    "```\n",
    "\n",
    "The message_challenge is the above 3-3 p2wsh scriptPubKey"
   ]
  },
  {
   "cell_type": "code",
   "execution_count": 11,
   "id": "29338909",
   "metadata": {},
   "outputs": [],
   "source": [
    "from src.message import create_to_spend_tx\n",
    "\n",
    "## You could change this\n",
    "message_to_sign = \"This will be a p2wsh 3-of-3 multisig BIP 322 signed message\"\n",
    "\n",
    "to_spend_tx = create_to_spend_tx(p2wsh_address, message_to_sign)"
   ]
  },
  {
   "cell_type": "markdown",
   "id": "de6ca82c",
   "metadata": {},
   "source": [
    "## 6. Create PSBT to_sign transaction"
   ]
  },
  {
   "cell_type": "code",
   "execution_count": 12,
   "id": "e698f2ca",
   "metadata": {},
   "outputs": [],
   "source": [
    "from src.message import create_to_sign_tx\n",
    "\n",
    "to_sign_tx = create_to_sign_tx(to_spend_tx.hash())\n",
    "\n",
    "# NOTE: This is a bug in the current create_to_sign_tx function\n",
    "# It SHOULD be able to know if it is a segwit transaction or not\n",
    "to_sign_tx.segwit = False"
   ]
  },
  {
   "cell_type": "code",
   "execution_count": 13,
   "id": "270b08cd",
   "metadata": {},
   "outputs": [],
   "source": [
    "from buidl.psbt_helper import create_multisig_psbt\n",
    "from buidl.psbt import PSBT\n",
    "\n",
    "fee = 0\n",
    "# psbt_to_sign_bip322 = create_multisig_psbt(pubkey_records,input_dicts,output_dicts,fee)\n",
    "psbt_to_sign_bip322 = PSBT.create(to_sign_tx)"
   ]
  },
  {
   "cell_type": "code",
   "execution_count": 14,
   "id": "e9ac80df",
   "metadata": {},
   "outputs": [
    {
     "data": {
      "text/plain": [
       "True"
      ]
     },
     "execution_count": 14,
     "metadata": {},
     "output_type": "execute_result"
    }
   ],
   "source": [
    "psbt_to_sign_bip322.validate()"
   ]
  },
  {
   "cell_type": "markdown",
   "id": "42e225df",
   "metadata": {},
   "source": [
    "## 7. Update PSBT with data know by Creator\n",
    "\n",
    "This includes:\n",
    "    \n",
    "- A lookup for the to_spend_tx referenced as an input to the to_sign_tx\n",
    "- A lookup for creators HD Public key that is part of the p2sh multisig\n",
    "- A lookup for the redeemscript associated with the p2sh multsig stored in the scriptPubKey of the TxOut for the to_spend_tx"
   ]
  },
  {
   "cell_type": "markdown",
   "id": "48e72526",
   "metadata": {},
   "source": [
    "### 7.1 Define the tx lookup\n",
    "\n",
    "This is a map of a transaction has to the actual transaction object"
   ]
  },
  {
   "cell_type": "code",
   "execution_count": 30,
   "id": "ee85e881",
   "metadata": {},
   "outputs": [],
   "source": [
    "tx_lookup = {}\n",
    "\n",
    "tx_lookup[to_spend_tx.hash()] = to_spend_tx"
   ]
  },
  {
   "cell_type": "markdown",
   "id": "348fbbea",
   "metadata": {},
   "source": [
    "### 7.2 Define a pubkey_lookup\n",
    "\n",
    "This maps from the sec representation of a S256Point to a NamedHDPublicKey object.\n",
    "\n",
    "Note: a NamedHDPublicKey is a HDPublicKey with additioanl raw path data for the fingerprint of the root HDPublicKey and the derivation path from that root."
   ]
  },
  {
   "cell_type": "code",
   "execution_count": 31,
   "id": "a8e5af43",
   "metadata": {},
   "outputs": [],
   "source": [
    "from buidl.psbt import NamedHDPublicKey\n",
    "\n",
    "pubkey_lookup = {}\n",
    "\n",
    "named_hd_pubkey_obj = NamedHDPublicKey.from_hd_pub(\n",
    "    child_hd_pub=signing_privkey.pub,\n",
    "    xfp_hex=root_fp,\n",
    "    path=bip32_path,\n",
    ")\n",
    "# pubkey lookups needed for validation\n",
    "pubkey_lookup[named_hd_pubkey_obj.sec()] = named_hd_pubkey_obj"
   ]
  },
  {
   "cell_type": "markdown",
   "id": "8218f6c6",
   "metadata": {},
   "source": [
    "### 7.3 Define witness_lookup\n",
    "\n",
    "This is a map from a sha256 of a witness script to the actual witness script"
   ]
  },
  {
   "cell_type": "code",
   "execution_count": 32,
   "id": "6974a304",
   "metadata": {},
   "outputs": [],
   "source": [
    "witness_lookup = {}\n",
    "witness_lookup[witness_script.sha256()] = witness_script"
   ]
  },
  {
   "cell_type": "code",
   "execution_count": 33,
   "id": "d9293cbd",
   "metadata": {},
   "outputs": [
    {
     "data": {
      "text/plain": [
       "OP_0 f817c1077d10546de38bfb98f031086b33b3b3b7b62318f21925510b71079f17 "
      ]
     },
     "execution_count": 33,
     "metadata": {},
     "output_type": "execute_result"
    }
   ],
   "source": [
    "# This is not set until after the update\n",
    "psbt_to_sign_bip322.tx_obj.tx_ins[0]._script_pubkey"
   ]
  },
  {
   "cell_type": "code",
   "execution_count": 34,
   "id": "7742b07f",
   "metadata": {},
   "outputs": [],
   "source": [
    "psbt_to_sign_bip322.update(tx_lookup,pubkey_lookup,None,witness_lookup)"
   ]
  },
  {
   "cell_type": "code",
   "execution_count": 35,
   "id": "2b9b92e2",
   "metadata": {},
   "outputs": [
    {
     "data": {
      "text/plain": [
       "OP_0 f817c1077d10546de38bfb98f031086b33b3b3b7b62318f21925510b71079f17 "
      ]
     },
     "execution_count": 35,
     "metadata": {},
     "output_type": "execute_result"
    }
   ],
   "source": [
    "# As you can see update populates the scriptPubKey from the to_spend transaction into the tx_obj in the PSBT \n",
    "# (the to_sign obj)\n",
    "psbt_to_sign_bip322.tx_obj.tx_ins[0]._script_pubkey"
   ]
  },
  {
   "cell_type": "markdown",
   "id": "fef9a632",
   "metadata": {},
   "source": [
    "## 8. Serialize and Share PSBT with Other Signing Parties\n",
    "\n",
    "See "
   ]
  },
  {
   "cell_type": "code",
   "execution_count": 36,
   "id": "88c6374a",
   "metadata": {},
   "outputs": [],
   "source": [
    "psbt_to_sign_bip322.psbt_ins[0].prev_tx"
   ]
  },
  {
   "cell_type": "code",
   "execution_count": 26,
   "id": "a8897606",
   "metadata": {
    "scrolled": true
   },
   "outputs": [
    {
     "name": "stdout",
     "output_type": "stream",
     "text": [
      "Copy this vvv \n",
      "\n",
      "\n",
      "b64_psbt = 'cHNidP8BAD0AAAAAAeTHmyyL0BtEMKgIYJ4VxLouFJf/k9NLF6+gu5yMrmP7AAAAAAAAAAAAAQAAAAAAAAAAAWoAAAAAAAEBKwAAAAAAAAAAIgAg+BfBB30QVG3ji/uY8DEIazOzs7e2IxjyGSVRC3EHnxcBBWlTIQP3dyWvTZjUENWJowMWBsQrrXCUs20Gu5YF79CG5Ga0XSEDwqI5GVBOuFkFzQOGH5eTExSAj2Z/LDV/hbcvAPQdlJMhA17FuuJd+4wGuj+ZbVxEsFapTKAOwyhfw9qpch52JKxbU64iBgP3dyWvTZjUENWJowMWBsQrrXCUs20Gu5YF79CG5Ga0XRR7BeobLQAAgAAAAAAAAAAABgAAAAAA'\n"
     ]
    }
   ],
   "source": [
    "from io import BytesIO\n",
    "\n",
    "b64_psbt = psbt_to_sign_bip322.serialize_base64()\n",
    "\n",
    "print(\"Copy this vvv \\n\\n\")\n",
    "\n",
    "print(f\"b64_psbt = '{b64_psbt}'\")"
   ]
  },
  {
   "cell_type": "markdown",
   "id": "783c6c96",
   "metadata": {},
   "source": [
    "## 9. Sign PSBT"
   ]
  },
  {
   "cell_type": "code",
   "execution_count": 44,
   "id": "4fda74a7",
   "metadata": {},
   "outputs": [
    {
     "data": {
      "text/plain": [
       "True"
      ]
     },
     "execution_count": 44,
     "metadata": {},
     "output_type": "execute_result"
    }
   ],
   "source": [
    "psbt_to_sign_bip322.sign(hd_rootkey)"
   ]
  },
  {
   "cell_type": "markdown",
   "id": "c3333471",
   "metadata": {},
   "source": [
    "## 10. Recieve Signed PSBTs from Signer 1 and Signer 2 Notebooks\n",
    "\n",
    "Note: in this case the 2-3 multisig is satisfied from signatures provided by signer_1 and signer_2. The Creator has no contributed a signature.\n",
    "\n",
    "You could easily change this notebook so that it is the creator's signature plus one of the signers that satisfy the p2sh multisig instead though."
   ]
  },
  {
   "cell_type": "code",
   "execution_count": 45,
   "id": "945b27a8",
   "metadata": {},
   "outputs": [],
   "source": [
    "# Copy this from signer_1.ipynb\n",
    "\n",
    "signer_1_psbt_b64 = 'cHNidP8BAD0AAAAAAeTHmyyL0BtEMKgIYJ4VxLouFJf/k9NLF6+gu5yMrmP7AAAAAAAAAAAAAQAAAAAAAAAAAWoAAAAAAAEBKwAAAAAAAAAAIgAg+BfBB30QVG3ji/uY8DEIazOzs7e2IxjyGSVRC3EHnxciAgPCojkZUE64WQXNA4Yfl5MTFICPZn8sNX+Fty8A9B2Uk0cwRAIgE3oMsFZehlqxvYybj6TcLYByslWAl9sn7kkg0RQEwGkCIEy5VOq3i0LEiK0Ehdtc9z7VDtsgFLHlFhmakVCBO1SqAQEFaVMhA/d3Ja9NmNQQ1YmjAxYGxCutcJSzbQa7lgXv0IbkZrRdIQPCojkZUE64WQXNA4Yfl5MTFICPZn8sNX+Fty8A9B2UkyEDXsW64l37jAa6P5ltXESwVqlMoA7DKF/D2qlyHnYkrFtTriIGA8KiORlQTrhZBc0Dhh+XkxMUgI9mfyw1f4W3LwD0HZSTFAAAAAAtAACAAAAAAAAAAAAJAAAAIgYD93clr02Y1BDViaMDFgbEK61wlLNtBruWBe/QhuRmtF0UewXqGy0AAIAAAAAAAAAAAAYAAAAAAA=='"
   ]
  },
  {
   "cell_type": "code",
   "execution_count": 46,
   "id": "e08126ac",
   "metadata": {},
   "outputs": [],
   "source": [
    "signer_1_psbt = PSBT.parse_base64(signer_1_psbt_b64)"
   ]
  },
  {
   "cell_type": "code",
   "execution_count": 47,
   "id": "1d006f02",
   "metadata": {},
   "outputs": [],
   "source": [
    "# Copy this from signer_2.ipynb\n",
    "\n",
    "signer_2_psbt_b64 = 'cHNidP8BAD0AAAAAAeTHmyyL0BtEMKgIYJ4VxLouFJf/k9NLF6+gu5yMrmP7AAAAAAAAAAAAAQAAAAAAAAAAAWoAAAAAAAEBKwAAAAAAAAAAIgAg+BfBB30QVG3ji/uY8DEIazOzs7e2IxjyGSVRC3EHnxciAgNexbriXfuMBro/mW1cRLBWqUygDsMoX8PaqXIediSsW0gwRQIhAIMbaYnbFNGeLv/uUQfXMnkLaAluTXK3iyZll2fJFwmTAiAUdbF6BIp4WROAhfT/UkxiHDLwrmY2OheRdF01S4/UowEBBWlTIQP3dyWvTZjUENWJowMWBsQrrXCUs20Gu5YF79CG5Ga0XSEDwqI5GVBOuFkFzQOGH5eTExSAj2Z/LDV/hbcvAPQdlJMhA17FuuJd+4wGuj+ZbVxEsFapTKAOwyhfw9qpch52JKxbU64iBgNexbriXfuMBro/mW1cRLBWqUygDsMoX8PaqXIediSsWxQAHQ2eLQAAgAAAAAAAAAAACwAAACIGA/d3Ja9NmNQQ1YmjAxYGxCutcJSzbQa7lgXv0IbkZrRdFHsF6hstAACAAAAAAAAAAAAGAAAAAAA='"
   ]
  },
  {
   "cell_type": "code",
   "execution_count": 48,
   "id": "14a6fd32",
   "metadata": {},
   "outputs": [],
   "source": [
    "signer_2_psbt = PSBT.parse_base64(signer_2_psbt_b64)"
   ]
  },
  {
   "cell_type": "markdown",
   "id": "3b45aa33",
   "metadata": {},
   "source": [
    "## 11. Combine PSBTs "
   ]
  },
  {
   "cell_type": "code",
   "execution_count": 49,
   "id": "5bd07783",
   "metadata": {},
   "outputs": [
    {
     "data": {
      "text/plain": [
       "1"
      ]
     },
     "execution_count": 49,
     "metadata": {},
     "output_type": "execute_result"
    }
   ],
   "source": [
    "# Before combination the psbt only has a single sig\n",
    "len(psbt_to_sign_bip322.psbt_ins[0].sigs)"
   ]
  },
  {
   "cell_type": "code",
   "execution_count": 50,
   "id": "04d29a6e",
   "metadata": {},
   "outputs": [],
   "source": [
    "psbt_to_sign_bip322.combine(signer_1_psbt)"
   ]
  },
  {
   "cell_type": "code",
   "execution_count": 51,
   "id": "40ec3689",
   "metadata": {},
   "outputs": [],
   "source": [
    "psbt_to_sign_bip322.combine(signer_2_psbt)"
   ]
  },
  {
   "cell_type": "code",
   "execution_count": 53,
   "id": "6dcdfa9b",
   "metadata": {},
   "outputs": [
    {
     "data": {
      "text/plain": [
       "3"
      ]
     },
     "execution_count": 53,
     "metadata": {},
     "output_type": "execute_result"
    }
   ],
   "source": [
    "# Afterwards there are three signatures\n",
    "len(psbt_to_sign_bip322.psbt_ins[0].sigs)"
   ]
  },
  {
   "cell_type": "markdown",
   "id": "2f308c3f",
   "metadata": {},
   "source": [
    "## 12. Finalize the PSBT to produce the scriptSig on the PSBT Input from the sigs"
   ]
  },
  {
   "cell_type": "code",
   "execution_count": 56,
   "id": "accf775a",
   "metadata": {},
   "outputs": [],
   "source": [
    "# ScriptSig not populated until after finalization\n",
    "psbt_to_sign_bip322.psbt_ins[0].witness"
   ]
  },
  {
   "cell_type": "code",
   "execution_count": 57,
   "id": "6946548e",
   "metadata": {},
   "outputs": [],
   "source": [
    "psbt_to_sign_bip322.finalize()"
   ]
  },
  {
   "cell_type": "code",
   "execution_count": 59,
   "id": "61c894f1",
   "metadata": {},
   "outputs": [
    {
     "data": {
      "text/plain": [
       "<null> 3045022100d0a17bc628b1f9f1ec6eba304eb5afbbf8637bbe2d252b0890c73069b8db97b80220204d176109450ce7f16de806618ce57feb6a7a095e00a13a4976086b553eb82701 30440220137a0cb0565e865ab1bd8c9b8fa4dc2d8072b2558097db27ee4920d11404c06902204cb954eab78b42c488ad0485db5cf73ed50edb2014b1e516199a9150813b54aa01 3045022100831b6989db14d19e2effee5107d732790b68096e4d72b78b26659767c917099302201475b17a048a7859138085f4ff524c621c32f0ae66363a1791745d354b8fd4a301 532103f77725af4d98d410d589a3031606c42bad7094b36d06bb9605efd086e466b45d2103c2a23919504eb85905cd03861f97931314808f667f2c357f85b72f00f41d949321035ec5bae25dfb8c06ba3f996d5c44b056a94ca00ec3285fc3daa9721e7624ac5b53ae "
      ]
     },
     "execution_count": 59,
     "metadata": {},
     "output_type": "execute_result"
    }
   ],
   "source": [
    "psbt_to_sign_bip322.psbt_ins[0].witness"
   ]
  },
  {
   "cell_type": "markdown",
   "id": "a30016b5",
   "metadata": {},
   "source": [
    "## 13. Create Final Bitcoin Tx Object from PSBT"
   ]
  },
  {
   "cell_type": "code",
   "execution_count": 60,
   "id": "189b368c",
   "metadata": {},
   "outputs": [
    {
     "name": "stdout",
     "output_type": "stream",
     "text": [
      "This transaction won't relay without having a fee of at least 143\n"
     ]
    },
    {
     "ename": "RuntimeError",
     "evalue": "transaction invalid",
     "output_type": "error",
     "traceback": [
      "\u001b[0;31m---------------------------------------------------------------------------\u001b[0m",
      "\u001b[0;31mRuntimeError\u001b[0m                              Traceback (most recent call last)",
      "Input \u001b[0;32mIn [60]\u001b[0m, in \u001b[0;36m<cell line: 3>\u001b[0;34m()\u001b[0m\n\u001b[1;32m      1\u001b[0m \u001b[38;5;66;03m# Remember: currently the final_tx() function on the PSBT fails because there are no funds for a tx fee\u001b[39;00m\n\u001b[1;32m      2\u001b[0m \u001b[38;5;66;03m# BUT for a bip322 we don't need any fee\u001b[39;00m\n\u001b[0;32m----> 3\u001b[0m \u001b[43mpsbt_to_sign_bip322\u001b[49m\u001b[38;5;241;43m.\u001b[39;49m\u001b[43mfinal_tx\u001b[49m\u001b[43m(\u001b[49m\u001b[43m)\u001b[49m\n",
      "File \u001b[0;32m~/work/LegendaryRequirements/clients/dcd/DCD_repo/btcr/bip0322-sigs/venv/lib/python3.8/site-packages/buidl/psbt.py:536\u001b[0m, in \u001b[0;36mPSBT.final_tx\u001b[0;34m(self)\u001b[0m\n\u001b[1;32m    534\u001b[0m \u001b[38;5;66;03m# check to see that the transaction verifies\u001b[39;00m\n\u001b[1;32m    535\u001b[0m \u001b[38;5;28;01mif\u001b[39;00m \u001b[38;5;129;01mnot\u001b[39;00m tx_obj\u001b[38;5;241m.\u001b[39mverify():\n\u001b[0;32m--> 536\u001b[0m     \u001b[38;5;28;01mraise\u001b[39;00m \u001b[38;5;167;01mRuntimeError\u001b[39;00m(\u001b[38;5;124m\"\u001b[39m\u001b[38;5;124mtransaction invalid\u001b[39m\u001b[38;5;124m\"\u001b[39m)\n\u001b[1;32m    537\u001b[0m \u001b[38;5;66;03m# return the now filled in transaction\u001b[39;00m\n\u001b[1;32m    538\u001b[0m \u001b[38;5;28;01mreturn\u001b[39;00m tx_obj\n",
      "\u001b[0;31mRuntimeError\u001b[0m: transaction invalid"
     ]
    }
   ],
   "source": [
    "# Remember: currently the final_tx() function on the PSBT fails because there are no funds for a tx fee\n",
    "# BUT for a bip322 we don't need any fee\n",
    "psbt_to_sign_bip322.final_tx()"
   ]
  },
  {
   "cell_type": "code",
   "execution_count": 61,
   "id": "a1bd1447",
   "metadata": {},
   "outputs": [],
   "source": [
    "## Proposed update to the final_tx function in psbt.py\n",
    "\n",
    "def final_tx(psbt, is_bip322=False):\n",
    "        \"\"\"Returns the broadcast-able transaction\"\"\"\n",
    "        # clone the transaction from self.tx_obj\n",
    "        tx_obj = psbt.tx_obj.clone()\n",
    "        # determine if the transaction is segwit by looking for a witness field\n",
    "        #  in any PSBTIn. if so, set tx_obj.segwit = True\n",
    "        if any([psbt_in.witness for psbt_in in psbt.psbt_ins]):\n",
    "            tx_obj.segwit = True\n",
    "        # iterate through the transaction and PSBT inputs together\n",
    "        #  using zip(tx_obj.tx_ins, self.psbt_ins)\n",
    "        for tx_in, psbt_in in zip(tx_obj.tx_ins, psbt.psbt_ins):\n",
    "            # set the ScriptSig of the transaction input\n",
    "            tx_in.script_sig = psbt_in.script_sig\n",
    "            # Exercise 7: if the tx is segwit, set the witness as well\n",
    "            if tx_obj.segwit:\n",
    "                # witness should be the PSBTIn witness or an empty Witness()\n",
    "                tx_in.witness = psbt_in.witness or Witness()\n",
    "        # check to see that the transaction verifies\n",
    "        if not is_bip322 and not tx_obj.verify():\n",
    "            raise RuntimeError(\"transaction invalid\")\n",
    "        # return the now filled in transaction\n",
    "        return tx_obj"
   ]
  },
  {
   "cell_type": "code",
   "execution_count": 62,
   "id": "a3beaa99",
   "metadata": {},
   "outputs": [],
   "source": [
    "final_to_sign_tx = final_tx(psbt_to_sign_bip322, True)"
   ]
  },
  {
   "cell_type": "markdown",
   "id": "82911507",
   "metadata": {},
   "source": [
    "## 14. Check Signature on Input is Valid"
   ]
  },
  {
   "cell_type": "code",
   "execution_count": 63,
   "id": "a3ed83bf",
   "metadata": {},
   "outputs": [
    {
     "data": {
      "text/plain": [
       "True"
      ]
     },
     "execution_count": 63,
     "metadata": {},
     "output_type": "execute_result"
    }
   ],
   "source": [
    "final_to_sign_tx.verify_input(0)"
   ]
  },
  {
   "cell_type": "markdown",
   "id": "0da6ca5e",
   "metadata": {},
   "source": [
    "## 15. Serialize to_sign transaction as BIP322 Signature"
   ]
  },
  {
   "cell_type": "code",
   "execution_count": 64,
   "id": "4fb689cd",
   "metadata": {},
   "outputs": [
    {
     "name": "stdout",
     "output_type": "stream",
     "text": [
      "BQBIMEUCIQDQoXvGKLH58exuujBOta+7+GN7vi0lKwiQxzBpuNuXuAIgIE0XYQlFDOfxbegGYYzlf+tqegleAKE6SXYIa1U+uCcBRzBEAiATegywVl6GWrG9jJuPpNwtgHKyVYCX2yfuSSDRFATAaQIgTLlU6reLQsSIrQSF21z3PtUO2yAUseUWGZqRUIE7VKoBSDBFAiEAgxtpidsU0Z4u/+5RB9cyeQtoCW5NcreLJmWXZ8kXCZMCIBR1sXoEinhZE4CF9P9STGIcMvCuZjY6F5F0XTVLj9SjAWlTIQP3dyWvTZjUENWJowMWBsQrrXCUs20Gu5YF79CG5Ga0XSEDwqI5GVBOuFkFzQOGH5eTExSAj2Z/LDV/hbcvAPQdlJMhA17FuuJd+4wGuj+ZbVxEsFapTKAOwyhfw9qpch52JKxbU64=\n"
     ]
    }
   ],
   "source": [
    "from buidl.helper import base64_encode\n",
    "bip322_musig = base64_encode(final_to_sign_tx.serialize_witness())\n",
    "\n",
    "print(bip322_musig)"
   ]
  },
  {
   "cell_type": "markdown",
   "id": "f2d57f25",
   "metadata": {},
   "source": [
    "## 16. Verify BIP322 Signature against message and address"
   ]
  },
  {
   "cell_type": "code",
   "execution_count": 65,
   "id": "333ec5ae",
   "metadata": {},
   "outputs": [],
   "source": [
    "from src.message import verify_message"
   ]
  },
  {
   "cell_type": "code",
   "execution_count": 66,
   "id": "2fc44ae1",
   "metadata": {},
   "outputs": [
    {
     "name": "stdout",
     "output_type": "stream",
     "text": [
      "mismatch between length and consumed bytes 33 vs 32\n",
      "mismatch between length and consumed bytes 93 vs 76\n",
      "mismatch between length and consumed bytes 51 vs 16\n"
     ]
    },
    {
     "data": {
      "text/plain": [
       "True"
      ]
     },
     "execution_count": 66,
     "metadata": {},
     "output_type": "execute_result"
    }
   ],
   "source": [
    "verify_message(p2wsh_address, bip322_musig, message_to_sign)"
   ]
  },
  {
   "cell_type": "code",
   "execution_count": null,
   "id": "12fe52e0",
   "metadata": {},
   "outputs": [],
   "source": []
  }
 ],
 "metadata": {
  "kernelspec": {
   "display_name": "Python 3",
   "language": "python",
   "name": "python3"
  },
  "language_info": {
   "codemirror_mode": {
    "name": "ipython",
    "version": 3
   },
   "file_extension": ".py",
   "mimetype": "text/x-python",
   "name": "python",
   "nbconvert_exporter": "python",
   "pygments_lexer": "ipython3",
   "version": "3.8.5"
  }
 },
 "nbformat": 4,
 "nbformat_minor": 5
}
