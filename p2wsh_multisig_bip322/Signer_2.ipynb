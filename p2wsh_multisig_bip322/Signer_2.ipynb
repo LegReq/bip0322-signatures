{
 "cells": [
  {
   "cell_type": "markdown",
   "id": "7449f89b",
   "metadata": {},
   "source": [
    "# P2WSH MultiSig BIP322\n",
    "## Role: Signer"
   ]
  },
  {
   "cell_type": "markdown",
   "id": "3c184c0c",
   "metadata": {},
   "source": [
    "## 1. Generate HD Key from mneumonic"
   ]
  },
  {
   "cell_type": "code",
   "execution_count": 1,
   "id": "d04a92d8",
   "metadata": {},
   "outputs": [],
   "source": [
    "from buidl.mnemonic import secure_mnemonic\n",
    "from buidl.hd import HDPrivateKey\n",
    "\n",
    "# mnemonic = secure_mnemonic()\n",
    "\n",
    "mnemonic = 'army injury wrestle spin loyal skill acid word hobby prosper purity disorder impulse observe elevator perfect deer student juice reveal portion nice quarter banana'\n",
    "\n",
    "hd_root = HDPrivateKey.from_mnemonic(mnemonic)\n",
    "root_xfp = hd_root.fingerprint().hex()"
   ]
  },
  {
   "cell_type": "markdown",
   "id": "7a968ca8",
   "metadata": {},
   "source": [
    "## 2. Select Key to Sign With"
   ]
  },
  {
   "cell_type": "code",
   "execution_count": 2,
   "id": "acf81356",
   "metadata": {},
   "outputs": [],
   "source": [
    "bip32_path = \"m/45'/0/0/11\"\n",
    "\n",
    "signing_privkey = hd_root.traverse(bip32_path)\n",
    "signing_pubkey = signing_privkey.pub.point\n"
   ]
  },
  {
   "cell_type": "markdown",
   "id": "9bcda7c0",
   "metadata": {},
   "source": [
    "## 3. Share Public Key with Creator\n",
    "\n",
    "The public key to include in a p2sh redeem script must be communicated to the creator of a BIP322 signature through some communication channel. This channel is out of scope.\n",
    "\n",
    "In this example we will copy a hex representation of the public key across to the [PSBT Creator notebook](http://localhost:8888/notebooks/p2sh_multisig_bip322/PSBT_creator.ipynb)"
   ]
  },
  {
   "cell_type": "code",
   "execution_count": 4,
   "id": "127a4e47",
   "metadata": {},
   "outputs": [
    {
     "name": "stdout",
     "output_type": "stream",
     "text": [
      "Copy the below line into step 3 of the creator notebook \n",
      "\n",
      "signer_2_pubkey = '035ec5bae25dfb8c06ba3f996d5c44b056a94ca00ec3285fc3daa9721e7624ac5b'\n"
     ]
    }
   ],
   "source": [
    "print(\"Copy the below line into step 3 of the creator notebook \\n\")\n",
    "print(f\"signer_2_pubkey = '{signing_pubkey.sec().hex()}'\")"
   ]
  },
  {
   "cell_type": "markdown",
   "id": "6384e8a7",
   "metadata": {},
   "source": [
    "## 4. Recieve PSBT from Creator\n",
    "\n",
    "Some out of band communication mechanism"
   ]
  },
  {
   "cell_type": "code",
   "execution_count": 5,
   "id": "6ddaf01d",
   "metadata": {},
   "outputs": [],
   "source": [
    "#### Copy from PSBT_Creator notebook Step 8. ######\n",
    "\n",
    "b64_psbt = 'cHNidP8BAD0AAAAAAeTHmyyL0BtEMKgIYJ4VxLouFJf/k9NLF6+gu5yMrmP7AAAAAAAAAAAAAQAAAAAAAAAAAWoAAAAAAAEBKwAAAAAAAAAAIgAg+BfBB30QVG3ji/uY8DEIazOzs7e2IxjyGSVRC3EHnxcBBWlTIQP3dyWvTZjUENWJowMWBsQrrXCUs20Gu5YF79CG5Ga0XSEDwqI5GVBOuFkFzQOGH5eTExSAj2Z/LDV/hbcvAPQdlJMhA17FuuJd+4wGuj+ZbVxEsFapTKAOwyhfw9qpch52JKxbU64iBgP3dyWvTZjUENWJowMWBsQrrXCUs20Gu5YF79CG5Ga0XRR7BeobLQAAgAAAAAAAAAAABgAAAAAA'\n"
   ]
  },
  {
   "cell_type": "code",
   "execution_count": 6,
   "id": "1e489855",
   "metadata": {},
   "outputs": [],
   "source": [
    "from buidl.psbt import PSBT\n",
    "psbt_to_sign = PSBT.parse_base64(b64_psbt)"
   ]
  },
  {
   "cell_type": "code",
   "execution_count": 11,
   "id": "a444ac89",
   "metadata": {},
   "outputs": [],
   "source": [
    "psbt_to_sign.psbt_ins[0].prev_tx"
   ]
  },
  {
   "cell_type": "markdown",
   "id": "7e16c014",
   "metadata": {},
   "source": [
    "## 5. TODO: How does the signer Verify the Message that they are signing with this\n",
    "\n",
    "I assume they must be given the means to construct the to_spend transaction themselves and verify that this is referenced as the only input to the tx_obj in the PSBT"
   ]
  },
  {
   "cell_type": "markdown",
   "id": "9d41aa93",
   "metadata": {},
   "source": [
    "## 6. Update PSBT with pubkey"
   ]
  },
  {
   "cell_type": "code",
   "execution_count": 7,
   "id": "a59f962a",
   "metadata": {},
   "outputs": [],
   "source": [
    "from buidl.psbt import NamedHDPublicKey\n",
    "\n",
    "pubkey_lookup = {}\n",
    "\n",
    "named_hd_pubkey_obj = NamedHDPublicKey.from_hd_pub(\n",
    "    child_hd_pub=signing_privkey.pub,\n",
    "    xfp_hex=root_xfp,\n",
    "    path=bip32_path,\n",
    ")\n",
    "# pubkey lookups needed for validation\n",
    "pubkey_lookup[named_hd_pubkey_obj.sec()] = named_hd_pubkey_obj"
   ]
  },
  {
   "cell_type": "code",
   "execution_count": 13,
   "id": "9632c69a",
   "metadata": {},
   "outputs": [],
   "source": [
    "# Note tx_lookup is set to None, because already been defined by creator\n",
    "psbt_to_sign.update({}, pubkey_lookup)"
   ]
  },
  {
   "cell_type": "markdown",
   "id": "9444a808",
   "metadata": {},
   "source": [
    "## 7. Sign the PSBT"
   ]
  },
  {
   "cell_type": "code",
   "execution_count": 14,
   "id": "70b59c95",
   "metadata": {},
   "outputs": [
    {
     "data": {
      "text/plain": [
       "True"
      ]
     },
     "execution_count": 14,
     "metadata": {},
     "output_type": "execute_result"
    }
   ],
   "source": [
    "psbt_to_sign.sign(hd_root)"
   ]
  },
  {
   "cell_type": "markdown",
   "id": "f1714340",
   "metadata": {},
   "source": [
    "## 9. Serialize Signed PSBT and Return to Creator\n",
    "\n",
    "Note: Communication channel out of band. We use copy and paste."
   ]
  },
  {
   "cell_type": "code",
   "execution_count": 15,
   "id": "844d8fad",
   "metadata": {},
   "outputs": [
    {
     "name": "stdout",
     "output_type": "stream",
     "text": [
      "Copy this VVVV \n",
      "\n",
      "\n",
      "signer_2_psbt_b64 = 'cHNidP8BAD0AAAAAAeTHmyyL0BtEMKgIYJ4VxLouFJf/k9NLF6+gu5yMrmP7AAAAAAAAAAAAAQAAAAAAAAAAAWoAAAAAAAEBKwAAAAAAAAAAIgAg+BfBB30QVG3ji/uY8DEIazOzs7e2IxjyGSVRC3EHnxciAgNexbriXfuMBro/mW1cRLBWqUygDsMoX8PaqXIediSsW0gwRQIhAIMbaYnbFNGeLv/uUQfXMnkLaAluTXK3iyZll2fJFwmTAiAUdbF6BIp4WROAhfT/UkxiHDLwrmY2OheRdF01S4/UowEBBWlTIQP3dyWvTZjUENWJowMWBsQrrXCUs20Gu5YF79CG5Ga0XSEDwqI5GVBOuFkFzQOGH5eTExSAj2Z/LDV/hbcvAPQdlJMhA17FuuJd+4wGuj+ZbVxEsFapTKAOwyhfw9qpch52JKxbU64iBgNexbriXfuMBro/mW1cRLBWqUygDsMoX8PaqXIediSsWxQAHQ2eLQAAgAAAAAAAAAAACwAAACIGA/d3Ja9NmNQQ1YmjAxYGxCutcJSzbQa7lgXv0IbkZrRdFHsF6hstAACAAAAAAAAAAAAGAAAAAAA='\n"
     ]
    }
   ],
   "source": [
    "signer_2_psbt_b64 = psbt_to_sign.serialize_base64()\n",
    "print(\"Copy this VVVV \\n\\n\")\n",
    "print(f\"signer_2_psbt_b64 = '{signer_2_psbt_b64}'\")"
   ]
  },
  {
   "cell_type": "code",
   "execution_count": null,
   "id": "7d6618a9",
   "metadata": {},
   "outputs": [],
   "source": []
  }
 ],
 "metadata": {
  "kernelspec": {
   "display_name": "Python 3",
   "language": "python",
   "name": "python3"
  },
  "language_info": {
   "codemirror_mode": {
    "name": "ipython",
    "version": 3
   },
   "file_extension": ".py",
   "mimetype": "text/x-python",
   "name": "python",
   "nbconvert_exporter": "python",
   "pygments_lexer": "ipython3",
   "version": "3.8.5"
  }
 },
 "nbformat": 4,
 "nbformat_minor": 5
}
