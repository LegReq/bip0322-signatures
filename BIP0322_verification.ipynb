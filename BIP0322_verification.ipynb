{
 "cells": [
  {
   "cell_type": "markdown",
   "id": "750da738",
   "metadata": {},
   "source": [
    "# BIP0322 Verification\n",
    "\n",
    "Initially this is just attempting to verify the test vectors provided in BIP0322"
   ]
  },
  {
   "cell_type": "markdown",
   "id": "27894f77",
   "metadata": {},
   "source": [
    "### Simple Signature\n",
    "\n",
    "\n",
    "From the BIP-0322:\n",
    "\n",
    "`A simple signature consists of a witness stack, consensus encoded as a vector of vectors of bytes, and base64-encoded. Validators should construct to_spend and to_sign as defined below, with default values for all fields except that`"
   ]
  },
  {
   "cell_type": "markdown",
   "id": "740d6374",
   "metadata": {},
   "source": [
    "### Test Vector Sig\n",
    "\n",
    "This signature is the test vector taken from [bip0322](https://github.com/bitcoin/bips/blob/master/bip-0322.mediawiki#message-signing).\n",
    "\n",
    "Currently unable to get this to verify."
   ]
  },
  {
   "cell_type": "code",
   "execution_count": 2,
   "id": "eae941be",
   "metadata": {},
   "outputs": [],
   "source": [
    "simple_signature = 'AkcwRAIgG3PASL/vRTgAqogWT6S8rUOQXNnfRzX6JncmbFlHc1ACIGQdsW+rnVmsQzyAYRQisHKFMigDmKiL7LUw4x17Fw5tASECx/EgAxlkQpQ9hYjgGu6EBCPMVPwVIVJqO4XCsMvViHI='"
   ]
  },
  {
   "cell_type": "markdown",
   "id": "bbd4f285",
   "metadata": {},
   "source": [
    "### Produced Sig\n",
    "\n",
    "This signature was produced in the BIP0322_signing notebook. It seems to be the one that verifie against the message and signing address.\n",
    "\n",
    "**Note: Perhaps I am just replicating the same mistake across both notebooks?**"
   ]
  },
  {
   "cell_type": "code",
   "execution_count": 3,
   "id": "5cb63d95",
   "metadata": {},
   "outputs": [],
   "source": [
    "produced_sig = 'AkcwRAIgWPoSeW/VClUS8rjapPqeJwQNPbPZgMNP5I6vTd054RwCIF0lCZyYNU/E6mtuGa/pXwyGMwu1ih5TI3S0uLtNhexKASECx/EgAxlkQpQ9hYjgGu6EBCPMVPwVIVJqO4XCsMvViHI='"
   ]
  },
  {
   "cell_type": "markdown",
   "id": "6c75e7ee",
   "metadata": {},
   "source": [
    "### Signing Address"
   ]
  },
  {
   "cell_type": "code",
   "execution_count": 4,
   "id": "e7397d71",
   "metadata": {},
   "outputs": [],
   "source": [
    "address = 'bc1q9vza2e8x573nczrlzms0wvx3gsqjx7vavgkx0l'"
   ]
  },
  {
   "cell_type": "markdown",
   "id": "6d4a514c",
   "metadata": {},
   "source": [
    "### Message Signed"
   ]
  },
  {
   "cell_type": "code",
   "execution_count": 18,
   "id": "39505d18",
   "metadata": {},
   "outputs": [],
   "source": [
    "from buidl.hash import tagged_hash\n",
    "from buidl.helper import hash256\n",
    "message = b\"Hello World\"\n",
    "tag = b\"BIP0322-signed-message\"\n",
    "\n",
    "tagged_hash = tagged_hash(tag,message)\n",
    "\n",
    "test_vector = 'f0eb03b1a75ac6d9847f55c624a99169b5dccba2a31f5b23bea77ba270de0a7a'\n",
    "assert(test_vector == tagged_hash.hex())"
   ]
  },
  {
   "cell_type": "markdown",
   "id": "e34a0148",
   "metadata": {},
   "source": [
    "# Verification Process"
   ]
  },
  {
   "cell_type": "markdown",
   "id": "8cbf8770",
   "metadata": {},
   "source": [
    "## 1. Basic Validation"
   ]
  },
  {
   "cell_type": "markdown",
   "id": "cc9f488f",
   "metadata": {},
   "source": [
    "### 1a. Compute virtual to_spend transaction\n",
    "```\n",
    "    nVersion = 0\n",
    "    nLockTime = 0\n",
    "    vin[0].prevout.hash = 0000...000\n",
    "    vin[0].prevout.n = 0xFFFFFFFF\n",
    "    vin[0].nSequence = 0\n",
    "    vin[0].scriptSig = OP_0 PUSH32[ message_hash ]\n",
    "    vin[0].scriptWitness = []\n",
    "    vout[0].nValue = 0\n",
    "    vout[0].scriptPubKey = message_challenge\n",
    "```"
   ]
  },
  {
   "cell_type": "code",
   "execution_count": 21,
   "id": "5260c393",
   "metadata": {},
   "outputs": [],
   "source": [
    "from buidl.tx import Tx, TxIn, TxOut\n",
    "from buidl.helper import little_endian_to_int\n",
    "from buidl.script import Script"
   ]
  },
  {
   "cell_type": "code",
   "execution_count": 22,
   "id": "31cee86f",
   "metadata": {},
   "outputs": [
    {
     "name": "stdout",
     "output_type": "stream",
     "text": [
      "OP_0 OP_[32] 42a873ac3abd02122d27e80486c6fa1ef78694e8505fcec9cbcc8a7728ba8949 \n"
     ]
    }
   ],
   "source": [
    "# Not a valid Tx hash. Will never be spendable on any BTC network.\n",
    "prevout_hash = bytes.fromhex('0000000000000000000000000000000000000000000000000000000000000000')\n",
    "# prevout.n\n",
    "prevout_index = little_endian_to_int(bytes.fromhex('FFFFFFFF'))\n",
    "sequence = 0\n",
    "\n",
    "# Byte array of message hash\n",
    "message_hash = tagged_hash\n",
    "commands = [0, 32, message_hash]\n",
    "scriptSig = Script(commands)\n",
    "print(scriptSig)\n",
    "# Create Tx Input\n",
    "tx_in = TxIn(prevout_hash,prevout_index,scriptSig,sequence)"
   ]
  },
  {
   "cell_type": "code",
   "execution_count": 23,
   "id": "8639f384",
   "metadata": {},
   "outputs": [
    {
     "data": {
      "text/plain": [
       "0000000000000000000000000000000000000000000000000000000000000000:4294967295"
      ]
     },
     "execution_count": 23,
     "metadata": {},
     "output_type": "execute_result"
    }
   ],
   "source": [
    "tx_in"
   ]
  },
  {
   "cell_type": "code",
   "execution_count": 24,
   "id": "8ac39edb",
   "metadata": {},
   "outputs": [
    {
     "name": "stdout",
     "output_type": "stream",
     "text": [
      "OP_0 2b05d564e6a7a33c087f16e0f730d1440123799d \n"
     ]
    }
   ],
   "source": [
    "from buidl.script import address_to_script_pubkey\n",
    "\n",
    "# Value of tx output\n",
    "value = 0\n",
    "\n",
    "script_pubkey = address_to_script_pubkey(address)\n",
    "\n",
    "print(script_pubkey)\n",
    "tx_out = TxOut(value,script_pubkey)"
   ]
  },
  {
   "cell_type": "code",
   "execution_count": 25,
   "id": "7d83b406",
   "metadata": {},
   "outputs": [],
   "source": [
    "# create transaction\n",
    "version=0\n",
    "tx_inputs = [tx_in]\n",
    "tx_outputs = [tx_out]\n",
    "locktime=0\n",
    "network=\"mainnet\"\n",
    "\n",
    "# Could be false, but using a segwit address. I think this is the \"Simple Signature\" in BIP-0322\n",
    "segwit=True\n",
    "\n",
    "virtual_to_spend_tx = Tx(version,tx_inputs,tx_outputs,locktime,network,segwit)"
   ]
  },
  {
   "cell_type": "code",
   "execution_count": 26,
   "id": "005e1495",
   "metadata": {},
   "outputs": [
    {
     "name": "stdout",
     "output_type": "stream",
     "text": [
      "\n",
      "tx: 6274d1558a583d7e7c11df9c939bb9e96ef543cc7f5df8f78df0b6ccdb05c690\n",
      "version: 0\n",
      "locktime: 0\n",
      "tx_ins:\n",
      "0000000000000000000000000000000000000000000000000000000000000000:4294967295\n",
      "tx_outs:\n",
      "0:OP_0 2b05d564e6a7a33c087f16e0f730d1440123799d \n",
      "\n"
     ]
    }
   ],
   "source": [
    "print(virtual_to_spend_tx)"
   ]
  },
  {
   "cell_type": "markdown",
   "id": "5707bc26",
   "metadata": {},
   "source": [
    "### 1b.Decode the signature as the transaction virtual to_sign\n",
    "\n",
    "Note: the signature in simple format is just the witness stack\n",
    "\n",
    "```python\n",
    "    nVersion = 0 or (FULL format only) as appropriate (e.g. 2, for time locks)\n",
    "    nLockTime = 0 or (FULL format only) as appropriate (for time locks)\n",
    "    vin[0].prevout.hash = to_spend.txid\n",
    "    vin[0].prevout.n = 0\n",
    "    vin[0].nSequence = 0 or (FULL format only) as appropriate (for time locks)\n",
    "    vin[0].scriptWitness = message_signature\n",
    "    vout[0].nValue = 0\n",
    "    vout[0].scriptPubKey = OP_RETURN\n",
    "```"
   ]
  },
  {
   "cell_type": "markdown",
   "id": "bd87fa1f",
   "metadata": {},
   "source": [
    "#### Decode signature into witness stack"
   ]
  },
  {
   "cell_type": "code",
   "execution_count": 33,
   "id": "6fbf9faa",
   "metadata": {},
   "outputs": [
    {
     "name": "stdout",
     "output_type": "stream",
     "text": [
      "304402201b73c048bfef453800aa88164fa4bcad43905cd9df4735fa2677266c594773500220641db16fab9d59ac433c80611422b0728532280398a88becb530e31d7b170e6d01 02c7f12003196442943d8588e01aee840423cc54fc1521526a3b85c2b0cbd58872 \n"
     ]
    }
   ],
   "source": [
    "from buidl.helper import base64_decode\n",
    "from buidl.ecc import Signature\n",
    "from buidl.witness import Witness\n",
    "\n",
    "# Note: Using the test vector I am unable to get the code to verify\n",
    "decoded_tx = base64_decode(simple_signature)\n",
    "\n",
    "# decoded_tx = base64_decode(produced_sig)\n",
    "\n",
    "import io\n",
    "stream = io.BytesIO(decoded_tx)\n",
    "witness_stack = Witness.parse(stream)\n",
    "print(witness_stack)"
   ]
  },
  {
   "cell_type": "markdown",
   "id": "5dd21d3b",
   "metadata": {},
   "source": [
    "#### Create tx_in"
   ]
  },
  {
   "cell_type": "code",
   "execution_count": 34,
   "id": "ead24a7d",
   "metadata": {},
   "outputs": [
    {
     "data": {
      "text/plain": [
       "304402201b73c048bfef453800aa88164fa4bcad43905cd9df4735fa2677266c594773500220641db16fab9d59ac433c80611422b0728532280398a88becb530e31d7b170e6d01 02c7f12003196442943d8588e01aee840423cc54fc1521526a3b85c2b0cbd58872 "
      ]
     },
     "execution_count": 34,
     "metadata": {},
     "output_type": "execute_result"
    }
   ],
   "source": [
    "prevout_hash = virtual_to_spend_tx.hash()\n",
    "prevout_index = 0\n",
    "sequence = 0\n",
    "witness = witness_stack\n",
    "\n",
    "tx_in = TxIn(prevout_hash,prevout_index,sequence=sequence)\n",
    "tx_in.witness = witness\n",
    "\n",
    "tx_in.witness"
   ]
  },
  {
   "cell_type": "markdown",
   "id": "a3772e17",
   "metadata": {},
   "source": [
    "#### Create tx_out"
   ]
  },
  {
   "cell_type": "code",
   "execution_count": 35,
   "id": "4e2d210e",
   "metadata": {},
   "outputs": [],
   "source": [
    "value = 0\n",
    "# OP Code 106 for OP_RETURN\n",
    "commands = [106]\n",
    "scriptPubKey = Script(commands)\n",
    "\n",
    "tx_output = TxOut(value,scriptPubKey)"
   ]
  },
  {
   "cell_type": "markdown",
   "id": "b923d9e3",
   "metadata": {},
   "source": [
    "#### Create virtual_to_sign_tx"
   ]
  },
  {
   "cell_type": "code",
   "execution_count": 36,
   "id": "48fd363f",
   "metadata": {},
   "outputs": [],
   "source": [
    "version = 0\n",
    "locktime = 0\n",
    "virtual_to_sign_tx = Tx(version, [tx_in], [tx_output],locktime,segwit=False)"
   ]
  },
  {
   "cell_type": "markdown",
   "id": "7e751f37",
   "metadata": {},
   "source": [
    "### A whole bunch of validation that SHOULD happen ..."
   ]
  },
  {
   "cell_type": "markdown",
   "id": "d477db7d",
   "metadata": {},
   "source": [
    "### Initially all I am trying to do is validate the signature on the input in the to_sign transaction\n"
   ]
  },
  {
   "cell_type": "markdown",
   "id": "ce7914d3",
   "metadata": {},
   "source": [
    "### The input for the virtual to_sign transation IS the output at index 0 from the virtual to_spend transaction\n",
    "\n",
    "Normally the relevant information (The outputs script_pubkey and value) would be populated by querying the network for the transaction and fetching it from there. In this case we set those values on the input manually."
   ]
  },
  {
   "cell_type": "code",
   "execution_count": 37,
   "id": "4f210ecb",
   "metadata": {},
   "outputs": [],
   "source": [
    "virtual_to_sign_tx.tx_ins[0]._script_pubkey = script_pubkey\n",
    "virtual_to_sign_tx.tx_ins[0]._value = 0"
   ]
  },
  {
   "cell_type": "markdown",
   "id": "08301a53",
   "metadata": {},
   "source": [
    "### Verify the input is a valid unlocking of the to_spend output\n",
    "\n",
    "Not sure why this isn't working for the test vector of BIP-0322"
   ]
  },
  {
   "cell_type": "code",
   "execution_count": 38,
   "id": "1ce8ad1a",
   "metadata": {},
   "outputs": [
    {
     "data": {
      "text/plain": [
       "False"
      ]
     },
     "execution_count": 38,
     "metadata": {},
     "output_type": "execute_result"
    }
   ],
   "source": [
    "virtual_to_sign_tx.verify_input(0)"
   ]
  },
  {
   "cell_type": "code",
   "execution_count": null,
   "id": "cabae539",
   "metadata": {},
   "outputs": [],
   "source": []
  },
  {
   "cell_type": "code",
   "execution_count": null,
   "id": "88312922",
   "metadata": {},
   "outputs": [],
   "source": []
  }
 ],
 "metadata": {
  "kernelspec": {
   "display_name": "Python 3",
   "language": "python",
   "name": "python3"
  },
  "language_info": {
   "codemirror_mode": {
    "name": "ipython",
    "version": 3
   },
   "file_extension": ".py",
   "mimetype": "text/x-python",
   "name": "python",
   "nbconvert_exporter": "python",
   "pygments_lexer": "ipython3",
   "version": "3.8.5"
  }
 },
 "nbformat": 4,
 "nbformat_minor": 5
}
