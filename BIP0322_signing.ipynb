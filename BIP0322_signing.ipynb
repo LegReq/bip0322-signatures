{
 "cells": [
  {
   "cell_type": "markdown",
   "id": "529e7c52",
   "metadata": {},
   "source": [
    "# BIP-0322 Signature\n",
    "\n",
    "Initially just trying to get a notebook implementation that passes the test vector provided\n",
    "\n",
    "\n",
    "**NOTE: Currently unable to get the test vector to pass!**"
   ]
  },
  {
   "cell_type": "markdown",
   "id": "98a10c54",
   "metadata": {},
   "source": [
    "## Tagged Hash of Message to Sign"
   ]
  },
  {
   "cell_type": "code",
   "execution_count": 1,
   "id": "71242db3",
   "metadata": {},
   "outputs": [],
   "source": [
    "from buidl.hash import tagged_hash"
   ]
  },
  {
   "cell_type": "code",
   "execution_count": 2,
   "id": "bbcc3d9c",
   "metadata": {},
   "outputs": [],
   "source": [
    "message = b\"Hello World\"\n",
    "tag = b\"BIP0322-signed-message\"\n",
    "\n",
    "tagged_hash = tagged_hash(tag,message)"
   ]
  },
  {
   "cell_type": "markdown",
   "id": "8cd8e80a",
   "metadata": {},
   "source": [
    "### Test Vector\n",
    "\n",
    "https://github.com/bitcoin/bips/blob/master/bip-0322.mediawiki#message-hashing "
   ]
  },
  {
   "cell_type": "code",
   "execution_count": 3,
   "id": "ba744f9b",
   "metadata": {},
   "outputs": [],
   "source": [
    "test_vector = 'f0eb03b1a75ac6d9847f55c624a99169b5dccba2a31f5b23bea77ba270de0a7a'\n",
    "assert(test_vector == tagged_hash.hex())"
   ]
  },
  {
   "cell_type": "markdown",
   "id": "588117a9",
   "metadata": {},
   "source": [
    "## Generate scriptPubKey"
   ]
  },
  {
   "cell_type": "markdown",
   "id": "2f5d34fc",
   "metadata": {},
   "source": [
    "### Use Test Vector\n",
    "\n",
    "https://github.com/bitcoin/bips/blob/master/bip-0322.mediawiki#message-signing\n",
    "\n",
    "- private key `L3VFeEujGtevx9w18HD1fhRbCH67Az2dpCymeRE1SoPK6XQtaN2k` [(Compressed Wallet Import Format)](https://komodoplatform.com/en/academy/bitcoin-private-key/#common-bitcoin-private-key-formats)\n",
    "- corresponding address `bc1q9vza2e8x573nczrlzms0wvx3gsqjx7vavgkx0l` (A Segwit address)\n"
   ]
  },
  {
   "cell_type": "code",
   "execution_count": 4,
   "id": "a65c0f12",
   "metadata": {},
   "outputs": [],
   "source": [
    "compressed_wif_private_key = 'L3VFeEujGtevx9w18HD1fhRbCH67Az2dpCymeRE1SoPK6XQtaN2k'"
   ]
  },
  {
   "cell_type": "code",
   "execution_count": 5,
   "id": "ab8302a8",
   "metadata": {},
   "outputs": [],
   "source": [
    "address_test_vector = 'bc1q9vza2e8x573nczrlzms0wvx3gsqjx7vavgkx0l'"
   ]
  },
  {
   "cell_type": "code",
   "execution_count": 6,
   "id": "f33d3cfd",
   "metadata": {},
   "outputs": [
    {
     "name": "stdout",
     "output_type": "stream",
     "text": [
      "Segwit Adress: bc1q9vza2e8x573nczrlzms0wvx3gsqjx7vavgkx0l\n"
     ]
    }
   ],
   "source": [
    "from buidl.ecc import PrivateKey\n",
    "# Parse WIF\n",
    "private_key = PrivateKey.parse(compressed_wif_private_key)\n",
    "# Generate a pay-to-witness-public-key-hash address\n",
    "p2wpkh_address = private_key.point.p2wpkh_address(network=\"mainnet\")\n",
    "print(\"Segwit Adress:\", p2wpkh_address)\n",
    "# Check test vector\n",
    "assert(p2wpkh_address == address_test_vector)"
   ]
  },
  {
   "cell_type": "markdown",
   "id": "0f8f8a3b",
   "metadata": {},
   "source": [
    "## Create virtual to_spend transaction\n",
    "\n",
    "```python\n",
    "    nVersion = 0\n",
    "    nLockTime = 0\n",
    "    vin[0].prevout.hash = 0000...000\n",
    "    vin[0].prevout.n = 0xFFFFFFFF\n",
    "    vin[0].nSequence = 0\n",
    "    vin[0].scriptSig = OP_0 PUSH32[ message_hash ]\n",
    "    vin[0].scriptWitness = []\n",
    "    vout[0].nValue = 0\n",
    "    vout[0].scriptPubKey = message_challenge\n",
    "```"
   ]
  },
  {
   "cell_type": "code",
   "execution_count": 7,
   "id": "079a5c69",
   "metadata": {},
   "outputs": [],
   "source": [
    "from buidl.tx import Tx, TxIn, TxOut\n",
    "from buidl.script import Script,P2WPKHScriptPubKey\n",
    "from buidl.helper import big_endian_to_int"
   ]
  },
  {
   "cell_type": "markdown",
   "id": "ae57c0fd",
   "metadata": {},
   "source": [
    "### Create the single transaction input\n",
    "\n",
    "Note: the script commands `[0x00, 0x20, message_hash]`\n",
    "- `0` is OP_0, which pushes a 0 onto the stack\n",
    "- `32` is PUSH32 which pushes the next 32 bytes onto the stack\n",
    "- `message_hash` is that next 32 bytes. Which is a tagged_hash of the message being signed.\n"
   ]
  },
  {
   "cell_type": "code",
   "execution_count": 13,
   "id": "ef8f3769",
   "metadata": {},
   "outputs": [
    {
     "name": "stdout",
     "output_type": "stream",
     "text": [
      "0020f0eb03b1a75ac6d9847f55c624a99169b5dccba2a31f5b23bea77ba270de0a7a\n"
     ]
    }
   ],
   "source": [
    "# Not a valid Tx hash. Will never be spendable on any BTC network.\n",
    "prevout_hash = bytes.fromhex('0000000000000000000000000000000000000000000000000000000000000000')\n",
    "# prevout.n\n",
    "prevout_index = big_endian_to_int(bytes.fromhex('FFFFFFFF'))\n",
    "sequence = 0\n",
    "\n",
    "# Byte array of message hash\n",
    "message_hash = tagged_hash\n",
    "\n",
    "# Note this used to be: commands = [0, 32, message_hash] (as per BIP)\n",
    "# Changed after looking at BTC core impl (see verification notebook)\n",
    "# It appears the PUSH32 is implied and added by the size of the message added to the stack\n",
    "commands = [0, message_hash]\n",
    "scriptSig = Script(commands)\n",
    "print(scriptSig.raw_serialize().hex())\n",
    "# Create Tx Input\n",
    "tx_in = TxIn(prevout_hash,prevout_index,scriptSig,sequence)"
   ]
  },
  {
   "cell_type": "code",
   "execution_count": 14,
   "id": "d49f4f7a",
   "metadata": {},
   "outputs": [
    {
     "data": {
      "text/plain": [
       "0000000000000000000000000000000000000000000000000000000000000000:4294967295"
      ]
     },
     "execution_count": 14,
     "metadata": {},
     "output_type": "execute_result"
    }
   ],
   "source": [
    "tx_in"
   ]
  },
  {
   "cell_type": "markdown",
   "id": "a672a180",
   "metadata": {},
   "source": [
    "### Create the single transaction output"
   ]
  },
  {
   "cell_type": "code",
   "execution_count": 15,
   "id": "ef75fbf5",
   "metadata": {},
   "outputs": [],
   "source": [
    "from buidl.script import address_to_script_pubkey"
   ]
  },
  {
   "cell_type": "code",
   "execution_count": 16,
   "id": "ac289b52",
   "metadata": {},
   "outputs": [
    {
     "name": "stdout",
     "output_type": "stream",
     "text": [
      "OP_0 2b05d564e6a7a33c087f16e0f730d1440123799d \n"
     ]
    }
   ],
   "source": [
    "# Value of tx output\n",
    "value = 0\n",
    "\n",
    "script_pubkey = address_to_script_pubkey(p2wpkh_address)\n",
    "\n",
    "print(script_pubkey)\n",
    "tx_out = TxOut(value,script_pubkey)"
   ]
  },
  {
   "cell_type": "code",
   "execution_count": 17,
   "id": "4f6c5204",
   "metadata": {},
   "outputs": [],
   "source": [
    "# create transaction\n",
    "version=0\n",
    "tx_inputs = [tx_in]\n",
    "tx_outputs = [tx_out]\n",
    "locktime=0\n",
    "network=\"mainnet\"\n",
    "\n",
    "# Could be false, but using a segwit address. I think this is the \"Simple Signature\" in BIP-0322\n",
    "segwit=True\n",
    "\n",
    "virtual_to_spend_tx = Tx(version,tx_inputs,tx_outputs,locktime,network,segwit)"
   ]
  },
  {
   "cell_type": "code",
   "execution_count": 18,
   "id": "00875c3b",
   "metadata": {},
   "outputs": [
    {
     "data": {
      "text/plain": [
       "\n",
       "tx: b79d196740ad5217771c1098fc4a4b51e0535c32236c71f1ea4d61a2d603352b\n",
       "version: 0\n",
       "locktime: 0\n",
       "tx_ins:\n",
       "0000000000000000000000000000000000000000000000000000000000000000:4294967295\n",
       "tx_outs:\n",
       "0:OP_0 2b05d564e6a7a33c087f16e0f730d1440123799d "
      ]
     },
     "execution_count": 18,
     "metadata": {},
     "output_type": "execute_result"
    }
   ],
   "source": [
    "virtual_to_spend_tx"
   ]
  },
  {
   "cell_type": "markdown",
   "id": "d7c0539b",
   "metadata": {},
   "source": [
    "## Create virtual to_sign transaction\n",
    "\n",
    "```python\n",
    "    nVersion = 0 or (FULL format only) as appropriate (e.g. 2, for time locks)\n",
    "    nLockTime = 0 or (FULL format only) as appropriate (for time locks)\n",
    "    vin[0].prevout.hash = to_spend.txid\n",
    "    vin[0].prevout.n = 0\n",
    "    vin[0].nSequence = 0 or (FULL format only) as appropriate (for time locks)\n",
    "    vin[0].scriptWitness = message_signature\n",
    "    vout[0].nValue = 0\n",
    "    vout[0].scriptPubKey = OP_RETURN\n",
    "```"
   ]
  },
  {
   "cell_type": "markdown",
   "id": "4f6fbdd1",
   "metadata": {},
   "source": [
    "### Create single transaction input"
   ]
  },
  {
   "cell_type": "code",
   "execution_count": 19,
   "id": "2d549946",
   "metadata": {},
   "outputs": [],
   "source": [
    "from buidl.witness import Witness"
   ]
  },
  {
   "cell_type": "code",
   "execution_count": 21,
   "id": "d73cb3d9",
   "metadata": {},
   "outputs": [],
   "source": [
    "# Identify the virtual_to_spend tx hash. \n",
    "pretx_hash = virtual_to_spend_tx.hash()\n",
    "# Identifies the index of the output from the virtual_to_spend_tx to be \"spent\"\n",
    "prevout_index = 0\n",
    "sequence = 0\n",
    "\n",
    "\n",
    "tx_input = TxIn(pretx_hash,prevout_index,script_sig=None,sequence=sequence)\n",
    "\n",
    "# Adding witness doesn't affect the serialization? Maybe this is intentional?\n",
    "serialized_input = tx_input.serialize()\n"
   ]
  },
  {
   "cell_type": "markdown",
   "id": "fba78080",
   "metadata": {},
   "source": [
    "### Create single transaction output"
   ]
  },
  {
   "cell_type": "code",
   "execution_count": 22,
   "id": "1c8bc3d5",
   "metadata": {},
   "outputs": [
    {
     "name": "stdout",
     "output_type": "stream",
     "text": [
      "OP_RETURN \n"
     ]
    }
   ],
   "source": [
    "value = 0\n",
    "# OP Code 106 for OP_RETURN\n",
    "commands = [106]\n",
    "scriptPubKey = Script(commands)\n",
    "\n",
    "tx_output = TxOut(value,scriptPubKey)\n",
    "tx_output.serialize()\n",
    "print(scriptPubKey)"
   ]
  },
  {
   "cell_type": "markdown",
   "id": "7f512d95",
   "metadata": {},
   "source": [
    "### Create unsigned virtual to_sign transaction"
   ]
  },
  {
   "cell_type": "code",
   "execution_count": 23,
   "id": "f32f501f",
   "metadata": {},
   "outputs": [],
   "source": [
    "# create transaction on mainnet\n",
    "version=0\n",
    "tx_inputs = [tx_input]\n",
    "tx_outputs = [tx_output]\n",
    "locktime=0\n",
    "network=\"mainnet\"\n",
    "\n",
    "# Could be false, but using a segwit address. I think this is the \"Simple Signature\" in BIP-0322\n",
    "segwit=True\n",
    "\n",
    "virtual_to_sign_tx = Tx(version,tx_inputs,tx_outputs,locktime,network,segwit)"
   ]
  },
  {
   "cell_type": "code",
   "execution_count": 24,
   "id": "900845c0",
   "metadata": {},
   "outputs": [
    {
     "data": {
      "text/plain": [
       "'88737ae86f2077145f93cc4b153ae9a1cb8d56afa511988c149c5c8c9d93bddf'"
      ]
     },
     "execution_count": 24,
     "metadata": {},
     "output_type": "execute_result"
    }
   ],
   "source": [
    "virtual_to_sign_tx.id()"
   ]
  },
  {
   "cell_type": "markdown",
   "id": "429a6487",
   "metadata": {},
   "source": [
    "## Simple Signature is just the witness encoded\n",
    "\n",
    "From the BIP-0322:\n",
    "\n",
    "`A simple signature consists of a witness stack, consensus encoded as a vector of vectors of bytes, and base64-encoded. Validators should construct to_spend and to_sign as defined below, with default values for all fields except that`"
   ]
  },
  {
   "cell_type": "markdown",
   "id": "edaea6a0",
   "metadata": {},
   "source": [
    "## I think Signing Works Like this. Need to define a BIP-0322 way to resolve the prev_tx"
   ]
  },
  {
   "cell_type": "code",
   "execution_count": 25,
   "id": "664c3ce8",
   "metadata": {},
   "outputs": [
    {
     "data": {
      "text/plain": [
       "True"
      ]
     },
     "execution_count": 25,
     "metadata": {},
     "output_type": "execute_result"
    }
   ],
   "source": [
    "# Have to manually set these, because cannot FETCH to_spend from network\n",
    "# Note: Would ideally submit a P.R. to the buidl library to support this\n",
    "virtual_to_sign_tx.tx_ins[0]._script_pubkey = script_pubkey\n",
    "virtual_to_sign_tx.tx_ins[0]._value = 0\n",
    "# print(virtual_to_sign_tx.tx_ins[0]._script_pubkey)\n",
    "virtual_to_sign_tx.sign_input(0,private_key)\n",
    "\n"
   ]
  },
  {
   "cell_type": "code",
   "execution_count": 26,
   "id": "5a442ed5",
   "metadata": {},
   "outputs": [
    {
     "data": {
      "text/plain": []
     },
     "execution_count": 26,
     "metadata": {},
     "output_type": "execute_result"
    }
   ],
   "source": [
    "virtual_to_sign_tx.tx_ins[0].script_sig"
   ]
  },
  {
   "cell_type": "code",
   "execution_count": 27,
   "id": "4e46fe09",
   "metadata": {},
   "outputs": [
    {
     "data": {
      "text/plain": [
       "True"
      ]
     },
     "execution_count": 27,
     "metadata": {},
     "output_type": "execute_result"
    }
   ],
   "source": [
    "virtual_to_sign_tx.verify_input(0)"
   ]
  },
  {
   "cell_type": "markdown",
   "id": "474bdd6d",
   "metadata": {},
   "source": [
    "## Serialize the Witness and Base64 Encode"
   ]
  },
  {
   "cell_type": "code",
   "execution_count": 34,
   "id": "fa9b82bf",
   "metadata": {},
   "outputs": [
    {
     "name": "stdout",
     "output_type": "stream",
     "text": [
      "Copy across this signature output and use it in the verification notebook: \n",
      "\n",
      "AkgwRQIhAOzyynlqt93lOKJr+wmmxIens//zPzl9tqIOua93wO6MAiBi5n5EyAcPScOjf1lAqIUIQtr3zKNeavYabHyR8eGhowEhAsfxIAMZZEKUPYWI4BruhAQjzFT8FSFSajuFwrDL1Yhy\n"
     ]
    }
   ],
   "source": [
    "# virtual_to_sign_tx.tx_ins[0].witness[0].serialize()\n",
    "from buidl.helper import base64_encode\n",
    "# \n",
    "bip322_signature = base64_encode(virtual_to_sign_tx.serialize_witness())\n",
    "print(\"Copy across this signature output and use it in the verification notebook: \\n\")\n",
    "print(bip322_signature)"
   ]
  },
  {
   "cell_type": "markdown",
   "id": "2b4153ec",
   "metadata": {},
   "source": [
    "## Signature Test Vector\n",
    "\n",
    "Test vector taken from BIP0322"
   ]
  },
  {
   "cell_type": "markdown",
   "id": "70201e7b",
   "metadata": {},
   "source": [
    "### NOTE: This currently does not pass"
   ]
  },
  {
   "cell_type": "code",
   "execution_count": 29,
   "id": "94354b8d",
   "metadata": {},
   "outputs": [
    {
     "ename": "AssertionError",
     "evalue": "",
     "output_type": "error",
     "traceback": [
      "\u001b[0;31m---------------------------------------------------------------------------\u001b[0m",
      "\u001b[0;31mAssertionError\u001b[0m                            Traceback (most recent call last)",
      "Input \u001b[0;32mIn [29]\u001b[0m, in \u001b[0;36m<cell line: 2>\u001b[0;34m()\u001b[0m\n\u001b[1;32m      1\u001b[0m sig_test_vector \u001b[38;5;241m=\u001b[39m \u001b[38;5;124m'\u001b[39m\u001b[38;5;124mAkcwRAIgG3PASL/vRTgAqogWT6S8rUOQXNnfRzX6JncmbFlHc1ACIGQdsW+rnVmsQzyAYRQisHKFMigDmKiL7LUw4x17Fw5tASECx/EgAxlkQpQ9hYjgGu6EBCPMVPwVIVJqO4XCsMvViHI=\u001b[39m\u001b[38;5;124m'\u001b[39m\n\u001b[0;32m----> 2\u001b[0m \u001b[38;5;28;01massert\u001b[39;00m(sig_test_vector \u001b[38;5;241m==\u001b[39m bip322_signature)\n",
      "\u001b[0;31mAssertionError\u001b[0m: "
     ]
    }
   ],
   "source": [
    "sig_test_vector = 'AkcwRAIgG3PASL/vRTgAqogWT6S8rUOQXNnfRzX6JncmbFlHc1ACIGQdsW+rnVmsQzyAYRQisHKFMigDmKiL7LUw4x17Fw5tASECx/EgAxlkQpQ9hYjgGu6EBCPMVPwVIVJqO4XCsMvViHI='\n",
    "assert(sig_test_vector == bip322_signature)"
   ]
  },
  {
   "cell_type": "code",
   "execution_count": 30,
   "id": "5e48135c",
   "metadata": {},
   "outputs": [
    {
     "ename": "AssertionError",
     "evalue": "",
     "output_type": "error",
     "traceback": [
      "\u001b[0;31m---------------------------------------------------------------------------\u001b[0m",
      "\u001b[0;31mAssertionError\u001b[0m                            Traceback (most recent call last)",
      "Input \u001b[0;32mIn [30]\u001b[0m, in \u001b[0;36m<cell line: 2>\u001b[0;34m()\u001b[0m\n\u001b[1;32m      1\u001b[0m btc_core_sig_test_vectore \u001b[38;5;241m=\u001b[39m \u001b[38;5;124m'\u001b[39m\u001b[38;5;124mAkcwRAIgZRfIY3p7/DoVTty6YZbWS71bc5Vct9p9Fia83eRmw2QCICK/ENGfwLtptFluMGs2KsqoNSk89pO7F29zJLUx9a/sASECx/EgAxlkQpQ9hYjgGu6EBCPMVPwVIVJqO4XCsMvViHI=\u001b[39m\u001b[38;5;124m'\u001b[39m\n\u001b[0;32m----> 2\u001b[0m \u001b[38;5;28;01massert\u001b[39;00m(btc_core_sig_test_vectore \u001b[38;5;241m==\u001b[39m bip322_signature)\n",
      "\u001b[0;31mAssertionError\u001b[0m: "
     ]
    }
   ],
   "source": [
    "btc_core_sig_test_vectore = 'AkcwRAIgZRfIY3p7/DoVTty6YZbWS71bc5Vct9p9Fia83eRmw2QCICK/ENGfwLtptFluMGs2KsqoNSk89pO7F29zJLUx9a/sASECx/EgAxlkQpQ9hYjgGu6EBCPMVPwVIVJqO4XCsMvViHI='\n",
    "assert(btc_core_sig_test_vectore == bip322_signature)"
   ]
  }
 ],
 "metadata": {
  "kernelspec": {
   "display_name": "Python 3",
   "language": "python",
   "name": "python3"
  },
  "language_info": {
   "codemirror_mode": {
    "name": "ipython",
    "version": 3
   },
   "file_extension": ".py",
   "mimetype": "text/x-python",
   "name": "python",
   "nbconvert_exporter": "python",
   "pygments_lexer": "ipython3",
   "version": "3.8.5"
  }
 },
 "nbformat": 4,
 "nbformat_minor": 5
}
