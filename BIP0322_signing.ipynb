{
 "cells": [
  {
   "cell_type": "markdown",
   "id": "529e7c52",
   "metadata": {},
   "source": [
    "# Bitcoin Improvement Proposal 322 - Generic Signed Message Format\n",
    "\n",
    "## Signing Notebook\n",
    "\n",
    "This notebook generates a BIP 0322 signature on the message \"Hello World\" using private key `L3VFeEujGtevx9w18HD1fhRbCH67Az2dpCymeRE1SoPK6XQtaN2k` which is listed as a test vector with a coresponding signature in the BIP.\n",
    "\n",
    "A BIP 0322 signature involves producing two virtual Bitcoin transactions, which are unspendable on any network but otherwise valid. The first transaction, refered to as `to_spend`, encapsulates the message to be signed and the scriptPubKey which must be unlocked to produce a valid signature on this message. The second transaction, `to_sign`, is a transaction that takes the single tx_output of `to_spend` as an input and \"spends\" this output with a valid signature that unlocks the output and can be interpretted by any Bitcoin script engine. The resulting signature is stored in the witness of the `to_sign` transaction (unless a legacy version) and in the simple case it is this witness that is encoded and forms the signature that would be provided to a verifier.\n",
    "\n",
    "* [BIP 0322](https://github.com/bitcoin/bips/blob/master/bip-0322.mediawiki)\n",
    "* Implemented using the [buidl-python](https://github.com/buidl-bitcoin/buidl-python) library."
   ]
  },
  {
   "cell_type": "markdown",
   "id": "0a82ee6c",
   "metadata": {},
   "source": [
    "## Notebook Author\n",
    "\n",
    "* Will Abramson\n",
    "* [Legendary Requirements](http://legreq.com/)\n",
    "* Contact: will@legreq.com"
   ]
  },
  {
   "cell_type": "markdown",
   "id": "e98a3b44",
   "metadata": {},
   "source": [
    "## Acknowledgements\n",
    "\n",
    "This work was funded by Ryan Grant and [Digital Contract Design](https://contract.design/). Thanks also go to Joe Andrieu, Kalle Alm, Pieter Wuille and Jimmy Song for engaging with and supporting various aspects of this work."
   ]
  },
  {
   "cell_type": "markdown",
   "id": "f02a4563",
   "metadata": {},
   "source": [
    "## Notebook Steps\n",
    "\n",
    "1. Generate a tagged hash of the message to sign (verify against test vector)\n",
    "2. Import the provided private key and generate its associated address\n",
    "3. Create the virtual to_spend transaction\n",
    "4. Create unsigned virtual to_sign transaction\n",
    "5. Sign the to_sign transaction using the private key (from 2.)"
   ]
  },
  {
   "cell_type": "markdown",
   "id": "98a10c54",
   "metadata": {},
   "source": [
    "## 1. Generate a Tagged Hash of Message to Sign"
   ]
  },
  {
   "cell_type": "code",
   "execution_count": 1,
   "id": "71242db3",
   "metadata": {},
   "outputs": [],
   "source": [
    "from buidl.hash import tagged_hash"
   ]
  },
  {
   "cell_type": "code",
   "execution_count": 2,
   "id": "bbcc3d9c",
   "metadata": {},
   "outputs": [],
   "source": [
    "message = b\"Hello World\"\n",
    "\n",
    "# The tag defined in BIP0322 that should be used\n",
    "tag = b\"BIP0322-signed-message\"\n",
    "\n",
    "tagged_hash = tagged_hash(tag,message)"
   ]
  },
  {
   "cell_type": "markdown",
   "id": "8cd8e80a",
   "metadata": {},
   "source": [
    "### Verify Hash matches BIP 0322 Test Vector\n",
    "\n",
    "https://github.com/bitcoin/bips/blob/master/bip-0322.mediawiki#message-hashing "
   ]
  },
  {
   "cell_type": "code",
   "execution_count": 3,
   "id": "ba744f9b",
   "metadata": {},
   "outputs": [],
   "source": [
    "test_vector = 'f0eb03b1a75ac6d9847f55c624a99169b5dccba2a31f5b23bea77ba270de0a7a'\n",
    "assert(test_vector == tagged_hash.hex())"
   ]
  },
  {
   "cell_type": "markdown",
   "id": "588117a9",
   "metadata": {},
   "source": [
    "## 2. Import Private Key and Generate Its Associated Address\n",
    "\n",
    "This address is later converted into its scriptPubKey representation and used as the message_challenge which must be \"unlocked\" in order to produce a BIP 0322 signature"
   ]
  },
  {
   "cell_type": "markdown",
   "id": "2f5d34fc",
   "metadata": {},
   "source": [
    "### Use BIP0322 Test Vector\n",
    "\n",
    "https://github.com/bitcoin/bips/blob/master/bip-0322.mediawiki#message-signing\n",
    "\n",
    "- private key `L3VFeEujGtevx9w18HD1fhRbCH67Az2dpCymeRE1SoPK6XQtaN2k` [(Compressed Wallet Import Format)](https://komodoplatform.com/en/academy/bitcoin-private-key/#common-bitcoin-private-key-formats)\n",
    "- corresponding address `bc1q9vza2e8x573nczrlzms0wvx3gsqjx7vavgkx0l` (A Segwit address)\n"
   ]
  },
  {
   "cell_type": "code",
   "execution_count": 4,
   "id": "a65c0f12",
   "metadata": {},
   "outputs": [],
   "source": [
    "compressed_wif_private_key = 'L3VFeEujGtevx9w18HD1fhRbCH67Az2dpCymeRE1SoPK6XQtaN2k'"
   ]
  },
  {
   "cell_type": "code",
   "execution_count": 5,
   "id": "ab8302a8",
   "metadata": {},
   "outputs": [],
   "source": [
    "address_test_vector = 'bc1q9vza2e8x573nczrlzms0wvx3gsqjx7vavgkx0l'"
   ]
  },
  {
   "cell_type": "code",
   "execution_count": 6,
   "id": "f33d3cfd",
   "metadata": {},
   "outputs": [
    {
     "name": "stdout",
     "output_type": "stream",
     "text": [
      "Segwit Adress: bc1q9vza2e8x573nczrlzms0wvx3gsqjx7vavgkx0l\n"
     ]
    }
   ],
   "source": [
    "from buidl.ecc import PrivateKey\n",
    "# Parse WIF\n",
    "private_key = PrivateKey.parse(compressed_wif_private_key)\n",
    "# Generate a pay-to-witness-public-key-hash address\n",
    "p2wpkh_address = private_key.point.p2wpkh_address(network=\"mainnet\")\n",
    "print(\"Segwit Adress:\", p2wpkh_address)\n",
    "# Check test vector\n",
    "assert(p2wpkh_address == address_test_vector)"
   ]
  },
  {
   "cell_type": "markdown",
   "id": "0f8f8a3b",
   "metadata": {},
   "source": [
    "## 3. Create the virtual to_spend transaction\n",
    "\n",
    "BIP 0322 defines the structure of this transaction as follows:\n",
    "\n",
    "```python\n",
    "    nVersion = 0\n",
    "    nLockTime = 0\n",
    "    vin[0].prevout.hash = 0000...000\n",
    "    vin[0].prevout.n = 0xFFFFFFFF\n",
    "    vin[0].nSequence = 0\n",
    "    vin[0].scriptSig = OP_0 PUSH32[ message_hash ]\n",
    "    vin[0].scriptWitness = []\n",
    "    vout[0].nValue = 0\n",
    "    vout[0].scriptPubKey = message_challenge\n",
    "```"
   ]
  },
  {
   "cell_type": "code",
   "execution_count": 7,
   "id": "079a5c69",
   "metadata": {},
   "outputs": [],
   "source": [
    "from buidl.tx import Tx, TxIn, TxOut\n",
    "from buidl.script import Script,P2WPKHScriptPubKey\n",
    "from buidl.helper import big_endian_to_int"
   ]
  },
  {
   "cell_type": "markdown",
   "id": "ae57c0fd",
   "metadata": {},
   "source": [
    "### 3.1 Create the single transaction input\n",
    "\n",
    "Note: the script commands `[0x00, 0x20, message_hash]`\n",
    "- `0` is OP_0, which pushes a 0 onto the stack\n",
    "- `32` is PUSH32 which pushes the next 32 bytes onto the stack\n",
    "- `message_hash` is that next 32 bytes. Which is a tagged_hash of the message being signed.\n",
    "\n",
    "**However, the implementation only requires commands [0, message_hash] be input. PUSH32 is implied by the size of the message_hash and added by the underlying library.**\n"
   ]
  },
  {
   "cell_type": "code",
   "execution_count": 8,
   "id": "ef8f3769",
   "metadata": {},
   "outputs": [],
   "source": [
    "# Not a valid Tx hash. Will never be spendable on any BTC network.\n",
    "prevout_hash = bytes.fromhex('0000000000000000000000000000000000000000000000000000000000000000')\n",
    "# prevout.n\n",
    "prevout_index = big_endian_to_int(bytes.fromhex('FFFFFFFF'))\n",
    "sequence = 0\n",
    "\n",
    "# Byte array of message hash\n",
    "message_hash = tagged_hash\n",
    "\n",
    "# Note this used to be: commands = [0, 32, message_hash] (as per BIP)\n",
    "# It appears the PUSH32 is implied and added by the size of the message added to the stack\n",
    "commands = [0, message_hash]\n",
    "scriptSig = Script(commands)\n",
    "# Create Tx Input\n",
    "tx_in = TxIn(prevout_hash,prevout_index,scriptSig,sequence)"
   ]
  },
  {
   "cell_type": "code",
   "execution_count": 9,
   "id": "d49f4f7a",
   "metadata": {},
   "outputs": [
    {
     "data": {
      "text/plain": [
       "0000000000000000000000000000000000000000000000000000000000000000:4294967295"
      ]
     },
     "execution_count": 9,
     "metadata": {},
     "output_type": "execute_result"
    }
   ],
   "source": [
    "tx_in"
   ]
  },
  {
   "cell_type": "markdown",
   "id": "a672a180",
   "metadata": {},
   "source": [
    "### 3.2 Create the single transaction output"
   ]
  },
  {
   "cell_type": "code",
   "execution_count": 10,
   "id": "ef75fbf5",
   "metadata": {},
   "outputs": [],
   "source": [
    "from buidl.script import address_to_script_pubkey"
   ]
  },
  {
   "cell_type": "code",
   "execution_count": 11,
   "id": "ac289b52",
   "metadata": {},
   "outputs": [
    {
     "name": "stdout",
     "output_type": "stream",
     "text": [
      "OP_0 2b05d564e6a7a33c087f16e0f730d1440123799d \n"
     ]
    }
   ],
   "source": [
    "# Value of tx output\n",
    "value = 0\n",
    "\n",
    "# Convert segwit address to script_pubkey\n",
    "script_pubkey = address_to_script_pubkey(p2wpkh_address)\n",
    "\n",
    "print(script_pubkey)\n",
    "tx_out = TxOut(value,script_pubkey)"
   ]
  },
  {
   "cell_type": "markdown",
   "id": "cddd857a",
   "metadata": {},
   "source": [
    "### 3.3 Create transaction using tx_in and tx_out"
   ]
  },
  {
   "cell_type": "code",
   "execution_count": 12,
   "id": "4f6c5204",
   "metadata": {},
   "outputs": [],
   "source": [
    "# create transaction\n",
    "version=0\n",
    "tx_inputs = [tx_in]\n",
    "tx_outputs = [tx_out]\n",
    "locktime=0\n",
    "network=\"mainnet\"\n",
    "\n",
    "# Could be false, but using a segwit address. I think this is the \"Simple Signature\" in BIP-0322\n",
    "segwit=True\n",
    "\n",
    "virtual_to_spend_tx = Tx(version,tx_inputs,tx_outputs,locktime,network,segwit)"
   ]
  },
  {
   "cell_type": "code",
   "execution_count": 13,
   "id": "00875c3b",
   "metadata": {},
   "outputs": [
    {
     "data": {
      "text/plain": [
       "\n",
       "tx: 7f641e2b5ebdcbf44ea6c851a9d1ec6d77820044ddafa24966fd0f3ca91616af\n",
       "version: 2\n",
       "locktime: 0\n",
       "tx_ins:\n",
       "0000000000000000000000000000000000000000000000000000000000000000:4294967295\n",
       "tx_outs:\n",
       "0:OP_0 2b05d564e6a7a33c087f16e0f730d1440123799d "
      ]
     },
     "execution_count": 13,
     "metadata": {},
     "output_type": "execute_result"
    }
   ],
   "source": [
    "virtual_to_spend_tx"
   ]
  },
  {
   "cell_type": "markdown",
   "id": "d7c0539b",
   "metadata": {},
   "source": [
    "## 4. Create virtual to_sign transaction\n",
    "\n",
    "The structure as defined in BIP 0322:\n",
    "\n",
    "```python\n",
    "    nVersion = 0 or (FULL format only) as appropriate (e.g. 2, for time locks)\n",
    "    nLockTime = 0 or (FULL format only) as appropriate (for time locks)\n",
    "    vin[0].prevout.hash = to_spend.txid\n",
    "    vin[0].prevout.n = 0\n",
    "    vin[0].nSequence = 0 or (FULL format only) as appropriate (for time locks)\n",
    "    vin[0].scriptWitness = message_signature\n",
    "    vout[0].nValue = 0\n",
    "    vout[0].scriptPubKey = OP_RETURN\n",
    "```"
   ]
  },
  {
   "cell_type": "markdown",
   "id": "4f6fbdd1",
   "metadata": {},
   "source": [
    "### 4.1 Create single transaction input"
   ]
  },
  {
   "cell_type": "code",
   "execution_count": 14,
   "id": "2d549946",
   "metadata": {},
   "outputs": [],
   "source": [
    "from buidl.witness import Witness"
   ]
  },
  {
   "cell_type": "code",
   "execution_count": 15,
   "id": "d73cb3d9",
   "metadata": {},
   "outputs": [],
   "source": [
    "# Identify the virtual_to_spend tx hash. \n",
    "pretx_hash = virtual_to_spend_tx.hash()\n",
    "# Identifies the index of the output from the virtual_to_spend_tx to be \"spent\"\n",
    "prevout_index = 0\n",
    "sequence = 0\n",
    "\n",
    "\n",
    "tx_input = TxIn(pretx_hash,prevout_index,script_sig=None,sequence=sequence)"
   ]
  },
  {
   "cell_type": "markdown",
   "id": "fba78080",
   "metadata": {},
   "source": [
    "### 4.2 Create single transaction output"
   ]
  },
  {
   "cell_type": "code",
   "execution_count": 16,
   "id": "1c8bc3d5",
   "metadata": {},
   "outputs": [
    {
     "name": "stdout",
     "output_type": "stream",
     "text": [
      "OP_RETURN \n"
     ]
    }
   ],
   "source": [
    "value = 0\n",
    "# OP Code 106 for OP_RETURN\n",
    "commands = [106]\n",
    "scriptPubKey = Script(commands)\n",
    "\n",
    "tx_output = TxOut(value,scriptPubKey)\n",
    "tx_output.serialize()\n",
    "print(scriptPubKey)"
   ]
  },
  {
   "cell_type": "markdown",
   "id": "7f512d95",
   "metadata": {},
   "source": [
    "### 4.3 Create unsigned virtual to_sign transaction"
   ]
  },
  {
   "cell_type": "code",
   "execution_count": 18,
   "id": "f32f501f",
   "metadata": {},
   "outputs": [],
   "source": [
    "# create transaction on mainnet\n",
    "version=0\n",
    "tx_inputs = [tx_input]\n",
    "tx_outputs = [tx_output]\n",
    "locktime=0\n",
    "network=\"mainnet\"\n",
    "\n",
    "# Could be false, but using a segwit address. I think this is the \"Simple Signature\" in BIP-0322\n",
    "segwit=True\n",
    "\n",
    "virtual_to_sign_tx = Tx(version,tx_inputs,tx_outputs,locktime,network,segwit)"
   ]
  },
  {
   "cell_type": "code",
   "execution_count": 19,
   "id": "900845c0",
   "metadata": {},
   "outputs": [
    {
     "data": {
      "text/plain": [
       "'2ad99c9c5bff62bf002986e875b525fceab9468c3bebf1e4f463a2770c729c7b'"
      ]
     },
     "execution_count": 19,
     "metadata": {},
     "output_type": "execute_result"
    }
   ],
   "source": [
    "virtual_to_sign_tx.id()"
   ]
  },
  {
   "cell_type": "markdown",
   "id": "429a6487",
   "metadata": {},
   "source": [
    "## 5. Sign the virtual to_sign transaction\n",
    "\n",
    "This populates the witness value on the only tx_input to the transaction"
   ]
  },
  {
   "cell_type": "code",
   "execution_count": 20,
   "id": "a4e29da6",
   "metadata": {},
   "outputs": [
    {
     "name": "stdout",
     "output_type": "stream",
     "text": [
      "Witness :  \n"
     ]
    }
   ],
   "source": [
    "# Note: it is not currently set\n",
    "print(\"Witness : \", virtual_to_sign_tx.tx_ins[0].witness)"
   ]
  },
  {
   "cell_type": "markdown",
   "id": "edaea6a0",
   "metadata": {},
   "source": [
    "### 5.1 Manually \"fetch\" the to_spend tx to populate scriptPubKey and Value in the to_sign tx input\n",
    "\n",
    "Note: the prev_tx is the hash of the to_spend transaction, identifying it and cryptographically binding it to the to_sign transaction. Normally, a Bitcoin node would query the network for the transaction identified by this hash. In BIP 0322 this must be manually done."
   ]
  },
  {
   "cell_type": "code",
   "execution_count": 21,
   "id": "664c3ce8",
   "metadata": {},
   "outputs": [],
   "source": [
    "# Have to manually set these, because cannot FETCH to_spend from network\n",
    "# Note: Would ideally submit a P.R. to the buidl library to support this\n",
    "virtual_to_sign_tx.tx_ins[0]._script_pubkey = script_pubkey\n",
    "virtual_to_sign_tx.tx_ins[0]._value = 0\n"
   ]
  },
  {
   "cell_type": "markdown",
   "id": "63a5cb7e",
   "metadata": {},
   "source": [
    "### 5.2 Sign the only tx_input\n",
    "\n",
    "Note: the tx_input is identified as the output from the to_spend transaction"
   ]
  },
  {
   "cell_type": "code",
   "execution_count": 22,
   "id": "52ae5d1c",
   "metadata": {},
   "outputs": [
    {
     "data": {
      "text/plain": [
       "True"
      ]
     },
     "execution_count": 22,
     "metadata": {},
     "output_type": "execute_result"
    }
   ],
   "source": [
    "# print(virtual_to_sign_tx.tx_ins[0]._script_pubkey)\n",
    "virtual_to_sign_tx.sign_input(0,private_key)"
   ]
  },
  {
   "cell_type": "code",
   "execution_count": 23,
   "id": "5a442ed5",
   "metadata": {},
   "outputs": [
    {
     "name": "stdout",
     "output_type": "stream",
     "text": [
      "Witness :  3044022004a59ea55271540152a988f07c9f35098b81ee00e5e7913c709bc28c7e8ba48e0220620246b02e5da7ff849b172923b9b2862deb15fb06dfad2bda163e28350f201501 02c7f12003196442943d8588e01aee840423cc54fc1521526a3b85c2b0cbd58872 \n"
     ]
    }
   ],
   "source": [
    "# Now the witness has been populated\n",
    "print(\"Witness : \", virtual_to_sign_tx.tx_ins[0].witness)"
   ]
  },
  {
   "cell_type": "code",
   "execution_count": 24,
   "id": "4e46fe09",
   "metadata": {},
   "outputs": [
    {
     "data": {
      "text/plain": [
       "True"
      ]
     },
     "execution_count": 24,
     "metadata": {},
     "output_type": "execute_result"
    }
   ],
   "source": [
    "virtual_to_sign_tx.verify_input(0)"
   ]
  },
  {
   "cell_type": "markdown",
   "id": "474bdd6d",
   "metadata": {},
   "source": [
    "## 6. Serialize the Witness and Base64 Encode\n",
    "\n",
    "From the BIP-0322:\n",
    "\n",
    "`A simple signature consists of a witness stack, consensus encoded as a vector of vectors of bytes, and base64-encoded. Validators should construct to_spend and to_sign as defined below, with default values for all fields except that`"
   ]
  },
  {
   "cell_type": "code",
   "execution_count": 25,
   "id": "fa9b82bf",
   "metadata": {},
   "outputs": [
    {
     "name": "stdout",
     "output_type": "stream",
     "text": [
      "Copy across this signature output and use it in the verification notebook: \n",
      "\n",
      "AkcwRAIgBKWepVJxVAFSqYjwfJ81CYuB7gDl55E8cJvCjH6LpI4CIGICRrAuXaf/hJsXKSO5soYt6xX7Bt+tK9oWPig1DyAVASECx/EgAxlkQpQ9hYjgGu6EBCPMVPwVIVJqO4XCsMvViHI=\n"
     ]
    }
   ],
   "source": [
    "from buidl.helper import base64_encode\n",
    "# \n",
    "bip322_signature = base64_encode(virtual_to_sign_tx.serialize_witness())\n",
    "print(\"Copy across this signature output and use it in the verification notebook: \\n\")\n",
    "print(bip322_signature)"
   ]
  },
  {
   "cell_type": "markdown",
   "id": "2b4153ec",
   "metadata": {},
   "source": [
    "## 7. Verify Signature against BIP 0322 Test Vector\n",
    "\n",
    "Test vector taken from BIP0322"
   ]
  },
  {
   "cell_type": "markdown",
   "id": "70201e7b",
   "metadata": {},
   "source": [
    "### NOTE: This currently does not pass. Submitted a P.R to update the BIP 0322 signature test vector as it is currently incorrect"
   ]
  },
  {
   "cell_type": "code",
   "execution_count": 26,
   "id": "94354b8d",
   "metadata": {},
   "outputs": [
    {
     "ename": "AssertionError",
     "evalue": "",
     "output_type": "error",
     "traceback": [
      "\u001b[0;31m---------------------------------------------------------------------------\u001b[0m",
      "\u001b[0;31mAssertionError\u001b[0m                            Traceback (most recent call last)",
      "Input \u001b[0;32mIn [26]\u001b[0m, in \u001b[0;36m<cell line: 2>\u001b[0;34m()\u001b[0m\n\u001b[1;32m      1\u001b[0m sig_test_vector \u001b[38;5;241m=\u001b[39m \u001b[38;5;124m'\u001b[39m\u001b[38;5;124mAkcwRAIgG3PASL/vRTgAqogWT6S8rUOQXNnfRzX6JncmbFlHc1ACIGQdsW+rnVmsQzyAYRQisHKFMigDmKiL7LUw4x17Fw5tASECx/EgAxlkQpQ9hYjgGu6EBCPMVPwVIVJqO4XCsMvViHI=\u001b[39m\u001b[38;5;124m'\u001b[39m\n\u001b[0;32m----> 2\u001b[0m \u001b[38;5;28;01massert\u001b[39;00m(sig_test_vector \u001b[38;5;241m==\u001b[39m bip322_signature)\n",
      "\u001b[0;31mAssertionError\u001b[0m: "
     ]
    }
   ],
   "source": [
    "sig_test_vector = 'AkcwRAIgG3PASL/vRTgAqogWT6S8rUOQXNnfRzX6JncmbFlHc1ACIGQdsW+rnVmsQzyAYRQisHKFMigDmKiL7LUw4x17Fw5tASECx/EgAxlkQpQ9hYjgGu6EBCPMVPwVIVJqO4XCsMvViHI='\n",
    "assert(sig_test_vector == bip322_signature)"
   ]
  },
  {
   "cell_type": "code",
   "execution_count": null,
   "id": "5e48135c",
   "metadata": {},
   "outputs": [],
   "source": [
    "btc_core_sig_test_vector = 'AkcwRAIgZRfIY3p7/DoVTty6YZbWS71bc5Vct9p9Fia83eRmw2QCICK/ENGfwLtptFluMGs2KsqoNSk89pO7F29zJLUx9a/sASECx/EgAxlkQpQ9hYjgGu6EBCPMVPwVIVJqO4XCsMvViHI='\n",
    "assert(btc_core_sig_test_vectore == bip322_signature)"
   ]
  },
  {
   "cell_type": "code",
   "execution_count": null,
   "id": "7c17ffd8",
   "metadata": {},
   "outputs": [],
   "source": []
  }
 ],
 "metadata": {
  "kernelspec": {
   "display_name": "Python 3",
   "language": "python",
   "name": "python3"
  },
  "language_info": {
   "codemirror_mode": {
    "name": "ipython",
    "version": 3
   },
   "file_extension": ".py",
   "mimetype": "text/x-python",
   "name": "python",
   "nbconvert_exporter": "python",
   "pygments_lexer": "ipython3",
   "version": "3.8.5"
  }
 },
 "nbformat": 4,
 "nbformat_minor": 5
}
