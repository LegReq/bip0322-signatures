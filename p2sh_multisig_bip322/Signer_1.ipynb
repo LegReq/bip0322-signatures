{
 "cells": [
  {
   "cell_type": "markdown",
   "id": "f206732a",
   "metadata": {},
   "source": [
    "# P2SH MultiSig BIP322\n",
    "## Role: Signer"
   ]
  },
  {
   "cell_type": "markdown",
   "id": "206f9b5b",
   "metadata": {},
   "source": [
    "## 1. Generate HD Key from mneumonic"
   ]
  },
  {
   "cell_type": "code",
   "execution_count": 1,
   "id": "b298a924",
   "metadata": {},
   "outputs": [],
   "source": [
    "from buidl.mnemonic import secure_mnemonic\n",
    "from buidl.hd import HDPrivateKey\n",
    "\n",
    "# mnemonic = secure_mnemonic()\n",
    "mnemonic = 'prison strike index fine dial melody melody gold noble possible any run range title lens quick visit annual clog ozone core tobacco abstract void'\n",
    "hd_root = HDPrivateKey.from_mnemonic(mnemonic)"
   ]
  },
  {
   "cell_type": "markdown",
   "id": "ed845561",
   "metadata": {},
   "source": [
    "## 2. Select Key to Sign With"
   ]
  },
  {
   "cell_type": "code",
   "execution_count": 2,
   "id": "6f90719f",
   "metadata": {},
   "outputs": [],
   "source": [
    "bip32_path = \"m/45'/0/0/3\"\n",
    "\n",
    "hd_priv_a = hd_root.traverse(bip32_path)\n",
    "pubkey = hd_priv_a.pub.point\n"
   ]
  },
  {
   "cell_type": "markdown",
   "id": "d5468183",
   "metadata": {},
   "source": [
    "## 3. Share Public Key with Creator\n",
    "\n",
    "The public key to include in a p2sh redeem script must be communicated to the creator of a BIP322 signature through some communication channel. This channel is out of scope.\n",
    "\n",
    "In this example we will copy a hex representation of the public key across to the [PSBT Creator notebook](http://localhost:8888/notebooks/p2sh_multisig_bip322/PSBT_creator.ipynb)"
   ]
  },
  {
   "cell_type": "code",
   "execution_count": 3,
   "id": "145e9a2b",
   "metadata": {},
   "outputs": [
    {
     "name": "stdout",
     "output_type": "stream",
     "text": [
      "Copy the below line into step 3 of the creator notebook \n",
      "\n",
      "signer_1_pubkey = '02fd5142d699b3bfaf2aa41e5a5dab6ff8ddfe03319048d49e365d0c63c366430b'\n"
     ]
    }
   ],
   "source": [
    "print(\"Copy the below line into step 3 of the creator notebook \\n\")\n",
    "print(f\"signer_1_pubkey = '{pubkey.sec().hex()}'\")"
   ]
  },
  {
   "cell_type": "markdown",
   "id": "5ac0edee",
   "metadata": {},
   "source": [
    "## 4. Recieve PSBT from Creator\n",
    "\n",
    "Some out of band communication mechanism"
   ]
  },
  {
   "cell_type": "code",
   "execution_count": 10,
   "id": "277070db",
   "metadata": {},
   "outputs": [],
   "source": [
    "# Copy from Creator notebook\n",
    "psbt_to_sign_base64 = 'cHNidP8BAEAAAAAAAAEBzXHx2jX5fH//mQtoE6/GhftCoKaWIyjPeHoGjZv7tWQAAAAAAAAAAAABAAAAAAAAAAABagAAAAAAAAEAeAAAAAAAAQEAAAAAAAAAAAAAAAAAAAAAAAAAAAAAAAAAAAAAAAAAAP////8iACA4E3j7MVlbnxgcxmUY+N1w459TuGihtX+nhDqV8uyuxQAAAAABAAAAAAAAAAAXqRTRdj7ago2+eug3TS1/tsM4GXCycocAAAAAAAEEaVIhAiiXxstvIpi3LgHjQSxwjb9zUT+Y5ycBQzUVwmDWP7yeIQL9UULWmbO/ryqkHlpdq2/43f4DMZBI1J42XQxjw2ZDCyEC+uXB9l+Tuy7o40ywy9pfD8ctGNlFEffbtagn43c+3ZJTriIGAiiXxstvIpi3LgHjQSxwjb9zUT+Y5ycBQzUVwmDWP7yeFHsF6hstAACAAAAAAAAAAAABAAAAAAA='"
   ]
  },
  {
   "cell_type": "code",
   "execution_count": 11,
   "id": "5c9f89b1",
   "metadata": {},
   "outputs": [
    {
     "name": "stdout",
     "output_type": "stream",
     "text": [
      "mismatch between length and consumed bytes 131 vs 127\n"
     ]
    }
   ],
   "source": [
    "from buidl.psbt import PSBT\n",
    "psbt_to_sign = PSBT.parse_base64(psbt_to_sign_base64)"
   ]
  },
  {
   "cell_type": "code",
   "execution_count": 12,
   "id": "15cfae78",
   "metadata": {},
   "outputs": [
    {
     "data": {
      "text/plain": [
       "\n",
       "Tx:\n",
       "\n",
       "tx: 9beadacd9baf9f68d6084be6862f42ae01953e2d6f9479b87fdae23538595f37\n",
       "version: 0\n",
       "locktime: 3316575474\n",
       "tx_ins:\n",
       "\n",
       "tx_outs:\n",
       "9005288144373927169:OP_[255] OP_[153] 6813afc685fb42a0a69623 cf787a068d9bfbb564000000000000000000010000000000000000016a0000000000000100780000 OP_0 OP_0 OP_0 01 OP_0 OP_0 OP_0 OP_0 OP_0 OP_0 OP_0 OP_0 OP_0 OP_0 OP_0 OP_0 OP_0 OP_0 OP_0 OP_0 OP_0 OP_0 OP_0 OP_0 OP_0 OP_0 OP_0 OP_0 OP_0 OP_0 OP_0 OP_0 OP_0 OP_0 OP_0 OP_0 OP_[255] OP_[255] OP_[255] OP_[255] 0020381378fb31595b9f181cc66518f8dd70e39f53b868a1b57fa7843a95 \n",
       "\n",
       "\n",
       "PSBT XPUBS:\n",
       "{}\n",
       "\n",
       "Psbt_Ins:\n",
       "[]\n",
       "\n",
       "Psbt_Outs:\n",
       "[\n",
       "TxOut:\n",
       "9005288144373927169:OP_[255] OP_[153] 6813afc685fb42a0a69623 cf787a068d9bfbb564000000000000000000010000000000000000016a0000000000000100780000 OP_0 OP_0 OP_0 01 OP_0 OP_0 OP_0 OP_0 OP_0 OP_0 OP_0 OP_0 OP_0 OP_0 OP_0 OP_0 OP_0 OP_0 OP_0 OP_0 OP_0 OP_0 OP_0 OP_0 OP_0 OP_0 OP_0 OP_0 OP_0 OP_0 OP_0 OP_0 OP_0 OP_0 OP_0 OP_0 OP_[255] OP_[255] OP_[255] OP_[255] 0020381378fb31595b9f181cc66518f8dd70e39f53b868a1b57fa7843a95 \n",
       "RedeemScript:\n",
       "None\n",
       "WitnessScript\n",
       "None\n",
       "PSBT Pubs:\n",
       "{}\n",
       "]\n",
       "\n",
       "Extra:\n",
       "{}"
      ]
     },
     "execution_count": 12,
     "metadata": {},
     "output_type": "execute_result"
    }
   ],
   "source": [
    "psbt_to_sign"
   ]
  },
  {
   "cell_type": "code",
   "execution_count": null,
   "id": "6fc6b1c8",
   "metadata": {},
   "outputs": [],
   "source": []
  }
 ],
 "metadata": {
  "kernelspec": {
   "display_name": "Python 3",
   "language": "python",
   "name": "python3"
  },
  "language_info": {
   "codemirror_mode": {
    "name": "ipython",
    "version": 3
   },
   "file_extension": ".py",
   "mimetype": "text/x-python",
   "name": "python",
   "nbconvert_exporter": "python",
   "pygments_lexer": "ipython3",
   "version": "3.8.5"
  }
 },
 "nbformat": 4,
 "nbformat_minor": 5
}
