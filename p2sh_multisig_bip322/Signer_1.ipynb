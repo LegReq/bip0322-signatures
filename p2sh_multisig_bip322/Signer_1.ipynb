{
 "cells": [
  {
   "cell_type": "markdown",
   "id": "f206732a",
   "metadata": {},
   "source": [
    "# P2SH MultiSig BIP322\n",
    "## Role: Signer"
   ]
  },
  {
   "cell_type": "markdown",
   "id": "206f9b5b",
   "metadata": {},
   "source": [
    "## 1. Generate HD Key from mneumonic"
   ]
  },
  {
   "cell_type": "code",
   "execution_count": 1,
   "id": "b298a924",
   "metadata": {},
   "outputs": [],
   "source": [
    "from buidl.mnemonic import secure_mnemonic\n",
    "from buidl.hd import HDPrivateKey\n",
    "\n",
    "# mnemonic = secure_mnemonic()\n",
    "mnemonic = 'prison strike index fine dial melody melody gold noble possible any run range title lens quick visit annual clog ozone core tobacco abstract void'\n",
    "hd_root = HDPrivateKey.from_mnemonic(mnemonic)"
   ]
  },
  {
   "cell_type": "code",
   "execution_count": 3,
   "id": "119abd91",
   "metadata": {},
   "outputs": [
    {
     "data": {
      "text/plain": [
       "'KzSRqnCVwjzY8id2X5oHEJWXkSHwKUYaAXusjwgkES8BuQPJnPNu'"
      ]
     },
     "execution_count": 3,
     "metadata": {},
     "output_type": "execute_result"
    }
   ],
   "source": [
    "hd_root.wif()"
   ]
  },
  {
   "cell_type": "markdown",
   "id": "ed845561",
   "metadata": {},
   "source": [
    "## 2. Select Key to Sign With"
   ]
  },
  {
   "cell_type": "code",
   "execution_count": 2,
   "id": "6f90719f",
   "metadata": {},
   "outputs": [],
   "source": [
    "bip32_path = \"m/45'/0/0/3\"\n",
    "\n",
    "signing_privkey = hd_root.traverse(bip32_path)\n",
    "signing_pubkey = signing_privkey.pub.point\n",
    "root_xfp = hd_root.fingerprint().hex()"
   ]
  },
  {
   "cell_type": "markdown",
   "id": "d5468183",
   "metadata": {},
   "source": [
    "## 3. Share Public Key with Creator\n",
    "\n",
    "The public key to include in a p2sh redeem script must be communicated to the creator of a BIP322 signature through some communication channel. This channel is out of scope.\n",
    "\n",
    "In this example we will copy a hex representation of the public key across to the [PSBT Creator notebook](http://localhost:8888/notebooks/p2sh_multisig_bip322/PSBT_creator.ipynb)"
   ]
  },
  {
   "cell_type": "code",
   "execution_count": 10,
   "id": "145e9a2b",
   "metadata": {},
   "outputs": [
    {
     "name": "stdout",
     "output_type": "stream",
     "text": [
      "Copy the below line into step 3 of the creator notebook \n",
      "\n",
      "signer_1_pubkey = '02fd5142d699b3bfaf2aa41e5a5dab6ff8ddfe03319048d49e365d0c63c366430b'\n"
     ]
    }
   ],
   "source": [
    "print(\"Copy the below line into step 3 of the creator notebook \\n\")\n",
    "print(f\"signer_1_pubkey = '{signing_pubkey.sec().hex()}'\")"
   ]
  },
  {
   "cell_type": "markdown",
   "id": "5ac0edee",
   "metadata": {},
   "source": [
    "## 4. Recieve PSBT from Creator\n",
    "\n",
    "Some out of band communication mechanism"
   ]
  },
  {
   "cell_type": "code",
   "execution_count": 5,
   "id": "277070db",
   "metadata": {},
   "outputs": [],
   "source": [
    "#### Copy from PSBT_Creator notebook Step 8. ######\n",
    "\n",
    "b64_psbt = 'cHNidP8BAD0AAAAAAc1x8do1+Xx//5kLaBOvxoX7QqCmliMoz3h6Bo2b+7VkAAAAAAAAAAAAAQAAAAAAAAAAAWoAAAAAAAEAeAAAAAAAAQEAAAAAAAAAAAAAAAAAAAAAAAAAAAAAAAAAAAAAAAAAAP////8iACA4E3j7MVlbnxgcxmUY+N1w459TuGihtX+nhDqV8uyuxQAAAAABAAAAAAAAAAAXqRTRdj7ago2+eug3TS1/tsM4GXCycocAAAAAAAEEaVIhAiiXxstvIpi3LgHjQSxwjb9zUT+Y5ycBQzUVwmDWP7yeIQL9UULWmbO/ryqkHlpdq2/43f4DMZBI1J42XQxjw2ZDCyEC+uXB9l+Tuy7o40ywy9pfD8ctGNlFEffbtagn43c+3ZJTriIGAiiXxstvIpi3LgHjQSxwjb9zUT+Y5ycBQzUVwmDWP7yeFHsF6hstAACAAAAAAAAAAAABAAAAAAA='"
   ]
  },
  {
   "cell_type": "code",
   "execution_count": 6,
   "id": "5c9f89b1",
   "metadata": {},
   "outputs": [],
   "source": [
    "from buidl.psbt import PSBT\n",
    "psbt_to_sign = PSBT.parse_base64(b64_psbt)"
   ]
  },
  {
   "cell_type": "markdown",
   "id": "9d5032f5",
   "metadata": {},
   "source": [
    "## 5. TODO: How does the signer Verify the Message that they are signing with this\n",
    "\n",
    "I assume they must be given the means to construct the to_spend transaction themselves and verify that this is referenced as the only input to the tx_obj in the PSBT"
   ]
  },
  {
   "cell_type": "markdown",
   "id": "1ab4c922",
   "metadata": {},
   "source": [
    "## 6. Update PSBT with pubkey"
   ]
  },
  {
   "cell_type": "code",
   "execution_count": 13,
   "id": "e4554781",
   "metadata": {},
   "outputs": [],
   "source": [
    "from buidl.psbt import NamedHDPublicKey\n",
    "\n",
    "pubkey_lookup = {}\n",
    "\n",
    "named_hd_pubkey_obj = NamedHDPublicKey.from_hd_pub(\n",
    "    child_hd_pub=signing_privkey.pub,\n",
    "    xfp_hex=root_xfp,\n",
    "    path=bip32_path,\n",
    ")\n",
    "# pubkey lookups needed for validation\n",
    "pubkey_lookup[named_hd_pubkey_obj.sec()] = named_hd_pubkey_obj"
   ]
  },
  {
   "cell_type": "code",
   "execution_count": 14,
   "id": "504fcfd2",
   "metadata": {},
   "outputs": [],
   "source": [
    "psbt_to_sign.update({}, pubkey_lookup)"
   ]
  },
  {
   "cell_type": "markdown",
   "id": "82215ac2",
   "metadata": {},
   "source": [
    "## 7. Sign the PSBT"
   ]
  },
  {
   "cell_type": "code",
   "execution_count": 15,
   "id": "b9d6dbed",
   "metadata": {},
   "outputs": [
    {
     "data": {
      "text/plain": [
       "True"
      ]
     },
     "execution_count": 15,
     "metadata": {},
     "output_type": "execute_result"
    }
   ],
   "source": [
    "psbt_to_sign.sign(hd_root)"
   ]
  },
  {
   "cell_type": "markdown",
   "id": "fb2d7a4b",
   "metadata": {},
   "source": [
    "## 8. Obfuscate Root Fingerprint \n",
    "\n",
    "This is optionally included for additional privacy"
   ]
  },
  {
   "cell_type": "code",
   "execution_count": 17,
   "id": "9200c42d",
   "metadata": {},
   "outputs": [],
   "source": [
    "xfp_map = {}\n",
    "xfp_map[root_xfp] = \"00000000\"\n",
    "psbt_to_sign.replace_root_xfps(xfp_map)"
   ]
  },
  {
   "cell_type": "markdown",
   "id": "24a9b169",
   "metadata": {},
   "source": [
    "## 9. Serialize Signed PSBT and Return to Creator\n",
    "\n",
    "Note: Communication channel out of band. We use copy and paste."
   ]
  },
  {
   "cell_type": "code",
   "execution_count": 18,
   "id": "b7c5cf49",
   "metadata": {},
   "outputs": [
    {
     "name": "stdout",
     "output_type": "stream",
     "text": [
      "Copy this VVVV \n",
      "\n",
      "\n",
      "signer_1_psbt_b64 = 'cHNidP8BAD0AAAAAAc1x8do1+Xx//5kLaBOvxoX7QqCmliMoz3h6Bo2b+7VkAAAAAAAAAAAAAQAAAAAAAAAAAWoAAAAAAAEAeAAAAAAAAQEAAAAAAAAAAAAAAAAAAAAAAAAAAAAAAAAAAAAAAAAAAP////8iACA4E3j7MVlbnxgcxmUY+N1w459TuGihtX+nhDqV8uyuxQAAAAABAAAAAAAAAAAXqRTRdj7ago2+eug3TS1/tsM4GXCycocAAAAAACICAv1RQtaZs7+vKqQeWl2rb/jd/gMxkEjUnjZdDGPDZkMLRzBEAiEAnqF2PrW8sM/5oVrfSpRlCatsF8TSSI45ti+3meo9LGwCH0is4oXB+V89FRxD/l7RESR0UdU/YYZ1SwyAN636w2UBAQRpUiECKJfGy28imLcuAeNBLHCNv3NRP5jnJwFDNRXCYNY/vJ4hAv1RQtaZs7+vKqQeWl2rb/jd/gMxkEjUnjZdDGPDZkMLIQL65cH2X5O7LujjTLDL2l8Pxy0Y2UUR99u1qCfjdz7dklOuIgYCKJfGy28imLcuAeNBLHCNv3NRP5jnJwFDNRXCYNY/vJ4UewXqGy0AAIAAAAAAAAAAAAEAAAAiBgL9UULWmbO/ryqkHlpdq2/43f4DMZBI1J42XQxjw2ZDCxQAAAAALQAAgAAAAAAAAAAAAwAAAAAA'\n"
     ]
    }
   ],
   "source": [
    "signer_1_psbt_b64 = psbt_to_sign.serialize_base64()\n",
    "print(\"Copy this VVVV \\n\\n\")\n",
    "print(f\"signer_1_psbt_b64 = '{signer_1_psbt_b64}'\")"
   ]
  },
  {
   "cell_type": "code",
   "execution_count": null,
   "id": "12b81bd0",
   "metadata": {},
   "outputs": [],
   "source": []
  }
 ],
 "metadata": {
  "kernelspec": {
   "display_name": "Python 3",
   "language": "python",
   "name": "python3"
  },
  "language_info": {
   "codemirror_mode": {
    "name": "ipython",
    "version": 3
   },
   "file_extension": ".py",
   "mimetype": "text/x-python",
   "name": "python",
   "nbconvert_exporter": "python",
   "pygments_lexer": "ipython3",
   "version": "3.8.5"
  }
 },
 "nbformat": 4,
 "nbformat_minor": 5
}
