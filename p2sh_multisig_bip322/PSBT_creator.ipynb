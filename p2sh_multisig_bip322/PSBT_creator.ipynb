{
 "cells": [
  {
   "cell_type": "markdown",
   "id": "cdac51b5",
   "metadata": {},
   "source": [
    "# P2SH MultiSig BIP322\n",
    "## Role: Creator / Updator (see role definitions [here](https://github.com/bitcoin/bips/blob/master/bip-0174.mediawiki#Roles))"
   ]
  },
  {
   "cell_type": "markdown",
   "id": "14f490c6",
   "metadata": {},
   "source": [
    "## Workflow diagram\n",
    "\n",
    "Taken from [BIP174: Partially Signed Bitcoin Transaction Format](https://github.com/bitcoin/bips/blob/master/bip-0174.mediawiki)\n",
    "\n",
    "<img src=\"https://github.com/bitcoin/bips/raw/master/bip-0174/multisig-workflow.svg\">\n"
   ]
  },
  {
   "cell_type": "code",
   "execution_count": 1,
   "id": "36e91285",
   "metadata": {},
   "outputs": [
    {
     "name": "stdout",
     "output_type": "stream",
     "text": [
      "/home/will/work/LegendaryRequirements/clients/dcd/bip0322-sigs\n"
     ]
    }
   ],
   "source": [
    "cd .."
   ]
  },
  {
   "cell_type": "markdown",
   "id": "22a914e4",
   "metadata": {},
   "source": [
    "## 1. Create HD Key from mnemonic\n",
    "\n",
    "Note: this would typically access some wallet\n",
    "\n",
    "See [BIP39](https://github.com/bitcoin/bips/blob/master/bip-0039.mediawiki) which desribes using mnemonics for derive a HD private key."
   ]
  },
  {
   "cell_type": "code",
   "execution_count": 2,
   "id": "94d315b1",
   "metadata": {},
   "outputs": [],
   "source": [
    "from buidl.mnemonic import secure_mnemonic\n",
    "from buidl.hd import HDPrivateKey\n"
   ]
  },
  {
   "cell_type": "code",
   "execution_count": 3,
   "id": "f543f046",
   "metadata": {},
   "outputs": [],
   "source": [
    "mnemonic = 'priority orange artist purpose sport blade spike leg calm renew dress figure session play solve fatal spy reform humble carry finger response order print'"
   ]
  },
  {
   "cell_type": "code",
   "execution_count": 4,
   "id": "93ea1c2b",
   "metadata": {},
   "outputs": [],
   "source": [
    "hd_rootkey = HDPrivateKey.from_mnemonic(mnemonic)\n",
    "\n",
    "root_fp = hd_rootkey.fingerprint().hex()"
   ]
  },
  {
   "cell_type": "markdown",
   "id": "0fa8efea",
   "metadata": {},
   "source": [
    "## 2. Select Key to Sign With\n",
    "\n",
    "See [BIP32](https://github.com/bitcoin/bips/blob/master/bip-0032.mediawiki) for more information about derivation paths."
   ]
  },
  {
   "cell_type": "code",
   "execution_count": 5,
   "id": "f7819367",
   "metadata": {},
   "outputs": [],
   "source": [
    "bip32_path = \"m/45'/0/0/1\"\n",
    "\n",
    "hd_priv_a = hd_rootkey.traverse(bip32_path)\n",
    "pubkey = hd_priv_a.pub.point\n"
   ]
  },
  {
   "cell_type": "markdown",
   "id": "ba459e6b",
   "metadata": {},
   "source": [
    "## 3. Fetch Other Signing Parties Public Keys\n",
    "\n",
    "See [signer_1](./Signer_1.ipynb) and [signer_2](./Signer_2.ipynb) notebooks steps 1 to 3.\n",
    "\n",
    "Note: the PSBT_creator needs to have a secure communication channel with the signers."
   ]
  },
  {
   "cell_type": "code",
   "execution_count": 6,
   "id": "5b4d4b18",
   "metadata": {},
   "outputs": [],
   "source": [
    "signer_1_pubkey = '02fd5142d699b3bfaf2aa41e5a5dab6ff8ddfe03319048d49e365d0c63c366430b'\n",
    "signer_2_pubkey = '02fae5c1f65f93bb2ee8e34cb0cbda5f0fc72d18d94511f7dbb5a827e3773edd92'\n"
   ]
  },
  {
   "cell_type": "markdown",
   "id": "5c0f3506",
   "metadata": {},
   "source": [
    "## 4. Create 2-of-3 MultiSig Pay-to-Script Hash\n",
    "\n",
    "Note: This p2sh_address would likely be something that the signers would want to include in a DID Document.\n",
    "\n",
    "A p2sh address and associated redeem script is defined in [BIP16](https://github.com/bitcoin/bips/blob/master/bip-0016.mediawiki)"
   ]
  },
  {
   "cell_type": "code",
   "execution_count": 7,
   "id": "4e72a861",
   "metadata": {},
   "outputs": [],
   "source": [
    "from buidl.script import RedeemScript\n",
    "\n",
    "# YOU COULD CHANGE THIS\n",
    "quorum_m=2\n",
    "\n",
    "redeem_script = RedeemScript.create_p2sh_multisig(\n",
    "            quorum_m=quorum_m,\n",
    "            pubkey_hexes=[pubkey.sec().hex(),signer_1_pubkey,signer_2_pubkey],\n",
    "            sort_keys=False,\n",
    "        )\n",
    "\n",
    "\n",
    "script_pubkey = redeem_script.script_pubkey()\n",
    "p2sh_address = redeem_script.address()"
   ]
  },
  {
   "cell_type": "code",
   "execution_count": 8,
   "id": "c7d59fb6",
   "metadata": {},
   "outputs": [
    {
     "name": "stdout",
     "output_type": "stream",
     "text": [
      "The BIP322 to_spend tx will be `locked` with a script_pubkey with the following address :  3LnYoUkFrhyYP3V7rq3mhpwALz1XbCY9Uq\n"
     ]
    }
   ],
   "source": [
    "print(\"The BIP322 to_spend tx will be `locked` with a script_pubkey with the following address : \", p2sh_address)"
   ]
  },
  {
   "cell_type": "markdown",
   "id": "3b146e0a",
   "metadata": {},
   "source": [
    "## 5. Create the virtual to_spend transaction locked with the p2sh_multisig\n",
    "\n",
    "BIP 0322 defines the structure of this transaction as follows:\n",
    "\n",
    "```python\n",
    "    nVersion = 0\n",
    "    nLockTime = 0\n",
    "    vin[0].prevout.hash = 0000...000\n",
    "    vin[0].prevout.n = 0xFFFFFFFF\n",
    "    vin[0].nSequence = 0\n",
    "    vin[0].scriptSig = OP_0 PUSH32[ message_hash ]\n",
    "    vin[0].scriptWitness = []\n",
    "    vout[0].nValue = 0\n",
    "    vout[0].scriptPubKey = message_challenge\n",
    "```\n",
    "\n",
    "The message_challenge is the above 2-3 p2sh scriptPubKey"
   ]
  },
  {
   "cell_type": "code",
   "execution_count": 9,
   "id": "29338909",
   "metadata": {},
   "outputs": [],
   "source": [
    "from src.message import create_to_spend_tx\n",
    "\n",
    "## You could change this\n",
    "message_to_sign = \"This will be a p2sh 2-of-3 multisig BIP 322 signed message\"\n",
    "\n",
    "to_spend_tx = create_to_spend_tx(p2sh_address, message_to_sign)"
   ]
  },
  {
   "cell_type": "markdown",
   "id": "de6ca82c",
   "metadata": {},
   "source": [
    "## 6. Create PSBT to_sign transaction\n",
    "\n",
    "The Partially Signed Bitcoin Transaction (PSBT) format consists of key-value maps. Each map consists of a sequence of key-value records, terminated by a 0x00 byte\n",
    "\n",
    "```\n",
    " <psbt> := <magic> <global-map> <input-map>* <output-map>*\n",
    " <magic> := 0x70 0x73 0x62 0x74 0xFF\n",
    " <global-map> := <keypair>* 0x00\n",
    " <input-map> := <keypair>* 0x00\n",
    " <output-map> := <keypair>* 0x00\n",
    " <keypair> := <key> <value>\n",
    " <key> := <keylen> <keytype> <keydata>\n",
    " <value> := <valuelen> <valuedata>\n",
    " ```\n",
    "\n",
    "Taken from [BIP174 Specification](https://github.com/bitcoin/bips/blob/master/bip-0174.mediawiki#specification), view for more details"
   ]
  },
  {
   "cell_type": "markdown",
   "id": "4553e669",
   "metadata": {},
   "source": [
    "### 6.1 Create the to_sign Tx using the existing function for bip322 defined in [message.py](../../edit/src/message.py)"
   ]
  },
  {
   "cell_type": "code",
   "execution_count": 11,
   "id": "e698f2ca",
   "metadata": {},
   "outputs": [],
   "source": [
    "from src.message import create_to_sign_tx\n",
    "\n",
    "to_sign_tx = create_to_sign_tx(to_spend_tx.hash())\n",
    "\n",
    "# NOTE: This is a bug in the current create_to_sign_tx function\n",
    "# It SHOULD be able to know if it is a segwit transaction or not\n",
    "to_sign_tx.segwit = False"
   ]
  },
  {
   "cell_type": "markdown",
   "id": "50223637",
   "metadata": {},
   "source": [
    "### 6.2 Create PSBT from the to_sign_tx object"
   ]
  },
  {
   "cell_type": "code",
   "execution_count": 12,
   "id": "270b08cd",
   "metadata": {},
   "outputs": [],
   "source": [
    "from buidl.psbt_helper import create_multisig_psbt\n",
    "from buidl.psbt import PSBT\n",
    "\n",
    "fee = 0\n",
    "# psbt_to_sign_bip322 = create_multisig_psbt(pubkey_records,input_dicts,output_dicts,fee)\n",
    "psbt_to_sign_bip322 = PSBT.create(to_sign_tx)"
   ]
  },
  {
   "cell_type": "markdown",
   "id": "81b6b701",
   "metadata": {},
   "source": [
    "### 6.3 Validate PSBT correctly created"
   ]
  },
  {
   "cell_type": "code",
   "execution_count": 13,
   "id": "e9ac80df",
   "metadata": {},
   "outputs": [
    {
     "data": {
      "text/plain": [
       "True"
      ]
     },
     "execution_count": 13,
     "metadata": {},
     "output_type": "execute_result"
    }
   ],
   "source": [
    "psbt_to_sign_bip322.validate()"
   ]
  },
  {
   "cell_type": "code",
   "execution_count": 16,
   "id": "a8f0a746",
   "metadata": {},
   "outputs": [
    {
     "name": "stdout",
     "output_type": "stream",
     "text": [
      "\n",
      "Tx:\n",
      "\n",
      "tx: 9723b96cd3d5b4af6c93ca302268ff92bf35933fbaee8662a2b465b854ebba99\n",
      "version: 0\n",
      "locktime: 0\n",
      "tx_ins:\n",
      "64b5fb9b8d067a78cf282396a6a042fb85c6af13680b99ff7f7cf935daf171cd:0\n",
      "tx_outs:\n",
      "0:OP_RETURN \n",
      "\n",
      "\n",
      "PSBT XPUBS:\n",
      "{}\n",
      "\n",
      "Psbt_Ins:\n",
      "[\n",
      "TxIn:\n",
      "64b5fb9b8d067a78cf282396a6a042fb85c6af13680b99ff7f7cf935daf171cd:0\n",
      "Prev Tx:\n",
      "None\n",
      "Prev Output:\n",
      "None\n",
      "Sigs:\n",
      "{}\n",
      "RedeemScript:\n",
      "None\n",
      "WitnessScript:\n",
      "None\n",
      "PSBT Pubs:\n",
      "{}\n",
      "ScriptSig:\n",
      "None\n",
      "Witness:\n",
      "None\n",
      "]\n",
      "\n",
      "Psbt_Outs:\n",
      "[\n",
      "TxOut:\n",
      "0:OP_RETURN \n",
      "RedeemScript:\n",
      "None\n",
      "WitnessScript\n",
      "None\n",
      "PSBT Pubs:\n",
      "{}\n",
      "]\n",
      "\n",
      "Extra:\n",
      "{}\n",
      "\n"
     ]
    }
   ],
   "source": [
    "# Notice the PSBT Ins and PSBT_Outs reflect the TX object with some additional (currently empty) fields\n",
    "print(psbt_to_sign_bip322)"
   ]
  },
  {
   "cell_type": "markdown",
   "id": "42e225df",
   "metadata": {},
   "source": [
    "## 7. Update PSBT with data know by Creator\n",
    "\n",
    "This includes:\n",
    "    \n",
    "- A lookup for the to_spend_tx referenced as an input to the to_sign_tx\n",
    "- A lookup for creators HD Public key that is part of the p2sh multisig\n",
    "- A lookup for the redeemscript associated with the p2sh multsig stored in the scriptPubKey of the TxOut for the to_spend_tx\n",
    "\n",
    "\n",
    "The creator is now acting in the role of the updater (see [updater role in BIP174](https://github.com/bitcoin/bips/blob/master/bip-0174.mediawiki#updater))"
   ]
  },
  {
   "cell_type": "markdown",
   "id": "48e72526",
   "metadata": {},
   "source": [
    "### 7.1 Define the tx lookup\n",
    "\n",
    "This is a map of a transaction has to the actual transaction object"
   ]
  },
  {
   "cell_type": "code",
   "execution_count": 17,
   "id": "ee85e881",
   "metadata": {},
   "outputs": [],
   "source": [
    "tx_lookup = {}\n",
    "\n",
    "tx_lookup[to_spend_tx.hash()] = to_spend_tx"
   ]
  },
  {
   "cell_type": "markdown",
   "id": "348fbbea",
   "metadata": {},
   "source": [
    "### 7.2 Define a pubkey_lookup\n",
    "\n",
    "This maps from the sec representation of a S256Point to a NamedHDPublicKey object.\n",
    "\n",
    "Note: a NamedHDPublicKey is a HDPublicKey with additioanl raw path data for the fingerprint of the root HDPublicKey and the derivation path from that root."
   ]
  },
  {
   "cell_type": "code",
   "execution_count": 18,
   "id": "a8e5af43",
   "metadata": {},
   "outputs": [],
   "source": [
    "from buidl.psbt import NamedHDPublicKey\n",
    "\n",
    "pubkey_lookup = {}\n",
    "\n",
    "named_hd_pubkey_obj = NamedHDPublicKey.from_hd_pub(\n",
    "    child_hd_pub=hd_priv_a.pub,\n",
    "    xfp_hex=root_fp,\n",
    "    path=bip32_path,\n",
    ")\n",
    "# pubkey lookups needed for validation\n",
    "pubkey_lookup[named_hd_pubkey_obj.sec()] = named_hd_pubkey_obj"
   ]
  },
  {
   "cell_type": "markdown",
   "id": "8218f6c6",
   "metadata": {},
   "source": [
    "### 7.3 Define redeem_lookup\n",
    "\n",
    "This is a map from a hash160 of a redeem script to the actual redeem script"
   ]
  },
  {
   "cell_type": "code",
   "execution_count": 19,
   "id": "6974a304",
   "metadata": {},
   "outputs": [],
   "source": [
    "redeem_lookup = {}\n",
    "redeem_lookup[redeem_script.hash160()] = redeem_script"
   ]
  },
  {
   "cell_type": "code",
   "execution_count": 20,
   "id": "d9293cbd",
   "metadata": {},
   "outputs": [],
   "source": [
    "# This is not set until after the update\n",
    "psbt_to_sign_bip322.tx_obj.tx_ins[0]._script_pubkey"
   ]
  },
  {
   "cell_type": "code",
   "execution_count": 21,
   "id": "7742b07f",
   "metadata": {},
   "outputs": [],
   "source": [
    "psbt_to_sign_bip322.update(tx_lookup,pubkey_lookup,redeem_lookup)"
   ]
  },
  {
   "cell_type": "code",
   "execution_count": 22,
   "id": "2b9b92e2",
   "metadata": {},
   "outputs": [
    {
     "data": {
      "text/plain": [
       "OP_HASH160 d1763eda828dbe7ae8374d2d7fb6c3381970b272 OP_EQUAL "
      ]
     },
     "execution_count": 22,
     "metadata": {},
     "output_type": "execute_result"
    }
   ],
   "source": [
    "# As you can see update populates the scriptPubKey from the to_spend transaction into the tx_obj in the PSBT \n",
    "# (the to_sign obj)\n",
    "psbt_to_sign_bip322.tx_obj.tx_ins[0]._script_pubkey"
   ]
  },
  {
   "cell_type": "markdown",
   "id": "fef9a632",
   "metadata": {},
   "source": [
    "## 8. Serialize and Share PSBT with Other Signing Parties\n",
    "\n",
    "See "
   ]
  },
  {
   "cell_type": "code",
   "execution_count": 23,
   "id": "a8897606",
   "metadata": {},
   "outputs": [
    {
     "name": "stdout",
     "output_type": "stream",
     "text": [
      "Copy this vvv \n",
      "\n",
      "\n",
      "b64_psbt = 'cHNidP8BAD0AAAAAAc1x8do1+Xx//5kLaBOvxoX7QqCmliMoz3h6Bo2b+7VkAAAAAAAAAAAAAQAAAAAAAAAAAWoAAAAAAAEAeAAAAAAAAQEAAAAAAAAAAAAAAAAAAAAAAAAAAAAAAAAAAAAAAAAAAP////8iACA4E3j7MVlbnxgcxmUY+N1w459TuGihtX+nhDqV8uyuxQAAAAABAAAAAAAAAAAXqRTRdj7ago2+eug3TS1/tsM4GXCycocAAAAAAAEEaVIhAiiXxstvIpi3LgHjQSxwjb9zUT+Y5ycBQzUVwmDWP7yeIQL9UULWmbO/ryqkHlpdq2/43f4DMZBI1J42XQxjw2ZDCyEC+uXB9l+Tuy7o40ywy9pfD8ctGNlFEffbtagn43c+3ZJTriIGAiiXxstvIpi3LgHjQSxwjb9zUT+Y5ycBQzUVwmDWP7yeFHsF6hstAACAAAAAAAAAAAABAAAAAAA='\n"
     ]
    }
   ],
   "source": [
    "from io import BytesIO\n",
    "\n",
    "b64_psbt = psbt_to_sign_bip322.serialize_base64()\n",
    "\n",
    "print(\"Copy this vvv \\n\\n\")\n",
    "\n",
    "print(f\"b64_psbt = '{b64_psbt}'\")"
   ]
  },
  {
   "cell_type": "markdown",
   "id": "c3333471",
   "metadata": {},
   "source": [
    "## 9. Recieve Signed PSBTs from Signer 1 and Signer 2 Notebooks\n",
    "\n",
    "Note: in this case the 2-3 multisig is satisfied from signatures provided by signer_1 and signer_2. The Creator has no contributed a signature.\n",
    "\n",
    "You could easily change this notebook so that it is the creator's signature plus one of the signers that satisfy the p2sh multisig instead though."
   ]
  },
  {
   "cell_type": "code",
   "execution_count": 24,
   "id": "945b27a8",
   "metadata": {},
   "outputs": [],
   "source": [
    "# Copy this from signer_1.ipynb\n",
    "\n",
    "signer_1_psbt_b64 = 'cHNidP8BAD0AAAAAAc1x8do1+Xx//5kLaBOvxoX7QqCmliMoz3h6Bo2b+7VkAAAAAAAAAAAAAQAAAAAAAAAAAWoAAAAAAAEAeAAAAAAAAQEAAAAAAAAAAAAAAAAAAAAAAAAAAAAAAAAAAAAAAAAAAP////8iACA4E3j7MVlbnxgcxmUY+N1w459TuGihtX+nhDqV8uyuxQAAAAABAAAAAAAAAAAXqRTRdj7ago2+eug3TS1/tsM4GXCycocAAAAAACICAv1RQtaZs7+vKqQeWl2rb/jd/gMxkEjUnjZdDGPDZkMLRzBEAiEAnqF2PrW8sM/5oVrfSpRlCatsF8TSSI45ti+3meo9LGwCH0is4oXB+V89FRxD/l7RESR0UdU/YYZ1SwyAN636w2UBAQRpUiECKJfGy28imLcuAeNBLHCNv3NRP5jnJwFDNRXCYNY/vJ4hAv1RQtaZs7+vKqQeWl2rb/jd/gMxkEjUnjZdDGPDZkMLIQL65cH2X5O7LujjTLDL2l8Pxy0Y2UUR99u1qCfjdz7dklOuIgYCKJfGy28imLcuAeNBLHCNv3NRP5jnJwFDNRXCYNY/vJ4UewXqGy0AAIAAAAAAAAAAAAEAAAAiBgL9UULWmbO/ryqkHlpdq2/43f4DMZBI1J42XQxjw2ZDCxQAAAAALQAAgAAAAAAAAAAAAwAAAAAA'"
   ]
  },
  {
   "cell_type": "code",
   "execution_count": 25,
   "id": "e08126ac",
   "metadata": {},
   "outputs": [],
   "source": [
    "signer_1_psbt = PSBT.parse_base64(signer_1_psbt_b64)"
   ]
  },
  {
   "cell_type": "code",
   "execution_count": 26,
   "id": "1d006f02",
   "metadata": {},
   "outputs": [],
   "source": [
    "# Copy this from signer_2.ipynb\n",
    "\n",
    "signer_2_psbt_b64 = 'cHNidP8BAD0AAAAAAc1x8do1+Xx//5kLaBOvxoX7QqCmliMoz3h6Bo2b+7VkAAAAAAAAAAAAAQAAAAAAAAAAAWoAAAAAAAEAeAAAAAAAAQEAAAAAAAAAAAAAAAAAAAAAAAAAAAAAAAAAAAAAAAAAAP////8iACA4E3j7MVlbnxgcxmUY+N1w459TuGihtX+nhDqV8uyuxQAAAAABAAAAAAAAAAAXqRTRdj7ago2+eug3TS1/tsM4GXCycocAAAAAACICAvrlwfZfk7su6ONMsMvaXw/HLRjZRRH327WoJ+N3Pt2SRzBEAiAfd5b9XIUOhe8Jqx3yrGDCPk0NWjTB5e8zqrIZcsJHlgIgTCNsRXp9LpFY/pCwo5wzC+UavX9KB0ILqlbh4fzv9iABAQRpUiECKJfGy28imLcuAeNBLHCNv3NRP5jnJwFDNRXCYNY/vJ4hAv1RQtaZs7+vKqQeWl2rb/jd/gMxkEjUnjZdDGPDZkMLIQL65cH2X5O7LujjTLDL2l8Pxy0Y2UUR99u1qCfjdz7dklOuIgYCKJfGy28imLcuAeNBLHCNv3NRP5jnJwFDNRXCYNY/vJ4UewXqGy0AAIAAAAAAAAAAAAEAAAAiBgL65cH2X5O7LujjTLDL2l8Pxy0Y2UUR99u1qCfjdz7dkhQAHQ2eLQAAgAAAAAAAAAAABgAAAAAA'\n"
   ]
  },
  {
   "cell_type": "code",
   "execution_count": 27,
   "id": "14a6fd32",
   "metadata": {},
   "outputs": [],
   "source": [
    "signer_2_psbt = PSBT.parse_base64(signer_2_psbt_b64)"
   ]
  },
  {
   "cell_type": "markdown",
   "id": "3b45aa33",
   "metadata": {},
   "source": [
    "## 10. Combine PSBTs \n",
    "\n",
    "The creator is now acting in the role of the combiner (see [combiner role in BIP174](https://github.com/bitcoin/bips/blob/master/bip-0174.mediawiki#combiner))"
   ]
  },
  {
   "cell_type": "code",
   "execution_count": 28,
   "id": "5bd07783",
   "metadata": {},
   "outputs": [
    {
     "data": {
      "text/plain": [
       "1"
      ]
     },
     "execution_count": 28,
     "metadata": {},
     "output_type": "execute_result"
    }
   ],
   "source": [
    "# Before combination the single PSBT_In in the PSBT only has a single sig\n",
    "len(signer_1_psbt.psbt_ins[0].sigs)"
   ]
  },
  {
   "cell_type": "code",
   "execution_count": 29,
   "id": "40ec3689",
   "metadata": {},
   "outputs": [],
   "source": [
    "signer_1_psbt.combine(signer_2_psbt)"
   ]
  },
  {
   "cell_type": "code",
   "execution_count": 30,
   "id": "6dcdfa9b",
   "metadata": {},
   "outputs": [
    {
     "data": {
      "text/plain": [
       "2"
      ]
     },
     "execution_count": 30,
     "metadata": {},
     "output_type": "execute_result"
    }
   ],
   "source": [
    "# Afterwards there are two signatures\n",
    "len(signer_1_psbt.psbt_ins[0].sigs)"
   ]
  },
  {
   "cell_type": "markdown",
   "id": "2f308c3f",
   "metadata": {},
   "source": [
    "## 11. Finalize the PSBT to produce the scriptSig on the PSBT Input from the sigs\n",
    "\n",
    "The creator is now acting in the role of the `input finalizer` (see [input finalizer role in BIP174](https://github.com/bitcoin/bips/blob/master/bip-0174.mediawiki#input-finalizer))"
   ]
  },
  {
   "cell_type": "code",
   "execution_count": 33,
   "id": "accf775a",
   "metadata": {},
   "outputs": [
    {
     "data": {
      "text/plain": [
       "OP_0 30440221009ea1763eb5bcb0cff9a15adf4a946509ab6c17c4d2488e39b62fb799ea3d2c6c021f48ace285c1f95f3d151c43fe5ed111247451d53f6186754b0c8037adfac36501 304402201f7796fd5c850e85ef09ab1df2ac60c23e4d0d5a34c1e5ef33aab21972c2479602204c236c457a7d2e9158fe90b0a39c330be51abd7f4a07420baa56e1e1fceff62001 5221022897c6cb6f2298b72e01e3412c708dbf73513f98e72701433515c260d63fbc9e2102fd5142d699b3bfaf2aa41e5a5dab6ff8ddfe03319048d49e365d0c63c366430b2102fae5c1f65f93bb2ee8e34cb0cbda5f0fc72d18d94511f7dbb5a827e3773edd9253ae "
      ]
     },
     "execution_count": 33,
     "metadata": {},
     "output_type": "execute_result"
    }
   ],
   "source": [
    "# ScriptSig not populated until after finalization\n",
    "signer_1_psbt.psbt_ins[0].script_sig"
   ]
  },
  {
   "cell_type": "code",
   "execution_count": 34,
   "id": "6946548e",
   "metadata": {},
   "outputs": [
    {
     "ename": "RuntimeError",
     "evalue": "Cannot finalize p2sh without a RedeemScript",
     "output_type": "error",
     "traceback": [
      "\u001b[0;31m---------------------------------------------------------------------------\u001b[0m",
      "\u001b[0;31mRuntimeError\u001b[0m                              Traceback (most recent call last)",
      "Input \u001b[0;32mIn [34]\u001b[0m, in \u001b[0;36m<cell line: 1>\u001b[0;34m()\u001b[0m\n\u001b[0;32m----> 1\u001b[0m \u001b[43msigner_1_psbt\u001b[49m\u001b[38;5;241;43m.\u001b[39;49m\u001b[43mfinalize\u001b[49m\u001b[43m(\u001b[49m\u001b[43m)\u001b[49m\n",
      "File \u001b[0;32m~/work/LegendaryRequirements/clients/dcd/DCD_repo/btcr/bip0322-sigs/venv/lib/python3.8/site-packages/buidl/psbt.py:515\u001b[0m, in \u001b[0;36mPSBT.finalize\u001b[0;34m(self)\u001b[0m\n\u001b[1;32m    512\u001b[0m \u001b[38;5;66;03m# iterate through the inputs\u001b[39;00m\n\u001b[1;32m    513\u001b[0m \u001b[38;5;28;01mfor\u001b[39;00m psbt_in \u001b[38;5;129;01min\u001b[39;00m \u001b[38;5;28mself\u001b[39m\u001b[38;5;241m.\u001b[39mpsbt_ins:\n\u001b[1;32m    514\u001b[0m     \u001b[38;5;66;03m# finalize each input\u001b[39;00m\n\u001b[0;32m--> 515\u001b[0m     \u001b[43mpsbt_in\u001b[49m\u001b[38;5;241;43m.\u001b[39;49m\u001b[43mfinalize\u001b[49m\u001b[43m(\u001b[49m\u001b[43m)\u001b[49m\n",
      "File \u001b[0;32m~/work/LegendaryRequirements/clients/dcd/DCD_repo/btcr/bip0322-sigs/venv/lib/python3.8/site-packages/buidl/psbt.py:1534\u001b[0m, in \u001b[0;36mPSBTIn.finalize\u001b[0;34m(self)\u001b[0m\n\u001b[1;32m   1531\u001b[0m \u001b[38;5;28;01mif\u001b[39;00m script_pubkey\u001b[38;5;241m.\u001b[39mis_p2sh():\n\u001b[1;32m   1532\u001b[0m     \u001b[38;5;66;03m# make sure there's a RedeemScript\u001b[39;00m\n\u001b[1;32m   1533\u001b[0m     \u001b[38;5;28;01mif\u001b[39;00m \u001b[38;5;129;01mnot\u001b[39;00m \u001b[38;5;28mself\u001b[39m\u001b[38;5;241m.\u001b[39mredeem_script:\n\u001b[0;32m-> 1534\u001b[0m         \u001b[38;5;28;01mraise\u001b[39;00m \u001b[38;5;167;01mRuntimeError\u001b[39;00m(\u001b[38;5;124m\"\u001b[39m\u001b[38;5;124mCannot finalize p2sh without a RedeemScript\u001b[39m\u001b[38;5;124m\"\u001b[39m)\n\u001b[1;32m   1535\u001b[0m \u001b[38;5;66;03m# Exercise 6: if p2wpkh or p2sh-p2wpkh\u001b[39;00m\n\u001b[1;32m   1536\u001b[0m \u001b[38;5;28;01mif\u001b[39;00m script_pubkey\u001b[38;5;241m.\u001b[39mis_p2wpkh() \u001b[38;5;129;01mor\u001b[39;00m (\n\u001b[1;32m   1537\u001b[0m     \u001b[38;5;28mself\u001b[39m\u001b[38;5;241m.\u001b[39mredeem_script \u001b[38;5;129;01mand\u001b[39;00m \u001b[38;5;28mself\u001b[39m\u001b[38;5;241m.\u001b[39mredeem_script\u001b[38;5;241m.\u001b[39mis_p2wpkh()\n\u001b[1;32m   1538\u001b[0m ):\n\u001b[1;32m   1539\u001b[0m     \u001b[38;5;66;03m# check to see that we have exactly 1 signature\u001b[39;00m\n",
      "\u001b[0;31mRuntimeError\u001b[0m: Cannot finalize p2sh without a RedeemScript"
     ]
    }
   ],
   "source": [
    "signer_1_psbt.finalize()"
   ]
  },
  {
   "cell_type": "markdown",
   "id": "a30016b5",
   "metadata": {},
   "source": [
    "## 12. Create Final Bitcoin Tx Object from PSBT\n",
    "\n",
    "The creator is now acting in the role of `transaction extractor` (see [definition](https://github.com/bitcoin/bips/blob/master/bip-0174.mediawiki#transaction-extractor))"
   ]
  },
  {
   "cell_type": "code",
   "execution_count": 35,
   "id": "189b368c",
   "metadata": {},
   "outputs": [
    {
     "name": "stdout",
     "output_type": "stream",
     "text": [
      "This transaction won't relay without having a fee of at least 313\n"
     ]
    },
    {
     "ename": "RuntimeError",
     "evalue": "transaction invalid",
     "output_type": "error",
     "traceback": [
      "\u001b[0;31m---------------------------------------------------------------------------\u001b[0m",
      "\u001b[0;31mRuntimeError\u001b[0m                              Traceback (most recent call last)",
      "Input \u001b[0;32mIn [35]\u001b[0m, in \u001b[0;36m<cell line: 3>\u001b[0;34m()\u001b[0m\n\u001b[1;32m      1\u001b[0m \u001b[38;5;66;03m# Remember: currently the final_tx() function on the PSBT fails because there are no funds for a tx fee\u001b[39;00m\n\u001b[1;32m      2\u001b[0m \u001b[38;5;66;03m# BUT for a bip322 we don't need any fee\u001b[39;00m\n\u001b[0;32m----> 3\u001b[0m \u001b[43msigner_1_psbt\u001b[49m\u001b[38;5;241;43m.\u001b[39;49m\u001b[43mfinal_tx\u001b[49m\u001b[43m(\u001b[49m\u001b[43m)\u001b[49m\n",
      "File \u001b[0;32m~/work/LegendaryRequirements/clients/dcd/DCD_repo/btcr/bip0322-sigs/venv/lib/python3.8/site-packages/buidl/psbt.py:536\u001b[0m, in \u001b[0;36mPSBT.final_tx\u001b[0;34m(self)\u001b[0m\n\u001b[1;32m    534\u001b[0m \u001b[38;5;66;03m# check to see that the transaction verifies\u001b[39;00m\n\u001b[1;32m    535\u001b[0m \u001b[38;5;28;01mif\u001b[39;00m \u001b[38;5;129;01mnot\u001b[39;00m tx_obj\u001b[38;5;241m.\u001b[39mverify():\n\u001b[0;32m--> 536\u001b[0m     \u001b[38;5;28;01mraise\u001b[39;00m \u001b[38;5;167;01mRuntimeError\u001b[39;00m(\u001b[38;5;124m\"\u001b[39m\u001b[38;5;124mtransaction invalid\u001b[39m\u001b[38;5;124m\"\u001b[39m)\n\u001b[1;32m    537\u001b[0m \u001b[38;5;66;03m# return the now filled in transaction\u001b[39;00m\n\u001b[1;32m    538\u001b[0m \u001b[38;5;28;01mreturn\u001b[39;00m tx_obj\n",
      "\u001b[0;31mRuntimeError\u001b[0m: transaction invalid"
     ]
    }
   ],
   "source": [
    "# Remember: currently the final_tx() function on the PSBT fails because there are no funds for a tx fee\n",
    "# BUT for a bip322 we don't need any fee\n",
    "signer_1_psbt.final_tx()"
   ]
  },
  {
   "cell_type": "code",
   "execution_count": 36,
   "id": "a1bd1447",
   "metadata": {},
   "outputs": [],
   "source": [
    "## Proposed update to the final_tx function in psbt.py\n",
    "\n",
    "def final_tx(psbt, is_bip322=False):\n",
    "        \"\"\"Returns the broadcast-able transaction\"\"\"\n",
    "        # clone the transaction from self.tx_obj\n",
    "        tx_obj = psbt.tx_obj.clone()\n",
    "        # determine if the transaction is segwit by looking for a witness field\n",
    "        #  in any PSBTIn. if so, set tx_obj.segwit = True\n",
    "        if any([psbt_in.witness for psbt_in in psbt.psbt_ins]):\n",
    "            tx_obj.segwit = True\n",
    "        # iterate through the transaction and PSBT inputs together\n",
    "        #  using zip(tx_obj.tx_ins, self.psbt_ins)\n",
    "        for tx_in, psbt_in in zip(tx_obj.tx_ins, psbt.psbt_ins):\n",
    "            # set the ScriptSig of the transaction input\n",
    "            tx_in.script_sig = psbt_in.script_sig\n",
    "            # Exercise 7: if the tx is segwit, set the witness as well\n",
    "            if tx_obj.segwit:\n",
    "                # witness should be the PSBTIn witness or an empty Witness()\n",
    "                tx_in.witness = psbt_in.witness or Witness()\n",
    "        # check to see that the transaction verifies\n",
    "        if not is_bip322 and not tx_obj.verify():\n",
    "            raise RuntimeError(\"transaction invalid\")\n",
    "        # return the now filled in transaction\n",
    "        return tx_obj"
   ]
  },
  {
   "cell_type": "code",
   "execution_count": 37,
   "id": "a3beaa99",
   "metadata": {},
   "outputs": [],
   "source": [
    "final_to_sign_tx = final_tx(signer_1_psbt, True)"
   ]
  },
  {
   "cell_type": "markdown",
   "id": "82911507",
   "metadata": {},
   "source": [
    "## 13. Check Signature on Input is Valid"
   ]
  },
  {
   "cell_type": "code",
   "execution_count": 38,
   "id": "a3ed83bf",
   "metadata": {},
   "outputs": [
    {
     "data": {
      "text/plain": [
       "True"
      ]
     },
     "execution_count": 38,
     "metadata": {},
     "output_type": "execute_result"
    }
   ],
   "source": [
    "final_to_sign_tx.verify_input(0)"
   ]
  },
  {
   "cell_type": "markdown",
   "id": "0da6ca5e",
   "metadata": {},
   "source": [
    "## 14. Serialize to_sign transaction as BIP322 Signature\n",
    "\n",
    "The transaction is encoded in FULL format as per the BIP322 specification. As there is no witness for a p2sh signature the SIMPLE format is not possible."
   ]
  },
  {
   "cell_type": "code",
   "execution_count": 39,
   "id": "4fb689cd",
   "metadata": {},
   "outputs": [
    {
     "name": "stdout",
     "output_type": "stream",
     "text": [
      "AAAAAAHNcfHaNfl8f/+ZC2gTr8aF+0KgppYjKM94egaNm/u1ZAAAAAD8AEcwRAIhAJ6hdj61vLDP+aFa30qUZQmrbBfE0kiOObYvt5nqPSxsAh9IrOKFwflfPRUcQ/5e0REkdFHVP2GGdUsMgDet+sNlAUcwRAIgH3eW/VyFDoXvCasd8qxgwj5NDVo0weXvM6qyGXLCR5YCIEwjbEV6fS6RWP6QsKOcMwvlGr1/SgdCC6pW4eH87/YgAUxpUiECKJfGy28imLcuAeNBLHCNv3NRP5jnJwFDNRXCYNY/vJ4hAv1RQtaZs7+vKqQeWl2rb/jd/gMxkEjUnjZdDGPDZkMLIQL65cH2X5O7LujjTLDL2l8Pxy0Y2UUR99u1qCfjdz7dklOuAAAAAAEAAAAAAAAAAAFqAAAAAA==\n"
     ]
    }
   ],
   "source": [
    "from buidl.helper import base64_encode\n",
    "bip322_musig = base64_encode(final_to_sign_tx.serialize())\n",
    "\n",
    "print(bip322_musig)"
   ]
  },
  {
   "cell_type": "markdown",
   "id": "f2d57f25",
   "metadata": {},
   "source": [
    "## 15. Verify BIP322 Signature against message and address"
   ]
  },
  {
   "cell_type": "code",
   "execution_count": 40,
   "id": "333ec5ae",
   "metadata": {},
   "outputs": [],
   "source": [
    "from src.message import verify_message"
   ]
  },
  {
   "cell_type": "code",
   "execution_count": 41,
   "id": "2fc44ae1",
   "metadata": {},
   "outputs": [
    {
     "data": {
      "text/plain": [
       "True"
      ]
     },
     "execution_count": 41,
     "metadata": {},
     "output_type": "execute_result"
    }
   ],
   "source": [
    "verify_message(p2sh_address, bip322_musig, message_to_sign)"
   ]
  },
  {
   "cell_type": "code",
   "execution_count": 42,
   "id": "12fe52e0",
   "metadata": {},
   "outputs": [
    {
     "name": "stdout",
     "output_type": "stream",
     "text": [
      "2-3 p2sh : 3LnYoUkFrhyYP3V7rq3mhpwALz1XbCY9Uq\n"
     ]
    }
   ],
   "source": [
    "print(\"2-3 p2sh :\", p2sh_address)"
   ]
  },
  {
   "cell_type": "code",
   "execution_count": 43,
   "id": "27a6f66f",
   "metadata": {},
   "outputs": [
    {
     "name": "stdout",
     "output_type": "stream",
     "text": [
      "message signed :  This will be a p2sh 2-of-3 multisig BIP 322 signed message\n"
     ]
    }
   ],
   "source": [
    "print(\"message signed : \", message_to_sign)"
   ]
  },
  {
   "cell_type": "code",
   "execution_count": 44,
   "id": "e7ccb20f",
   "metadata": {},
   "outputs": [],
   "source": [
    "from buidl.script import address_to_script_pubkey"
   ]
  },
  {
   "cell_type": "code",
   "execution_count": 45,
   "id": "55397479",
   "metadata": {},
   "outputs": [],
   "source": [
    "spubkey = address_to_script_pubkey(p2sh_address)"
   ]
  },
  {
   "cell_type": "code",
   "execution_count": 62,
   "id": "d981f97d",
   "metadata": {},
   "outputs": [
    {
     "data": {
      "text/plain": [
       "OP_HASH160 d1763eda828dbe7ae8374d2d7fb6c3381970b272 OP_EQUAL "
      ]
     },
     "execution_count": 62,
     "metadata": {},
     "output_type": "execute_result"
    }
   ],
   "source": [
    "spubkey"
   ]
  },
  {
   "cell_type": "markdown",
   "id": "cc671837",
   "metadata": {},
   "source": [
    "## Note: from the BIP322 Signature we can retrieve the redeem script which was unlocked by the ScriptSig to produce this BIP322 signature.\n",
    "\n",
    "I.E. in this case we can learn it was a 2 of 3 multisig with known and identified public keys."
   ]
  },
  {
   "cell_type": "code",
   "execution_count": 52,
   "id": "079eb701",
   "metadata": {},
   "outputs": [
    {
     "name": "stdout",
     "output_type": "stream",
     "text": [
      "\n",
      "tx: b2c912d6b0964dd185a3d99b1209b6ac50a175f3a8cb299cff994146f00db930\n",
      "version: 0\n",
      "locktime: 0\n",
      "tx_ins:\n",
      "64b5fb9b8d067a78cf282396a6a042fb85c6af13680b99ff7f7cf935daf171cd:0\n",
      "tx_outs:\n",
      "0:OP_RETURN \n",
      "\n"
     ]
    }
   ],
   "source": [
    "from buidl.helper import base64_decode\n",
    "from buidl.tx import Tx\n",
    "import io\n",
    "\n",
    "decoded_bip322 = base64_decode(bip322_musig)\n",
    "\n",
    "stream = io.BytesIO(decoded_bip322)\n",
    "verification_to_sign = Tx.parse(stream)\n",
    "print(verification_to_sign)"
   ]
  },
  {
   "cell_type": "code",
   "execution_count": 69,
   "id": "e4b5b1d3",
   "metadata": {},
   "outputs": [
    {
     "data": {
      "text/plain": [
       "OP_2 022897c6cb6f2298b72e01e3412c708dbf73513f98e72701433515c260d63fbc9e 02fd5142d699b3bfaf2aa41e5a5dab6ff8ddfe03319048d49e365d0c63c366430b 02fae5c1f65f93bb2ee8e34cb0cbda5f0fc72d18d94511f7dbb5a827e3773edd92 OP_3 OP_CHECKMULTISIG "
      ]
     },
     "execution_count": 69,
     "metadata": {},
     "output_type": "execute_result"
    }
   ],
   "source": [
    "from buidl.script import RedeemScript\n",
    "raw_redeem_script = verification_to_sign.tx_ins[0].script_sig.commands[-1]\n",
    "\n",
    "RedeemScript.convert(raw_redeem_script)"
   ]
  },
  {
   "cell_type": "code",
   "execution_count": null,
   "id": "65a3434f",
   "metadata": {},
   "outputs": [],
   "source": []
  }
 ],
 "metadata": {
  "kernelspec": {
   "display_name": "Python 3",
   "language": "python",
   "name": "python3"
  },
  "language_info": {
   "codemirror_mode": {
    "name": "ipython",
    "version": 3
   },
   "file_extension": ".py",
   "mimetype": "text/x-python",
   "name": "python",
   "nbconvert_exporter": "python",
   "pygments_lexer": "ipython3",
   "version": "3.8.5"
  }
 },
 "nbformat": 4,
 "nbformat_minor": 5
}
