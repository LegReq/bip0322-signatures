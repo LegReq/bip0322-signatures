{
 "cells": [
  {
   "cell_type": "markdown",
   "id": "cdac51b5",
   "metadata": {},
   "source": [
    "# P2SH MultiSig BIP322\n",
    "## Role: Creator / Updator"
   ]
  },
  {
   "cell_type": "code",
   "execution_count": 1,
   "id": "36e91285",
   "metadata": {},
   "outputs": [
    {
     "name": "stdout",
     "output_type": "stream",
     "text": [
      "/home/will/work/LegendaryRequirements/clients/dcd/bip0322-sigs\n"
     ]
    }
   ],
   "source": [
    "cd .."
   ]
  },
  {
   "cell_type": "markdown",
   "id": "22a914e4",
   "metadata": {},
   "source": [
    "## 1. Create HD Key from mnemonic\n",
    "\n",
    "Note: this would typically access some wallet"
   ]
  },
  {
   "cell_type": "code",
   "execution_count": 2,
   "id": "94d315b1",
   "metadata": {},
   "outputs": [],
   "source": [
    "from buidl.mnemonic import secure_mnemonic\n",
    "from buidl.hd import HDPrivateKey\n"
   ]
  },
  {
   "cell_type": "code",
   "execution_count": 3,
   "id": "f543f046",
   "metadata": {},
   "outputs": [],
   "source": [
    "mnemonic = 'priority orange artist purpose sport blade spike leg calm renew dress figure session play solve fatal spy reform humble carry finger response order print'"
   ]
  },
  {
   "cell_type": "code",
   "execution_count": 4,
   "id": "93ea1c2b",
   "metadata": {},
   "outputs": [],
   "source": [
    "hd_rootkey = HDPrivateKey.from_mnemonic(mnemonic)\n",
    "\n",
    "root_fp = hd_rootkey.fingerprint().hex()"
   ]
  },
  {
   "cell_type": "markdown",
   "id": "0fa8efea",
   "metadata": {},
   "source": [
    "## 2. Select Key to Sign With"
   ]
  },
  {
   "cell_type": "code",
   "execution_count": 5,
   "id": "f7819367",
   "metadata": {},
   "outputs": [],
   "source": [
    "bip32_path = \"m/45'/0/0/1\"\n",
    "\n",
    "hd_priv_a = hd_rootkey.traverse(bip32_path)\n",
    "pubkey = hd_priv_a.pub.point\n"
   ]
  },
  {
   "cell_type": "markdown",
   "id": "ba459e6b",
   "metadata": {},
   "source": [
    "## 3. Fetch Other Signing Parties Public Keys\n",
    "\n",
    "See [signer_1](./Signer_1.ipynb) and [signer_2](./Signer_2.ipynb) notebooks."
   ]
  },
  {
   "cell_type": "code",
   "execution_count": 6,
   "id": "5b4d4b18",
   "metadata": {},
   "outputs": [],
   "source": [
    "signer_1_pubkey = '02fd5142d699b3bfaf2aa41e5a5dab6ff8ddfe03319048d49e365d0c63c366430b'\n",
    "signer_2_pubkey = '02fae5c1f65f93bb2ee8e34cb0cbda5f0fc72d18d94511f7dbb5a827e3773edd92'\n"
   ]
  },
  {
   "cell_type": "markdown",
   "id": "5c0f3506",
   "metadata": {},
   "source": [
    "## 4. Create 2-of-3 MultiSig Pay-to-Script Hash\n",
    "\n",
    "Note: This p2sh_address would likely be something that the signers would want to include in a DID Document."
   ]
  },
  {
   "cell_type": "code",
   "execution_count": 7,
   "id": "4e72a861",
   "metadata": {},
   "outputs": [],
   "source": [
    "from buidl.script import RedeemScript\n",
    "\n",
    "# YOU COULD CHANGE THIS\n",
    "quorum_m=2\n",
    "\n",
    "redeem_script = RedeemScript.create_p2sh_multisig(\n",
    "            quorum_m=quorum_m,\n",
    "            pubkey_hexes=[pubkey.sec().hex(),signer_1_pubkey,signer_2_pubkey],\n",
    "            sort_keys=False,\n",
    "        )\n",
    "\n",
    "\n",
    "script_pubkey = redeem_script.script_pubkey()\n",
    "p2sh_address = redeem_script.address()"
   ]
  },
  {
   "cell_type": "code",
   "execution_count": 8,
   "id": "c7d59fb6",
   "metadata": {},
   "outputs": [
    {
     "name": "stdout",
     "output_type": "stream",
     "text": [
      "The BIP322 to_spend tx will be `locked` with a script_pubkey with the following address :  3LnYoUkFrhyYP3V7rq3mhpwALz1XbCY9Uq\n"
     ]
    }
   ],
   "source": [
    "print(\"The BIP322 to_spend tx will be `locked` with a script_pubkey with the following address : \", p2sh_address)"
   ]
  },
  {
   "cell_type": "markdown",
   "id": "3b146e0a",
   "metadata": {},
   "source": [
    "## 5. Create the virtual to_spend transaction locked with the p2sh_multisig\n",
    "\n",
    "BIP 0322 defines the structure of this transaction as follows:\n",
    "\n",
    "```python\n",
    "    nVersion = 0\n",
    "    nLockTime = 0\n",
    "    vin[0].prevout.hash = 0000...000\n",
    "    vin[0].prevout.n = 0xFFFFFFFF\n",
    "    vin[0].nSequence = 0\n",
    "    vin[0].scriptSig = OP_0 PUSH32[ message_hash ]\n",
    "    vin[0].scriptWitness = []\n",
    "    vout[0].nValue = 0\n",
    "    vout[0].scriptPubKey = message_challenge\n",
    "```\n",
    "\n",
    "The message_challenge is the above 2-3 p2sh scriptPubKey"
   ]
  },
  {
   "cell_type": "code",
   "execution_count": 9,
   "id": "29338909",
   "metadata": {},
   "outputs": [],
   "source": [
    "from src.message import create_to_spend_tx\n",
    "\n",
    "## You could change this\n",
    "message_to_sign = \"This will be a p2sh 2-of-3 multisig BIP 322 signed message\"\n",
    "\n",
    "to_spend_tx = create_to_spend_tx(p2sh_address, message_to_sign)"
   ]
  },
  {
   "cell_type": "markdown",
   "id": "de6ca82c",
   "metadata": {},
   "source": [
    "## 6. Create PSBT to_sign transaction"
   ]
  },
  {
   "cell_type": "code",
   "execution_count": 10,
   "id": "e698f2ca",
   "metadata": {},
   "outputs": [],
   "source": [
    "from src.message import create_to_sign_tx\n",
    "\n",
    "to_sign_tx = create_to_sign_tx(to_spend_tx.hash())\n"
   ]
  },
  {
   "cell_type": "code",
   "execution_count": 11,
   "id": "33937670",
   "metadata": {},
   "outputs": [],
   "source": [
    "pubkey_records = []\n",
    "input_dicts = []\n",
    "output_dicts = []"
   ]
  },
  {
   "cell_type": "code",
   "execution_count": 37,
   "id": "270b08cd",
   "metadata": {},
   "outputs": [],
   "source": [
    "from buidl.psbt_helper import create_multisig_psbt\n",
    "from buidl.psbt import PSBT\n",
    "\n",
    "fee = 0\n",
    "# psbt_to_sign_bip322 = create_multisig_psbt(pubkey_records,input_dicts,output_dicts,fee)\n",
    "psbt_to_sign_bip322 = PSBT.create(to_sign_tx)"
   ]
  },
  {
   "cell_type": "code",
   "execution_count": 44,
   "id": "397b6968",
   "metadata": {},
   "outputs": [
    {
     "data": {
      "text/plain": [
       "\n",
       "Tx:\n",
       "\n",
       "tx: 9723b96cd3d5b4af6c93ca302268ff92bf35933fbaee8662a2b465b854ebba99\n",
       "version: 0\n",
       "locktime: 0\n",
       "tx_ins:\n",
       "64b5fb9b8d067a78cf282396a6a042fb85c6af13680b99ff7f7cf935daf171cd:0\n",
       "tx_outs:\n",
       "0:OP_RETURN \n",
       "\n",
       "\n",
       "PSBT XPUBS:\n",
       "{}\n",
       "\n",
       "Psbt_Ins:\n",
       "[\n",
       "TxIn:\n",
       "64b5fb9b8d067a78cf282396a6a042fb85c6af13680b99ff7f7cf935daf171cd:0\n",
       "Prev Tx:\n",
       "None\n",
       "Prev Output:\n",
       "None\n",
       "Sigs:\n",
       "{}\n",
       "RedeemScript:\n",
       "None\n",
       "WitnessScript:\n",
       "None\n",
       "PSBT Pubs:\n",
       "{}\n",
       "ScriptSig:\n",
       "None\n",
       "Witness:\n",
       "None\n",
       "]\n",
       "\n",
       "Psbt_Outs:\n",
       "[\n",
       "TxOut:\n",
       "0:OP_RETURN \n",
       "RedeemScript:\n",
       "None\n",
       "WitnessScript\n",
       "None\n",
       "PSBT Pubs:\n",
       "{}\n",
       "]\n",
       "\n",
       "Extra:\n",
       "{}"
      ]
     },
     "execution_count": 44,
     "metadata": {},
     "output_type": "execute_result"
    }
   ],
   "source": [
    "psbt_to_sign_bip322"
   ]
  },
  {
   "cell_type": "code",
   "execution_count": 50,
   "id": "2d933aa1",
   "metadata": {},
   "outputs": [
    {
     "name": "stdout",
     "output_type": "stream",
     "text": [
      "mismatch between length and consumed bytes 55 vs 52\n"
     ]
    },
    {
     "ename": "OSError",
     "evalue": "stream has no bytes",
     "output_type": "error",
     "traceback": [
      "\u001b[0;31m---------------------------------------------------------------------------\u001b[0m",
      "\u001b[0;31mOSError\u001b[0m                                   Traceback (most recent call last)",
      "Input \u001b[0;32mIn [50]\u001b[0m, in \u001b[0;36m<cell line: 7>\u001b[0;34m()\u001b[0m\n\u001b[1;32m      4\u001b[0m b64_psbt\n\u001b[1;32m      6\u001b[0m \u001b[38;5;66;03m# stream = BytesIO(b64_psbt)\u001b[39;00m\n\u001b[0;32m----> 7\u001b[0m \u001b[43mPSBT\u001b[49m\u001b[38;5;241;43m.\u001b[39;49m\u001b[43mparse_base64\u001b[49m\u001b[43m(\u001b[49m\u001b[43mb64_psbt\u001b[49m\u001b[43m)\u001b[49m\n",
      "File \u001b[0;32m~/work/LegendaryRequirements/clients/dcd/DCD_repo/btcr/bip0322-sigs/venv/lib/python3.8/site-packages/buidl/psbt.py:543\u001b[0m, in \u001b[0;36mPSBT.parse_base64\u001b[0;34m(cls, b64, network)\u001b[0m\n\u001b[1;32m    540\u001b[0m \u001b[38;5;129m@classmethod\u001b[39m\n\u001b[1;32m    541\u001b[0m \u001b[38;5;28;01mdef\u001b[39;00m \u001b[38;5;21mparse_base64\u001b[39m(\u001b[38;5;28mcls\u001b[39m, b64, network\u001b[38;5;241m=\u001b[39m\u001b[38;5;28;01mNone\u001b[39;00m):\n\u001b[1;32m    542\u001b[0m     stream \u001b[38;5;241m=\u001b[39m BytesIO(base64_decode(b64))\n\u001b[0;32m--> 543\u001b[0m     \u001b[38;5;28;01mreturn\u001b[39;00m \u001b[38;5;28;43mcls\u001b[39;49m\u001b[38;5;241;43m.\u001b[39;49m\u001b[43mparse\u001b[49m\u001b[43m(\u001b[49m\u001b[43mstream\u001b[49m\u001b[43m,\u001b[49m\u001b[43m \u001b[49m\u001b[43mnetwork\u001b[49m\u001b[38;5;241;43m=\u001b[39;49m\u001b[43mnetwork\u001b[49m\u001b[43m)\u001b[49m\n",
      "File \u001b[0;32m~/work/LegendaryRequirements/clients/dcd/DCD_repo/btcr/bip0322-sigs/venv/lib/python3.8/site-packages/buidl/psbt.py:582\u001b[0m, in \u001b[0;36mPSBT.parse\u001b[0;34m(cls, s, network)\u001b[0m\n\u001b[1;32m    580\u001b[0m             \u001b[38;5;28;01mraise\u001b[39;00m \u001b[38;5;167;01mKeyError\u001b[39;00m(\u001b[38;5;124mf\u001b[39m\u001b[38;5;124m\"\u001b[39m\u001b[38;5;124mDuplicate Key in parsing: \u001b[39m\u001b[38;5;132;01m{\u001b[39;00mkey\u001b[38;5;241m.\u001b[39mhex()\u001b[38;5;132;01m}\u001b[39;00m\u001b[38;5;124m\"\u001b[39m)\n\u001b[1;32m    581\u001b[0m         extra_map[key] \u001b[38;5;241m=\u001b[39m read_varstr(s)\n\u001b[0;32m--> 582\u001b[0m     key \u001b[38;5;241m=\u001b[39m \u001b[43mread_varstr\u001b[49m\u001b[43m(\u001b[49m\u001b[43ms\u001b[49m\u001b[43m)\u001b[49m\n\u001b[1;32m    583\u001b[0m \u001b[38;5;28;01mif\u001b[39;00m \u001b[38;5;129;01mnot\u001b[39;00m tx_obj:\n\u001b[1;32m    584\u001b[0m     \u001b[38;5;28;01mraise\u001b[39;00m \u001b[38;5;167;01mSyntaxError\u001b[39;00m(\u001b[38;5;124m\"\u001b[39m\u001b[38;5;124mtransaction is required\u001b[39m\u001b[38;5;124m\"\u001b[39m)\n",
      "File \u001b[0;32m~/work/LegendaryRequirements/clients/dcd/DCD_repo/btcr/bip0322-sigs/venv/lib/python3.8/site-packages/buidl/helper.py:199\u001b[0m, in \u001b[0;36mread_varstr\u001b[0;34m(s)\u001b[0m\n\u001b[1;32m    196\u001b[0m \u001b[38;5;124;03m\"\"\"reads a variable string from a stream\"\"\"\u001b[39;00m\n\u001b[1;32m    197\u001b[0m \u001b[38;5;66;03m# remember that s.read(n) will read n bytes from the stream\u001b[39;00m\n\u001b[1;32m    198\u001b[0m \u001b[38;5;66;03m# find the length of the string by using read_varint on the string\u001b[39;00m\n\u001b[0;32m--> 199\u001b[0m item_length \u001b[38;5;241m=\u001b[39m \u001b[43mread_varint\u001b[49m\u001b[43m(\u001b[49m\u001b[43ms\u001b[49m\u001b[43m)\u001b[49m\n\u001b[1;32m    200\u001b[0m \u001b[38;5;66;03m# read that many bytes from the stream\u001b[39;00m\n\u001b[1;32m    201\u001b[0m \u001b[38;5;28;01mreturn\u001b[39;00m s\u001b[38;5;241m.\u001b[39mread(item_length)\n",
      "File \u001b[0;32m~/work/LegendaryRequirements/clients/dcd/DCD_repo/btcr/bip0322-sigs/venv/lib/python3.8/site-packages/buidl/helper.py:165\u001b[0m, in \u001b[0;36mread_varint\u001b[0;34m(s)\u001b[0m\n\u001b[1;32m    163\u001b[0m b \u001b[38;5;241m=\u001b[39m s\u001b[38;5;241m.\u001b[39mread(\u001b[38;5;241m1\u001b[39m)\n\u001b[1;32m    164\u001b[0m \u001b[38;5;28;01mif\u001b[39;00m \u001b[38;5;28mlen\u001b[39m(b) \u001b[38;5;241m!=\u001b[39m \u001b[38;5;241m1\u001b[39m:\n\u001b[0;32m--> 165\u001b[0m     \u001b[38;5;28;01mraise\u001b[39;00m \u001b[38;5;167;01mIOError\u001b[39;00m(\u001b[38;5;124m\"\u001b[39m\u001b[38;5;124mstream has no bytes\u001b[39m\u001b[38;5;124m\"\u001b[39m)\n\u001b[1;32m    166\u001b[0m i \u001b[38;5;241m=\u001b[39m b[\u001b[38;5;241m0\u001b[39m]\n\u001b[1;32m    167\u001b[0m \u001b[38;5;28;01mif\u001b[39;00m i \u001b[38;5;241m==\u001b[39m \u001b[38;5;241m0xFD\u001b[39m:\n\u001b[1;32m    168\u001b[0m     \u001b[38;5;66;03m# 0xfd means the next two bytes are the number\u001b[39;00m\n",
      "\u001b[0;31mOSError\u001b[0m: stream has no bytes"
     ]
    }
   ],
   "source": [
    "from io import BytesIO\n",
    "\n",
    "b64_psbt = psbt_to_sign_bip322.serialize_base64()\n",
    "b64_psbt\n",
    "\n",
    "# stream = BytesIO(b64_psbt)\n",
    "PSBT.parse_base64(b64_psbt)"
   ]
  },
  {
   "cell_type": "code",
   "execution_count": null,
   "id": "d6b16c15",
   "metadata": {},
   "outputs": [],
   "source": []
  },
  {
   "cell_type": "code",
   "execution_count": 40,
   "id": "10be3ec0",
   "metadata": {},
   "outputs": [
    {
     "data": {
      "text/plain": [
       "100"
      ]
     },
     "execution_count": 40,
     "metadata": {},
     "output_type": "execute_result"
    }
   ],
   "source": [
    "len(b64_psbt)"
   ]
  },
  {
   "cell_type": "code",
   "execution_count": 43,
   "id": "3db8a3b6",
   "metadata": {},
   "outputs": [
    {
     "data": {
      "text/plain": [
       "\n",
       "Tx:\n",
       "\n",
       "tx: 75c5c9665a570569ad77dd1279e6fd4628a093c4dcbf8d41532614044c14c115\n",
       "version: 2\n",
       "locktime: 0\n",
       "tx_ins:\n",
       "ffffffffffffffffffffffffffffffffffffffffffffffffffffffffffffffff:0\n",
       "tx_outs:\n",
       "0:OP_RETURN 00 \n",
       "\n",
       "\n",
       "PSBT XPUBS:\n",
       "{}\n",
       "\n",
       "Psbt_Ins:\n",
       "[\n",
       "TxIn:\n",
       "ffffffffffffffffffffffffffffffffffffffffffffffffffffffffffffffff:0\n",
       "Prev Tx:\n",
       "None\n",
       "Prev Output:\n",
       "None\n",
       "Sigs:\n",
       "{}\n",
       "RedeemScript:\n",
       "None\n",
       "WitnessScript:\n",
       "None\n",
       "PSBT Pubs:\n",
       "{}\n",
       "ScriptSig:\n",
       "None\n",
       "Witness:\n",
       "None\n",
       "]\n",
       "\n",
       "Psbt_Outs:\n",
       "[\n",
       "TxOut:\n",
       "0:OP_RETURN 00 \n",
       "RedeemScript:\n",
       "None\n",
       "WitnessScript\n",
       "None\n",
       "PSBT Pubs:\n",
       "{}\n",
       "]\n",
       "\n",
       "Extra:\n",
       "{}"
      ]
     },
     "execution_count": 43,
     "metadata": {},
     "output_type": "execute_result"
    }
   ],
   "source": [
    "test = 'cHNidP8BAD8CAAAAAf//////////////////////////////////////////AAAAAAD/////AQAAAAAAAAAAA2oBAAAAAAAACg8BAgMEBQYHCAkPAQIDBAUGBwgJCgsMDQ4PAAA='\n",
    "PSBT.parse_base64(test)\n",
    "# len(test)"
   ]
  },
  {
   "cell_type": "code",
   "execution_count": 17,
   "id": "ee85e881",
   "metadata": {},
   "outputs": [],
   "source": [
    "tx_lookup = {}\n",
    "\n",
    "tx_lookup[to_spend_tx.hash()] = to_spend_tx"
   ]
  },
  {
   "cell_type": "code",
   "execution_count": 18,
   "id": "a8e5af43",
   "metadata": {},
   "outputs": [],
   "source": [
    "from buidl.psbt import NamedHDPublicKey\n",
    "\n",
    "pubkey_lookup = {}\n",
    "\n",
    "named_hd_pubkey_obj = NamedHDPublicKey.from_hd_pub(\n",
    "    child_hd_pub=hd_priv_a.pub,\n",
    "    xfp_hex=root_fp,\n",
    "    path=bip32_path,\n",
    ")\n",
    "# pubkey lookups needed for validation\n",
    "pubkey_lookup[named_hd_pubkey_obj.sec()] = named_hd_pubkey_obj"
   ]
  },
  {
   "cell_type": "code",
   "execution_count": 25,
   "id": "6974a304",
   "metadata": {},
   "outputs": [],
   "source": [
    "redeem_lookup = {}\n",
    "redeem_lookup[redeem_script.hash160()] = redeem_script"
   ]
  },
  {
   "cell_type": "code",
   "execution_count": 26,
   "id": "7742b07f",
   "metadata": {},
   "outputs": [],
   "source": [
    "psbt_to_sign_bip322.update(tx_lookup,pubkey_lookup,redeem_lookup)"
   ]
  },
  {
   "cell_type": "code",
   "execution_count": 27,
   "id": "2b9b92e2",
   "metadata": {},
   "outputs": [
    {
     "data": {
      "text/plain": [
       "\n",
       "Tx:\n",
       "\n",
       "tx: 9723b96cd3d5b4af6c93ca302268ff92bf35933fbaee8662a2b465b854ebba99\n",
       "version: 0\n",
       "locktime: 0\n",
       "tx_ins:\n",
       "64b5fb9b8d067a78cf282396a6a042fb85c6af13680b99ff7f7cf935daf171cd:0\n",
       "tx_outs:\n",
       "0:OP_RETURN \n",
       "\n",
       "\n",
       "PSBT XPUBS:\n",
       "{}\n",
       "\n",
       "Psbt_Ins:\n",
       "[\n",
       "TxIn:\n",
       "64b5fb9b8d067a78cf282396a6a042fb85c6af13680b99ff7f7cf935daf171cd:0\n",
       "Prev Tx:\n",
       "\n",
       "tx: 64b5fb9b8d067a78cf282396a6a042fb85c6af13680b99ff7f7cf935daf171cd\n",
       "version: 0\n",
       "locktime: 0\n",
       "tx_ins:\n",
       "0000000000000000000000000000000000000000000000000000000000000000:4294967295\n",
       "tx_outs:\n",
       "0:OP_HASH160 d1763eda828dbe7ae8374d2d7fb6c3381970b272 OP_EQUAL \n",
       "\n",
       "Prev Output:\n",
       "None\n",
       "Sigs:\n",
       "{}\n",
       "RedeemScript:\n",
       "OP_2 022897c6cb6f2298b72e01e3412c708dbf73513f98e72701433515c260d63fbc9e 02fd5142d699b3bfaf2aa41e5a5dab6ff8ddfe03319048d49e365d0c63c366430b 02fae5c1f65f93bb2ee8e34cb0cbda5f0fc72d18d94511f7dbb5a827e3773edd92 OP_3 OP_CHECKMULTISIG \n",
       "WitnessScript:\n",
       "None\n",
       "PSBT Pubs:\n",
       "{b'\\x02(\\x97\\xc6\\xcbo\"\\x98\\xb7.\\x01\\xe3A,p\\x8d\\xbfsQ?\\x98\\xe7\\'\\x01C5\\x15\\xc2`\\xd6?\\xbc\\x9e': \n",
       "Point: 022897c6cb6f2298b72e01e3412c708dbf73513f98e72701433515c260d63fbc9e\n",
       "Path: 7b05ea1b:m/45'/0/0/1\n",
       "}\n",
       "ScriptSig:\n",
       "None\n",
       "Witness:\n",
       "None\n",
       "]\n",
       "\n",
       "Psbt_Outs:\n",
       "[\n",
       "TxOut:\n",
       "0:OP_RETURN \n",
       "RedeemScript:\n",
       "None\n",
       "WitnessScript\n",
       "None\n",
       "PSBT Pubs:\n",
       "{}\n",
       "]\n",
       "\n",
       "Extra:\n",
       "{}"
      ]
     },
     "execution_count": 27,
     "metadata": {},
     "output_type": "execute_result"
    }
   ],
   "source": [
    "psbt_to_sign_bip322"
   ]
  },
  {
   "cell_type": "code",
   "execution_count": 35,
   "id": "a8897606",
   "metadata": {},
   "outputs": [
    {
     "data": {
      "text/plain": [
       "'cHNidP8BAEAAAAAAAAEBzXHx2jX5fH//mQtoE6/GhftCoKaWIyjPeHoGjZv7tWQAAAAAAAAAAAABAAAAAAAAAAABagAAAAAAAAEAeAAAAAAAAQEAAAAAAAAAAAAAAAAAAAAAAAAAAAAAAAAAAAAAAAAAAP////8iACA4E3j7MVlbnxgcxmUY+N1w459TuGihtX+nhDqV8uyuxQAAAAABAAAAAAAAAAAXqRTRdj7ago2+eug3TS1/tsM4GXCycocAAAAAAAEEaVIhAiiXxstvIpi3LgHjQSxwjb9zUT+Y5ycBQzUVwmDWP7yeIQL9UULWmbO/ryqkHlpdq2/43f4DMZBI1J42XQxjw2ZDCyEC+uXB9l+Tuy7o40ywy9pfD8ctGNlFEffbtagn43c+3ZJTriIGAiiXxstvIpi3LgHjQSxwjb9zUT+Y5ycBQzUVwmDWP7yeFHsF6hstAACAAAAAAAAAAAABAAAAAAA='"
      ]
     },
     "execution_count": 35,
     "metadata": {},
     "output_type": "execute_result"
    }
   ],
   "source": [
    "from io import BytesIO\n",
    "\n",
    "b64_psbt = psbt_to_sign_bip322.serialize_base64()\n",
    "b64_psbt"
   ]
  },
  {
   "cell_type": "code",
   "execution_count": 36,
   "id": "747ca91b",
   "metadata": {},
   "outputs": [
    {
     "name": "stdout",
     "output_type": "stream",
     "text": [
      "mismatch between length and consumed bytes 131 vs 127\n"
     ]
    },
    {
     "data": {
      "text/plain": [
       "\n",
       "Tx:\n",
       "\n",
       "tx: 9beadacd9baf9f68d6084be6862f42ae01953e2d6f9479b87fdae23538595f37\n",
       "version: 0\n",
       "locktime: 3316575474\n",
       "tx_ins:\n",
       "\n",
       "tx_outs:\n",
       "9005288144373927169:OP_[255] OP_[153] 6813afc685fb42a0a69623 cf787a068d9bfbb564000000000000000000010000000000000000016a0000000000000100780000 OP_0 OP_0 OP_0 01 OP_0 OP_0 OP_0 OP_0 OP_0 OP_0 OP_0 OP_0 OP_0 OP_0 OP_0 OP_0 OP_0 OP_0 OP_0 OP_0 OP_0 OP_0 OP_0 OP_0 OP_0 OP_0 OP_0 OP_0 OP_0 OP_0 OP_0 OP_0 OP_0 OP_0 OP_0 OP_0 OP_[255] OP_[255] OP_[255] OP_[255] 0020381378fb31595b9f181cc66518f8dd70e39f53b868a1b57fa7843a95 \n",
       "\n",
       "\n",
       "PSBT XPUBS:\n",
       "{}\n",
       "\n",
       "Psbt_Ins:\n",
       "[]\n",
       "\n",
       "Psbt_Outs:\n",
       "[\n",
       "TxOut:\n",
       "9005288144373927169:OP_[255] OP_[153] 6813afc685fb42a0a69623 cf787a068d9bfbb564000000000000000000010000000000000000016a0000000000000100780000 OP_0 OP_0 OP_0 01 OP_0 OP_0 OP_0 OP_0 OP_0 OP_0 OP_0 OP_0 OP_0 OP_0 OP_0 OP_0 OP_0 OP_0 OP_0 OP_0 OP_0 OP_0 OP_0 OP_0 OP_0 OP_0 OP_0 OP_0 OP_0 OP_0 OP_0 OP_0 OP_0 OP_0 OP_0 OP_0 OP_[255] OP_[255] OP_[255] OP_[255] 0020381378fb31595b9f181cc66518f8dd70e39f53b868a1b57fa7843a95 \n",
       "RedeemScript:\n",
       "None\n",
       "WitnessScript\n",
       "None\n",
       "PSBT Pubs:\n",
       "{}\n",
       "]\n",
       "\n",
       "Extra:\n",
       "{}"
      ]
     },
     "execution_count": 36,
     "metadata": {},
     "output_type": "execute_result"
    }
   ],
   "source": [
    "PSBT.parse_base64(b64_psbt)"
   ]
  },
  {
   "cell_type": "code",
   "execution_count": 33,
   "id": "3af24143",
   "metadata": {},
   "outputs": [
    {
     "data": {
      "text/plain": [
       "b'psbt\\xff\\x01\\x00@\\x00\\x00\\x00\\x00\\x00\\x01\\x01\\xcdq\\xf1\\xda5\\xf9|\\x7f\\xff\\x99\\x0bh\\x13\\xaf\\xc6\\x85\\xfbB\\xa0\\xa6\\x96#(\\xcfxz\\x06\\x8d\\x9b\\xfb\\xb5d\\x00\\x00\\x00\\x00\\x00\\x00\\x00\\x00\\x00\\x01\\x00\\x00\\x00\\x00\\x00\\x00\\x00\\x00\\x01j\\x00\\x00\\x00\\x00\\x00\\x00\\x01\\x00x\\x00\\x00\\x00\\x00\\x00\\x01\\x01\\x00\\x00\\x00\\x00\\x00\\x00\\x00\\x00\\x00\\x00\\x00\\x00\\x00\\x00\\x00\\x00\\x00\\x00\\x00\\x00\\x00\\x00\\x00\\x00\\x00\\x00\\x00\\x00\\x00\\x00\\x00\\x00\\xff\\xff\\xff\\xff\"\\x00 8\\x13x\\xfb1Y[\\x9f\\x18\\x1c\\xc6e\\x18\\xf8\\xddp\\xe3\\x9fS\\xb8h\\xa1\\xb5\\x7f\\xa7\\x84:\\x95\\xf2\\xec\\xae\\xc5\\x00\\x00\\x00\\x00\\x01\\x00\\x00\\x00\\x00\\x00\\x00\\x00\\x00\\x17\\xa9\\x14\\xd1v>\\xda\\x82\\x8d\\xbez\\xe87M-\\x7f\\xb6\\xc38\\x19p\\xb2r\\x87\\x00\\x00\\x00\\x00\\x00\\x01\\x04iR!\\x02(\\x97\\xc6\\xcbo\"\\x98\\xb7.\\x01\\xe3A,p\\x8d\\xbfsQ?\\x98\\xe7\\'\\x01C5\\x15\\xc2`\\xd6?\\xbc\\x9e!\\x02\\xfdQB\\xd6\\x99\\xb3\\xbf\\xaf*\\xa4\\x1eZ]\\xabo\\xf8\\xdd\\xfe\\x031\\x90H\\xd4\\x9e6]\\x0cc\\xc3fC\\x0b!\\x02\\xfa\\xe5\\xc1\\xf6_\\x93\\xbb.\\xe8\\xe3L\\xb0\\xcb\\xda_\\x0f\\xc7-\\x18\\xd9E\\x11\\xf7\\xdb\\xb5\\xa8\\'\\xe3w>\\xdd\\x92S\\xae\"\\x06\\x02(\\x97\\xc6\\xcbo\"\\x98\\xb7.\\x01\\xe3A,p\\x8d\\xbfsQ?\\x98\\xe7\\'\\x01C5\\x15\\xc2`\\xd6?\\xbc\\x9e\\x14{\\x05\\xea\\x1b-\\x00\\x00\\x80\\x00\\x00\\x00\\x00\\x00\\x00\\x00\\x00\\x01\\x00\\x00\\x00\\x00\\x00'"
      ]
     },
     "execution_count": 33,
     "metadata": {},
     "output_type": "execute_result"
    }
   ],
   "source": [
    "b64_psbt"
   ]
  },
  {
   "cell_type": "code",
   "execution_count": null,
   "id": "7a708429",
   "metadata": {},
   "outputs": [],
   "source": [
    "psbt"
   ]
  },
  {
   "cell_type": "code",
   "execution_count": null,
   "id": "9b3cfdae",
   "metadata": {},
   "outputs": [],
   "source": []
  }
 ],
 "metadata": {
  "kernelspec": {
   "display_name": "Python 3",
   "language": "python",
   "name": "python3"
  },
  "language_info": {
   "codemirror_mode": {
    "name": "ipython",
    "version": 3
   },
   "file_extension": ".py",
   "mimetype": "text/x-python",
   "name": "python",
   "nbconvert_exporter": "python",
   "pygments_lexer": "ipython3",
   "version": "3.8.5"
  }
 },
 "nbformat": 4,
 "nbformat_minor": 5
}
