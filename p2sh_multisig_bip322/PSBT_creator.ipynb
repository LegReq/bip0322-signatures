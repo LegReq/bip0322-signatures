{
 "cells": [
  {
   "cell_type": "markdown",
   "id": "cdac51b5",
   "metadata": {},
   "source": [
    "# P2SH MultiSig BIP322\n",
    "## Role: Creator / Updator (see role definitions [here](https://github.com/bitcoin/bips/blob/master/bip-0174.mediawiki#Roles))"
   ]
  },
  {
   "cell_type": "markdown",
   "id": "14f490c6",
   "metadata": {},
   "source": [
    "## Workflow diagram\n",
    "\n",
    "Taken from [BIP174: Partially Signed Bitcoin Transaction Format](https://github.com/bitcoin/bips/blob/master/bip-0174.mediawik)\n",
    "\n",
    "<img src=\"https://github.com/bitcoin/bips/raw/master/bip-0174/multisig-workflow.svg\">\n"
   ]
  },
  {
   "cell_type": "code",
   "execution_count": 1,
   "id": "36e91285",
   "metadata": {},
   "outputs": [
    {
     "name": "stdout",
     "output_type": "stream",
     "text": [
      "/home/will/work/LegendaryRequirements/clients/dcd/bip0322-sigs\n"
     ]
    }
   ],
   "source": [
    "cd .."
   ]
  },
  {
   "cell_type": "markdown",
   "id": "22a914e4",
   "metadata": {},
   "source": [
    "## 1. Create HD Key from mnemonic\n",
    "\n",
    "Note: this would typically access some wallet"
   ]
  },
  {
   "cell_type": "code",
   "execution_count": 2,
   "id": "94d315b1",
   "metadata": {},
   "outputs": [],
   "source": [
    "from buidl.mnemonic import secure_mnemonic\n",
    "from buidl.hd import HDPrivateKey\n"
   ]
  },
  {
   "cell_type": "code",
   "execution_count": 3,
   "id": "f543f046",
   "metadata": {},
   "outputs": [],
   "source": [
    "mnemonic = 'priority orange artist purpose sport blade spike leg calm renew dress figure session play solve fatal spy reform humble carry finger response order print'"
   ]
  },
  {
   "cell_type": "code",
   "execution_count": 4,
   "id": "93ea1c2b",
   "metadata": {},
   "outputs": [],
   "source": [
    "hd_rootkey = HDPrivateKey.from_mnemonic(mnemonic)\n",
    "\n",
    "root_fp = hd_rootkey.fingerprint().hex()"
   ]
  },
  {
   "cell_type": "markdown",
   "id": "0fa8efea",
   "metadata": {},
   "source": [
    "## 2. Select Key to Sign With"
   ]
  },
  {
   "cell_type": "code",
   "execution_count": 5,
   "id": "f7819367",
   "metadata": {},
   "outputs": [],
   "source": [
    "bip32_path = \"m/45'/0/0/1\"\n",
    "\n",
    "hd_priv_a = hd_rootkey.traverse(bip32_path)\n",
    "pubkey = hd_priv_a.pub.point\n"
   ]
  },
  {
   "cell_type": "markdown",
   "id": "ba459e6b",
   "metadata": {},
   "source": [
    "## 3. Fetch Other Signing Parties Public Keys\n",
    "\n",
    "See [signer_1](./Signer_1.ipynb) and [signer_2](./Signer_2.ipynb) notebooks steps 1 to 3"
   ]
  },
  {
   "cell_type": "code",
   "execution_count": 6,
   "id": "5b4d4b18",
   "metadata": {},
   "outputs": [],
   "source": [
    "signer_1_pubkey = '02fd5142d699b3bfaf2aa41e5a5dab6ff8ddfe03319048d49e365d0c63c366430b'\n",
    "signer_2_pubkey = '02fae5c1f65f93bb2ee8e34cb0cbda5f0fc72d18d94511f7dbb5a827e3773edd92'\n"
   ]
  },
  {
   "cell_type": "markdown",
   "id": "5c0f3506",
   "metadata": {},
   "source": [
    "## 4. Create 2-of-3 MultiSig Pay-to-Script Hash\n",
    "\n",
    "Note: This p2sh_address would likely be something that the signers would want to include in a DID Document."
   ]
  },
  {
   "cell_type": "code",
   "execution_count": 7,
   "id": "4e72a861",
   "metadata": {},
   "outputs": [],
   "source": [
    "from buidl.script import RedeemScript\n",
    "\n",
    "# YOU COULD CHANGE THIS\n",
    "quorum_m=2\n",
    "\n",
    "redeem_script = RedeemScript.create_p2sh_multisig(\n",
    "            quorum_m=quorum_m,\n",
    "            pubkey_hexes=[pubkey.sec().hex(),signer_1_pubkey,signer_2_pubkey],\n",
    "            sort_keys=False,\n",
    "        )\n",
    "\n",
    "\n",
    "script_pubkey = redeem_script.script_pubkey()\n",
    "p2sh_address = redeem_script.address()"
   ]
  },
  {
   "cell_type": "code",
   "execution_count": 8,
   "id": "c7d59fb6",
   "metadata": {},
   "outputs": [
    {
     "name": "stdout",
     "output_type": "stream",
     "text": [
      "The BIP322 to_spend tx will be `locked` with a script_pubkey with the following address :  3LnYoUkFrhyYP3V7rq3mhpwALz1XbCY9Uq\n"
     ]
    }
   ],
   "source": [
    "print(\"The BIP322 to_spend tx will be `locked` with a script_pubkey with the following address : \", p2sh_address)"
   ]
  },
  {
   "cell_type": "markdown",
   "id": "3b146e0a",
   "metadata": {},
   "source": [
    "## 5. Create the virtual to_spend transaction locked with the p2sh_multisig\n",
    "\n",
    "BIP 0322 defines the structure of this transaction as follows:\n",
    "\n",
    "```python\n",
    "    nVersion = 0\n",
    "    nLockTime = 0\n",
    "    vin[0].prevout.hash = 0000...000\n",
    "    vin[0].prevout.n = 0xFFFFFFFF\n",
    "    vin[0].nSequence = 0\n",
    "    vin[0].scriptSig = OP_0 PUSH32[ message_hash ]\n",
    "    vin[0].scriptWitness = []\n",
    "    vout[0].nValue = 0\n",
    "    vout[0].scriptPubKey = message_challenge\n",
    "```\n",
    "\n",
    "The message_challenge is the above 2-3 p2sh scriptPubKey"
   ]
  },
  {
   "cell_type": "code",
   "execution_count": 9,
   "id": "29338909",
   "metadata": {},
   "outputs": [],
   "source": [
    "from src.message import create_to_spend_tx\n",
    "\n",
    "## You could change this\n",
    "message_to_sign = \"This will be a p2sh 2-of-3 multisig BIP 322 signed message\"\n",
    "\n",
    "to_spend_tx = create_to_spend_tx(p2sh_address, message_to_sign)"
   ]
  },
  {
   "cell_type": "markdown",
   "id": "de6ca82c",
   "metadata": {},
   "source": [
    "## 6. Create PSBT to_sign transaction"
   ]
  },
  {
   "cell_type": "code",
   "execution_count": 55,
   "id": "e698f2ca",
   "metadata": {},
   "outputs": [],
   "source": [
    "from src.message import create_to_sign_tx\n",
    "\n",
    "to_sign_tx = create_to_sign_tx(to_spend_tx.hash())\n",
    "\n",
    "# NOTE: This is a bug in the current create_to_sign_tx function\n",
    "# It SHOULD be able to know if it is a segwit transaction or not\n",
    "to_sign_tx.segwit = False"
   ]
  },
  {
   "cell_type": "code",
   "execution_count": 56,
   "id": "270b08cd",
   "metadata": {},
   "outputs": [],
   "source": [
    "from buidl.psbt_helper import create_multisig_psbt\n",
    "from buidl.psbt import PSBT\n",
    "\n",
    "fee = 0\n",
    "# psbt_to_sign_bip322 = create_multisig_psbt(pubkey_records,input_dicts,output_dicts,fee)\n",
    "psbt_to_sign_bip322 = PSBT.create(to_sign_tx)"
   ]
  },
  {
   "cell_type": "code",
   "execution_count": 57,
   "id": "e9ac80df",
   "metadata": {},
   "outputs": [
    {
     "data": {
      "text/plain": [
       "True"
      ]
     },
     "execution_count": 57,
     "metadata": {},
     "output_type": "execute_result"
    }
   ],
   "source": [
    "psbt_to_sign_bip322.validate()"
   ]
  },
  {
   "cell_type": "markdown",
   "id": "42e225df",
   "metadata": {},
   "source": [
    "## 7. Update PSBT with data know by Creator\n",
    "\n",
    "This includes:\n",
    "    \n",
    "- A lookup for the to_spend_tx referenced as an input to the to_sign_tx\n",
    "- A lookup for creators HD Public key that is part of the p2sh multisig\n",
    "- A lookup for the redeemscript associated with the p2sh multsig stored in the scriptPubKey of the TxOut for the to_spend_tx"
   ]
  },
  {
   "cell_type": "markdown",
   "id": "48e72526",
   "metadata": {},
   "source": [
    "### 7.1 Define the tx lookup\n",
    "\n",
    "This is a map of a transaction has to the actual transaction object"
   ]
  },
  {
   "cell_type": "code",
   "execution_count": 61,
   "id": "ee85e881",
   "metadata": {},
   "outputs": [],
   "source": [
    "tx_lookup = {}\n",
    "\n",
    "tx_lookup[to_spend_tx.hash()] = to_spend_tx"
   ]
  },
  {
   "cell_type": "markdown",
   "id": "348fbbea",
   "metadata": {},
   "source": [
    "### 7.2 Define a pubkey_lookup\n",
    "\n",
    "This maps from the sec representation of a S256Point to a NamedHDPublicKey object.\n",
    "\n",
    "Note: a NamedHDPublicKey is a HDPublicKey with additioanl raw path data for the fingerprint of the root HDPublicKey and the derivation path from that root."
   ]
  },
  {
   "cell_type": "code",
   "execution_count": 68,
   "id": "a8e5af43",
   "metadata": {},
   "outputs": [],
   "source": [
    "from buidl.psbt import NamedHDPublicKey\n",
    "\n",
    "pubkey_lookup = {}\n",
    "\n",
    "named_hd_pubkey_obj = NamedHDPublicKey.from_hd_pub(\n",
    "    child_hd_pub=hd_priv_a.pub,\n",
    "    xfp_hex=root_fp,\n",
    "    path=bip32_path,\n",
    ")\n",
    "# pubkey lookups needed for validation\n",
    "pubkey_lookup[named_hd_pubkey_obj.sec()] = named_hd_pubkey_obj"
   ]
  },
  {
   "cell_type": "markdown",
   "id": "8218f6c6",
   "metadata": {},
   "source": [
    "### 7.3 Define redeem_lookup\n",
    "\n",
    "This is a map from a hash160 of a redeem script to the actual redeem script"
   ]
  },
  {
   "cell_type": "code",
   "execution_count": 63,
   "id": "6974a304",
   "metadata": {},
   "outputs": [],
   "source": [
    "redeem_lookup = {}\n",
    "redeem_lookup[redeem_script.hash160()] = redeem_script"
   ]
  },
  {
   "cell_type": "code",
   "execution_count": 70,
   "id": "d9293cbd",
   "metadata": {},
   "outputs": [
    {
     "data": {
      "text/plain": [
       "OP_HASH160 d1763eda828dbe7ae8374d2d7fb6c3381970b272 OP_EQUAL "
      ]
     },
     "execution_count": 70,
     "metadata": {},
     "output_type": "execute_result"
    }
   ],
   "source": [
    "# This is not set until after the update\n",
    "psbt_to_sign_bip322.tx_obj.tx_ins[0]._script_pubkey"
   ]
  },
  {
   "cell_type": "code",
   "execution_count": 64,
   "id": "7742b07f",
   "metadata": {},
   "outputs": [],
   "source": [
    "psbt_to_sign_bip322.update(tx_lookup,pubkey_lookup,redeem_lookup)"
   ]
  },
  {
   "cell_type": "code",
   "execution_count": 69,
   "id": "2b9b92e2",
   "metadata": {},
   "outputs": [
    {
     "data": {
      "text/plain": [
       "OP_HASH160 d1763eda828dbe7ae8374d2d7fb6c3381970b272 OP_EQUAL "
      ]
     },
     "execution_count": 69,
     "metadata": {},
     "output_type": "execute_result"
    }
   ],
   "source": [
    "# As you can see update populates the scriptPubKey from the to_spend transaction into the tx_obj in the PSBT \n",
    "# (the to_sign obj)\n",
    "psbt_to_sign_bip322.tx_obj.tx_ins[0]._script_pubkey"
   ]
  },
  {
   "cell_type": "markdown",
   "id": "fef9a632",
   "metadata": {},
   "source": [
    "## 8. Serialize and Share PSBT with Other Signing Parties\n",
    "\n",
    "See "
   ]
  },
  {
   "cell_type": "code",
   "execution_count": 73,
   "id": "a8897606",
   "metadata": {},
   "outputs": [
    {
     "name": "stdout",
     "output_type": "stream",
     "text": [
      "Copy this vvv \n",
      "\n",
      "\n",
      "b64_psbt = 'cHNidP8BAD0AAAAAAc1x8do1+Xx//5kLaBOvxoX7QqCmliMoz3h6Bo2b+7VkAAAAAAAAAAAAAQAAAAAAAAAAAWoAAAAAAAEAeAAAAAAAAQEAAAAAAAAAAAAAAAAAAAAAAAAAAAAAAAAAAAAAAAAAAP////8iACA4E3j7MVlbnxgcxmUY+N1w459TuGihtX+nhDqV8uyuxQAAAAABAAAAAAAAAAAXqRTRdj7ago2+eug3TS1/tsM4GXCycocAAAAAAAEEaVIhAiiXxstvIpi3LgHjQSxwjb9zUT+Y5ycBQzUVwmDWP7yeIQL9UULWmbO/ryqkHlpdq2/43f4DMZBI1J42XQxjw2ZDCyEC+uXB9l+Tuy7o40ywy9pfD8ctGNlFEffbtagn43c+3ZJTriIGAiiXxstvIpi3LgHjQSxwjb9zUT+Y5ycBQzUVwmDWP7yeFHsF6hstAACAAAAAAAAAAAABAAAAAAA='\n"
     ]
    }
   ],
   "source": [
    "from io import BytesIO\n",
    "\n",
    "b64_psbt = psbt_to_sign_bip322.serialize_base64()\n",
    "\n",
    "print(\"Copy this vvv \\n\\n\")\n",
    "\n",
    "print(f\"b64_psbt = '{b64_psbt}'\")"
   ]
  },
  {
   "cell_type": "markdown",
   "id": "c3333471",
   "metadata": {},
   "source": [
    "## 9. Recieve Signed PSBTs from Signer 1 and Signer 2 Notebooks\n",
    "\n",
    "Note: in this case the 2-3 multisig is satisfied from signatures provided by signer_1 and signer_2. The Creator has no contributed a signature.\n",
    "\n",
    "You could easily change this notebook so that it is the creator's signature plus one of the signers that satisfy the p2sh multisig instead though."
   ]
  },
  {
   "cell_type": "code",
   "execution_count": 88,
   "id": "945b27a8",
   "metadata": {},
   "outputs": [],
   "source": [
    "# Copy this from signer_1.ipynb\n",
    "\n",
    "signer_1_psbt_b64 = 'cHNidP8BAD0AAAAAAc1x8do1+Xx//5kLaBOvxoX7QqCmliMoz3h6Bo2b+7VkAAAAAAAAAAAAAQAAAAAAAAAAAWoAAAAAAAEAeAAAAAAAAQEAAAAAAAAAAAAAAAAAAAAAAAAAAAAAAAAAAAAAAAAAAP////8iACA4E3j7MVlbnxgcxmUY+N1w459TuGihtX+nhDqV8uyuxQAAAAABAAAAAAAAAAAXqRTRdj7ago2+eug3TS1/tsM4GXCycocAAAAAACICAv1RQtaZs7+vKqQeWl2rb/jd/gMxkEjUnjZdDGPDZkMLRzBEAiEAnqF2PrW8sM/5oVrfSpRlCatsF8TSSI45ti+3meo9LGwCH0is4oXB+V89FRxD/l7RESR0UdU/YYZ1SwyAN636w2UBAQRpUiECKJfGy28imLcuAeNBLHCNv3NRP5jnJwFDNRXCYNY/vJ4hAv1RQtaZs7+vKqQeWl2rb/jd/gMxkEjUnjZdDGPDZkMLIQL65cH2X5O7LujjTLDL2l8Pxy0Y2UUR99u1qCfjdz7dklOuIgYCKJfGy28imLcuAeNBLHCNv3NRP5jnJwFDNRXCYNY/vJ4UewXqGy0AAIAAAAAAAAAAAAEAAAAiBgL9UULWmbO/ryqkHlpdq2/43f4DMZBI1J42XQxjw2ZDCxQAAAAALQAAgAAAAAAAAAAAAwAAAAAA'"
   ]
  },
  {
   "cell_type": "code",
   "execution_count": null,
   "id": "e08126ac",
   "metadata": {},
   "outputs": [],
   "source": [
    "signer_1_psbt = PSBT.parse_base64(signer_1_psbt_b64)"
   ]
  },
  {
   "cell_type": "code",
   "execution_count": 86,
   "id": "1d006f02",
   "metadata": {},
   "outputs": [],
   "source": [
    "# Copy this from signer_2.ipynb\n",
    "\n",
    "signer_2_psbt_b64 = 'cHNidP8BAD0AAAAAAc1x8do1+Xx//5kLaBOvxoX7QqCmliMoz3h6Bo2b+7VkAAAAAAAAAAAAAQAAAAAAAAAAAWoAAAAAAAEAeAAAAAAAAQEAAAAAAAAAAAAAAAAAAAAAAAAAAAAAAAAAAAAAAAAAAP////8iACA4E3j7MVlbnxgcxmUY+N1w459TuGihtX+nhDqV8uyuxQAAAAABAAAAAAAAAAAXqRTRdj7ago2+eug3TS1/tsM4GXCycocAAAAAACICAvrlwfZfk7su6ONMsMvaXw/HLRjZRRH327WoJ+N3Pt2SRzBEAiAfd5b9XIUOhe8Jqx3yrGDCPk0NWjTB5e8zqrIZcsJHlgIgTCNsRXp9LpFY/pCwo5wzC+UavX9KB0ILqlbh4fzv9iABAQRpUiECKJfGy28imLcuAeNBLHCNv3NRP5jnJwFDNRXCYNY/vJ4hAv1RQtaZs7+vKqQeWl2rb/jd/gMxkEjUnjZdDGPDZkMLIQL65cH2X5O7LujjTLDL2l8Pxy0Y2UUR99u1qCfjdz7dklOuIgYCKJfGy28imLcuAeNBLHCNv3NRP5jnJwFDNRXCYNY/vJ4UewXqGy0AAIAAAAAAAAAAAAEAAAAiBgL65cH2X5O7LujjTLDL2l8Pxy0Y2UUR99u1qCfjdz7dkhQAHQ2eLQAAgAAAAAAAAAAABgAAAAAA'\n"
   ]
  },
  {
   "cell_type": "code",
   "execution_count": 89,
   "id": "14a6fd32",
   "metadata": {},
   "outputs": [],
   "source": [
    "signer_2_psbt = PSBT.parse_base64(signer_2_psbt_b64)"
   ]
  },
  {
   "cell_type": "markdown",
   "id": "3b45aa33",
   "metadata": {},
   "source": [
    "## 10. Combine PSBTs "
   ]
  },
  {
   "cell_type": "code",
   "execution_count": 92,
   "id": "5bd07783",
   "metadata": {},
   "outputs": [
    {
     "data": {
      "text/plain": [
       "2"
      ]
     },
     "execution_count": 92,
     "metadata": {},
     "output_type": "execute_result"
    }
   ],
   "source": [
    "# Before combination the psbt only has a single sig\n",
    "len(signer_1_psbt.psbt_ins[0].sigs)"
   ]
  },
  {
   "cell_type": "code",
   "execution_count": 90,
   "id": "40ec3689",
   "metadata": {},
   "outputs": [],
   "source": [
    "signer_1_psbt.combine(signer_2_psbt)"
   ]
  },
  {
   "cell_type": "code",
   "execution_count": 93,
   "id": "6dcdfa9b",
   "metadata": {},
   "outputs": [
    {
     "data": {
      "text/plain": [
       "2"
      ]
     },
     "execution_count": 93,
     "metadata": {},
     "output_type": "execute_result"
    }
   ],
   "source": [
    "# Afterwards there are two signatures\n",
    "len(signer_1_psbt.psbt_ins[0].sigs)"
   ]
  },
  {
   "cell_type": "markdown",
   "id": "2f308c3f",
   "metadata": {},
   "source": [
    "## 11. Finalize the PSBT to produce the scriptSig on the PSBT Input from the sigs"
   ]
  },
  {
   "cell_type": "code",
   "execution_count": null,
   "id": "accf775a",
   "metadata": {},
   "outputs": [],
   "source": [
    "# ScriptSig not populated until after finalization\n",
    "signer_1_psbt.psbt_ins[0].script_sig"
   ]
  },
  {
   "cell_type": "code",
   "execution_count": 94,
   "id": "6946548e",
   "metadata": {},
   "outputs": [],
   "source": [
    "signer_1_psbt.finalize()"
   ]
  },
  {
   "cell_type": "markdown",
   "id": "dac659e6",
   "metadata": {},
   "source": [
    "signer_1_psbt.psbt_ins[0].script_sig"
   ]
  },
  {
   "cell_type": "markdown",
   "id": "a30016b5",
   "metadata": {},
   "source": [
    "## 12. Create Final Bitcoin Tx Object from PSBT"
   ]
  },
  {
   "cell_type": "code",
   "execution_count": 99,
   "id": "189b368c",
   "metadata": {},
   "outputs": [
    {
     "data": {
      "text/plain": [
       "0"
      ]
     },
     "execution_count": 99,
     "metadata": {},
     "output_type": "execute_result"
    }
   ],
   "source": [
    "# Remember: currently the final_tx() function on the PSBT fails because there are no funds for a tx fee\n",
    "# BUT for a bip322 we don't need any fee\n",
    "signer_1_psbt.final_tx()"
   ]
  },
  {
   "cell_type": "code",
   "execution_count": 100,
   "id": "a1bd1447",
   "metadata": {},
   "outputs": [],
   "source": [
    "## Proposed update to the final_tx function in psbt.py\n",
    "\n",
    "def final_tx(psbt, is_bip322=False):\n",
    "        \"\"\"Returns the broadcast-able transaction\"\"\"\n",
    "        # clone the transaction from self.tx_obj\n",
    "        tx_obj = psbt.tx_obj.clone()\n",
    "        # determine if the transaction is segwit by looking for a witness field\n",
    "        #  in any PSBTIn. if so, set tx_obj.segwit = True\n",
    "        if any([psbt_in.witness for psbt_in in psbt.psbt_ins]):\n",
    "            tx_obj.segwit = True\n",
    "        # iterate through the transaction and PSBT inputs together\n",
    "        #  using zip(tx_obj.tx_ins, self.psbt_ins)\n",
    "        for tx_in, psbt_in in zip(tx_obj.tx_ins, psbt.psbt_ins):\n",
    "            # set the ScriptSig of the transaction input\n",
    "            tx_in.script_sig = psbt_in.script_sig\n",
    "            # Exercise 7: if the tx is segwit, set the witness as well\n",
    "            if tx_obj.segwit:\n",
    "                # witness should be the PSBTIn witness or an empty Witness()\n",
    "                tx_in.witness = psbt_in.witness or Witness()\n",
    "        # check to see that the transaction verifies\n",
    "        if not is_bip322 and not tx_obj.verify():\n",
    "            raise RuntimeError(\"transaction invalid\")\n",
    "        # return the now filled in transaction\n",
    "        return tx_obj"
   ]
  },
  {
   "cell_type": "code",
   "execution_count": 101,
   "id": "a3beaa99",
   "metadata": {},
   "outputs": [],
   "source": [
    "final_to_sign_tx = final_tx(signer_1_psbt, True)"
   ]
  },
  {
   "cell_type": "markdown",
   "id": "82911507",
   "metadata": {},
   "source": [
    "## 13. Check Signature on Input is Valid"
   ]
  },
  {
   "cell_type": "code",
   "execution_count": 103,
   "id": "a3ed83bf",
   "metadata": {},
   "outputs": [
    {
     "data": {
      "text/plain": [
       "True"
      ]
     },
     "execution_count": 103,
     "metadata": {},
     "output_type": "execute_result"
    }
   ],
   "source": [
    "final_to_sign_tx.verify_input(0)"
   ]
  },
  {
   "cell_type": "markdown",
   "id": "0da6ca5e",
   "metadata": {},
   "source": [
    "## 14. Serialize to_sign transaction as BIP322 Signature"
   ]
  },
  {
   "cell_type": "code",
   "execution_count": 106,
   "id": "4fb689cd",
   "metadata": {},
   "outputs": [
    {
     "name": "stdout",
     "output_type": "stream",
     "text": [
      "AAAAAAHNcfHaNfl8f/+ZC2gTr8aF+0KgppYjKM94egaNm/u1ZAAAAAD8AEcwRAIhAJ6hdj61vLDP+aFa30qUZQmrbBfE0kiOObYvt5nqPSxsAh9IrOKFwflfPRUcQ/5e0REkdFHVP2GGdUsMgDet+sNlAUcwRAIgH3eW/VyFDoXvCasd8qxgwj5NDVo0weXvM6qyGXLCR5YCIEwjbEV6fS6RWP6QsKOcMwvlGr1/SgdCC6pW4eH87/YgAUxpUiECKJfGy28imLcuAeNBLHCNv3NRP5jnJwFDNRXCYNY/vJ4hAv1RQtaZs7+vKqQeWl2rb/jd/gMxkEjUnjZdDGPDZkMLIQL65cH2X5O7LujjTLDL2l8Pxy0Y2UUR99u1qCfjdz7dklOuAAAAAAEAAAAAAAAAAAFqAAAAAA==\n"
     ]
    }
   ],
   "source": [
    "from buidl.helper import base64_encode\n",
    "bip322_musig = base64_encode(final_to_sign_tx.serialize())\n",
    "\n",
    "print(bip322_musig)"
   ]
  },
  {
   "cell_type": "markdown",
   "id": "f2d57f25",
   "metadata": {},
   "source": [
    "## 15. Verify BIP322 Signature against message and address"
   ]
  },
  {
   "cell_type": "code",
   "execution_count": 107,
   "id": "333ec5ae",
   "metadata": {},
   "outputs": [],
   "source": [
    "from src.message import verify_message"
   ]
  },
  {
   "cell_type": "code",
   "execution_count": 109,
   "id": "2fc44ae1",
   "metadata": {},
   "outputs": [
    {
     "data": {
      "text/plain": [
       "True"
      ]
     },
     "execution_count": 109,
     "metadata": {},
     "output_type": "execute_result"
    }
   ],
   "source": [
    "verify_message(p2sh_address, bip322_musig, message_to_sign)"
   ]
  },
  {
   "cell_type": "code",
   "execution_count": null,
   "id": "12fe52e0",
   "metadata": {},
   "outputs": [],
   "source": []
  }
 ],
 "metadata": {
  "kernelspec": {
   "display_name": "Python 3",
   "language": "python",
   "name": "python3"
  },
  "language_info": {
   "codemirror_mode": {
    "name": "ipython",
    "version": 3
   },
   "file_extension": ".py",
   "mimetype": "text/x-python",
   "name": "python",
   "nbconvert_exporter": "python",
   "pygments_lexer": "ipython3",
   "version": "3.8.5"
  }
 },
 "nbformat": 4,
 "nbformat_minor": 5
}
