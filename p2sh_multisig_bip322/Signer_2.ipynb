{
 "cells": [
  {
   "cell_type": "markdown",
   "id": "7449f89b",
   "metadata": {},
   "source": [
    "# P2SH MultiSig BIP322\n",
    "## Role: Signer"
   ]
  },
  {
   "cell_type": "markdown",
   "id": "3c184c0c",
   "metadata": {},
   "source": [
    "## 1. Generate HD Key from mneumonic"
   ]
  },
  {
   "cell_type": "code",
   "execution_count": 3,
   "id": "d04a92d8",
   "metadata": {},
   "outputs": [],
   "source": [
    "from buidl.mnemonic import secure_mnemonic\n",
    "from buidl.hd import HDPrivateKey\n",
    "\n",
    "# mnemonic = secure_mnemonic()\n",
    "\n",
    "mnemonic = 'army injury wrestle spin loyal skill acid word hobby prosper purity disorder impulse observe elevator perfect deer student juice reveal portion nice quarter banana'\n",
    "\n",
    "hd_root = HDPrivateKey.from_mnemonic(mnemonic)"
   ]
  },
  {
   "cell_type": "markdown",
   "id": "7a968ca8",
   "metadata": {},
   "source": [
    "## 2. Select Key to Sign With"
   ]
  },
  {
   "cell_type": "code",
   "execution_count": 5,
   "id": "acf81356",
   "metadata": {},
   "outputs": [],
   "source": [
    "bip32_path = \"m/45'/0/0/6\"\n",
    "\n",
    "hd_priv_a = hd_root.traverse(bip32_path)\n",
    "pubkey = hd_priv_a.pub.point\n"
   ]
  },
  {
   "cell_type": "markdown",
   "id": "9bcda7c0",
   "metadata": {},
   "source": [
    "## 3. Share Public Key with Creator\n",
    "\n",
    "The public key to include in a p2sh redeem script must be communicated to the creator of a BIP322 signature through some communication channel. This channel is out of scope.\n",
    "\n",
    "In this example we will copy a hex representation of the public key across to the [PSBT Creator notebook](http://localhost:8888/notebooks/p2sh_multisig_bip322/PSBT_creator.ipynb)"
   ]
  },
  {
   "cell_type": "code",
   "execution_count": 13,
   "id": "127a4e47",
   "metadata": {},
   "outputs": [
    {
     "name": "stdout",
     "output_type": "stream",
     "text": [
      "Copy the below line into step 3 of the creator notebook \n",
      "\n",
      "signer_1_pubkey = '02fae5c1f65f93bb2ee8e34cb0cbda5f0fc72d18d94511f7dbb5a827e3773edd92'\n"
     ]
    }
   ],
   "source": [
    "print(\"Copy the below line into step 3 of the creator notebook \\n\")\n",
    "print(f\"signer_2_pubkey = '{pubkey.sec().hex()}'\")"
   ]
  },
  {
   "cell_type": "code",
   "execution_count": null,
   "id": "1895bb1a",
   "metadata": {},
   "outputs": [],
   "source": []
  }
 ],
 "metadata": {
  "kernelspec": {
   "display_name": "Python 3",
   "language": "python",
   "name": "python3"
  },
  "language_info": {
   "codemirror_mode": {
    "name": "ipython",
    "version": 3
   },
   "file_extension": ".py",
   "mimetype": "text/x-python",
   "name": "python",
   "nbconvert_exporter": "python",
   "pygments_lexer": "ipython3",
   "version": "3.8.5"
  }
 },
 "nbformat": 4,
 "nbformat_minor": 5
}
