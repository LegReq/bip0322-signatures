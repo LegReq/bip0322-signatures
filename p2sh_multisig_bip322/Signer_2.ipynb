{
 "cells": [
  {
   "cell_type": "markdown",
   "id": "7449f89b",
   "metadata": {},
   "source": [
    "# P2SH MultiSig BIP322\n",
    "## Role: Signer"
   ]
  },
  {
   "cell_type": "markdown",
   "id": "3c184c0c",
   "metadata": {},
   "source": [
    "## 1. Generate HD Key from mneumonic"
   ]
  },
  {
   "cell_type": "code",
   "execution_count": 1,
   "id": "d04a92d8",
   "metadata": {},
   "outputs": [],
   "source": [
    "from buidl.mnemonic import secure_mnemonic\n",
    "from buidl.hd import HDPrivateKey\n",
    "\n",
    "# mnemonic = secure_mnemonic()\n",
    "\n",
    "mnemonic = 'army injury wrestle spin loyal skill acid word hobby prosper purity disorder impulse observe elevator perfect deer student juice reveal portion nice quarter banana'\n",
    "\n",
    "hd_root = HDPrivateKey.from_mnemonic(mnemonic)\n",
    "root_xfp = hd_root.fingerprint().hex()"
   ]
  },
  {
   "cell_type": "code",
   "execution_count": 2,
   "id": "d5fa8cb7",
   "metadata": {},
   "outputs": [
    {
     "data": {
      "text/plain": [
       "'L1zt9Rw7HrU7jaguMbVzhiX8ffuVkmMis5wLHddXYuHWYf8u8uRj'"
      ]
     },
     "execution_count": 2,
     "metadata": {},
     "output_type": "execute_result"
    }
   ],
   "source": [
    "hd_root.wif()"
   ]
  },
  {
   "cell_type": "markdown",
   "id": "7a968ca8",
   "metadata": {},
   "source": [
    "## 2. Select Key to Sign With"
   ]
  },
  {
   "cell_type": "code",
   "execution_count": 5,
   "id": "acf81356",
   "metadata": {},
   "outputs": [],
   "source": [
    "bip32_path = \"m/45'/0/0/6\"\n",
    "\n",
    "signing_privkey = hd_root.traverse(bip32_path)\n",
    "signing_pubkey = signing_privkey.pub.point\n"
   ]
  },
  {
   "cell_type": "markdown",
   "id": "9bcda7c0",
   "metadata": {},
   "source": [
    "## 3. Share Public Key with Creator\n",
    "\n",
    "The public key to include in a p2sh redeem script must be communicated to the creator of a BIP322 signature through some communication channel. This channel is out of scope.\n",
    "\n",
    "In this example we will copy a hex representation of the public key across to the [PSBT Creator notebook](http://localhost:8888/notebooks/p2sh_multisig_bip322/PSBT_creator.ipynb)"
   ]
  },
  {
   "cell_type": "code",
   "execution_count": 6,
   "id": "127a4e47",
   "metadata": {},
   "outputs": [
    {
     "name": "stdout",
     "output_type": "stream",
     "text": [
      "Copy the below line into step 3 of the creator notebook \n",
      "\n",
      "signer_2_pubkey = '02fae5c1f65f93bb2ee8e34cb0cbda5f0fc72d18d94511f7dbb5a827e3773edd92'\n"
     ]
    }
   ],
   "source": [
    "print(\"Copy the below line into step 3 of the creator notebook \\n\")\n",
    "print(f\"signer_2_pubkey = '{signing_pubkey.sec().hex()}'\")"
   ]
  },
  {
   "cell_type": "markdown",
   "id": "6384e8a7",
   "metadata": {},
   "source": [
    "## 4. Recieve PSBT from Creator\n",
    "\n",
    "Some out of band communication mechanism"
   ]
  },
  {
   "cell_type": "code",
   "execution_count": 1,
   "id": "6ddaf01d",
   "metadata": {},
   "outputs": [],
   "source": [
    "#### Copy from PSBT_Creator notebook Step 8. ######\n",
    "\n",
    "b64_psbt = 'cHNidP8BAD0AAAAAAc1x8do1+Xx//5kLaBOvxoX7QqCmliMoz3h6Bo2b+7VkAAAAAAAAAAAAAQAAAAAAAAAAAWoAAAAAAAEAeAAAAAAAAQEAAAAAAAAAAAAAAAAAAAAAAAAAAAAAAAAAAAAAAAAAAP////8iACA4E3j7MVlbnxgcxmUY+N1w459TuGihtX+nhDqV8uyuxQAAAAABAAAAAAAAAAAXqRTRdj7ago2+eug3TS1/tsM4GXCycocAAAAAAAEEaVIhAiiXxstvIpi3LgHjQSxwjb9zUT+Y5ycBQzUVwmDWP7yeIQL9UULWmbO/ryqkHlpdq2/43f4DMZBI1J42XQxjw2ZDCyEC+uXB9l+Tuy7o40ywy9pfD8ctGNlFEffbtagn43c+3ZJTriIGAiiXxstvIpi3LgHjQSxwjb9zUT+Y5ycBQzUVwmDWP7yeFHsF6hstAACAAAAAAAAAAAABAAAAAAA='"
   ]
  },
  {
   "cell_type": "code",
   "execution_count": 2,
   "id": "1e489855",
   "metadata": {},
   "outputs": [],
   "source": [
    "from buidl.psbt import PSBT\n",
    "psbt_to_sign = PSBT.parse_base64(b64_psbt)"
   ]
  },
  {
   "cell_type": "markdown",
   "id": "7e16c014",
   "metadata": {},
   "source": [
    "## 5. TODO: How does the signer Verify the Message that they are signing with this\n",
    "\n",
    "I assume they must be given the means to construct the to_spend transaction themselves and verify that this is referenced as the only input to the tx_obj in the PSBT"
   ]
  },
  {
   "cell_type": "markdown",
   "id": "9d41aa93",
   "metadata": {},
   "source": [
    "## 6. Update PSBT with pubkey"
   ]
  },
  {
   "cell_type": "code",
   "execution_count": 9,
   "id": "a59f962a",
   "metadata": {},
   "outputs": [],
   "source": [
    "from buidl.psbt import NamedHDPublicKey\n",
    "\n",
    "pubkey_lookup = {}\n",
    "\n",
    "named_hd_pubkey_obj = NamedHDPublicKey.from_hd_pub(\n",
    "    child_hd_pub=signing_privkey.pub,\n",
    "    xfp_hex=root_xfp,\n",
    "    path=bip32_path,\n",
    ")\n",
    "# pubkey lookups needed for validation\n",
    "pubkey_lookup[named_hd_pubkey_obj.sec()] = named_hd_pubkey_obj"
   ]
  },
  {
   "cell_type": "code",
   "execution_count": 10,
   "id": "9632c69a",
   "metadata": {},
   "outputs": [],
   "source": [
    "# Note tx_lookup is set to None, because already been defined by creator\n",
    "psbt_to_sign.update(None, pubkey_lookup)"
   ]
  },
  {
   "cell_type": "markdown",
   "id": "9444a808",
   "metadata": {},
   "source": [
    "## 7. Sign the PSBT"
   ]
  },
  {
   "cell_type": "code",
   "execution_count": 11,
   "id": "70b59c95",
   "metadata": {},
   "outputs": [
    {
     "data": {
      "text/plain": [
       "True"
      ]
     },
     "execution_count": 11,
     "metadata": {},
     "output_type": "execute_result"
    }
   ],
   "source": [
    "psbt_to_sign.sign(hd_root)"
   ]
  },
  {
   "cell_type": "markdown",
   "id": "f1714340",
   "metadata": {},
   "source": [
    "## 9. Serialize Signed PSBT and Return to Creator\n",
    "\n",
    "Note: Communication channel out of band. We use copy and paste."
   ]
  },
  {
   "cell_type": "code",
   "execution_count": 12,
   "id": "844d8fad",
   "metadata": {},
   "outputs": [
    {
     "name": "stdout",
     "output_type": "stream",
     "text": [
      "Copy this VVVV \n",
      "\n",
      "\n",
      "signer_2_psbt_b64 = 'cHNidP8BAD0AAAAAAc1x8do1+Xx//5kLaBOvxoX7QqCmliMoz3h6Bo2b+7VkAAAAAAAAAAAAAQAAAAAAAAAAAWoAAAAAAAEAeAAAAAAAAQEAAAAAAAAAAAAAAAAAAAAAAAAAAAAAAAAAAAAAAAAAAP////8iACA4E3j7MVlbnxgcxmUY+N1w459TuGihtX+nhDqV8uyuxQAAAAABAAAAAAAAAAAXqRTRdj7ago2+eug3TS1/tsM4GXCycocAAAAAACICAvrlwfZfk7su6ONMsMvaXw/HLRjZRRH327WoJ+N3Pt2SRzBEAiAfd5b9XIUOhe8Jqx3yrGDCPk0NWjTB5e8zqrIZcsJHlgIgTCNsRXp9LpFY/pCwo5wzC+UavX9KB0ILqlbh4fzv9iABAQRpUiECKJfGy28imLcuAeNBLHCNv3NRP5jnJwFDNRXCYNY/vJ4hAv1RQtaZs7+vKqQeWl2rb/jd/gMxkEjUnjZdDGPDZkMLIQL65cH2X5O7LujjTLDL2l8Pxy0Y2UUR99u1qCfjdz7dklOuIgYCKJfGy28imLcuAeNBLHCNv3NRP5jnJwFDNRXCYNY/vJ4UewXqGy0AAIAAAAAAAAAAAAEAAAAiBgL65cH2X5O7LujjTLDL2l8Pxy0Y2UUR99u1qCfjdz7dkhQAHQ2eLQAAgAAAAAAAAAAABgAAAAAA'\n"
     ]
    }
   ],
   "source": [
    "signer_2_psbt_b64 = psbt_to_sign.serialize_base64()\n",
    "print(\"Copy this VVVV \\n\\n\")\n",
    "print(f\"signer_2_psbt_b64 = '{signer_2_psbt_b64}'\")"
   ]
  },
  {
   "cell_type": "code",
   "execution_count": null,
   "id": "7d6618a9",
   "metadata": {},
   "outputs": [],
   "source": []
  }
 ],
 "metadata": {
  "kernelspec": {
   "display_name": "Python 3",
   "language": "python",
   "name": "python3"
  },
  "language_info": {
   "codemirror_mode": {
    "name": "ipython",
    "version": 3
   },
   "file_extension": ".py",
   "mimetype": "text/x-python",
   "name": "python",
   "nbconvert_exporter": "python",
   "pygments_lexer": "ipython3",
   "version": "3.8.5"
  }
 },
 "nbformat": 4,
 "nbformat_minor": 5
}
