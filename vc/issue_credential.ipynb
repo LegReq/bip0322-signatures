{
 "cells": [
  {
   "cell_type": "markdown",
   "id": "3943e17f",
   "metadata": {},
   "source": [
    "# Issue a Credential using BIP 322 Signatures"
   ]
  },
  {
   "cell_type": "markdown",
   "id": "ec273806",
   "metadata": {},
   "source": [
    "This notebook outlines how a Bitcoin address can be used to sign a [W3C Verifiable Credential](https://www.w3.org/TR/vc-data-model/) using BIP 322 signatures following the [W3C Data Integrity Specification](https://w3c.github.io/vc-data-integrity).\n",
    "\n",
    "A detailed walkthrough of how BIP 322 signatures work can be found in [this notebook](../BIP0322_signing.ipynb)."
   ]
  },
  {
   "cell_type": "markdown",
   "id": "3dabd3e5",
   "metadata": {},
   "source": [
    "## Notebook Author\n",
    "\n",
    "* Will Abramson\n",
    "* [Legendary Requirements](http://legreq.com/)\n",
    "* Contact: will@legreq.com"
   ]
  },
  {
   "cell_type": "markdown",
   "id": "ec65dedf",
   "metadata": {},
   "source": [
    "## Acknowledgements\n",
    "\n",
    "This work was funded by Ryan Grant and Digital Contract Design. Thanks also go to Joe Andrieu, Kalle Alm, Pieter Wuille and Jimmy Song for engaging with and supporting various aspects of this work."
   ]
  },
  {
   "cell_type": "markdown",
   "id": "0e812f38",
   "metadata": {},
   "source": [
    "## Imports"
   ]
  },
  {
   "cell_type": "code",
   "execution_count": 1,
   "id": "4385105d",
   "metadata": {},
   "outputs": [
    {
     "name": "stdout",
     "output_type": "stream",
     "text": [
      "/home/will/work/LegendaryRequirements/clients/dcd/bip0322-sigs\n"
     ]
    }
   ],
   "source": [
    "cd .."
   ]
  },
  {
   "cell_type": "code",
   "execution_count": 2,
   "id": "621c4bf7",
   "metadata": {},
   "outputs": [],
   "source": [
    "import copy\n",
    "import datetime"
   ]
  },
  {
   "cell_type": "code",
   "execution_count": 3,
   "id": "f92844d9",
   "metadata": {},
   "outputs": [],
   "source": [
    "# buidl-python dependencies\n",
    "from buidl.ecc import PrivateKey\n",
    "from buidl.helper import sha256, bytes_to_str, str_to_bytes"
   ]
  },
  {
   "cell_type": "code",
   "execution_count": 4,
   "id": "d1ef362b",
   "metadata": {},
   "outputs": [],
   "source": [
    "# BIP322 Signature Implementation\n",
    "from src.message import sign_message, MessageSignatureFormat"
   ]
  },
  {
   "cell_type": "code",
   "execution_count": 5,
   "id": "56b8ea0a",
   "metadata": {},
   "outputs": [],
   "source": [
    "# Contains URDNA2015 cannonicalization library from Digital Bazaar - https://github.com/digitalbazaar/pyld\n",
    "from pyld import jsonld"
   ]
  },
  {
   "cell_type": "markdown",
   "id": "f2a61b64",
   "metadata": {},
   "source": [
    "## Define Verification Method\n",
    "\n",
    "Before a Data Integrity proof can be created for a VC, the issuer have a verificationMethod that is identifiable through a URL, typically a Decentralized Identifier. This is then included in the VC such that a verifier can dereference the URL to retrieve the public material necessary to verify the proof. Typically this is a cryptographic public key and associated alogorithm, however in the case of BIP 322 this will be a bitcoin address that should be used with the BIP 322 verification mechanism."
   ]
  },
  {
   "cell_type": "markdown",
   "id": "9971f47c",
   "metadata": {},
   "source": [
    "### Steps\n",
    "\n",
    "1. Create secp256K1 Private/Public Key pair\n",
    "2. Get valid bitcoin address associated with the public key\n",
    "3. Include bitcoin address as a BIP322 verificationMethod in a DID document"
   ]
  },
  {
   "cell_type": "markdown",
   "id": "207fa91d",
   "metadata": {},
   "source": [
    "### 1. Create secp256K1 Private/Public Key pair"
   ]
  },
  {
   "cell_type": "code",
   "execution_count": 6,
   "id": "1218e601",
   "metadata": {},
   "outputs": [
    {
     "name": "stdout",
     "output_type": "stream",
     "text": [
      "Private Key :  <buidl.pecc.PrivateKey object at 0x7f7c3bc37d30>\n",
      "Public Key :  S256Point(03c8822574d7c7055ade7c7dd598dd5af47e72354b56e3fa1e2c2c3cf025f6cf31)\n"
     ]
    }
   ],
   "source": [
    "private_key_wif = \"L4qmTC36US6tngrqbrW6vffZbxUVSfipQqXxdJw8S5HqyxNebaMP\"\n",
    "private_key = PrivateKey.parse(private_key_wif)\n",
    "public_key = private_key.point\n",
    "\n",
    "print(\"Private Key : \", private_key)\n",
    "print(\"Public Key : \", public_key)"
   ]
  },
  {
   "cell_type": "markdown",
   "id": "ef2600fd",
   "metadata": {},
   "source": [
    "### 2. Get valid bitcoin address associated with the public key\n",
    "\n",
    "Note: there are many valid bitcoin addresses that can be used: p2pkh, p2wpkh, p2tr, p2sh. These can encode complex verification rules including t-of-m multisignatures. This is one of the advantages of BIP322 over traditional public key signaturte schemes. This is discussed on more detail [here](https://github.com/WebOfTrustInfo/rwot11-the-hague/blob/master/advance-readings/bip322-signature-suite.md).\n",
    "\n",
    "For this example we will use a simple p2wpkh, such that a valid BIP322 signature can be created with a signature from the private key created in step 1 over data in a specific format specified by the BIP322 specification."
   ]
  },
  {
   "cell_type": "code",
   "execution_count": 7,
   "id": "fbce7610",
   "metadata": {},
   "outputs": [
    {
     "name": "stdout",
     "output_type": "stream",
     "text": [
      "Bitcoin address :  bc1qz52z3pe9fg3qxv9n6yhxgj7rcn8wsvpq56v9ck\n"
     ]
    }
   ],
   "source": [
    "address = private_key.point.p2wpkh_address()\n",
    "print(\"Bitcoin address : \", address)"
   ]
  },
  {
   "cell_type": "markdown",
   "id": "3b1b344f",
   "metadata": {},
   "source": [
    "### 3. Include bitcoin address as a BIP322 verificationMethod in a DID document\n",
    "\n",
    "A verificationMethod is defined in the [W3C DID specification](https://www.w3.org/TR/did-core/#verification-methods). It needs to include:\n",
    "\n",
    "* id: The value of the id property for a verification method MUST be a string that conforms to the rules in Section 3.2 DID URL Syntax.\n",
    "* type: The value of the type property MUST be a string that references exactly one verification method type. In order to maximize global interoperability, the verification method type SHOULD be registered in the DID Specification Registries [DID-SPEC-REGISTRIES]. \n",
    "* controller: The value of the controller property MUST be a string that conforms to the rules in 3.1 DID Syntax. \n",
    "\n",
    "TODO: A verificationMethod for BIP322 needs to be defined as part of a BIP322 Signature suite. \n",
    "**ISSUE:** The Data Integrity specification states that it:\n",
    "> limits the number of formats for expressing verification material in a controller document. The fewer formats that implementers have to implement, the more likely it will be that they will support all of them.\n",
    "\n",
    "Currently the spec only supports publicKeyJWK and publicKeyMultibase. We will need to extend this to include something like `address`, to hold the bitcoin address.\n",
    "\n",
    "Note: Once a verificationMethod for BIP322 has been defined, it should be possible for most DID documents to add specific BIP322 as a verification method. In this example we extend a BTCR v0.1 document to include a WIP verificationMethod for BIP322. Resolution of this DID document from the DID is out of scope for this example."
   ]
  },
  {
   "cell_type": "code",
   "execution_count": 8,
   "id": "92cf2999",
   "metadata": {},
   "outputs": [],
   "source": [
    "# Example test net did:btcr (taken from 0.1 spec)\n",
    "issuer_did_btcr = \"did:btcr:xyv2-xzpq-q9wa-p7t\""
   ]
  },
  {
   "cell_type": "code",
   "execution_count": 10,
   "id": "ec25bcd9",
   "metadata": {},
   "outputs": [],
   "source": [
    "# Currently resolves to this\n",
    "did_doc = {\n",
    "    \"@context\": [\n",
    "        \"https://w3id.org/did/v0.11\", \n",
    "        \"https://w3id.org/btcr/v1\"\n",
    "    ],\n",
    "    \"id\": \"did:btcr:xyv2-xzpq-q9wa-p7t\",\n",
    "    \"verificationMethod\": [\n",
    "       {\n",
    "            \"id\": \"did:btcr:xyv2-xzpq-q9wa-p7t#satoshi\",\n",
    "            \"controller\": \"did:btcr:xyv2-xzpq-q9wa-p7t\",\n",
    "            \"type\": \"EcdsaSecp256k1VerificationKey2019\",\n",
    "            \"publicKeyBase58\": \"owh12LKNuphe97teJTZKQTKNewSVTwjHcskPbq34epCY\"\n",
    "        },\n",
    "        {\n",
    "             \"id\": \"did:btcr:xyv2-xzpq-q9wa-p7t#vckey-0\",\n",
    "             \"controller\": \"did:btcr:xyv2-xzpq-q9wa-p7t\",\n",
    "             \"type\": \"EcdsaSecp256k1VerificationKey2019\",\n",
    "             \"publicKeyBase58\": \"owh12LKNuphe97teJTZKQTKNewSVTwjHcskPbq34epCY\"\n",
    "         },\n",
    "    ##########################      EXAMPLE       #################################\n",
    "        ### What are the resolution rules that parse the Bitcoin Tx at ref xyv2-xzpq-q9wa-p7t\n",
    "        ### To populate this verificationMethod into the didDocument.\n",
    "        ### E.g. scriptPubKey from UTX0 at index 1 in tx at ref xyv2-xzpq-q9wa-p7t\n",
    "        {\n",
    "             \"id\": \"did:btcr2:xyv2-xzpq-q9wa-p7t#vm-1\",\n",
    "             \"controller\": \"did:btcr:xyv2-xzpq-q9wa-p7t\",\n",
    "             \"type\": \"BIP322VerificationAddress2022\",\n",
    "             \"address\": address\n",
    "        }\n",
    "    \n",
    "    ###############################################################################\n",
    "    ],\n",
    "    \"authentication\": [\"#satoshi\"],\n",
    "    \"assertionMethod\": [\"#vckey-0\",\"#vm-1\"]\n",
    "}\n"
   ]
  },
  {
   "cell_type": "markdown",
   "id": "2ee98c6e",
   "metadata": {},
   "source": [
    "## Define a VC to be Signed\n",
    "\n",
    "Issuer needs to decide:\n",
    "\n",
    "* Contents of credential\n",
    "* Schema of credential\n",
    "* Key pair and associated identifier they will be signing with\n",
    "* Identifier to use to the credential subject"
   ]
  },
  {
   "cell_type": "code",
   "execution_count": 31,
   "id": "6f0a1f83",
   "metadata": {},
   "outputs": [],
   "source": [
    "bip322Context = {\n",
    "  \"@context\": {\n",
    "    \"id\": \"@id\",\n",
    "    \"type\": \"@type\",\n",
    "    \"@protected\": True,\n",
    "    \"proof\": {\n",
    "      \"@id\": \"https://w3id.org/security#proof\",\n",
    "      \"@type\": \"@id\",\n",
    "      \"@container\": \"@graph\"\n",
    "    },\n",
    "      \"@id\": \"https://w3id.org/security#BIP322VerificationAddress2022\",\n",
    "      \"@context\": {\n",
    "        \"@protected\": True,\n",
    "        \"id\": \"@id\",\n",
    "        \"type\": \"@type\",\n",
    "        \"controller\": {\n",
    "          \"@id\": \"https://w3id.org/security#controller\",\n",
    "          \"@type\": \"@id\"\n",
    "        },\n",
    "        \"revoked\": {\n",
    "          \"@id\": \"https://w3id.org/security#revoked\",\n",
    "          \"@type\": \"http://www.w3.org/2001/XMLSchema#dateTime\"\n",
    "        },\n",
    "        \"address\": {\n",
    "         #  TODO: Define these URLs somewhere\n",
    "          \"@id\": \"https://w3id.org/bip322#address\",   \n",
    "          \"@type\": \"https://w3id.org/bip322#address\"\n",
    "        }\n",
    "      }\n",
    "    },\n",
    "    \"BIP322Signature2022\": {\n",
    "      \"@id\": \"https://w3id.org/security#BIP322Signature2022\",\n",
    "      \"@context\": {\n",
    "        \"@protected\": True,\n",
    "        \"id\": \"@id\",\n",
    "        \"type\": \"@type\",\n",
    "        \"challenge\": \"https://w3id.org/security#challenge\",\n",
    "        \"created\": {\n",
    "          \"@id\": \"http://purl.org/dc/terms/created\",\n",
    "          \"@type\": \"http://www.w3.org/2001/XMLSchema#dateTime\"\n",
    "        },\n",
    "        \"domain\": \"https://w3id.org/security#domain\",\n",
    "        \"expires\": {\n",
    "          \"@id\": \"https://w3id.org/security#expiration\",\n",
    "          \"@type\": \"http://www.w3.org/2001/XMLSchema#dateTime\"\n",
    "        },\n",
    "        \"nonce\": \"https://w3id.org/security#nonce\",\n",
    "        \"proofPurpose\": {\n",
    "          \"@id\": \"https://w3id.org/security#proofPurpose\",\n",
    "          \"@type\": \"@vocab\",\n",
    "          \"@context\": {\n",
    "            \"@protected\": True,\n",
    "            \"id\": \"@id\",\n",
    "            \"type\": \"@type\",\n",
    "            \"assertionMethod\": {\n",
    "              \"@id\": \"https://w3id.org/security#assertionMethod\",\n",
    "              \"@type\": \"@id\",\n",
    "              \"@container\": \"@set\"\n",
    "            },\n",
    "            \"authentication\": {\n",
    "              \"@id\": \"https://w3id.org/security#authenticationMethod\",\n",
    "              \"@type\": \"@id\",\n",
    "              \"@container\": \"@set\"\n",
    "            },\n",
    "            \"capabilityInvocation\": {\n",
    "              \"@id\": \"https://w3id.org/security#capabilityInvocationMethod\",\n",
    "              \"@type\": \"@id\",\n",
    "              \"@container\": \"@set\"\n",
    "            },\n",
    "            \"capabilityDelegation\": {\n",
    "              \"@id\": \"https://w3id.org/security#capabilityDelegationMethod\",\n",
    "              \"@type\": \"@id\",\n",
    "              \"@container\": \"@set\"\n",
    "            },\n",
    "            \"keyAgreement\": {\n",
    "              \"@id\": \"https://w3id.org/security#keyAgreementMethod\",\n",
    "              \"@type\": \"@id\",\n",
    "              \"@container\": \"@set\"\n",
    "            }\n",
    "          }\n",
    "        },\n",
    "        \"proofValue\": {\n",
    "          # TODO: update these URLs\n",
    "          \"@id\": \"https://github.com/bitcoin/bips/blob/master/bip-0322.mediawiki#types-of-signatures\",\n",
    "          \"@type\": \"https://github.com/bitcoin/bips/blob/master/bip-0322.mediawiki#types-of-signatures\"\n",
    "        },\n",
    "        \"verificationMethod\": {\n",
    "          \"@id\": \"https://w3id.org/security#verificationMethod\",\n",
    "          \"@type\": \"@id\"\n",
    "        }\n",
    "      }\n",
    "    }\n",
    "  }\n",
    "}"
   ]
  },
  {
   "cell_type": "code",
   "execution_count": 32,
   "id": "8fe4a46d",
   "metadata": {},
   "outputs": [],
   "source": [
    "unsigned_vc = {\n",
    "  \n",
    "  \"@context\": [\n",
    "    \"https://www.w3.org/2018/credentials/v1\",\n",
    "    \"https://www.w3.org/2018/credentials/examples/v1\",\n",
    "    ## This context URL is incorrect\n",
    "    bip322Context\n",
    "  ],\n",
    "  \n",
    "  \"id\": \"http://example.edu/credentials/1872\",\n",
    "  \n",
    "\n",
    "\n",
    "  \"type\": [\"VerifiableCredential\", \"AlumniCredential\"],\n",
    "  \n",
    "\n",
    "  \"issuer\": issuer_did_btcr,\n",
    "    \n",
    "\n",
    "  \"issuanceDate\": \"2010-01-01T19:23:24Z\",\n",
    "  \n",
    "\n",
    "\n",
    "  \"credentialSubject\": {\n",
    "    \n",
    "\n",
    "    # TODO: How identify credential subject?\n",
    "    \"id\": \"did:example:ebfeb1f712ebc6f1c276e12ec21\",\n",
    "    \"alumniOf\": {\n",
    "      \"id\": \"did:example:c276e12ec21ebfeb1f712ebc6f1\",\n",
    "      \"name\": [{\n",
    "        \"value\": \"Example University\",\n",
    "        \"lang\": \"en\"\n",
    "      }, {\n",
    "        \"value\": \"Exemple d'Université\",\n",
    "        \"lang\": \"fr\"\n",
    "      }]\n",
    "    }\n",
    "  },\n",
    "  \n",
    "\n",
    "\n",
    "}"
   ]
  },
  {
   "cell_type": "markdown",
   "id": "5d1a215b",
   "metadata": {},
   "source": [
    "## Create Data Integrity Proof for a VC"
   ]
  },
  {
   "cell_type": "markdown",
   "id": "c4ffad90",
   "metadata": {},
   "source": [
    "### Algorithm Steps taken from the [specification](https://w3c.github.io/vc-data-integrity/#proof-algorithm)\n",
    "\n",
    "\n",
    "1. Create a copy of document, hereafter referred to as output.\n",
    "2. Generate a canonicalized document by canonicalizing document according to a canonicalization algorithm (e.g. the URDNA2015 [RDF-DATASET-C14N] algorithm).\n",
    "3. Create a value tbs that represents the data to be signed, and set it to the result of running the Create Verify Hash Algorithm, passing the information in options.\n",
    "4. Digitally sign tbs using the privateKey and the the digital proof algorithm. The resulting string is the proofValue.\n",
    "6. Add a proof node to output containing a data integrity proof using the appropriate type and proofValue values as well as all of the data in the proof options (e.g. created, and if given, any additional proof options such as domain).\n",
    "7. Return output as the signed data document.\n",
    "\n"
   ]
  },
  {
   "cell_type": "markdown",
   "id": "677bf3dd",
   "metadata": {},
   "source": [
    "## 1. Create a copy of document (VC), hereafter referred to as output.\n",
    "\n"
   ]
  },
  {
   "cell_type": "code",
   "execution_count": 33,
   "id": "06959726",
   "metadata": {},
   "outputs": [
    {
     "name": "stdout",
     "output_type": "stream",
     "text": [
      "{'@context': ['https://www.w3.org/2018/credentials/v1', 'https://www.w3.org/2018/credentials/examples/v1', {'@context': {'id': '@id', 'type': '@type', '@protected': True, 'proof': {'@id': 'https://w3id.org/security#proof', '@type': '@id', '@container': '@graph'}, 'BIP322VerificationAddress2022': {'@id': 'https://w3id.org/security#BIP322VerificationAddress2022', '@context': {'@protected': True, 'id': '@id', 'type': '@type', 'controller': {'@id': 'https://w3id.org/security#controller', '@type': '@id'}, 'revoked': {'@id': 'https://w3id.org/security#revoked', '@type': 'http://www.w3.org/2001/XMLSchema#dateTime'}, 'address': {'@id': 'https://w3id.org/bip322#address', '@type': 'https://w3id.org/bip322#address'}}}, 'BIP322Signature2022': {'@id': 'https://w3id.org/security#BIP322Signature2022', '@context': {'@protected': True, 'id': '@id', 'type': '@type', 'challenge': 'https://w3id.org/security#challenge', 'created': {'@id': 'http://purl.org/dc/terms/created', '@type': 'http://www.w3.org/2001/XMLSchema#dateTime'}, 'domain': 'https://w3id.org/security#domain', 'expires': {'@id': 'https://w3id.org/security#expiration', '@type': 'http://www.w3.org/2001/XMLSchema#dateTime'}, 'nonce': 'https://w3id.org/security#nonce', 'proofPurpose': {'@id': 'https://w3id.org/security#proofPurpose', '@type': '@vocab', '@context': {'@protected': True, 'id': '@id', 'type': '@type', 'assertionMethod': {'@id': 'https://w3id.org/security#assertionMethod', '@type': '@id', '@container': '@set'}, 'authentication': {'@id': 'https://w3id.org/security#authenticationMethod', '@type': '@id', '@container': '@set'}, 'capabilityInvocation': {'@id': 'https://w3id.org/security#capabilityInvocationMethod', '@type': '@id', '@container': '@set'}, 'capabilityDelegation': {'@id': 'https://w3id.org/security#capabilityDelegationMethod', '@type': '@id', '@container': '@set'}, 'keyAgreement': {'@id': 'https://w3id.org/security#keyAgreementMethod', '@type': '@id', '@container': '@set'}}}, 'proofValue': {'@id': 'https://github.com/bitcoin/bips/blob/master/bip-0322.mediawiki#types-of-signatures', '@type': 'https://github.com/bitcoin/bips/blob/master/bip-0322.mediawiki#types-of-signatures'}, 'verificationMethod': {'@id': 'https://w3id.org/security#verificationMethod', '@type': '@id'}}}}}], 'id': 'http://example.edu/credentials/1872', 'type': ['VerifiableCredential', 'AlumniCredential'], 'issuer': 'did:btcr:xyv2-xzpq-q9wa-p7t', 'issuanceDate': '2010-01-01T19:23:24Z', 'credentialSubject': {'id': 'did:example:ebfeb1f712ebc6f1c276e12ec21', 'alumniOf': {'id': 'did:example:c276e12ec21ebfeb1f712ebc6f1', 'name': [{'value': 'Example University', 'lang': 'en'}, {'value': \"Exemple d'Université\", 'lang': 'fr'}]}}}\n"
     ]
    }
   ],
   "source": [
    "output = copy.deepcopy(unsigned_vc)\n",
    "print(output)"
   ]
  },
  {
   "cell_type": "markdown",
   "id": "66b03ffa",
   "metadata": {},
   "source": [
    "## 2. Canonicalize VC\n",
    "\n",
    "Uses the URDNA2015 algorithm implemented in the JSONLD library"
   ]
  },
  {
   "cell_type": "code",
   "execution_count": 34,
   "id": "c69f5b58",
   "metadata": {},
   "outputs": [
    {
     "name": "stdout",
     "output_type": "stream",
     "text": [
      "<did:example:c276e12ec21ebfeb1f712ebc6f1> <http://schema.org/name> _:c14n0 .\n",
      "<did:example:c276e12ec21ebfeb1f712ebc6f1> <http://schema.org/name> _:c14n1 .\n",
      "<did:example:ebfeb1f712ebc6f1c276e12ec21> <http://schema.org/alumniOf> <did:example:c276e12ec21ebfeb1f712ebc6f1> .\n",
      "<http://example.edu/credentials/1872> <http://www.w3.org/1999/02/22-rdf-syntax-ns#type> <https://example.org/examples#AlumniCredential> .\n",
      "<http://example.edu/credentials/1872> <http://www.w3.org/1999/02/22-rdf-syntax-ns#type> <https://www.w3.org/2018/credentials#VerifiableCredential> .\n",
      "<http://example.edu/credentials/1872> <https://www.w3.org/2018/credentials#credentialSubject> <did:example:ebfeb1f712ebc6f1c276e12ec21> .\n",
      "<http://example.edu/credentials/1872> <https://www.w3.org/2018/credentials#issuanceDate> \"2010-01-01T19:23:24Z\"^^<http://www.w3.org/2001/XMLSchema#dateTime> .\n",
      "<http://example.edu/credentials/1872> <https://www.w3.org/2018/credentials#issuer> <did:btcr:xyv2-xzpq-q9wa-p7t> .\n",
      "\n"
     ]
    }
   ],
   "source": [
    "canonicalized_output = jsonld.normalize(\n",
    "    output, {'algorithm': 'URDNA2015', 'format': 'application/n-quads'})\n",
    "print(canonicalized_output)"
   ]
  },
  {
   "cell_type": "markdown",
   "id": "0a269f25",
   "metadata": {},
   "source": [
    "## 3. Run Create Verify Hash Algorithm on canonicalized output\n",
    "\n",
    "Note: Create Verify Hash Algorithm steps are defined in the [Data Integrity specification](https://w3c.github.io/vc-data-integrity/#create-verify-hash-algorithm)\n",
    "\n",
    "Steps:\n",
    "\n",
    "1. Let options be a copy of input options.\n",
    "2. If the proofValue parameter, such as jws, exists in options, remove the entry.\n",
    "3. If created does not exist in options, add an entry with a value that is an [ISO8601] combined date and time string containing the current date and time accurate to at least one second, in Universal Time Code format. For example: 2017-11-13T20:21:34Z.\n",
    "4. Generate output by:\n",
    "    * Creating a canonicalized options document by canonicalizing options according to the canonicalization algorithm (e.g. the URDNA2015 [RDF-DATASET-C14N] algorithm).\n",
    "    * Hash canonicalized options document using the message digest algorithm (e.g. SHA-256) and set output to the result.\n",
    "    * Hash canonicalized document using the message digest algorithm (e.g. SHA-256) and append it to output.\n",
    "\n"
   ]
  },
  {
   "cell_type": "markdown",
   "id": "e04d0dd1",
   "metadata": {},
   "source": [
    "#### 1. Let options be a copy of input options\n",
    "\n",
    "Note: it is not at all clear from the spec what input_options should be.Commented on issues already tracking this here - https://github.com/w3c/vc-data-integrity/issues/16\n",
    "\n",
    "For now I will be using the proof options that define how the proof will be created."
   ]
  },
  {
   "cell_type": "code",
   "execution_count": 35,
   "id": "6e404224",
   "metadata": {},
   "outputs": [],
   "source": [
    "## THIS DOES NOT CURRENT WORK WITH CANNONICALIZATION\n",
    "## The Context does not resolve\n",
    "\n",
    "# options = {\n",
    "#     ## This context URL is incorrect\n",
    "#   \"@context\": output['@context'],\n",
    "#   # I believe this is the proposed new format. Only one type - DataIntegritySignature - with many cryptosuites.  \n",
    "#   \"type\": \"DataIntegritySignature\",\n",
    "#   \"cryptosuite\": \"bip322-2022\",\n",
    "#   \"created\": str(datetime.datetime.now()),\n",
    "#   # Identifies the BIP322 verificationMethod in the issuers DID document\n",
    "#   \"verificationMethod\": issuer_did_btcr + '#vm-1',\n",
    "#   \"proofPurpose\": \"assertionMethod\",\n",
    "# #### NOTE: no proofValue as the proof has not been created yet\n",
    "# #   \"proofValue\": \"z2rb7doJxczUFBTdV5F5pehtbUXPDUgKVugZZ99jniVXCUpojJ9PqLYV\n",
    "# #                  evMeB1gCyJ4HqpnTyQwaoRPWaD3afEZboXCBTdV5F5pehtbUXPDUgKVugUpoj\"\n",
    "# }"
   ]
  },
  {
   "cell_type": "code",
   "execution_count": 36,
   "id": "bd41d9e0",
   "metadata": {},
   "outputs": [],
   "source": [
    "options = {\n",
    "  ## Take context from document  \n",
    "  \"@context\": output['@context'],\n",
    "  \"proof\": {\n",
    "     ## This should be something like BIP322Signature2022\n",
    "    ## BUT No Context defined for it\n",
    "    \"type\": \"BIP322Signature2022\",\n",
    "    \"created\": str(datetime.datetime.now()),\n",
    "    \"verificationMethod\": issuer_did_btcr + '#vm-1',\n",
    "    \"proofPurpose\": \"assertionMethod\"\n",
    "  }\n",
    "}"
   ]
  },
  {
   "cell_type": "code",
   "execution_count": 37,
   "id": "fdda767c",
   "metadata": {},
   "outputs": [
    {
     "name": "stdout",
     "output_type": "stream",
     "text": [
      "{'@context': ['https://www.w3.org/2018/credentials/v1', 'https://www.w3.org/2018/credentials/examples/v1', {'@context': {'id': '@id', 'type': '@type', '@protected': True, 'proof': {'@id': 'https://w3id.org/security#proof', '@type': '@id', '@container': '@graph'}, 'BIP322VerificationAddress2022': {'@id': 'https://w3id.org/security#BIP322VerificationAddress2022', '@context': {'@protected': True, 'id': '@id', 'type': '@type', 'controller': {'@id': 'https://w3id.org/security#controller', '@type': '@id'}, 'revoked': {'@id': 'https://w3id.org/security#revoked', '@type': 'http://www.w3.org/2001/XMLSchema#dateTime'}, 'address': {'@id': 'https://w3id.org/bip322#address', '@type': 'https://w3id.org/bip322#address'}}}, 'BIP322Signature2022': {'@id': 'https://w3id.org/security#BIP322Signature2022', '@context': {'@protected': True, 'id': '@id', 'type': '@type', 'challenge': 'https://w3id.org/security#challenge', 'created': {'@id': 'http://purl.org/dc/terms/created', '@type': 'http://www.w3.org/2001/XMLSchema#dateTime'}, 'domain': 'https://w3id.org/security#domain', 'expires': {'@id': 'https://w3id.org/security#expiration', '@type': 'http://www.w3.org/2001/XMLSchema#dateTime'}, 'nonce': 'https://w3id.org/security#nonce', 'proofPurpose': {'@id': 'https://w3id.org/security#proofPurpose', '@type': '@vocab', '@context': {'@protected': True, 'id': '@id', 'type': '@type', 'assertionMethod': {'@id': 'https://w3id.org/security#assertionMethod', '@type': '@id', '@container': '@set'}, 'authentication': {'@id': 'https://w3id.org/security#authenticationMethod', '@type': '@id', '@container': '@set'}, 'capabilityInvocation': {'@id': 'https://w3id.org/security#capabilityInvocationMethod', '@type': '@id', '@container': '@set'}, 'capabilityDelegation': {'@id': 'https://w3id.org/security#capabilityDelegationMethod', '@type': '@id', '@container': '@set'}, 'keyAgreement': {'@id': 'https://w3id.org/security#keyAgreementMethod', '@type': '@id', '@container': '@set'}}}, 'proofValue': {'@id': 'https://github.com/bitcoin/bips/blob/master/bip-0322.mediawiki#types-of-signatures', '@type': 'https://github.com/bitcoin/bips/blob/master/bip-0322.mediawiki#types-of-signatures'}, 'verificationMethod': {'@id': 'https://w3id.org/security#verificationMethod', '@type': '@id'}}}}}], 'proof': {'type': 'BIP322Signature2022', 'created': '2022-08-23 15:45:31.037780', 'verificationMethod': 'did:btcr:xyv2-xzpq-q9wa-p7t#vm-1', 'proofPurpose': 'assertionMethod'}}\n"
     ]
    }
   ],
   "source": [
    "print(options)"
   ]
  },
  {
   "cell_type": "markdown",
   "id": "6a0ea9c6",
   "metadata": {},
   "source": [
    "#### 2. If proofValue parameter exists in options, remove\n",
    "\n",
    "Note: it does not exist in this example"
   ]
  },
  {
   "cell_type": "markdown",
   "id": "800e95b5",
   "metadata": {},
   "source": [
    "#### 3 If created does not exists in option, dd an entry with a value that is an [ISO8601] combined date and time string containing the current date and time accurate to at least one second, in Universal Time Code format.\n",
    "\n",
    "Options already contains this"
   ]
  },
  {
   "cell_type": "markdown",
   "id": "7f87fed3",
   "metadata": {},
   "source": [
    "#### 4. Generate output by:\n"
   ]
  },
  {
   "cell_type": "markdown",
   "id": "590d0e9d",
   "metadata": {},
   "source": [
    "####     4.1. Creating a canonicalized options document by canonicalizing options according to the canonicalization algorithm (e.g. the URDNA2015 [RDF-DATASET-C14N] algorithm)."
   ]
  },
  {
   "cell_type": "code",
   "execution_count": 38,
   "id": "9e76e061",
   "metadata": {},
   "outputs": [
    {
     "name": "stdout",
     "output_type": "stream",
     "text": [
      "_:c14n0 <http://purl.org/dc/terms/created> \"2022-08-23 15:45:31.037780\"^^<http://www.w3.org/2001/XMLSchema#dateTime> _:c14n2 .\n",
      "_:c14n0 <http://www.w3.org/1999/02/22-rdf-syntax-ns#type> <https://w3id.org/security#BIP322Signature2022> _:c14n2 .\n",
      "_:c14n0 <https://w3id.org/security#proofPurpose> <https://w3id.org/security#assertionMethod> _:c14n2 .\n",
      "_:c14n0 <https://w3id.org/security#verificationMethod> <did:btcr:xyv2-xzpq-q9wa-p7t#vm-1> _:c14n2 .\n",
      "_:c14n1 <https://w3id.org/security#proof> _:c14n2 .\n",
      "\n"
     ]
    }
   ],
   "source": [
    "canonicalized_options = jsonld.normalize(\n",
    "    options, {'algorithm': 'URDNA2015', 'format': 'application/n-quads'})\n",
    "print(canonicalized_options)"
   ]
  },
  {
   "cell_type": "markdown",
   "id": "89f78571",
   "metadata": {},
   "source": [
    "#### 4.2 Hash canonicalized options document using the message digest algorithm (e.g. SHA-256) and set output to the result."
   ]
  },
  {
   "cell_type": "code",
   "execution_count": null,
   "id": "1ca523ce",
   "metadata": {},
   "outputs": [],
   "source": [
    "result = sha256(str_to_bytes(canonicalized_options))\n",
    "result"
   ]
  },
  {
   "cell_type": "markdown",
   "id": "c4ccd2a4",
   "metadata": {},
   "source": [
    "#### 4.3 Hash canonicalized document using the message digest algorithm (e.g. SHA-256) and append it to output"
   ]
  },
  {
   "cell_type": "code",
   "execution_count": null,
   "id": "dfbeded6",
   "metadata": {},
   "outputs": [],
   "source": [
    "result += sha256(str_to_bytes(canonicalized_output))\n",
    "result"
   ]
  },
  {
   "cell_type": "markdown",
   "id": "2c730bb6",
   "metadata": {},
   "source": [
    "## 5. Digitally sign tbs using the privateKey and the the digital proof algorithm. The resulting string is the proofValue.\n",
    "\n",
    "**Code for sign_message can be found in [message.py](../../edit/src/message.py)**\n",
    "\n",
    "**ISSUE:** Unsure how to handle encoding challenges. The result from Create-Verify-Hash algorithm from step 4 is 64 Bytes. However, decoding these bytes back to a string in either ASCII or UTF-8 does not work.\n",
    "\n",
    "One potential solution would be to update the BIP322 signing function I wrote to accept bytes instead of (or aswell as) strings to be signed? This should work, I believe the reason I chose the API like this was to align it with the Bitcoin core P.R. that implements BIP322.\n",
    "\n",
    "Are there other suggestions?\n",
    "\n",
    "Is the real issue how do we turn a SHA256 message digest into a string? Hex?\n",
    "\n",
    "**Question:** Is this just something we need to define as part of the BIP322 Signature Suite?"
   ]
  },
  {
   "cell_type": "code",
   "execution_count": null,
   "id": "d8e8062b",
   "metadata": {},
   "outputs": [],
   "source": [
    "tbs = result"
   ]
  },
  {
   "cell_type": "code",
   "execution_count": null,
   "id": "ec315e2f",
   "metadata": {},
   "outputs": [],
   "source": [
    "# For now we use hex because it works. \n",
    "# However note: as part of the sign_message, this hex string gets turned back into bytes before being signed\n",
    "# tbs = result.hex()"
   ]
  },
  {
   "cell_type": "code",
   "execution_count": null,
   "id": "2dd77c81",
   "metadata": {},
   "outputs": [],
   "source": [
    "proofValue = sign_message(MessageSignatureFormat.SIMPLE, private_key, address, tbs)\n",
    "print(\"\\n\\nBIP 322 Simple Signature as a proofValue over a VC\", proofValue)"
   ]
  },
  {
   "cell_type": "markdown",
   "id": "ddffe91b",
   "metadata": {},
   "source": [
    "## 6. Add a proof node to output containing a data integrity proof using the appropriate type and proofValue values as well as all of the data in the proof options (e.g. created, and if given, any additional proof options such as domain).\n"
   ]
  },
  {
   "cell_type": "code",
   "execution_count": null,
   "id": "a3a2aafc",
   "metadata": {},
   "outputs": [],
   "source": [
    "print(options)"
   ]
  },
  {
   "cell_type": "code",
   "execution_count": null,
   "id": "a6b9a6f9",
   "metadata": {},
   "outputs": [],
   "source": [
    "\n",
    "\n",
    "proof = options['proof']\n",
    "proof['proofValue'] = proofValue"
   ]
  },
  {
   "cell_type": "code",
   "execution_count": null,
   "id": "01959ab3",
   "metadata": {},
   "outputs": [],
   "source": [
    "# Note again the type value is something we need to define. BIP322Signature2022\n",
    "proof"
   ]
  },
  {
   "cell_type": "code",
   "execution_count": null,
   "id": "fdc3caae",
   "metadata": {},
   "outputs": [],
   "source": [
    "output['proof'] = proof"
   ]
  },
  {
   "cell_type": "code",
   "execution_count": null,
   "id": "768c7af8",
   "metadata": {
    "scrolled": true
   },
   "outputs": [],
   "source": [
    "print(\"The BIP322 Signed VC \\n Copy this to the verification notebook \\n\\n\\n\")\n",
    "print(output)"
   ]
  },
  {
   "cell_type": "code",
   "execution_count": null,
   "id": "3ec7969d",
   "metadata": {},
   "outputs": [],
   "source": []
  }
 ],
 "metadata": {
  "kernelspec": {
   "display_name": "Python 3",
   "language": "python",
   "name": "python3"
  },
  "language_info": {
   "codemirror_mode": {
    "name": "ipython",
    "version": 3
   },
   "file_extension": ".py",
   "mimetype": "text/x-python",
   "name": "python",
   "nbconvert_exporter": "python",
   "pygments_lexer": "ipython3",
   "version": "3.8.5"
  }
 },
 "nbformat": 4,
 "nbformat_minor": 5
}
