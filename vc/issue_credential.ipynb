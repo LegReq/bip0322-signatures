{
 "cells": [
  {
   "cell_type": "markdown",
   "id": "3943e17f",
   "metadata": {},
   "source": [
    "# Issue a Credential using BIP 322 Signatures"
   ]
  },
  {
   "cell_type": "markdown",
   "id": "ec273806",
   "metadata": {},
   "source": [
    "This notebook outlines how a Bitcoin address can be used to sign a verifiable credential using BIP 322 signatures explored in other notebooks. Initially, this will just look at using a bitcoin address as the issuer although eventually this should transition to a did:btcr (v2?)"
   ]
  },
  {
   "cell_type": "markdown",
   "id": "3dabd3e5",
   "metadata": {},
   "source": [
    "## Notebook Author\n",
    "\n",
    "* Will Abramson\n",
    "* [Legendary Requirements](http://legreq.com/)\n",
    "* Contact: will@legreq.com"
   ]
  },
  {
   "cell_type": "markdown",
   "id": "ec65dedf",
   "metadata": {},
   "source": [
    "## Acknowledgements\n",
    "\n",
    "This work was funded by Ryan Grant and Digital Contract Design. Thanks also go to Joe Andrieu, Kalle Alm, Pieter Wuille and Jimmy Song for engaging with and supporting various aspects of this work."
   ]
  },
  {
   "cell_type": "code",
   "execution_count": 2,
   "id": "4385105d",
   "metadata": {},
   "outputs": [
    {
     "name": "stdout",
     "output_type": "stream",
     "text": [
      "/home/will/work/LegendaryRequirements/clients/dcd/bip0322-sigs\n"
     ]
    }
   ],
   "source": [
    "cd .."
   ]
  },
  {
   "cell_type": "markdown",
   "id": "c4ffad90",
   "metadata": {},
   "source": [
    "## Steps\n",
    "\n",
    "1. Define VC\n",
    "2. Canonicalise VC (Do we need this?)\n",
    "3. BIP 322 sign VC payload\n",
    "4. Attach signature to VC as proof"
   ]
  },
  {
   "cell_type": "markdown",
   "id": "a939f6fe",
   "metadata": {},
   "source": [
    "## 1. Define VC\n",
    "\n",
    "\n",
    "Issuer needs to decide:\n",
    "\n",
    "* Contents of credential\n",
    "* Schema of credential\n",
    "* Key pair and associated identifier they will be signing with\n",
    "* Identifier to use to the credential subject\n"
   ]
  },
  {
   "cell_type": "markdown",
   "id": "181f50cd",
   "metadata": {},
   "source": [
    "### 1.1. TODO: How do we identify the issuer\n",
    "\n",
    "Should be use a did:btcr? Would need to be able to resolve this to a DID document and incombination with the proof data fetch the bitcoin address required to verify the signature."
   ]
  },
  {
   "cell_type": "code",
   "execution_count": 3,
   "id": "8fe4a46d",
   "metadata": {},
   "outputs": [],
   "source": [
    "unsigned_vc = {\n",
    "  \n",
    "  \"@context\": [\n",
    "    \"https://www.w3.org/2018/credentials/v1\",\n",
    "    \"https://www.w3.org/2018/credentials/examples/v1\"\n",
    "  ],\n",
    "  \n",
    "  \"id\": \"http://example.edu/credentials/1872\",\n",
    "  \n",
    "\n",
    "\n",
    "  \"type\": [\"VerifiableCredential\", \"AlumniCredential\"],\n",
    "  \n",
    "\n",
    "  # TODO: How identifier issuer\n",
    "  # Should be a did:btcr?\n",
    "  \"issuer\": \"https://example.edu/issuers/565049\",\n",
    "  \n",
    "\n",
    "\n",
    "  \"issuanceDate\": \"2010-01-01T19:23:24Z\",\n",
    "  \n",
    "\n",
    "\n",
    "  \"credentialSubject\": {\n",
    "    \n",
    "\n",
    "    # TODO: How identify credential subject\n",
    "    \"id\": \"did:example:ebfeb1f712ebc6f1c276e12ec21\",\n",
    "    \n",
    "\n",
    "    \"alumniOf\": {\n",
    "      \"id\": \"did:example:c276e12ec21ebfeb1f712ebc6f1\",\n",
    "      \"name\": [{\n",
    "        \"value\": \"Example University\",\n",
    "        \"lang\": \"en\"\n",
    "      }, {\n",
    "        \"value\": \"Exemple d'Université\",\n",
    "        \"lang\": \"fr\"\n",
    "      }]\n",
    "    }\n",
    "  },\n",
    "  \n",
    "\n",
    "\n",
    "}"
   ]
  },
  {
   "cell_type": "markdown",
   "id": "66b03ffa",
   "metadata": {},
   "source": [
    "## 2. Canonicalize VC\n",
    "\n",
    "Not exactly sure what this contains. Need a way to determinstically turn JSONLD VC object into a message to be signed.\n",
    "\n",
    "I think only need to canonicalize if rendering data in JSONLD VC from other sources? RDF Dataset?\n",
    "\n",
    "- https://json-ld.github.io/rdf-dataset-canonicalization/spec/\n",
    "- https://www.w3.org/TR/vc-data-model/#json-ld"
   ]
  },
  {
   "cell_type": "code",
   "execution_count": 4,
   "id": "21877383",
   "metadata": {},
   "outputs": [
    {
     "name": "stdout",
     "output_type": "stream",
     "text": [
      "b'{\"@context\": [\"https://www.w3.org/2018/credentials/v1\", \"https://www.w3.org/2018/credentials/examples/v1\"], \"id\": \"http://example.edu/credentials/1872\", \"type\": [\"VerifiableCredential\", \"AlumniCredential\"], \"issuer\": \"https://example.edu/issuers/565049\", \"issuanceDate\": \"2010-01-01T19:23:24Z\", \"credentialSubject\": {\"id\": \"did:example:ebfeb1f712ebc6f1c276e12ec21\", \"alumniOf\": {\"id\": \"did:example:c276e12ec21ebfeb1f712ebc6f1\", \"name\": [{\"value\": \"Example University\", \"lang\": \"en\"}, {\"value\": \"Exemple d\\'Universit\\\\u00e9\", \"lang\": \"fr\"}]}}}'\n"
     ]
    }
   ],
   "source": [
    "# Naive approach?\n",
    "\n",
    "import json\n",
    "from buidl.helper import str_to_bytes\n",
    "\n",
    "vc_payload = json.dumps(unsigned_vc)\n",
    "print(str_to_bytes(vc_payload))"
   ]
  },
  {
   "cell_type": "markdown",
   "id": "2c730bb6",
   "metadata": {},
   "source": [
    "## 3. Sign VC\n",
    "\n",
    "**Code for sign_message can be found in [message.py](../../edit/src/message.py)**"
   ]
  },
  {
   "cell_type": "code",
   "execution_count": 5,
   "id": "e12bae63",
   "metadata": {},
   "outputs": [],
   "source": [
    "from buidl.ecc import PrivateKey\n",
    "private_key_wif = \"L4qmTC36US6tngrqbrW6vffZbxUVSfipQqXxdJw8S5HqyxNebaMP\"\n",
    "private_key = PrivateKey.parse(private_key_wif)"
   ]
  },
  {
   "cell_type": "code",
   "execution_count": 15,
   "id": "6059d00e",
   "metadata": {},
   "outputs": [],
   "source": [
    "### TODO: Note using pay-to-witness-public-key-hash address. Should be able to in theory use ANY btc script"
   ]
  },
  {
   "cell_type": "code",
   "execution_count": 14,
   "id": "7f27d53f",
   "metadata": {},
   "outputs": [
    {
     "data": {
      "text/plain": [
       "'bc1qz52z3pe9fg3qxv9n6yhxgj7rcn8wsvpq56v9ck'"
      ]
     },
     "execution_count": 14,
     "metadata": {},
     "output_type": "execute_result"
    }
   ],
   "source": [
    "address = private_key.point.p2wpkh_address()\n",
    "address"
   ]
  },
  {
   "cell_type": "code",
   "execution_count": 11,
   "id": "2dd77c81",
   "metadata": {},
   "outputs": [
    {
     "name": "stdout",
     "output_type": "stream",
     "text": [
      "Is taproot False\n",
      "\n",
      "tx: cde29e32abd0054a2e4bf3dde55819795c338944816e27ab107521a2f8fc94e4\n",
      "version: 0\n",
      "locktime: 0\n",
      "tx_ins:\n",
      "bd3fbf362c69f5fd221fa26ee8bdb9b6b019722595c8ebc66ca70a0e6350d931:0\n",
      "tx_outs:\n",
      "0:OP_RETURN \n",
      "\n",
      "txIn tap script None\n",
      "txIn witness 3045022100a819e2856ee7597007143ebb4cb3d711c183ad28bee7934ef53c5a5e5192b86802201f639592fa0864166419ce12dc18deb04808e541e2db05880f8b555ede1be7b301 03c8822574d7c7055ade7c7dd598dd5af47e72354b56e3fa1e2c2c3cf025f6cf31 \n",
      "True\n",
      "Combined Script OP_0 15142887254a220330b3d12e644bc3c4cee83020 \n",
      "\n",
      "\n",
      "BIP 322 Simple Signature on VC AkgwRQIhAKgZ4oVu51lwBxQ+u0yz1xHBg60ovueTTvU8Wl5RkrhoAiAfY5WS+ghkFmQZzhLcGN6wSAjlQeLbBYgPi1Ve3hvnswEhA8iCJXTXxwVa3nx91ZjdWvR+cjVLVuP6HiwsPPAl9s8x\n"
     ]
    }
   ],
   "source": [
    "from src.message import sign_message, MessageSignatureFormat\n",
    "\n",
    "vc_sig = sign_message(MessageSignatureFormat.SIMPLE, private_key, address, vc_payload)\n",
    "print(\"\\n\\nBIP 322 Simple Signature on VC\", vc_sig)"
   ]
  },
  {
   "cell_type": "markdown",
   "id": "ddffe91b",
   "metadata": {},
   "source": [
    "## 4. Attach Signature to VC as proof\n",
    "\n",
    "In the BIP322 Signature Suite (TBD) we would define three proof types?\n",
    "\n",
    "* BIP322LegacySignature2022 \n",
    "* BIP322SimpleSignature2022\n",
    "* BIP322FullSignature2022\n",
    "\n",
    "**Note: Actually perhaps it only requires a BIP322Signature2022 definition. From the signature provided the implementation determines whether it is LEGACY,SIMPLE or FULL**\n",
    "\n",
    "These types would define how the proof JSON should be structured and interpretted"
   ]
  },
  {
   "cell_type": "markdown",
   "id": "eb6f6952",
   "metadata": {},
   "source": [
    "### 4.1. TODO: what are the acceptable verification methods? How would a verifier be able to resolve to a bitcoin address usable to verify a BIP 322 signature"
   ]
  },
  {
   "cell_type": "code",
   "execution_count": 12,
   "id": "a6b9a6f9",
   "metadata": {},
   "outputs": [],
   "source": [
    "\n",
    "\n",
    "proof = {\n",
    "\n",
    "    \"type\": \"BIP322Signature2022\",\n",
    "    \n",
    "\n",
    "\n",
    "    \"created\": \"2022-05-23T21:19:10Z\",\n",
    "    \n",
    "\n",
    "\n",
    "    \"proofPurpose\": \"assertionMethod\",\n",
    "    \n",
    "\n",
    "    \n",
    "    # This verification method would identify a UTXO on the bitcoin network?\n",
    "    \"verificationMethod\": \"https://example.edu/issuers/565049#key-1\",\n",
    "    \n",
    "\n",
    "\n",
    "    \"bip322_sig\": vc_sig\n",
    "}"
   ]
  },
  {
   "cell_type": "code",
   "execution_count": 13,
   "id": "597b20da",
   "metadata": {},
   "outputs": [
    {
     "name": "stdout",
     "output_type": "stream",
     "text": [
      "{\"@context\": [\"https://www.w3.org/2018/credentials/v1\", \"https://www.w3.org/2018/credentials/examples/v1\"], \"id\": \"http://example.edu/credentials/1872\", \"type\": [\"VerifiableCredential\", \"AlumniCredential\"], \"issuer\": \"https://example.edu/issuers/565049\", \"issuanceDate\": \"2010-01-01T19:23:24Z\", \"credentialSubject\": {\"id\": \"did:example:ebfeb1f712ebc6f1c276e12ec21\", \"alumniOf\": {\"id\": \"did:example:c276e12ec21ebfeb1f712ebc6f1\", \"name\": [{\"value\": \"Example University\", \"lang\": \"en\"}, {\"value\": \"Exemple d'Universit\\u00e9\", \"lang\": \"fr\"}]}}, \"proof\": {\"type\": \"BIP322SimpleSignature2022\", \"created\": \"2022-05-23T21:19:10Z\", \"proofPurpose\": \"assertionMethod\", \"verificationMethod\": \"https://example.edu/issuers/565049#key-1\", \"bip322_sig\": \"AkgwRQIhAKgZ4oVu51lwBxQ+u0yz1xHBg60ovueTTvU8Wl5RkrhoAiAfY5WS+ghkFmQZzhLcGN6wSAjlQeLbBYgPi1Ve3hvnswEhA8iCJXTXxwVa3nx91ZjdWvR+cjVLVuP6HiwsPPAl9s8x\"}}\n"
     ]
    }
   ],
   "source": [
    "signed_vc = unsigned_vc\n",
    "signed_vc[\"proof\"] = proof\n",
    "print(json.dumps(signed_vc))"
   ]
  },
  {
   "cell_type": "code",
   "execution_count": null,
   "id": "fdc3caae",
   "metadata": {},
   "outputs": [],
   "source": []
  },
  {
   "cell_type": "code",
   "execution_count": null,
   "id": "768c7af8",
   "metadata": {},
   "outputs": [],
   "source": []
  },
  {
   "cell_type": "code",
   "execution_count": null,
   "id": "ddd89684",
   "metadata": {},
   "outputs": [],
   "source": []
  },
  {
   "cell_type": "code",
   "execution_count": null,
   "id": "80236ab0",
   "metadata": {},
   "outputs": [],
   "source": []
  },
  {
   "cell_type": "code",
   "execution_count": null,
   "id": "f633f676",
   "metadata": {},
   "outputs": [],
   "source": []
  },
  {
   "cell_type": "markdown",
   "id": "762a03ca",
   "metadata": {},
   "source": [
    "### BIP322 Legacy Example : Sign using p2pkh "
   ]
  },
  {
   "cell_type": "code",
   "execution_count": 20,
   "id": "fe8d6b6e",
   "metadata": {},
   "outputs": [
    {
     "data": {
      "text/plain": [
       "'12vTLer5v6RyMpnxetu7mGxtveRsVSps5R'"
      ]
     },
     "execution_count": 20,
     "metadata": {},
     "output_type": "execute_result"
    }
   ],
   "source": [
    "p2pkh_address = private_key.point.address()\n",
    "p2pkh_address"
   ]
  },
  {
   "cell_type": "code",
   "execution_count": 27,
   "id": "29954d13",
   "metadata": {},
   "outputs": [
    {
     "name": "stdout",
     "output_type": "stream",
     "text": [
      "\n",
      "\n",
      "BIP 322 LEGACY Signature on VC : \n",
      " MEUCIQDLQvF+0Dg0uruDJCydBwCV8vC03Y4VagBnEzKflu1HNQIgSKBu1Q6xWlQSZZVxUPgzVnTrXakcdBvV4BdWS4Oi/Qk=\n"
     ]
    }
   ],
   "source": [
    "vc_sig = sign_message(MessageSignatureFormat.LEGACY, private_key, p2pkh_address, vc_payload)\n",
    "print(\"\\n\\nBIP 322 LEGACY Signature on VC : \\n\", vc_sig)"
   ]
  },
  {
   "cell_type": "code",
   "execution_count": 28,
   "id": "1302b263",
   "metadata": {},
   "outputs": [],
   "source": [
    "proof = {\n",
    "\n",
    "    \"type\": \"BIP322Signature2022\",\n",
    "    \n",
    "\n",
    "\n",
    "    \"created\": \"2022-05-23T21:19:10Z\",\n",
    "    \n",
    "\n",
    "\n",
    "    \"proofPurpose\": \"assertionMethod\",\n",
    "    \n",
    "\n",
    "    \n",
    "    # This verification method would identify a UTXO on the bitcoin network?\n",
    "    \"verificationMethod\": \"https://example.edu/issuers/565049#key-1\",\n",
    "    \n",
    "\n",
    "\n",
    "    \"bip322_sig\": vc_sig\n",
    "}"
   ]
  },
  {
   "cell_type": "code",
   "execution_count": 30,
   "id": "85ad154a",
   "metadata": {},
   "outputs": [
    {
     "name": "stdout",
     "output_type": "stream",
     "text": [
      "{\"@context\": [\"https://www.w3.org/2018/credentials/v1\", \"https://www.w3.org/2018/credentials/examples/v1\"], \"id\": \"http://example.edu/credentials/1872\", \"type\": [\"VerifiableCredential\", \"AlumniCredential\"], \"issuer\": \"https://example.edu/issuers/565049\", \"issuanceDate\": \"2010-01-01T19:23:24Z\", \"credentialSubject\": {\"id\": \"did:example:ebfeb1f712ebc6f1c276e12ec21\", \"alumniOf\": {\"id\": \"did:example:c276e12ec21ebfeb1f712ebc6f1\", \"name\": [{\"value\": \"Example University\", \"lang\": \"en\"}, {\"value\": \"Exemple d'Universit\\u00e9\", \"lang\": \"fr\"}]}}, \"proof\": {\"type\": \"BIP322Signature2022\", \"created\": \"2022-05-23T21:19:10Z\", \"proofPurpose\": \"assertionMethod\", \"verificationMethod\": \"https://example.edu/issuers/565049#key-1\", \"bip322_sig\": \"MEUCIQDLQvF+0Dg0uruDJCydBwCV8vC03Y4VagBnEzKflu1HNQIgSKBu1Q6xWlQSZZVxUPgzVnTrXakcdBvV4BdWS4Oi/Qk=\"}}\n"
     ]
    }
   ],
   "source": [
    "signed_vc = unsigned_vc\n",
    "signed_vc[\"proof\"] = proof\n",
    "print(json.dumps(signed_vc))"
   ]
  },
  {
   "cell_type": "code",
   "execution_count": null,
   "id": "8d3e228d",
   "metadata": {},
   "outputs": [],
   "source": []
  },
  {
   "cell_type": "markdown",
   "id": "884db6f9",
   "metadata": {},
   "source": [
    "## BIP 322 FULL Example"
   ]
  },
  {
   "cell_type": "code",
   "execution_count": 34,
   "id": "ab9c5a6f",
   "metadata": {},
   "outputs": [
    {
     "name": "stdout",
     "output_type": "stream",
     "text": [
      "Is taproot False\n",
      "\n",
      "tx: 5ae3323662b37c10f0536fb5dce82f59dc90c14eebf71fd1524cfae30d7bd080\n",
      "version: 0\n",
      "locktime: 0\n",
      "tx_ins:\n",
      "ff877b9414f93a391d14fb06102e2a34accdeee14affb056ec8c2bd51331ffaa:0\n",
      "tx_outs:\n",
      "0:OP_RETURN \n",
      "\n",
      "txIn tap script None\n",
      "txIn witness \n",
      "True\n",
      "Combined Script 30440220643027ce64e62573cee521ee4c8b7a35b82545be64b4e5daf72e0384db222d3b022074b35ddedd5b92fe9ac199b9eeeada20040cb8a4fc5b0af53588ca7a3b7da77b01 03c8822574d7c7055ade7c7dd598dd5af47e72354b56e3fa1e2c2c3cf025f6cf31 OP_DUP OP_HASH160 15142887254a220330b3d12e644bc3c4cee83020 OP_EQUALVERIFY OP_CHECKSIG \n",
      "\n",
      "\n",
      "BIP 322 FULL Signature on VC : \n",
      " AAAAAAABAar/MRPVK4zsVrD/SuHuzaw0Ki4QBvsUHTk6+RSUe4f/AAAAAGpHMEQCIGQwJ85k5iVzzuUh7kyLejW4JUW+ZLTl2vcuA4TbIi07AiB0s13e3VuS/prBmbnu6togBAy4pPxbCvU1iMp6O32newEhA8iCJXTXxwVa3nx91ZjdWvR+cjVLVuP6HiwsPPAl9s8xAAAAAAEAAAAAAAAAAAFqAAAAAAA=\n"
     ]
    }
   ],
   "source": [
    "# Note: if trust SIMPLE with p2pkh_address it is converted to FULL, because no witness to encode\n",
    "full_vc_sig = sign_message(MessageSignatureFormat.SIMPLE, private_key, p2pkh_address, vc_payload)\n",
    "print(\"\\n\\nBIP 322 FULL Signature on VC : \\n\", full_vc_sig)"
   ]
  },
  {
   "cell_type": "code",
   "execution_count": 35,
   "id": "da568462",
   "metadata": {},
   "outputs": [],
   "source": [
    "proof = {\n",
    "\n",
    "    \"type\": \"BIP322Signature2022\",\n",
    "    \n",
    "\n",
    "\n",
    "    \"created\": \"2022-05-23T21:19:10Z\",\n",
    "    \n",
    "\n",
    "\n",
    "    \"proofPurpose\": \"assertionMethod\",\n",
    "    \n",
    "\n",
    "    \n",
    "    # This verification method would identify a UTXO on the bitcoin network?\n",
    "    \"verificationMethod\": \"https://example.edu/issuers/565049#key-1\",\n",
    "    \n",
    "\n",
    "\n",
    "    \"bip322_sig\": full_vc_sig\n",
    "}"
   ]
  },
  {
   "cell_type": "code",
   "execution_count": 36,
   "id": "ef540415",
   "metadata": {},
   "outputs": [
    {
     "name": "stdout",
     "output_type": "stream",
     "text": [
      "{\"@context\": [\"https://www.w3.org/2018/credentials/v1\", \"https://www.w3.org/2018/credentials/examples/v1\"], \"id\": \"http://example.edu/credentials/1872\", \"type\": [\"VerifiableCredential\", \"AlumniCredential\"], \"issuer\": \"https://example.edu/issuers/565049\", \"issuanceDate\": \"2010-01-01T19:23:24Z\", \"credentialSubject\": {\"id\": \"did:example:ebfeb1f712ebc6f1c276e12ec21\", \"alumniOf\": {\"id\": \"did:example:c276e12ec21ebfeb1f712ebc6f1\", \"name\": [{\"value\": \"Example University\", \"lang\": \"en\"}, {\"value\": \"Exemple d'Universit\\u00e9\", \"lang\": \"fr\"}]}}, \"proof\": {\"type\": \"BIP322Signature2022\", \"created\": \"2022-05-23T21:19:10Z\", \"proofPurpose\": \"assertionMethod\", \"verificationMethod\": \"https://example.edu/issuers/565049#key-1\", \"bip322_sig\": \"AAAAAAABAar/MRPVK4zsVrD/SuHuzaw0Ki4QBvsUHTk6+RSUe4f/AAAAAGpHMEQCIGQwJ85k5iVzzuUh7kyLejW4JUW+ZLTl2vcuA4TbIi07AiB0s13e3VuS/prBmbnu6togBAy4pPxbCvU1iMp6O32newEhA8iCJXTXxwVa3nx91ZjdWvR+cjVLVuP6HiwsPPAl9s8xAAAAAAEAAAAAAAAAAAFqAAAAAAA=\"}}\n"
     ]
    }
   ],
   "source": [
    "signed_vc = unsigned_vc\n",
    "signed_vc[\"proof\"] = proof\n",
    "print(json.dumps(signed_vc))"
   ]
  },
  {
   "cell_type": "code",
   "execution_count": null,
   "id": "e3d07b49",
   "metadata": {},
   "outputs": [],
   "source": []
  }
 ],
 "metadata": {
  "kernelspec": {
   "display_name": "Python 3",
   "language": "python",
   "name": "python3"
  },
  "language_info": {
   "codemirror_mode": {
    "name": "ipython",
    "version": 3
   },
   "file_extension": ".py",
   "mimetype": "text/x-python",
   "name": "python",
   "nbconvert_exporter": "python",
   "pygments_lexer": "ipython3",
   "version": "3.8.5"
  }
 },
 "nbformat": 4,
 "nbformat_minor": 5
}
