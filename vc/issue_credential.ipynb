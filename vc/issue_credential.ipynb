{
 "cells": [
  {
   "cell_type": "markdown",
   "id": "3943e17f",
   "metadata": {},
   "source": [
    "# Issue a Credential using BIP 322 Signatures"
   ]
  },
  {
   "cell_type": "markdown",
   "id": "ec273806",
   "metadata": {},
   "source": [
    "This notebook outlines how a Bitcoin address can be used to sign a verifiable credential using BIP 322 signatures explored in other notebooks. Initially, this will just look at using a bitcoin address as the issuer although eventually this should transition to a did:btcr (v2?)"
   ]
  },
  {
   "cell_type": "markdown",
   "id": "3dabd3e5",
   "metadata": {},
   "source": [
    "## Notebook Author\n",
    "\n",
    "* Will Abramson\n",
    "* [Legendary Requirements](http://legreq.com/)\n",
    "* Contact: will@legreq.com"
   ]
  },
  {
   "cell_type": "markdown",
   "id": "ec65dedf",
   "metadata": {},
   "source": [
    "## Acknowledgements\n",
    "\n",
    "This work was funded by Ryan Grant and Digital Contract Design. Thanks also go to Joe Andrieu, Kalle Alm, Pieter Wuille and Jimmy Song for engaging with and supporting various aspects of this work."
   ]
  },
  {
   "cell_type": "code",
   "execution_count": 1,
   "id": "4385105d",
   "metadata": {},
   "outputs": [
    {
     "name": "stdout",
     "output_type": "stream",
     "text": [
      "/home/will/work/LegendaryRequirements/clients/dcd/bip0322-sigs\n"
     ]
    }
   ],
   "source": [
    "cd .."
   ]
  },
  {
   "cell_type": "markdown",
   "id": "c4ffad90",
   "metadata": {},
   "source": [
    "## Steps\n",
    "\n",
    "0. Create did:btcr\n",
    "1. Define VC\n",
    "2. Canonicalise VC \n",
    "3. BIP 322 sign VC payload\n",
    "4. Attach signature to VC as proof"
   ]
  },
  {
   "cell_type": "markdown",
   "id": "e2dd8f18",
   "metadata": {},
   "source": [
    "## 0. Create did:btcr\n",
    "\n",
    "The issuer needs a DID with a verificationMethod defining the bitcoin scriptPubKey they wish to use as the `message_challenge` in the bip0322 signature algorithm. The issuer needs to be able to \"unlock\" this scripPubKey. \n",
    "\n",
    "For example, if the scriptPubKey is a pay-2-witness-public-key-hash then they need to have the associated private key."
   ]
  },
  {
   "cell_type": "code",
   "execution_count": 2,
   "id": "e12bae63",
   "metadata": {},
   "outputs": [],
   "source": [
    "from buidl.ecc import PrivateKey\n",
    "private_key_wif = \"L4qmTC36US6tngrqbrW6vffZbxUVSfipQqXxdJw8S5HqyxNebaMP\"\n",
    "private_key = PrivateKey.parse(private_key_wif)"
   ]
  },
  {
   "cell_type": "code",
   "execution_count": 3,
   "id": "6059d00e",
   "metadata": {},
   "outputs": [],
   "source": [
    "### TODO: Note using pay-to-witness-public-key-hash address. Should be able to in theory use ANY btc script"
   ]
  },
  {
   "cell_type": "code",
   "execution_count": 4,
   "id": "7f27d53f",
   "metadata": {},
   "outputs": [],
   "source": [
    "address = private_key.point.p2wpkh_address()"
   ]
  },
  {
   "cell_type": "code",
   "execution_count": 5,
   "id": "92cf2999",
   "metadata": {},
   "outputs": [],
   "source": [
    "# Example test net did:btcr (taken from 0.1 spec)\n",
    "issuer_did_btcr = \"did:btcr:xyv2-xzpq-q9wa-p7t\""
   ]
  },
  {
   "cell_type": "code",
   "execution_count": 6,
   "id": "ec25bcd9",
   "metadata": {},
   "outputs": [],
   "source": [
    "# Currently resolves to this\n",
    "# NOTE: This DID Document currently defines a Ecdsa Secp256k1 public key NOT a bitcoin scriptPubKey\n",
    "# We need btcr 2.0 to support verificationMethods that are bitcoin scriptPubKeys. Not Secp256k1 public keys\n",
    "# Question: How do we want to support this?\n",
    "did_doc = {\n",
    "    \"@context\": [\"https://w3id.org/did/v0.11\", \"https://w3id.org/btcr/v1\"],\n",
    "    \"id\": \"did:btcr:xyv2-xzpq-q9wa-p7t\",\n",
    "    \"verificationMethod\": [\n",
    "       {\n",
    "            \"id\": \"did:btcr:xyv2-xzpq-q9wa-p7t#satoshi\",\n",
    "            \"controller\": \"did:btcr:xyv2-xzpq-q9wa-p7t\",\n",
    "            \"type\": \"EcdsaSecp256k1VerificationKey2019\",\n",
    "            \"publicKeyBase58\": \"owh12LKNuphe97teJTZKQTKNewSVTwjHcskPbq34epCY\"\n",
    "        },\n",
    "        {\n",
    "             \"id\": \"did:btcr:xyv2-xzpq-q9wa-p7t#vckey-0\",\n",
    "             \"controller\": \"did:btcr:xyv2-xzpq-q9wa-p7t\",\n",
    "             \"type\": \"EcdsaSecp256k1VerificationKey2019\",\n",
    "             \"publicKeyBase58\": \"owh12LKNuphe97teJTZKQTKNewSVTwjHcskPbq34epCY\"\n",
    "         },\n",
    "    ##########################      EXAMPLE       #################################\n",
    "        ### What are the resolution rules that parse the Bitcoin Tx at ref xyv2-xzpq-q9wa-p7t\n",
    "        ### To populate this verificationMethod into the didDocument.\n",
    "        ### E.g. scriptPubKey from UTX0 at index 1 in tx at ref xyv2-xzpq-q9wa-p7t\n",
    "        {\n",
    "             \"id\": \"did:btcr2:xyv2-xzpq-q9wa-p7t#vm-1\",\n",
    "             \"controller\": \"did:btcr:xyv2-xzpq-q9wa-p7t\",\n",
    "             \"type\": \"BIP322\",\n",
    "             \"address\": address\n",
    "        }\n",
    "    \n",
    "    ###############################################################################\n",
    "    ],\n",
    "    \"authentication\": [\"#satoshi\"],\n",
    "    \"assertionMethod\": [\"#vckey-0\",\"#vm-1\"]\n",
    "}\n"
   ]
  },
  {
   "cell_type": "markdown",
   "id": "a939f6fe",
   "metadata": {},
   "source": [
    "## 1. Define VC\n",
    "\n",
    "\n",
    "Issuer needs to decide:\n",
    "\n",
    "* Contents of credential\n",
    "* Schema of credential\n",
    "* Key pair and associated identifier they will be signing with\n",
    "* Identifier to use to the credential subject\n"
   ]
  },
  {
   "cell_type": "code",
   "execution_count": 7,
   "id": "7fec9730",
   "metadata": {},
   "outputs": [],
   "source": [
    "#     nVersion = 0\n",
    "#     nLockTime = 0\n",
    "#     vin[0].prevout.hash = 0000...000\n",
    "#     vin[0].prevout.n = 0xFFFFFFFF\n",
    "#     vin[0].nSequence = 0\n",
    "#     vin[0].scriptSig = OP_0 PUSH32[ message_hash ]\n",
    "#     vin[0].scriptWitness = []\n",
    "#     vout[0].nValue = 0\n",
    "#     vout[0].scriptPubKey = message_challenge"
   ]
  },
  {
   "cell_type": "code",
   "execution_count": 8,
   "id": "8fe4a46d",
   "metadata": {},
   "outputs": [],
   "source": [
    "unsigned_vc = {\n",
    "  \n",
    "  \"@context\": [\n",
    "    \"https://www.w3.org/2018/credentials/v1\",\n",
    "    \"https://www.w3.org/2018/credentials/examples/v1\"\n",
    "  ],\n",
    "  \n",
    "  \"id\": \"http://example.edu/credentials/1872\",\n",
    "  \n",
    "\n",
    "\n",
    "  \"type\": [\"VerifiableCredential\", \"AlumniCredential\"],\n",
    "  \n",
    "\n",
    "  \"issuer\": issuer_did_btcr,\n",
    "    \n",
    "\n",
    "  \"issuanceDate\": \"2010-01-01T19:23:24Z\",\n",
    "  \n",
    "\n",
    "\n",
    "  \"credentialSubject\": {\n",
    "    \n",
    "\n",
    "    # TODO: How identify credential subject?\n",
    "    \"id\": \"did:example:ebfeb1f712ebc6f1c276e12ec21\",\n",
    "    \"alumniOf\": {\n",
    "      \"id\": \"did:example:c276e12ec21ebfeb1f712ebc6f1\",\n",
    "      \"name\": [{\n",
    "        \"value\": \"Example University\",\n",
    "        \"lang\": \"en\"\n",
    "      }, {\n",
    "        \"value\": \"Exemple d'Université\",\n",
    "        \"lang\": \"fr\"\n",
    "      }]\n",
    "    }\n",
    "  },\n",
    "  \n",
    "\n",
    "\n",
    "}"
   ]
  },
  {
   "cell_type": "markdown",
   "id": "66b03ffa",
   "metadata": {},
   "source": [
    "## 2. Canonicalize VC\n",
    "\n",
    "Not exactly sure what this contains. Need a way to determinstically turn JSONLD VC object into a message to be signed.\n",
    "\n",
    "**Do I need to implement the URDNA RDF Canonicalization algorithm?** https://json-ld.github.io/rdf-dataset-canonicalization/spec/#canonicalization-algorithm\n",
    "\n",
    "- https://json-ld.github.io/rdf-dataset-canonicalization/spec/\n",
    "- https://www.w3.org/TR/vc-data-model/#json-ld"
   ]
  },
  {
   "cell_type": "code",
   "execution_count": 14,
   "id": "21877383",
   "metadata": {},
   "outputs": [],
   "source": [
    "# Naive approach?\n",
    "\n",
    "# import json\n",
    "# from buidl.helper import str_to_bytes\n",
    "\n",
    "# vc_payload = json.dumps(unsigned_vc)\n",
    "# print(str_to_bytes(vc_payload))"
   ]
  },
  {
   "cell_type": "markdown",
   "id": "d071528e",
   "metadata": {},
   "source": [
    "### URDNA Cannonicalization using [PyLD library](https://github.com/digitalbazaar/pyld)"
   ]
  },
  {
   "cell_type": "code",
   "execution_count": 15,
   "id": "4a3297c3",
   "metadata": {},
   "outputs": [],
   "source": [
    "from pyld import jsonld"
   ]
  },
  {
   "cell_type": "code",
   "execution_count": 16,
   "id": "c69f5b58",
   "metadata": {},
   "outputs": [],
   "source": [
    "normalized = jsonld.normalize(\n",
    "    unsigned_vc, {'algorithm': 'URDNA2015', 'format': 'application/n-quads'})"
   ]
  },
  {
   "cell_type": "code",
   "execution_count": 17,
   "id": "3c492557",
   "metadata": {},
   "outputs": [
    {
     "data": {
      "text/plain": [
       "'<did:example:c276e12ec21ebfeb1f712ebc6f1> <http://schema.org/name> _:c14n0 .\\n<did:example:c276e12ec21ebfeb1f712ebc6f1> <http://schema.org/name> _:c14n1 .\\n<did:example:ebfeb1f712ebc6f1c276e12ec21> <http://schema.org/alumniOf> <did:example:c276e12ec21ebfeb1f712ebc6f1> .\\n<http://example.edu/credentials/1872> <http://www.w3.org/1999/02/22-rdf-syntax-ns#type> <https://example.org/examples#AlumniCredential> .\\n<http://example.edu/credentials/1872> <http://www.w3.org/1999/02/22-rdf-syntax-ns#type> <https://www.w3.org/2018/credentials#VerifiableCredential> .\\n<http://example.edu/credentials/1872> <https://www.w3.org/2018/credentials#credentialSubject> <did:example:ebfeb1f712ebc6f1c276e12ec21> .\\n<http://example.edu/credentials/1872> <https://www.w3.org/2018/credentials#issuanceDate> \"2010-01-01T19:23:24Z\"^^<http://www.w3.org/2001/XMLSchema#dateTime> .\\n<http://example.edu/credentials/1872> <https://www.w3.org/2018/credentials#issuer> <did:btcr:xyv2-xzpq-q9wa-p7t> .\\n'"
      ]
     },
     "execution_count": 17,
     "metadata": {},
     "output_type": "execute_result"
    }
   ],
   "source": [
    "normalized"
   ]
  },
  {
   "cell_type": "markdown",
   "id": "2c730bb6",
   "metadata": {},
   "source": [
    "## 3. Sign VC\n",
    "\n",
    "**Code for sign_message can be found in [message.py](../../edit/src/message.py)**"
   ]
  },
  {
   "cell_type": "code",
   "execution_count": 18,
   "id": "2dd77c81",
   "metadata": {},
   "outputs": [
    {
     "name": "stdout",
     "output_type": "stream",
     "text": [
      "\n",
      "\n",
      "BIP 322 Simple Signature on VC AkgwRQIhAOnhdQ6NK73jWCSiEXgXOXJxoG2LeZwQ9KZVAbPr0/ALAiAs/Jzx5bp4voCDSUpPPrlpZM8gw/yO7jPq67VURxEXiAEhA8iCJXTXxwVa3nx91ZjdWvR+cjVLVuP6HiwsPPAl9s8x\n"
     ]
    }
   ],
   "source": [
    "from src.message import sign_message, MessageSignatureFormat\n",
    "\n",
    "vc_sig = sign_message(MessageSignatureFormat.SIMPLE, private_key, address, normalized)\n",
    "print(\"\\n\\nBIP 322 Simple Signature on VC\", vc_sig)"
   ]
  },
  {
   "cell_type": "markdown",
   "id": "ddffe91b",
   "metadata": {},
   "source": [
    "## 4. Attach Signature to VC as proof\n",
    "\n",
    "In the BIP322 Signature Suite (TBD) we would define three proof types?\n",
    "\n",
    "* BIP322LegacySignature2022 \n",
    "* BIP322SimpleSignature2022\n",
    "* BIP322FullSignature2022\n",
    "\n",
    "**Note: Actually perhaps it only requires a BIP322Signature2022 definition. From the signature provided the implementation determines whether it is LEGACY,SIMPLE or FULL**\n",
    "\n",
    "These types would define how the proof JSON should be structured and interpretted"
   ]
  },
  {
   "cell_type": "markdown",
   "id": "eb6f6952",
   "metadata": {},
   "source": [
    "### 4.1. TODO: what are the acceptable verification methods? How would a verifier be able to resolve to a bitcoin address usable to verify a BIP 322 signature"
   ]
  },
  {
   "cell_type": "code",
   "execution_count": 19,
   "id": "a6b9a6f9",
   "metadata": {},
   "outputs": [],
   "source": [
    "\n",
    "\n",
    "proof = {\n",
    "\n",
    "    \"type\": \"BIP322Signature2022\",\n",
    "    \n",
    "\n",
    "\n",
    "    \"created\": \"2022-05-23T21:19:10Z\",\n",
    "    \n",
    "\n",
    "\n",
    "    \"proofPurpose\": \"assertionMethod\",\n",
    "    \n",
    "\n",
    "    \n",
    "    # This verification method would identify a UTXO on the bitcoin network?\n",
    "    \"verificationMethod\": \"did:btcr:xyv2-xzpq-q9wa-p7t#vckey-1\",\n",
    "    \n",
    "\n",
    "\n",
    "    \"bip322_sig\": vc_sig\n",
    "}"
   ]
  },
  {
   "cell_type": "code",
   "execution_count": 20,
   "id": "597b20da",
   "metadata": {},
   "outputs": [
    {
     "name": "stdout",
     "output_type": "stream",
     "text": [
      "\n",
      "\n",
      "Copy this signed VC JSON to the verify notebook \n",
      "\n",
      "\n",
      "{\"@context\": [\"https://www.w3.org/2018/credentials/v1\", \"https://www.w3.org/2018/credentials/examples/v1\"], \"id\": \"http://example.edu/credentials/1872\", \"type\": [\"VerifiableCredential\", \"AlumniCredential\"], \"issuer\": \"did:btcr:xyv2-xzpq-q9wa-p7t\", \"issuanceDate\": \"2010-01-01T19:23:24Z\", \"credentialSubject\": {\"id\": \"did:example:ebfeb1f712ebc6f1c276e12ec21\", \"alumniOf\": {\"id\": \"did:example:c276e12ec21ebfeb1f712ebc6f1\", \"name\": [{\"value\": \"Example University\", \"lang\": \"en\"}, {\"value\": \"Exemple d'Universit\\u00e9\", \"lang\": \"fr\"}]}}, \"proof\": {\"type\": \"BIP322Signature2022\", \"created\": \"2022-05-23T21:19:10Z\", \"proofPurpose\": \"assertionMethod\", \"verificationMethod\": \"did:btcr:xyv2-xzpq-q9wa-p7t#vckey-1\", \"bip322_sig\": \"AkgwRQIhAOnhdQ6NK73jWCSiEXgXOXJxoG2LeZwQ9KZVAbPr0/ALAiAs/Jzx5bp4voCDSUpPPrlpZM8gw/yO7jPq67VURxEXiAEhA8iCJXTXxwVa3nx91ZjdWvR+cjVLVuP6HiwsPPAl9s8x\"}}\n"
     ]
    }
   ],
   "source": [
    "signed_vc = unsigned_vc\n",
    "signed_vc[\"proof\"] = proof\n",
    "print(\"\\n\\nCopy this signed VC JSON to the verify notebook \\n\\n\")\n",
    "print(json.dumps(signed_vc))"
   ]
  },
  {
   "cell_type": "code",
   "execution_count": null,
   "id": "fdc3caae",
   "metadata": {},
   "outputs": [],
   "source": []
  },
  {
   "cell_type": "code",
   "execution_count": null,
   "id": "768c7af8",
   "metadata": {},
   "outputs": [],
   "source": []
  },
  {
   "cell_type": "code",
   "execution_count": null,
   "id": "ddd89684",
   "metadata": {},
   "outputs": [],
   "source": []
  },
  {
   "cell_type": "code",
   "execution_count": null,
   "id": "80236ab0",
   "metadata": {},
   "outputs": [],
   "source": []
  },
  {
   "cell_type": "code",
   "execution_count": null,
   "id": "f633f676",
   "metadata": {},
   "outputs": [],
   "source": []
  },
  {
   "cell_type": "markdown",
   "id": "762a03ca",
   "metadata": {},
   "source": [
    "## BIP322 Legacy Example : Sign using p2pkh \n",
    "\n",
    "### TODO: Signature should encode the public key. (See bitcoin core [SignCompact](https://github.com/bitcoin/bitcoin/blob/48eec32347494da781f26478fa488b28336afbd2/src/key.cpp#L255) function)"
   ]
  },
  {
   "cell_type": "code",
   "execution_count": null,
   "id": "fe8d6b6e",
   "metadata": {},
   "outputs": [],
   "source": [
    "p2pkh_address = private_key.point.address()\n",
    "p2pkh_address"
   ]
  },
  {
   "cell_type": "code",
   "execution_count": null,
   "id": "29954d13",
   "metadata": {},
   "outputs": [],
   "source": [
    "vc_sig = sign_message(MessageSignatureFormat.LEGACY, private_key, p2pkh_address, vc_payload)\n",
    "print(\"\\n\\nBIP 322 LEGACY Signature on VC : \\n\", vc_sig)"
   ]
  },
  {
   "cell_type": "code",
   "execution_count": null,
   "id": "1302b263",
   "metadata": {},
   "outputs": [],
   "source": [
    "proof = {\n",
    "\n",
    "    \"type\": \"BIP322Signature2022\",\n",
    "    \n",
    "\n",
    "\n",
    "    \"created\": \"2022-05-23T21:19:10Z\",\n",
    "    \n",
    "\n",
    "\n",
    "    \"proofPurpose\": \"assertionMethod\",\n",
    "    \n",
    "\n",
    "    \n",
    "    # This verification method would identify a UTXO on the bitcoin network?\n",
    "    \"verificationMethod\": \"did:btcr:xyv2-xzpq-q9wa-p7t#vckey-1\",\n",
    "    \n",
    "\n",
    "\n",
    "    \"bip322_sig\": vc_sig\n",
    "}"
   ]
  },
  {
   "cell_type": "code",
   "execution_count": null,
   "id": "85ad154a",
   "metadata": {},
   "outputs": [],
   "source": [
    "signed_vc = unsigned_vc\n",
    "signed_vc[\"proof\"] = proof\n",
    "print(json.dumps(signed_vc))"
   ]
  },
  {
   "cell_type": "markdown",
   "id": "884db6f9",
   "metadata": {},
   "source": [
    "## BIP 322 FULL Example"
   ]
  },
  {
   "cell_type": "code",
   "execution_count": null,
   "id": "ab9c5a6f",
   "metadata": {},
   "outputs": [],
   "source": [
    "# Note: if trust SIMPLE with p2pkh_address it is converted to FULL, because no witness to encode\n",
    "full_vc_sig = sign_message(MessageSignatureFormat.SIMPLE, private_key, p2pkh_address, vc_payload)\n",
    "print(\"\\n\\nBIP 322 FULL Signature on VC : \\n\", full_vc_sig)"
   ]
  },
  {
   "cell_type": "code",
   "execution_count": null,
   "id": "da568462",
   "metadata": {},
   "outputs": [],
   "source": [
    "proof = {\n",
    "\n",
    "    \"type\": \"BIP322Signature2022\",\n",
    "    \n",
    "\n",
    "\n",
    "    \"created\": \"2022-05-23T21:19:10Z\",\n",
    "    \n",
    "\n",
    "\n",
    "    \"proofPurpose\": \"assertionMethod\",\n",
    "    \n",
    "\n",
    "    \n",
    "    # This verification method would identify a UTXO on the bitcoin network?\n",
    "    \"verificationMethod\": \"did:btcr:xyv2-xzpq-q9wa-p7t#vckey-1\",\n",
    "    \n",
    "\n",
    "\n",
    "    \"bip322_sig\": full_vc_sig\n",
    "}"
   ]
  },
  {
   "cell_type": "code",
   "execution_count": null,
   "id": "ef540415",
   "metadata": {},
   "outputs": [],
   "source": [
    "signed_vc = unsigned_vc\n",
    "signed_vc[\"proof\"] = proof\n",
    "print(json.dumps(signed_vc))"
   ]
  },
  {
   "cell_type": "code",
   "execution_count": null,
   "id": "e3d07b49",
   "metadata": {},
   "outputs": [],
   "source": []
  },
  {
   "cell_type": "code",
   "execution_count": null,
   "id": "ee7613b3",
   "metadata": {},
   "outputs": [],
   "source": [
    "from buidl.cecc import *"
   ]
  },
  {
   "cell_type": "code",
   "execution_count": null,
   "id": "0a18fc3a",
   "metadata": {},
   "outputs": [],
   "source": []
  }
 ],
 "metadata": {
  "kernelspec": {
   "display_name": "Python 3",
   "language": "python",
   "name": "python3"
  },
  "language_info": {
   "codemirror_mode": {
    "name": "ipython",
    "version": 3
   },
   "file_extension": ".py",
   "mimetype": "text/x-python",
   "name": "python",
   "nbconvert_exporter": "python",
   "pygments_lexer": "ipython3",
   "version": "3.8.5"
  }
 },
 "nbformat": 4,
 "nbformat_minor": 5
}
