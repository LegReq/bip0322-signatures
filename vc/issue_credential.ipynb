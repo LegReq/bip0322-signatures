{
 "cells": [
  {
   "cell_type": "markdown",
   "id": "3943e17f",
   "metadata": {},
   "source": [
    "# Issue a Credential using BIP 322 Signatures"
   ]
  },
  {
   "cell_type": "markdown",
   "id": "ec273806",
   "metadata": {},
   "source": [
    "This notebook outlines how a Bitcoin address can be used to sign a verifiable credential using BIP 322 signatures explored in other notebooks. Initially, this will just look at using a bitcoin address as the issuer although eventually this should transition to a did:btcr (v2?)"
   ]
  },
  {
   "cell_type": "markdown",
   "id": "3dabd3e5",
   "metadata": {},
   "source": [
    "## Notebook Author\n",
    "\n",
    "* Will Abramson\n",
    "* [Legendary Requirements](http://legreq.com/)\n",
    "* Contact: will@legreq.com"
   ]
  },
  {
   "cell_type": "markdown",
   "id": "ec65dedf",
   "metadata": {},
   "source": [
    "## Acknowledgements\n",
    "\n",
    "This work was funded by Ryan Grant and Digital Contract Design. Thanks also go to Joe Andrieu, Kalle Alm, Pieter Wuille and Jimmy Song for engaging with and supporting various aspects of this work."
   ]
  },
  {
   "cell_type": "code",
   "execution_count": 3,
   "id": "4385105d",
   "metadata": {},
   "outputs": [
    {
     "name": "stdout",
     "output_type": "stream",
     "text": [
      "/home/will/work/LegendaryRequirements/clients/dcd/bip0322-sigs\n"
     ]
    }
   ],
   "source": [
    "cd .."
   ]
  },
  {
   "cell_type": "markdown",
   "id": "c4ffad90",
   "metadata": {},
   "source": [
    "## Steps\n",
    "\n",
    "1. Define VC\n",
    "2. Canonicalise VC (Do we need this?)\n",
    "3. BIP 322 sign VC payload\n",
    "4. Attach signature to VC as proof"
   ]
  },
  {
   "cell_type": "markdown",
   "id": "a939f6fe",
   "metadata": {},
   "source": [
    "## 1. Define VC\n",
    "\n",
    "\n",
    "Issuer needs to decide:\n",
    "\n",
    "* Contents of credential\n",
    "* Schema of credential\n",
    "* Key pair and associated identifier they will be signing with\n",
    "* Identifier to use to the credential subject\n"
   ]
  },
  {
   "cell_type": "markdown",
   "id": "a3642b7b",
   "metadata": {},
   "source": [
    "### 1.1. TODO: How do we identify the issuer\n",
    "\n",
    "Should be use a did:btcr? Would need to be able to resolve this to a DID document and incombination with the proof data fetch the bitcoin address required to verify the signature."
   ]
  },
  {
   "cell_type": "code",
   "execution_count": 4,
   "id": "8fe4a46d",
   "metadata": {},
   "outputs": [],
   "source": [
    "unsigned_vc = {\n",
    "  \n",
    "  \"@context\": [\n",
    "    \"https://www.w3.org/2018/credentials/v1\",\n",
    "    \"https://www.w3.org/2018/credentials/examples/v1\"\n",
    "  ],\n",
    "  \n",
    "  \"id\": \"http://example.edu/credentials/1872\",\n",
    "  \n",
    "\n",
    "\n",
    "  \"type\": [\"VerifiableCredential\", \"AlumniCredential\"],\n",
    "  \n",
    "\n",
    "  # TODO: How identifier issuer\n",
    "  \"issuer\": \"https://example.edu/issuers/565049\",\n",
    "  \n",
    "\n",
    "\n",
    "  \"issuanceDate\": \"2010-01-01T19:23:24Z\",\n",
    "  \n",
    "\n",
    "\n",
    "  \"credentialSubject\": {\n",
    "    \n",
    "\n",
    "    # TODO: How identify credential subject\n",
    "    \"id\": \"did:example:ebfeb1f712ebc6f1c276e12ec21\",\n",
    "    \n",
    "\n",
    "    \"alumniOf\": {\n",
    "      \"id\": \"did:example:c276e12ec21ebfeb1f712ebc6f1\",\n",
    "      \"name\": [{\n",
    "        \"value\": \"Example University\",\n",
    "        \"lang\": \"en\"\n",
    "      }, {\n",
    "        \"value\": \"Exemple d'Université\",\n",
    "        \"lang\": \"fr\"\n",
    "      }]\n",
    "    }\n",
    "  },\n",
    "  \n",
    "\n",
    "\n",
    "}"
   ]
  },
  {
   "cell_type": "markdown",
   "id": "66b03ffa",
   "metadata": {},
   "source": [
    "## 2. Canonicalize VC\n",
    "\n",
    "Not exactly sure what this contains. Need a way to determinstically turn JSONLD VC object into a message to be signed.\n",
    "\n",
    "I think only need to canonicalize if rendering data in JSONLD VC from other sources? RDF Dataset?\n",
    "\n",
    "- https://json-ld.github.io/rdf-dataset-canonicalization/spec/\n",
    "- https://www.w3.org/TR/vc-data-model/#json-ld"
   ]
  },
  {
   "cell_type": "code",
   "execution_count": 6,
   "id": "21877383",
   "metadata": {},
   "outputs": [
    {
     "name": "stdout",
     "output_type": "stream",
     "text": [
      "b'{\"@context\": [\"https://www.w3.org/2018/credentials/v1\", \"https://www.w3.org/2018/credentials/examples/v1\"], \"id\": \"http://example.edu/credentials/1872\", \"type\": [\"VerifiableCredential\", \"AlumniCredential\"], \"issuer\": \"https://example.edu/issuers/565049\", \"issuanceDate\": \"2010-01-01T19:23:24Z\", \"credentialSubject\": {\"id\": \"did:example:ebfeb1f712ebc6f1c276e12ec21\", \"alumniOf\": {\"id\": \"did:example:c276e12ec21ebfeb1f712ebc6f1\", \"name\": [{\"value\": \"Example University\", \"lang\": \"en\"}, {\"value\": \"Exemple d\\'Universit\\\\u00e9\", \"lang\": \"fr\"}]}}}'\n"
     ]
    }
   ],
   "source": [
    "# Naive approach?\n",
    "\n",
    "import json\n",
    "from buidl.helper import str_to_bytes\n",
    "\n",
    "vc_payload = json.dumps(unsigned_vc)\n",
    "print(str_to_bytes(vc_payload))"
   ]
  },
  {
   "cell_type": "markdown",
   "id": "2c730bb6",
   "metadata": {},
   "source": [
    "## 3. Sign VC\n",
    "\n",
    "**Code for sign_message can be found in [message.py](../../edit/src/message.py)**"
   ]
  },
  {
   "cell_type": "code",
   "execution_count": 7,
   "id": "e12bae63",
   "metadata": {},
   "outputs": [],
   "source": [
    "from buidl.ecc import PrivateKey\n",
    "private_key_wif = \"L4qmTC36US6tngrqbrW6vffZbxUVSfipQqXxdJw8S5HqyxNebaMP\"\n",
    "private_key = PrivateKey.parse(private_key_wif)"
   ]
  },
  {
   "cell_type": "code",
   "execution_count": 8,
   "id": "7f27d53f",
   "metadata": {},
   "outputs": [
    {
     "data": {
      "text/plain": [
       "'bc1qz52z3pe9fg3qxv9n6yhxgj7rcn8wsvpq56v9ck'"
      ]
     },
     "execution_count": 8,
     "metadata": {},
     "output_type": "execute_result"
    }
   ],
   "source": [
    "address = private_key.point.p2wpkh_script().address()\n",
    "address"
   ]
  },
  {
   "cell_type": "code",
   "execution_count": 9,
   "id": "2dd77c81",
   "metadata": {},
   "outputs": [
    {
     "name": "stdout",
     "output_type": "stream",
     "text": [
      "AkgwRQIhAKgZ4oVu51lwBxQ+u0yz1xHBg60ovueTTvU8Wl5RkrhoAiAfY5WS+ghkFmQZzhLcGN6wSAjlQeLbBYgPi1Ve3hvnswEhA8iCJXTXxwVa3nx91ZjdWvR+cjVLVuP6HiwsPPAl9s8x\n"
     ]
    }
   ],
   "source": [
    "from src.message import sign_message, MessageSignatureFormat\n",
    "\n",
    "vc_sig = sign_message(MessageSignatureFormat.SIMPLE, private_key, address, vc_payload)\n",
    "print(vc_sig)"
   ]
  },
  {
   "cell_type": "markdown",
   "id": "ddffe91b",
   "metadata": {},
   "source": [
    "## 4. Attach Signature to VC as proof\n",
    "\n",
    "In the BIP322 Signature Suite (TBD) we would define three proof types?\n",
    "\n",
    "* BIP322LegacySignature2022 \n",
    "* BIP322SimpleSignature2022\n",
    "* BIP322FullSignature2022\n",
    "\n",
    "These types would define how the proof JSON should be structured and interpretted"
   ]
  },
  {
   "cell_type": "code",
   "execution_count": 10,
   "id": "a6b9a6f9",
   "metadata": {},
   "outputs": [],
   "source": [
    "\n",
    "\n",
    "proof = {\n",
    "\n",
    "    \"type\": \"BIP322SimpleSignature2022\",\n",
    "    \n",
    "\n",
    "\n",
    "    \"created\": \"2022-05-23T21:19:10Z\",\n",
    "    \n",
    "\n",
    "\n",
    "    \"proofPurpose\": \"assertionMethod\",\n",
    "    \n",
    "\n",
    "    \n",
    "    # This verification method would identify a UTXO on the bitcoin network?\n",
    "    \"verificationMethod\": \"https://example.edu/issuers/565049#key-1\",\n",
    "    \n",
    "\n",
    "\n",
    "    \"bip322_sig\": vc_sig\n",
    "}"
   ]
  },
  {
   "cell_type": "code",
   "execution_count": 12,
   "id": "597b20da",
   "metadata": {},
   "outputs": [
    {
     "name": "stdout",
     "output_type": "stream",
     "text": [
      "{\"@context\": [\"https://www.w3.org/2018/credentials/v1\", \"https://www.w3.org/2018/credentials/examples/v1\"], \"id\": \"http://example.edu/credentials/1872\", \"type\": [\"VerifiableCredential\", \"AlumniCredential\"], \"issuer\": \"https://example.edu/issuers/565049\", \"issuanceDate\": \"2010-01-01T19:23:24Z\", \"credentialSubject\": {\"id\": \"did:example:ebfeb1f712ebc6f1c276e12ec21\", \"alumniOf\": {\"id\": \"did:example:c276e12ec21ebfeb1f712ebc6f1\", \"name\": [{\"value\": \"Example University\", \"lang\": \"en\"}, {\"value\": \"Exemple d'Universit\\u00e9\", \"lang\": \"fr\"}]}}, \"proof\": {\"type\": \"BIP322SimpleSignature2022\", \"created\": \"2022-05-23T21:19:10Z\", \"proofPurpose\": \"assertionMethod\", \"verificationMethod\": \"https://example.edu/issuers/565049#key-1\", \"bip322_sig\": \"AkgwRQIhAKgZ4oVu51lwBxQ+u0yz1xHBg60ovueTTvU8Wl5RkrhoAiAfY5WS+ghkFmQZzhLcGN6wSAjlQeLbBYgPi1Ve3hvnswEhA8iCJXTXxwVa3nx91ZjdWvR+cjVLVuP6HiwsPPAl9s8x\"}}\n"
     ]
    }
   ],
   "source": [
    "signed_vc = unsigned_vc\n",
    "signed_vc[\"proof\"] = proof\n",
    "print(json.dumps(signed_vc))"
   ]
  },
  {
   "cell_type": "code",
   "execution_count": null,
   "id": "fdc3caae",
   "metadata": {},
   "outputs": [],
   "source": []
  },
  {
   "cell_type": "code",
   "execution_count": null,
   "id": "768c7af8",
   "metadata": {},
   "outputs": [],
   "source": []
  }
 ],
 "metadata": {
  "kernelspec": {
   "display_name": "Python 3",
   "language": "python",
   "name": "python3"
  },
  "language_info": {
   "codemirror_mode": {
    "name": "ipython",
    "version": 3
   },
   "file_extension": ".py",
   "mimetype": "text/x-python",
   "name": "python",
   "nbconvert_exporter": "python",
   "pygments_lexer": "ipython3",
   "version": "3.8.5"
  }
 },
 "nbformat": 4,
 "nbformat_minor": 5
}
