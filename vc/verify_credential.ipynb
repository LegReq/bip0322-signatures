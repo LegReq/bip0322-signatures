{
 "cells": [
  {
   "cell_type": "markdown",
   "id": "e3cdeb1f",
   "metadata": {},
   "source": [
    "# Verify Credential\n",
    "\n",
    "This notebook illustrates how a VC signed using a BIP 322 signature could be parsed and verified by a verifier."
   ]
  },
  {
   "cell_type": "markdown",
   "id": "803ee893",
   "metadata": {},
   "source": [
    "## Notebook Author\n",
    "\n",
    "* Will Abramson\n",
    "* [Legendary Requirements](http://legreq.com/)\n",
    "* Contact: will@legreq.com"
   ]
  },
  {
   "cell_type": "markdown",
   "id": "f5a42dd1",
   "metadata": {},
   "source": [
    "## Acknowledgements\n",
    "\n",
    "This work was funded by Ryan Grant and [Digital Contract Design](https://contract.design/). Thanks also go to Joe Andrieu, Kalle Alm, Pieter Wuille and Jimmy Song for engaging with and supporting various aspects of this work."
   ]
  },
  {
   "cell_type": "markdown",
   "id": "d50cc45e",
   "metadata": {},
   "source": [
    "## Steps\n",
    "\n",
    "1. Parse signature from signed VC\n",
    "2. Parse/resolve bitcoin address used the sign vc\n",
    "3. Remove proof from signed VC and canonicalize\n",
    "4. Verify signatue on VC"
   ]
  },
  {
   "cell_type": "code",
   "execution_count": 1,
   "id": "719fa11e",
   "metadata": {},
   "outputs": [],
   "source": [
    "signed_vc = {'@context': ['https://www.w3.org/2018/credentials/v1',\n",
    "  'https://www.w3.org/2018/credentials/examples/v1'],\n",
    " 'id': 'http://example.edu/credentials/1872',\n",
    " 'type': ['VerifiableCredential', 'AlumniCredential'],\n",
    " 'issuer': 'https://example.edu/issuers/565049',\n",
    " 'issuanceDate': '2010-01-01T19:23:24Z',\n",
    " 'credentialSubject': {'id': 'did:example:ebfeb1f712ebc6f1c276e12ec21',\n",
    "  'alumniOf': {'id': 'did:example:c276e12ec21ebfeb1f712ebc6f1',\n",
    "   'name': [{'value': 'Example University', 'lang': 'en'},\n",
    "    {'value': \"Exemple d'Université\", 'lang': 'fr'}]}},\n",
    " 'proof': {'type': 'BIP322SimpleSignature2022',\n",
    "  'created': '2022-05-23T21:19:10Z',\n",
    "  'proofPurpose': 'assertionMethod',\n",
    "  'verificationMethod': 'https://example.edu/issuers/565049#key-1',\n",
    "  'bip322_sig': 'AkgwRQIhAKgZ4oVu51lwBxQ+u0yz1xHBg60ovueTTvU8Wl5RkrhoAiAfY5WS+ghkFmQZzhLcGN6wSAjlQeLbBYgPi1Ve3hvnswEhA8iCJXTXxwVa3nx91ZjdWvR+cjVLVuP6HiwsPPAl9s8x'}}"
   ]
  },
  {
   "cell_type": "code",
   "execution_count": 2,
   "id": "899d24fb",
   "metadata": {},
   "outputs": [],
   "source": [
    "proof = signed_vc[\"proof\"]\n",
    "bip322_sig = proof[\"bip322_sig\"]"
   ]
  },
  {
   "cell_type": "code",
   "execution_count": 3,
   "id": "85884690",
   "metadata": {},
   "outputs": [
    {
     "data": {
      "text/plain": [
       "{'@context': ['https://www.w3.org/2018/credentials/v1',\n",
       "  'https://www.w3.org/2018/credentials/examples/v1'],\n",
       " 'id': 'http://example.edu/credentials/1872',\n",
       " 'type': ['VerifiableCredential', 'AlumniCredential'],\n",
       " 'issuer': 'https://example.edu/issuers/565049',\n",
       " 'issuanceDate': '2010-01-01T19:23:24Z',\n",
       " 'credentialSubject': {'id': 'did:example:ebfeb1f712ebc6f1c276e12ec21',\n",
       "  'alumniOf': {'id': 'did:example:c276e12ec21ebfeb1f712ebc6f1',\n",
       "   'name': [{'value': 'Example University', 'lang': 'en'},\n",
       "    {'value': \"Exemple d'Université\", 'lang': 'fr'}]}}}"
      ]
     },
     "execution_count": 3,
     "metadata": {},
     "output_type": "execute_result"
    }
   ],
   "source": [
    "vc = signed_vc\n",
    "del vc[\"proof\"]\n",
    "\n",
    "vc"
   ]
  },
  {
   "cell_type": "code",
   "execution_count": 4,
   "id": "3e356deb",
   "metadata": {},
   "outputs": [],
   "source": [
    "import json\n",
    "from buidl.helper import str_to_bytes"
   ]
  },
  {
   "cell_type": "code",
   "execution_count": 5,
   "id": "42694551",
   "metadata": {},
   "outputs": [],
   "source": [
    "vc_payload = json.dumps(vc)"
   ]
  },
  {
   "cell_type": "code",
   "execution_count": 6,
   "id": "fcb00232",
   "metadata": {},
   "outputs": [
    {
     "data": {
      "text/plain": [
       "b'{\"@context\": [\"https://www.w3.org/2018/credentials/v1\", \"https://www.w3.org/2018/credentials/examples/v1\"], \"id\": \"http://example.edu/credentials/1872\", \"type\": [\"VerifiableCredential\", \"AlumniCredential\"], \"issuer\": \"https://example.edu/issuers/565049\", \"issuanceDate\": \"2010-01-01T19:23:24Z\", \"credentialSubject\": {\"id\": \"did:example:ebfeb1f712ebc6f1c276e12ec21\", \"alumniOf\": {\"id\": \"did:example:c276e12ec21ebfeb1f712ebc6f1\", \"name\": [{\"value\": \"Example University\", \"lang\": \"en\"}, {\"value\": \"Exemple d\\'Universit\\\\u00e9\", \"lang\": \"fr\"}]}}}'"
      ]
     },
     "execution_count": 6,
     "metadata": {},
     "output_type": "execute_result"
    }
   ],
   "source": [
    "str_to_bytes(vc_payload)"
   ]
  },
  {
   "cell_type": "code",
   "execution_count": 7,
   "id": "ae8a0242",
   "metadata": {},
   "outputs": [
    {
     "name": "stdout",
     "output_type": "stream",
     "text": [
      "/home/will/work/LegendaryRequirements/clients/dcd/bip0322-sigs\n"
     ]
    }
   ],
   "source": [
    "cd .."
   ]
  },
  {
   "cell_type": "code",
   "execution_count": 8,
   "id": "64acae94",
   "metadata": {},
   "outputs": [],
   "source": [
    "## TODO: this should be contained within the VC or retrievable through did resolution.\n",
    "## Currently just copied from issue_credential\n",
    "address = 'bc1qz52z3pe9fg3qxv9n6yhxgj7rcn8wsvpq56v9ck'"
   ]
  },
  {
   "cell_type": "code",
   "execution_count": 9,
   "id": "9ecd06c0",
   "metadata": {},
   "outputs": [
    {
     "data": {
      "text/plain": [
       "OP_0 15142887254a220330b3d12e644bc3c4cee83020 "
      ]
     },
     "execution_count": 9,
     "metadata": {},
     "output_type": "execute_result"
    }
   ],
   "source": [
    "from buidl.script import address_to_script_pubkey\n",
    "address_to_script_pubkey(address)"
   ]
  },
  {
   "cell_type": "code",
   "execution_count": 10,
   "id": "ecb28a11",
   "metadata": {},
   "outputs": [],
   "source": [
    "from src.message import verify_message"
   ]
  },
  {
   "cell_type": "code",
   "execution_count": 11,
   "id": "57a6ec98",
   "metadata": {},
   "outputs": [
    {
     "name": "stdout",
     "output_type": "stream",
     "text": [
      "mismatch between length and consumed bytes 88 vs 31\n"
     ]
    },
    {
     "data": {
      "text/plain": [
       "True"
      ]
     },
     "execution_count": 11,
     "metadata": {},
     "output_type": "execute_result"
    }
   ],
   "source": [
    "verify_message(address, bip322_sig, vc_payload)"
   ]
  },
  {
   "cell_type": "code",
   "execution_count": null,
   "id": "9d62bcdb",
   "metadata": {},
   "outputs": [],
   "source": []
  }
 ],
 "metadata": {
  "kernelspec": {
   "display_name": "Python 3",
   "language": "python",
   "name": "python3"
  },
  "language_info": {
   "codemirror_mode": {
    "name": "ipython",
    "version": 3
   },
   "file_extension": ".py",
   "mimetype": "text/x-python",
   "name": "python",
   "nbconvert_exporter": "python",
   "pygments_lexer": "ipython3",
   "version": "3.8.5"
  }
 },
 "nbformat": 4,
 "nbformat_minor": 5
}
