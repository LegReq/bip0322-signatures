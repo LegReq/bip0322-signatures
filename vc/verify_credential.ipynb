{
 "cells": [
  {
   "cell_type": "markdown",
   "id": "e3cdeb1f",
   "metadata": {},
   "source": [
    "# Verify Credential\n",
    "\n",
    "This notebook illustrates how a VC signed using a BIP 322 signature could be parsed and verified by a verifier."
   ]
  },
  {
   "cell_type": "markdown",
   "id": "803ee893",
   "metadata": {},
   "source": [
    "## Notebook Author\n",
    "\n",
    "* Will Abramson\n",
    "* [Legendary Requirements](http://legreq.com/)\n",
    "* Contact: will@legreq.com"
   ]
  },
  {
   "cell_type": "markdown",
   "id": "f5a42dd1",
   "metadata": {},
   "source": [
    "## Acknowledgements\n",
    "\n",
    "This work was funded by Ryan Grant and [Digital Contract Design](https://contract.design/). Thanks also go to Joe Andrieu, Kalle Alm, Pieter Wuille and Jimmy Song for engaging with and supporting various aspects of this work."
   ]
  },
  {
   "cell_type": "markdown",
   "id": "e647ce07",
   "metadata": {},
   "source": [
    "## Imports"
   ]
  },
  {
   "cell_type": "code",
   "execution_count": 1,
   "id": "ae8a0242",
   "metadata": {},
   "outputs": [
    {
     "name": "stdout",
     "output_type": "stream",
     "text": [
      "/home/will/work/LegendaryRequirements/clients/dcd/bip0322-sigs\n"
     ]
    }
   ],
   "source": [
    "cd .."
   ]
  },
  {
   "cell_type": "code",
   "execution_count": 2,
   "id": "e667ae06",
   "metadata": {},
   "outputs": [],
   "source": [
    "import copy\n",
    "\n",
    "from pyld import jsonld\n",
    "\n",
    "from buidl.helper import str_to_bytes, sha256\n",
    "\n",
    "from src.message import verify_message"
   ]
  },
  {
   "cell_type": "markdown",
   "id": "56bd09ab",
   "metadata": {},
   "source": [
    "## Copy Signed VC from issue_credential Notebook\n",
    "\n",
    "**YOU SHOULD COPY THE SIGNED VC PRODUCED IN the [issue_credential](http://localhost:8888/notebooks/vc/issue_credential.ipynb) NOTEBOOK**\n",
    "\n",
    "This is the VC we will attempt to verify in this notebook."
   ]
  },
  {
   "cell_type": "code",
   "execution_count": 3,
   "id": "d2b7499c",
   "metadata": {},
   "outputs": [],
   "source": [
    "signed_vc = {'@context': ['https://www.w3.org/2018/credentials/v1', 'https://www.w3.org/2018/credentials/examples/v1', {'@context': {'id': '@id', 'type': '@type', '@protected': True, 'proof': {'@id': 'https://w3id.org/security#proof', '@type': '@id', '@container': '@graph'}, 'BIP322VerificationAddress2022': {'@id': 'https://w3id.org/security#BIP322VerificationAddress2022', '@context': {'@protected': True, 'id': '@id', 'type': '@type', 'controller': {'@id': 'https://w3id.org/security#controller', '@type': '@id'}, 'revoked': {'@id': 'https://w3id.org/security#revoked', '@type': 'http://www.w3.org/2001/XMLSchema#dateTime'}, 'address': {'@id': 'https://w3id.org/bip322#address', '@type': 'https://w3id.org/bip322#address'}}}, 'BIP322Signature2022': {'@id': 'https://w3id.org/security#BIP322Signature2022', '@context': {'@protected': True, 'id': '@id', 'type': '@type', 'challenge': 'https://w3id.org/security#challenge', 'created': {'@id': 'http://purl.org/dc/terms/created', '@type': 'http://www.w3.org/2001/XMLSchema#dateTime'}, 'domain': 'https://w3id.org/security#domain', 'expires': {'@id': 'https://w3id.org/security#expiration', '@type': 'http://www.w3.org/2001/XMLSchema#dateTime'}, 'nonce': 'https://w3id.org/security#nonce', 'proofPurpose': {'@id': 'https://w3id.org/security#proofPurpose', '@type': '@vocab', '@context': {'@protected': True, 'id': '@id', 'type': '@type', 'assertionMethod': {'@id': 'https://w3id.org/security#assertionMethod', '@type': '@id', '@container': '@set'}, 'authentication': {'@id': 'https://w3id.org/security#authenticationMethod', '@type': '@id', '@container': '@set'}, 'capabilityInvocation': {'@id': 'https://w3id.org/security#capabilityInvocationMethod', '@type': '@id', '@container': '@set'}, 'capabilityDelegation': {'@id': 'https://w3id.org/security#capabilityDelegationMethod', '@type': '@id', '@container': '@set'}, 'keyAgreement': {'@id': 'https://w3id.org/security#keyAgreementMethod', '@type': '@id', '@container': '@set'}}}, 'proofValue': {'@id': 'https://github.com/bitcoin/bips/blob/master/bip-0322.mediawiki#types-of-signatures', '@type': 'https://github.com/bitcoin/bips/blob/master/bip-0322.mediawiki#types-of-signatures'}, 'verificationMethod': {'@id': 'https://w3id.org/security#verificationMethod', '@type': '@id'}}}}}], 'id': 'http://example.edu/credentials/1872', 'type': ['VerifiableCredential', 'AlumniCredential'], 'issuer': 'did:btcr:xyv2-xzpq-q9wa-p7t', 'issuanceDate': '2010-01-01T19:23:24Z', 'credentialSubject': {'id': 'did:example:ebfeb1f712ebc6f1c276e12ec21', 'alumniOf': {'id': 'did:example:c276e12ec21ebfeb1f712ebc6f1', 'name': [{'value': 'Example University', 'lang': 'en'}, {'value': \"Exemple d'Université\", 'lang': 'fr'}]}}, 'proof': {'type': 'BIP322Signature2022', 'created': '2022-08-25 15:49:32.624646', 'verificationMethod': 'did:btcr:xyv2-xzpq-q9wa-p7t#vm-1', 'proofPurpose': 'assertionMethod', 'proofValue': 'AkgwRQIhAPyez5/OYhYLl5XqAVmgp3ii/H096d1hCkDpO8zxUCtIAiBFnhHvwR7kfHEunBV+WrOcujgyBA2BnqNnJAE8BkteUwEhA8iCJXTXxwVa3nx91ZjdWvR+cjVLVuP6HiwsPPAl9s8x'}}\n"
   ]
  },
  {
   "cell_type": "markdown",
   "id": "8b5994a4",
   "metadata": {},
   "source": [
    "## Data Integrity Proof Verification Algorithm\n",
    "\n",
    "Steps taken from [here](https://w3c.github.io/vc-data-integrity/#proof-verification-algorithm):\n",
    "\n",
    "1. Get the public key by dereferencing its URL identifier in the proof node of the default graph of signed document. \n",
    "    - Confirm that the unsigned data document that describes the public key specifies its controller and that its controllers's URL identifier can be dereferenced to reveal a bi-directional link back to the key. \n",
    "    - Ensure that the key's controller is a trusted entity before proceeding to the next step.\n",
    "2. Let document be a copy of signed document.\n",
    "3. Remove any proof nodes from the default graph in document and save it as proof.\n",
    "4. Generate a canonicalized document by canonicalizing document according to the canonicalization algorithm (e.g. the URDNA2015 [RDF-DATASET-C14N] algorithm).\n",
    "5. Create a value tbv that represents the data to be verified, and set it to the result of running the Create Verify Hash Algorithm, passing the information in proof.\n",
    "6. Pass the proofValue, tbv, and the public key to the proof algorithm (e.g. JSON Web Proof using RSASSA-PKCS1-v1_5 algorithm). Return the resulting boolean value.\n"
   ]
  },
  {
   "cell_type": "markdown",
   "id": "3f1c568a",
   "metadata": {},
   "source": [
    "## 1. Get the public key by dereferencing its URL identifier in the proof node of the default graph of signed document. \n",
    "\n",
    "In the case of a VC, we need to resolve the issuer identifier (typically a DID) to retrieve the DID document.\n"
   ]
  },
  {
   "cell_type": "code",
   "execution_count": 4,
   "id": "909c57ad",
   "metadata": {},
   "outputs": [
    {
     "name": "stdout",
     "output_type": "stream",
     "text": [
      "Need to be able to deference :  did:btcr:xyv2-xzpq-q9wa-p7t#vm-1\n"
     ]
    }
   ],
   "source": [
    "issuer_did_btcr = signed_vc[\"issuer\"]\n",
    "\n",
    "proof = signed_vc[\"proof\"]\n",
    "verificationMethod = proof[\"verificationMethod\"]\n",
    "\n",
    "print(\"Need to be able to deference : \", verificationMethod)"
   ]
  },
  {
   "cell_type": "markdown",
   "id": "073108ce",
   "metadata": {},
   "source": [
    "### 1.1. First resolve the DID to get the corresponding DID document\n",
    "\n",
    "**Note:** this is mocked in these notebooks. DID resolution is out of scope. We KNOW that the issuer did resolves to a specific DID document defined in the below cell."
   ]
  },
  {
   "cell_type": "code",
   "execution_count": 5,
   "id": "096e171e",
   "metadata": {},
   "outputs": [],
   "source": [
    "resolved_did_doc = {\n",
    "    \"@context\": [\"https://w3id.org/did/v0.11\", \"https://w3id.org/btcr/v1\"],\n",
    "    \"id\": \"did:btcr:xyv2-xzpq-q9wa-p7t\",\n",
    "    \"verificationMethod\": [\n",
    "       {\n",
    "            \"id\": \"did:btcr:xyv2-xzpq-q9wa-p7t#satoshi\",\n",
    "            \"controller\": \"did:btcr:xyv2-xzpq-q9wa-p7t\",\n",
    "            \"type\": \"EcdsaSecp256k1VerificationKey2019\",\n",
    "            \"publicKeyBase58\": \"owh12LKNuphe97teJTZKQTKNewSVTwjHcskPbq34epCY\"\n",
    "        },\n",
    "        {\n",
    "             \"id\": \"did:btcr:xyv2-xzpq-q9wa-p7t#vckey-0\",\n",
    "             \"controller\": \"did:btcr:xyv2-xzpq-q9wa-p7t\",\n",
    "             \"type\": \"EcdsaSecp256k1VerificationKey2019\",\n",
    "             \"publicKeyBase58\": \"owh12LKNuphe97teJTZKQTKNewSVTwjHcskPbq34epCY\"\n",
    "         },\n",
    "    ##########################      EXAMPLE       #################################\n",
    "        ### What are the resolution rules that parse the Bitcoin Tx at ref xyv2-xzpq-q9wa-p7t\n",
    "        ### To populate this verificationMethod into the didDocument.\n",
    "        ### E.g. scriptPubKey from UTX0 at index 1 in tx at ref xyv2-xzpq-q9wa-p7t\n",
    "        {\n",
    "             \"id\": \"did:btcr:xyv2-xzpq-q9wa-p7t#vm-1\",\n",
    "             \"controller\": \"did:btcr:xyv2-xzpq-q9wa-p7t\",\n",
    "             \"type\": \"BIP322VerificationAddress2022\",\n",
    "             \"address\": \"bc1qz52z3pe9fg3qxv9n6yhxgj7rcn8wsvpq56v9ck\"\n",
    "        }\n",
    "    \n",
    "    ###############################################################################\n",
    "    ],\n",
    "    \"authentication\": [\"#satoshi\"],\n",
    "    \"assertionMethod\": [\"#vckey-0\",\"#vm-1\"]\n",
    "}\n"
   ]
  },
  {
   "cell_type": "markdown",
   "id": "fa1c0faa",
   "metadata": {},
   "source": [
    "### 1.2. Parse Resolved DID document for \"publicKey\" defined in proof\n",
    "\n",
    "Note: in the case of a BIP322 verificationMethod the publicKey is actually a bitcoin address."
   ]
  },
  {
   "cell_type": "code",
   "execution_count": 6,
   "id": "c323e98a",
   "metadata": {},
   "outputs": [
    {
     "name": "stdout",
     "output_type": "stream",
     "text": [
      "Bitcoin address to use in BIP 322 Verification :  bc1qz52z3pe9fg3qxv9n6yhxgj7rcn8wsvpq56v9ck\n"
     ]
    }
   ],
   "source": [
    "bip322VerificationAddress = None\n",
    "for vm in resolved_did_doc[\"verificationMethod\"]:\n",
    "    if vm[\"id\"] == verificationMethod:\n",
    "        bip322VerificationAddress = vm[\"address\"]\n",
    "        break;\n",
    "        \n",
    "print(\"Bitcoin address to use in BIP 322 Verification : \", bip322VerificationAddress)"
   ]
  },
  {
   "cell_type": "markdown",
   "id": "7ebdb0d9",
   "metadata": {},
   "source": [
    "## 2. Let document be a copy of signed document\n",
    "\n",
    "Essentially copy the signed_vc object"
   ]
  },
  {
   "cell_type": "code",
   "execution_count": 7,
   "id": "100b66c6",
   "metadata": {},
   "outputs": [],
   "source": [
    "document = copy.deepcopy(signed_vc)\n"
   ]
  },
  {
   "cell_type": "markdown",
   "id": "4a7b4a3c",
   "metadata": {},
   "source": [
    "## 3. Remove any proof nodes from the default graph in document and save it as proof."
   ]
  },
  {
   "cell_type": "code",
   "execution_count": 8,
   "id": "ad8627e9",
   "metadata": {},
   "outputs": [
    {
     "name": "stdout",
     "output_type": "stream",
     "text": [
      "{'@context': ['https://www.w3.org/2018/credentials/v1', 'https://www.w3.org/2018/credentials/examples/v1', {'@context': {'id': '@id', 'type': '@type', '@protected': True, 'proof': {'@id': 'https://w3id.org/security#proof', '@type': '@id', '@container': '@graph'}, 'BIP322VerificationAddress2022': {'@id': 'https://w3id.org/security#BIP322VerificationAddress2022', '@context': {'@protected': True, 'id': '@id', 'type': '@type', 'controller': {'@id': 'https://w3id.org/security#controller', '@type': '@id'}, 'revoked': {'@id': 'https://w3id.org/security#revoked', '@type': 'http://www.w3.org/2001/XMLSchema#dateTime'}, 'address': {'@id': 'https://w3id.org/bip322#address', '@type': 'https://w3id.org/bip322#address'}}}, 'BIP322Signature2022': {'@id': 'https://w3id.org/security#BIP322Signature2022', '@context': {'@protected': True, 'id': '@id', 'type': '@type', 'challenge': 'https://w3id.org/security#challenge', 'created': {'@id': 'http://purl.org/dc/terms/created', '@type': 'http://www.w3.org/2001/XMLSchema#dateTime'}, 'domain': 'https://w3id.org/security#domain', 'expires': {'@id': 'https://w3id.org/security#expiration', '@type': 'http://www.w3.org/2001/XMLSchema#dateTime'}, 'nonce': 'https://w3id.org/security#nonce', 'proofPurpose': {'@id': 'https://w3id.org/security#proofPurpose', '@type': '@vocab', '@context': {'@protected': True, 'id': '@id', 'type': '@type', 'assertionMethod': {'@id': 'https://w3id.org/security#assertionMethod', '@type': '@id', '@container': '@set'}, 'authentication': {'@id': 'https://w3id.org/security#authenticationMethod', '@type': '@id', '@container': '@set'}, 'capabilityInvocation': {'@id': 'https://w3id.org/security#capabilityInvocationMethod', '@type': '@id', '@container': '@set'}, 'capabilityDelegation': {'@id': 'https://w3id.org/security#capabilityDelegationMethod', '@type': '@id', '@container': '@set'}, 'keyAgreement': {'@id': 'https://w3id.org/security#keyAgreementMethod', '@type': '@id', '@container': '@set'}}}, 'proofValue': {'@id': 'https://github.com/bitcoin/bips/blob/master/bip-0322.mediawiki#types-of-signatures', '@type': 'https://github.com/bitcoin/bips/blob/master/bip-0322.mediawiki#types-of-signatures'}, 'verificationMethod': {'@id': 'https://w3id.org/security#verificationMethod', '@type': '@id'}}}}}], 'id': 'http://example.edu/credentials/1872', 'type': ['VerifiableCredential', 'AlumniCredential'], 'issuer': 'did:btcr:xyv2-xzpq-q9wa-p7t', 'issuanceDate': '2010-01-01T19:23:24Z', 'credentialSubject': {'id': 'did:example:ebfeb1f712ebc6f1c276e12ec21', 'alumniOf': {'id': 'did:example:c276e12ec21ebfeb1f712ebc6f1', 'name': [{'value': 'Example University', 'lang': 'en'}, {'value': \"Exemple d'Université\", 'lang': 'fr'}]}}}\n",
      "{'type': 'BIP322Signature2022', 'created': '2022-08-25 15:49:32.624646', 'verificationMethod': 'did:btcr:xyv2-xzpq-q9wa-p7t#vm-1', 'proofPurpose': 'assertionMethod', 'proofValue': 'AkgwRQIhAPyez5/OYhYLl5XqAVmgp3ii/H096d1hCkDpO8zxUCtIAiBFnhHvwR7kfHEunBV+WrOcujgyBA2BnqNnJAE8BkteUwEhA8iCJXTXxwVa3nx91ZjdWvR+cjVLVuP6HiwsPPAl9s8x'}\n"
     ]
    }
   ],
   "source": [
    "proof = document[\"proof\"]\n",
    "del document[\"proof\"]\n",
    "print(document)\n",
    "print(proof)"
   ]
  },
  {
   "cell_type": "markdown",
   "id": "9d939449",
   "metadata": {},
   "source": [
    "## 4. Generate a canonicalized document by canonicalizing document according to the canonicalization algorithm."
   ]
  },
  {
   "cell_type": "code",
   "execution_count": 9,
   "id": "a74b10de",
   "metadata": {},
   "outputs": [
    {
     "name": "stdout",
     "output_type": "stream",
     "text": [
      "<did:example:c276e12ec21ebfeb1f712ebc6f1> <http://schema.org/name> _:c14n0 .\n",
      "<did:example:c276e12ec21ebfeb1f712ebc6f1> <http://schema.org/name> _:c14n1 .\n",
      "<did:example:ebfeb1f712ebc6f1c276e12ec21> <http://schema.org/alumniOf> <did:example:c276e12ec21ebfeb1f712ebc6f1> .\n",
      "<http://example.edu/credentials/1872> <http://www.w3.org/1999/02/22-rdf-syntax-ns#type> <https://example.org/examples#AlumniCredential> .\n",
      "<http://example.edu/credentials/1872> <http://www.w3.org/1999/02/22-rdf-syntax-ns#type> <https://www.w3.org/2018/credentials#VerifiableCredential> .\n",
      "<http://example.edu/credentials/1872> <https://www.w3.org/2018/credentials#credentialSubject> <did:example:ebfeb1f712ebc6f1c276e12ec21> .\n",
      "<http://example.edu/credentials/1872> <https://www.w3.org/2018/credentials#issuanceDate> \"2010-01-01T19:23:24Z\"^^<http://www.w3.org/2001/XMLSchema#dateTime> .\n",
      "<http://example.edu/credentials/1872> <https://www.w3.org/2018/credentials#issuer> <did:btcr:xyv2-xzpq-q9wa-p7t> .\n",
      "\n"
     ]
    }
   ],
   "source": [
    "canonicalized_document = jsonld.normalize(\n",
    "    document, {'algorithm': 'URDNA2015', 'format': 'application/n-quads'})\n",
    "print(canonicalized_document)"
   ]
  },
  {
   "cell_type": "markdown",
   "id": "4cad1a53",
   "metadata": {},
   "source": [
    "## 5. Create a value tbv that represents the data to be verified, and set it to the result of running the Create Verify Hash Algorithm, passing the information in proof."
   ]
  },
  {
   "cell_type": "markdown",
   "id": "b11dbf23",
   "metadata": {},
   "source": [
    "## Create Verify Hash Algoritm\n",
    "\n",
    "1. Let options be a copy of input options.\n",
    "2. If the proofValue parameter, such as jws, exists in options, remove the entry.\n",
    "3. If created does not exist in options, add an entry with a value that is an [ISO8601] combined date and time string containing the current date and time accurate to at least one second, in Universal Time Code format. For example: 2017-11-13T20:21:34Z.\n",
    "4. Generate output by:\n",
    "    * Creating a canonicalized options document by canonicalizing options according to the canonicalization algorithm (e.g. the URDNA2015 [RDF-DATASET-C14N] algorithm).\n",
    "    * Hash canonicalized options document using the message digest algorithm (e.g. SHA-256) and set output to the result.\n",
    "    * Hash canonicalized document using the message digest algorithm (e.g. SHA-256) and append it to output.\n",
    "\n"
   ]
  },
  {
   "cell_type": "markdown",
   "id": "59c85039",
   "metadata": {},
   "source": [
    "#### 1. Let options be a copy of input options\n",
    "\n",
    "Note: it is not at all clear from the spec what input_options should be.Commented on issues already tracking this here - https://github.com/w3c/vc-data-integrity/issues/16\n",
    "\n",
    "For now I will be using the proof options that define how the proof will be created."
   ]
  },
  {
   "cell_type": "code",
   "execution_count": 10,
   "id": "b3c54ae8",
   "metadata": {},
   "outputs": [
    {
     "data": {
      "text/plain": [
       "{'proof': {'type': 'BIP322Signature2022',\n",
       "  'created': '2022-08-25 15:49:32.624646',\n",
       "  'verificationMethod': 'did:btcr:xyv2-xzpq-q9wa-p7t#vm-1',\n",
       "  'proofPurpose': 'assertionMethod',\n",
       "  'proofValue': 'AkgwRQIhAPyez5/OYhYLl5XqAVmgp3ii/H096d1hCkDpO8zxUCtIAiBFnhHvwR7kfHEunBV+WrOcujgyBA2BnqNnJAE8BkteUwEhA8iCJXTXxwVa3nx91ZjdWvR+cjVLVuP6HiwsPPAl9s8x'},\n",
       " '@context': ['https://www.w3.org/2018/credentials/v1',\n",
       "  'https://www.w3.org/2018/credentials/examples/v1',\n",
       "  {'@context': {'id': '@id',\n",
       "    'type': '@type',\n",
       "    '@protected': True,\n",
       "    'proof': {'@id': 'https://w3id.org/security#proof',\n",
       "     '@type': '@id',\n",
       "     '@container': '@graph'},\n",
       "    'BIP322VerificationAddress2022': {'@id': 'https://w3id.org/security#BIP322VerificationAddress2022',\n",
       "     '@context': {'@protected': True,\n",
       "      'id': '@id',\n",
       "      'type': '@type',\n",
       "      'controller': {'@id': 'https://w3id.org/security#controller',\n",
       "       '@type': '@id'},\n",
       "      'revoked': {'@id': 'https://w3id.org/security#revoked',\n",
       "       '@type': 'http://www.w3.org/2001/XMLSchema#dateTime'},\n",
       "      'address': {'@id': 'https://w3id.org/bip322#address',\n",
       "       '@type': 'https://w3id.org/bip322#address'}}},\n",
       "    'BIP322Signature2022': {'@id': 'https://w3id.org/security#BIP322Signature2022',\n",
       "     '@context': {'@protected': True,\n",
       "      'id': '@id',\n",
       "      'type': '@type',\n",
       "      'challenge': 'https://w3id.org/security#challenge',\n",
       "      'created': {'@id': 'http://purl.org/dc/terms/created',\n",
       "       '@type': 'http://www.w3.org/2001/XMLSchema#dateTime'},\n",
       "      'domain': 'https://w3id.org/security#domain',\n",
       "      'expires': {'@id': 'https://w3id.org/security#expiration',\n",
       "       '@type': 'http://www.w3.org/2001/XMLSchema#dateTime'},\n",
       "      'nonce': 'https://w3id.org/security#nonce',\n",
       "      'proofPurpose': {'@id': 'https://w3id.org/security#proofPurpose',\n",
       "       '@type': '@vocab',\n",
       "       '@context': {'@protected': True,\n",
       "        'id': '@id',\n",
       "        'type': '@type',\n",
       "        'assertionMethod': {'@id': 'https://w3id.org/security#assertionMethod',\n",
       "         '@type': '@id',\n",
       "         '@container': '@set'},\n",
       "        'authentication': {'@id': 'https://w3id.org/security#authenticationMethod',\n",
       "         '@type': '@id',\n",
       "         '@container': '@set'},\n",
       "        'capabilityInvocation': {'@id': 'https://w3id.org/security#capabilityInvocationMethod',\n",
       "         '@type': '@id',\n",
       "         '@container': '@set'},\n",
       "        'capabilityDelegation': {'@id': 'https://w3id.org/security#capabilityDelegationMethod',\n",
       "         '@type': '@id',\n",
       "         '@container': '@set'},\n",
       "        'keyAgreement': {'@id': 'https://w3id.org/security#keyAgreementMethod',\n",
       "         '@type': '@id',\n",
       "         '@container': '@set'}}},\n",
       "      'proofValue': {'@id': 'https://github.com/bitcoin/bips/blob/master/bip-0322.mediawiki#types-of-signatures',\n",
       "       '@type': 'https://github.com/bitcoin/bips/blob/master/bip-0322.mediawiki#types-of-signatures'},\n",
       "      'verificationMethod': {'@id': 'https://w3id.org/security#verificationMethod',\n",
       "       '@type': '@id'}}}}}]}"
      ]
     },
     "execution_count": 10,
     "metadata": {},
     "output_type": "execute_result"
    }
   ],
   "source": [
    "options = {\n",
    "    'proof': copy.deepcopy(proof)\n",
    "}\n",
    "options['@context'] = document['@context']\n",
    "options"
   ]
  },
  {
   "cell_type": "markdown",
   "id": "7439e920",
   "metadata": {},
   "source": [
    "#### 2. If the proofValue parameter, such as jws, exists in options, remove the entry."
   ]
  },
  {
   "cell_type": "code",
   "execution_count": 11,
   "id": "e4e19dde",
   "metadata": {},
   "outputs": [],
   "source": [
    "if 'proofValue' in options['proof']:\n",
    "    del options['proof']['proofValue']\n"
   ]
  },
  {
   "cell_type": "markdown",
   "id": "59d406b1",
   "metadata": {},
   "source": [
    "#### 3. If created does not exists, add it\n",
    "\n",
    "It already exists"
   ]
  },
  {
   "cell_type": "markdown",
   "id": "3525c336",
   "metadata": {},
   "source": [
    "#### 4. Generate output"
   ]
  },
  {
   "cell_type": "code",
   "execution_count": 12,
   "id": "b8032d27",
   "metadata": {},
   "outputs": [
    {
     "name": "stdout",
     "output_type": "stream",
     "text": [
      "_:c14n0 <http://purl.org/dc/terms/created> \"2022-08-25 15:49:32.624646\"^^<http://www.w3.org/2001/XMLSchema#dateTime> _:c14n2 .\n",
      "_:c14n0 <http://www.w3.org/1999/02/22-rdf-syntax-ns#type> <https://w3id.org/security#BIP322Signature2022> _:c14n2 .\n",
      "_:c14n0 <https://w3id.org/security#proofPurpose> <https://w3id.org/security#assertionMethod> _:c14n2 .\n",
      "_:c14n0 <https://w3id.org/security#verificationMethod> <did:btcr:xyv2-xzpq-q9wa-p7t#vm-1> _:c14n2 .\n",
      "_:c14n1 <https://w3id.org/security#proof> _:c14n2 .\n",
      "\n"
     ]
    }
   ],
   "source": [
    "canonicalized_options = jsonld.normalize(\n",
    "    options, {'algorithm': 'URDNA2015', 'format': 'application/n-quads'})\n",
    "print(canonicalized_options)"
   ]
  },
  {
   "cell_type": "code",
   "execution_count": 13,
   "id": "98a0f75b",
   "metadata": {},
   "outputs": [],
   "source": [
    "result = sha256(str_to_bytes(canonicalized_options))"
   ]
  },
  {
   "cell_type": "code",
   "execution_count": 14,
   "id": "7aee0b74",
   "metadata": {},
   "outputs": [
    {
     "data": {
      "text/plain": [
       "b'\\xc1\\x92\\xd1\\xfft\\nH\\x0b\\x91\\x1b\\xf4\\x92G\\xe5\\x86c<`N\\x12\\x8ah<\\xb7b\\x9f.\\x8b\\xd8\\x11p\\xf8'"
      ]
     },
     "execution_count": 14,
     "metadata": {},
     "output_type": "execute_result"
    }
   ],
   "source": [
    "result"
   ]
  },
  {
   "cell_type": "code",
   "execution_count": 15,
   "id": "c080e332",
   "metadata": {},
   "outputs": [],
   "source": [
    "result += sha256(str_to_bytes(canonicalized_document))"
   ]
  },
  {
   "cell_type": "code",
   "execution_count": 16,
   "id": "f74536f6",
   "metadata": {},
   "outputs": [
    {
     "data": {
      "text/plain": [
       "b'\\xc1\\x92\\xd1\\xfft\\nH\\x0b\\x91\\x1b\\xf4\\x92G\\xe5\\x86c<`N\\x12\\x8ah<\\xb7b\\x9f.\\x8b\\xd8\\x11p\\xf8\\xbbF\\x03B\\xb9\\\\V\\x02#,\\xdbQRh\\xd8\\x08;b\\xda\\xc6\\x85<,F\\x8b\\x95\\xb3\\x89u\\xbc\\xc5\\xc2'"
      ]
     },
     "execution_count": 16,
     "metadata": {},
     "output_type": "execute_result"
    }
   ],
   "source": [
    "result"
   ]
  },
  {
   "cell_type": "code",
   "execution_count": 17,
   "id": "ffe6da05",
   "metadata": {},
   "outputs": [],
   "source": [
    "tbv = result"
   ]
  },
  {
   "cell_type": "markdown",
   "id": "abe10823",
   "metadata": {},
   "source": [
    "## 6. Pass the proofValue, tbv, and the public key to the proof algorithm. Return the resulting boolean value."
   ]
  },
  {
   "cell_type": "code",
   "execution_count": 18,
   "id": "ee275c8a",
   "metadata": {},
   "outputs": [],
   "source": [
    "bip322_sig = proof['proofValue']"
   ]
  },
  {
   "cell_type": "code",
   "execution_count": 19,
   "id": "494cbbfe",
   "metadata": {},
   "outputs": [
    {
     "name": "stdout",
     "output_type": "stream",
     "text": [
      "mismatch between length and consumed bytes 106 vs 66\n"
     ]
    }
   ],
   "source": [
    "verified = verify_message(bip322VerificationAddress, bip322_sig, tbv)"
   ]
  },
  {
   "cell_type": "code",
   "execution_count": 20,
   "id": "4b9d7380",
   "metadata": {},
   "outputs": [
    {
     "name": "stdout",
     "output_type": "stream",
     "text": [
      "VC is verified :  True\n"
     ]
    }
   ],
   "source": [
    "print(\"VC is verified : \", verified)"
   ]
  },
  {
   "cell_type": "code",
   "execution_count": null,
   "id": "48f4c83c",
   "metadata": {},
   "outputs": [],
   "source": []
  }
 ],
 "metadata": {
  "kernelspec": {
   "display_name": "Python 3",
   "language": "python",
   "name": "python3"
  },
  "language_info": {
   "codemirror_mode": {
    "name": "ipython",
    "version": 3
   },
   "file_extension": ".py",
   "mimetype": "text/x-python",
   "name": "python",
   "nbconvert_exporter": "python",
   "pygments_lexer": "ipython3",
   "version": "3.8.5"
  }
 },
 "nbformat": 4,
 "nbformat_minor": 5
}
