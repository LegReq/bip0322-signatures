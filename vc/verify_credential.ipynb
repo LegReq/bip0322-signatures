{
 "cells": [
  {
   "cell_type": "markdown",
   "id": "e3cdeb1f",
   "metadata": {},
   "source": [
    "# Verify Credential\n",
    "\n",
    "This notebook illustrates how a VC signed using a BIP 322 signature could be parsed and verified by a verifier."
   ]
  },
  {
   "cell_type": "markdown",
   "id": "803ee893",
   "metadata": {},
   "source": [
    "## Notebook Author\n",
    "\n",
    "* Will Abramson\n",
    "* [Legendary Requirements](http://legreq.com/)\n",
    "* Contact: will@legreq.com"
   ]
  },
  {
   "cell_type": "markdown",
   "id": "f5a42dd1",
   "metadata": {},
   "source": [
    "## Acknowledgements\n",
    "\n",
    "This work was funded by Ryan Grant and [Digital Contract Design](https://contract.design/). Thanks also go to Joe Andrieu, Kalle Alm, Pieter Wuille and Jimmy Song for engaging with and supporting various aspects of this work."
   ]
  },
  {
   "cell_type": "markdown",
   "id": "d50cc45e",
   "metadata": {},
   "source": [
    "## Steps\n",
    "\n",
    "1. Parse signature from signed VC\n",
    "2. Parse/resolve bitcoin address used the sign vc\n",
    "3. Remove proof from signed VC \n",
    "4. Canonicalize VC\n",
    "5. Verify signatue on VC"
   ]
  },
  {
   "cell_type": "code",
   "execution_count": 1,
   "id": "ae8a0242",
   "metadata": {},
   "outputs": [
    {
     "name": "stdout",
     "output_type": "stream",
     "text": [
      "/home/will/work/LegendaryRequirements/clients/dcd/bip0322-sigs\n"
     ]
    }
   ],
   "source": [
    "cd .."
   ]
  },
  {
   "cell_type": "markdown",
   "id": "3f1c568a",
   "metadata": {},
   "source": [
    "## 1. Parse signature from signed VC\n",
    "\n",
    "**YOU SHOULD COPY THE SIGNED VC PRODUCED IN the [issue_credential](http://localhost:8888/notebooks/vc/issue_credential.ipynb) NOTEBOOK**"
   ]
  },
  {
   "cell_type": "code",
   "execution_count": 3,
   "id": "719fa11e",
   "metadata": {},
   "outputs": [
    {
     "data": {
      "text/plain": [
       "{'@context': ['https://www.w3.org/2018/credentials/v1',\n",
       "  'https://www.w3.org/2018/credentials/examples/v1'],\n",
       " 'id': 'http://example.edu/credentials/1872',\n",
       " 'type': ['VerifiableCredential', 'AlumniCredential'],\n",
       " 'issuer': 'did:btcr:xyv2-xzpq-q9wa-p7t',\n",
       " 'issuanceDate': '2010-01-01T19:23:24Z',\n",
       " 'credentialSubject': {'id': 'did:example:ebfeb1f712ebc6f1c276e12ec21',\n",
       "  'alumniOf': {'id': 'did:example:c276e12ec21ebfeb1f712ebc6f1',\n",
       "   'name': [{'value': 'Example University', 'lang': 'en'},\n",
       "    {'value': \"Exemple d'Université\", 'lang': 'fr'}]}},\n",
       " 'proof': {'type': 'BIP322Signature2022',\n",
       "  'created': '2022-05-23T21:19:10Z',\n",
       "  'proofPurpose': 'assertionMethod',\n",
       "  'verificationMethod': 'did:btcr:xyv2-xzpq-q9wa-p7t#vckey-1',\n",
       "  'bip322_sig': 'AkgwRQIhAOnhdQ6NK73jWCSiEXgXOXJxoG2LeZwQ9KZVAbPr0/ALAiAs/Jzx5bp4voCDSUpPPrlpZM8gw/yO7jPq67VURxEXiAEhA8iCJXTXxwVa3nx91ZjdWvR+cjVLVuP6HiwsPPAl9s8x'}}"
      ]
     },
     "execution_count": 3,
     "metadata": {},
     "output_type": "execute_result"
    }
   ],
   "source": [
    "import json\n",
    "signed_vc = {\"@context\": [\"https://www.w3.org/2018/credentials/v1\", \"https://www.w3.org/2018/credentials/examples/v1\"], \"id\": \"http://example.edu/credentials/1872\", \"type\": [\"VerifiableCredential\", \"AlumniCredential\"], \"issuer\": \"did:btcr:xyv2-xzpq-q9wa-p7t\", \"issuanceDate\": \"2010-01-01T19:23:24Z\", \"credentialSubject\": {\"id\": \"did:example:ebfeb1f712ebc6f1c276e12ec21\", \"alumniOf\": {\"id\": \"did:example:c276e12ec21ebfeb1f712ebc6f1\", \"name\": [{\"value\": \"Example University\", \"lang\": \"en\"}, {\"value\": \"Exemple d'Universit\\u00e9\", \"lang\": \"fr\"}]}}, \"proof\": {\"type\": \"BIP322Signature2022\", \"created\": \"2022-05-23T21:19:10Z\", \"proofPurpose\": \"assertionMethod\", \"verificationMethod\": \"did:btcr:xyv2-xzpq-q9wa-p7t#vckey-1\", \"bip322_sig\": \"AkgwRQIhAOnhdQ6NK73jWCSiEXgXOXJxoG2LeZwQ9KZVAbPr0/ALAiAs/Jzx5bp4voCDSUpPPrlpZM8gw/yO7jPq67VURxEXiAEhA8iCJXTXxwVa3nx91ZjdWvR+cjVLVuP6HiwsPPAl9s8x\"}}\n",
    "signed_vc"
   ]
  },
  {
   "cell_type": "code",
   "execution_count": 4,
   "id": "899d24fb",
   "metadata": {},
   "outputs": [],
   "source": [
    "proof = signed_vc[\"proof\"]\n",
    "bip322_sig = proof[\"bip322_sig\"]"
   ]
  },
  {
   "cell_type": "code",
   "execution_count": 5,
   "id": "9e9f7365",
   "metadata": {},
   "outputs": [
    {
     "name": "stdout",
     "output_type": "stream",
     "text": [
      "bip322 signature in VC : \n",
      " AkgwRQIhAOnhdQ6NK73jWCSiEXgXOXJxoG2LeZwQ9KZVAbPr0/ALAiAs/Jzx5bp4voCDSUpPPrlpZM8gw/yO7jPq67VURxEXiAEhA8iCJXTXxwVa3nx91ZjdWvR+cjVLVuP6HiwsPPAl9s8x\n"
     ]
    }
   ],
   "source": [
    "print(\"bip322 signature in VC : \\n\", bip322_sig)"
   ]
  },
  {
   "cell_type": "markdown",
   "id": "7ebdb0d9",
   "metadata": {},
   "source": [
    "## 2. Resove Issuer did:btcr and parse for VC verificationMethod used to sign VC\n",
    "\n",
    "This verificationMethod should be a bitcoin address such as a p2wpkh."
   ]
  },
  {
   "cell_type": "markdown",
   "id": "09555661",
   "metadata": {},
   "source": [
    "### 2.1 Resolve issuer did:btcr to associated DID document\n",
    "\n",
    "This needs to be defined."
   ]
  },
  {
   "cell_type": "code",
   "execution_count": 6,
   "id": "80c96677",
   "metadata": {},
   "outputs": [],
   "source": [
    "issuer_did_btcr = signed_vc[\"issuer\"]"
   ]
  },
  {
   "cell_type": "code",
   "execution_count": 7,
   "id": "09465a80",
   "metadata": {},
   "outputs": [],
   "source": [
    "# TODO: Actually define/implement resolution process\n",
    "resolved_did_doc = {\n",
    "    \"@context\": [\"https://w3id.org/did/v0.11\", \"https://w3id.org/btcr/v1\"],\n",
    "    \"id\": \"did:btcr:xyv2-xzpq-q9wa-p7t\",\n",
    "    \"verificationMethod\": [\n",
    "       {\n",
    "            \"id\": \"did:btcr:xyv2-xzpq-q9wa-p7t#satoshi\",\n",
    "            \"controller\": \"did:btcr:xyv2-xzpq-q9wa-p7t\",\n",
    "            \"type\": \"EcdsaSecp256k1VerificationKey2019\",\n",
    "            \"publicKeyBase58\": \"owh12LKNuphe97teJTZKQTKNewSVTwjHcskPbq34epCY\"\n",
    "        },\n",
    "        {\n",
    "             \"id\": \"did:btcr:xyv2-xzpq-q9wa-p7t#vckey-0\",\n",
    "             \"controller\": \"did:btcr:xyv2-xzpq-q9wa-p7t\",\n",
    "             \"type\": \"EcdsaSecp256k1VerificationKey2019\",\n",
    "             \"publicKeyBase58\": \"owh12LKNuphe97teJTZKQTKNewSVTwjHcskPbq34epCY\"\n",
    "         },\n",
    "    ##########################      EXAMPLE       #################################\n",
    "        ### What are the resolution rules that parse the Bitcoin Tx at ref xyv2-xzpq-q9wa-p7t\n",
    "        ### To populate this verificationMethod into the didDocument.\n",
    "        ### E.g. scriptPubKey from UTX0 at index 1 in tx at ref xyv2-xzpq-q9wa-p7t\n",
    "        {\n",
    "             \"id\": \"did:btcr:xyv2-xzpq-q9wa-p7t#vckey-1\",\n",
    "             \"controller\": \"did:btcr:xyv2-xzpq-q9wa-p7t\",\n",
    "             \"type\": \"BIP0322\",\n",
    "             \"address\": \"bc1qz52z3pe9fg3qxv9n6yhxgj7rcn8wsvpq56v9ck\"\n",
    "        }\n",
    "    \n",
    "    ###############################################################################\n",
    "    ],\n",
    "    \"authentication\": [\"#satoshi\"],\n",
    "    \"assertionMethod\": [\"#vckey-0\",\"#vckey-1\"]\n",
    "}\n"
   ]
  },
  {
   "cell_type": "markdown",
   "id": "fa1c0faa",
   "metadata": {},
   "source": [
    "### 2.2. Parse Resolved DID document for verificationMethod defined in proof"
   ]
  },
  {
   "cell_type": "code",
   "execution_count": 8,
   "id": "aa7a79e1",
   "metadata": {},
   "outputs": [
    {
     "name": "stdout",
     "output_type": "stream",
     "text": [
      "did:btcr:xyv2-xzpq-q9wa-p7t#vckey-1\n"
     ]
    }
   ],
   "source": [
    "verificationMethod = signed_vc[\"proof\"][\"verificationMethod\"]\n",
    "print(verificationMethod)"
   ]
  },
  {
   "cell_type": "code",
   "execution_count": 9,
   "id": "c323e98a",
   "metadata": {},
   "outputs": [
    {
     "name": "stdout",
     "output_type": "stream",
     "text": [
      "Bitcoin address to use in BIP 322 Verification :  bc1qz52z3pe9fg3qxv9n6yhxgj7rcn8wsvpq56v9ck\n"
     ]
    }
   ],
   "source": [
    "address = None\n",
    "for vm in resolved_did_doc[\"verificationMethod\"]:\n",
    "    if vm[\"id\"] == verificationMethod:\n",
    "        address = vm[\"address\"]\n",
    "        break;\n",
    "        \n",
    "print(\"Bitcoin address to use in BIP 322 Verification : \", address)"
   ]
  },
  {
   "cell_type": "markdown",
   "id": "d9fd96ee",
   "metadata": {},
   "source": [
    "## 3. Remove proof from signed_vc payload"
   ]
  },
  {
   "cell_type": "code",
   "execution_count": 10,
   "id": "85884690",
   "metadata": {},
   "outputs": [
    {
     "data": {
      "text/plain": [
       "{'@context': ['https://www.w3.org/2018/credentials/v1',\n",
       "  'https://www.w3.org/2018/credentials/examples/v1'],\n",
       " 'id': 'http://example.edu/credentials/1872',\n",
       " 'type': ['VerifiableCredential', 'AlumniCredential'],\n",
       " 'issuer': 'did:btcr:xyv2-xzpq-q9wa-p7t',\n",
       " 'issuanceDate': '2010-01-01T19:23:24Z',\n",
       " 'credentialSubject': {'id': 'did:example:ebfeb1f712ebc6f1c276e12ec21',\n",
       "  'alumniOf': {'id': 'did:example:c276e12ec21ebfeb1f712ebc6f1',\n",
       "   'name': [{'value': 'Example University', 'lang': 'en'},\n",
       "    {'value': \"Exemple d'Université\", 'lang': 'fr'}]}}}"
      ]
     },
     "execution_count": 10,
     "metadata": {},
     "output_type": "execute_result"
    }
   ],
   "source": [
    "vc = signed_vc\n",
    "del vc[\"proof\"]\n",
    "\n",
    "vc"
   ]
  },
  {
   "cell_type": "markdown",
   "id": "a7d0fef7",
   "metadata": {},
   "source": [
    "## 4. Canonicalize VC payload\n",
    "\n",
    "**Should we use URDNA canonicalization?**"
   ]
  },
  {
   "cell_type": "code",
   "execution_count": 12,
   "id": "3e356deb",
   "metadata": {},
   "outputs": [],
   "source": [
    "from pyld import jsonld"
   ]
  },
  {
   "cell_type": "code",
   "execution_count": 15,
   "id": "a74b10de",
   "metadata": {},
   "outputs": [
    {
     "data": {
      "text/plain": [
       "'<did:example:c276e12ec21ebfeb1f712ebc6f1> <http://schema.org/name> _:c14n0 .\\n<did:example:c276e12ec21ebfeb1f712ebc6f1> <http://schema.org/name> _:c14n1 .\\n<did:example:ebfeb1f712ebc6f1c276e12ec21> <http://schema.org/alumniOf> <did:example:c276e12ec21ebfeb1f712ebc6f1> .\\n<http://example.edu/credentials/1872> <http://www.w3.org/1999/02/22-rdf-syntax-ns#type> <https://example.org/examples#AlumniCredential> .\\n<http://example.edu/credentials/1872> <http://www.w3.org/1999/02/22-rdf-syntax-ns#type> <https://www.w3.org/2018/credentials#VerifiableCredential> .\\n<http://example.edu/credentials/1872> <https://www.w3.org/2018/credentials#credentialSubject> <did:example:ebfeb1f712ebc6f1c276e12ec21> .\\n<http://example.edu/credentials/1872> <https://www.w3.org/2018/credentials#issuanceDate> \"2010-01-01T19:23:24Z\"^^<http://www.w3.org/2001/XMLSchema#dateTime> .\\n<http://example.edu/credentials/1872> <https://www.w3.org/2018/credentials#issuer> <did:btcr:xyv2-xzpq-q9wa-p7t> .\\n'"
      ]
     },
     "execution_count": 15,
     "metadata": {},
     "output_type": "execute_result"
    }
   ],
   "source": [
    "normalized = jsonld.normalize(\n",
    "    vc, {'algorithm': 'URDNA2015', 'format': 'application/n-quads'})\n",
    "\n",
    "normalized"
   ]
  },
  {
   "cell_type": "markdown",
   "id": "1d7c95af",
   "metadata": {},
   "source": [
    "## 5. Verify bip322 signature on VC"
   ]
  },
  {
   "cell_type": "code",
   "execution_count": 16,
   "id": "ecb28a11",
   "metadata": {},
   "outputs": [],
   "source": [
    "from src.message import verify_message"
   ]
  },
  {
   "cell_type": "markdown",
   "id": "b3d02c87",
   "metadata": {},
   "source": [
    "### NOTE: the output `\"mismatch between length and consumed bytes 88 vs 31\"` is expected\" and occurs when attempting to parse the signature as a full Bitcoin transaction. See is_full_signature in [src/message.py](../../edit/src/message.py) and the [script.py](https://github.com/buidl-bitcoin/buidl-python/blob/e62e0b9fd4271473cf641cde0fe366e65c787403/buidl/script.py#L109) file from Buidl Python"
   ]
  },
  {
   "cell_type": "code",
   "execution_count": 18,
   "id": "57a6ec98",
   "metadata": {},
   "outputs": [
    {
     "name": "stdout",
     "output_type": "stream",
     "text": [
      "mismatch between length and consumed bytes 83 vs 44\n",
      "Signature is verified :  True\n"
     ]
    }
   ],
   "source": [
    "\n",
    "verification_result = verify_message(address, bip322_sig, normalized)\n",
    "\n",
    "print(\"Signature is verified : \", verification_result)"
   ]
  },
  {
   "cell_type": "code",
   "execution_count": null,
   "id": "9d62bcdb",
   "metadata": {},
   "outputs": [],
   "source": []
  },
  {
   "cell_type": "code",
   "execution_count": null,
   "id": "a1b7e886",
   "metadata": {},
   "outputs": [],
   "source": []
  },
  {
   "cell_type": "code",
   "execution_count": null,
   "id": "48f4c83c",
   "metadata": {},
   "outputs": [],
   "source": []
  },
  {
   "cell_type": "code",
   "execution_count": null,
   "id": "960f45d5",
   "metadata": {},
   "outputs": [],
   "source": []
  },
  {
   "cell_type": "markdown",
   "id": "e164d23c",
   "metadata": {},
   "source": [
    "## Verify Legacy Signature on VC\n",
    "\n",
    "Note: this is incomplete. Somehow need to be able to retrieve the Secp256k1 ECC point associated with the p2pkh_address used to sign the message. Currently unsure exactly how. Bitcoin core has a method privateKey.SignCompact which does this - possibly missing from buidl-python\n",
    "\n",
    "Note: Legacy signatures are not recommened, rather it is recommended to encode p2pkh bip322 signatures using the full encoding."
   ]
  },
  {
   "cell_type": "code",
   "execution_count": 13,
   "id": "98a04c2d",
   "metadata": {},
   "outputs": [
    {
     "data": {
      "text/plain": [
       "{'@context': ['https://www.w3.org/2018/credentials/v1',\n",
       "  'https://www.w3.org/2018/credentials/examples/v1'],\n",
       " 'id': 'http://example.edu/credentials/1872',\n",
       " 'type': ['VerifiableCredential', 'AlumniCredential'],\n",
       " 'issuer': 'https://example.edu/issuers/565049',\n",
       " 'issuanceDate': '2010-01-01T19:23:24Z',\n",
       " 'credentialSubject': {'id': 'did:example:ebfeb1f712ebc6f1c276e12ec21',\n",
       "  'alumniOf': {'id': 'did:example:c276e12ec21ebfeb1f712ebc6f1',\n",
       "   'name': [{'value': 'Example University', 'lang': 'en'},\n",
       "    {'value': \"Exemple d'Université\", 'lang': 'fr'}]}},\n",
       " 'proof': {'type': 'BIP322Signature2022',\n",
       "  'created': '2022-05-23T21:19:10Z',\n",
       "  'proofPurpose': 'assertionMethod',\n",
       "  'verificationMethod': 'https://example.edu/issuers/565049#key-1',\n",
       "  'bip322_sig': 'MEUCIQDLQvF+0Dg0uruDJCydBwCV8vC03Y4VagBnEzKflu1HNQIgSKBu1Q6xWlQSZZVxUPgzVnTrXakcdBvV4BdWS4Oi/Qk='}}"
      ]
     },
     "execution_count": 13,
     "metadata": {},
     "output_type": "execute_result"
    }
   ],
   "source": [
    "legacy_signed_vc = {\"@context\": [\"https://www.w3.org/2018/credentials/v1\", \"https://www.w3.org/2018/credentials/examples/v1\"], \"id\": \"http://example.edu/credentials/1872\", \"type\": [\"VerifiableCredential\", \"AlumniCredential\"], \"issuer\": \"https://example.edu/issuers/565049\", \"issuanceDate\": \"2010-01-01T19:23:24Z\", \"credentialSubject\": {\"id\": \"did:example:ebfeb1f712ebc6f1c276e12ec21\", \"alumniOf\": {\"id\": \"did:example:c276e12ec21ebfeb1f712ebc6f1\", \"name\": [{\"value\": \"Example University\", \"lang\": \"en\"}, {\"value\": \"Exemple d'Universit\\u00e9\", \"lang\": \"fr\"}]}}, \"proof\": {\"type\": \"BIP322Signature2022\", \"created\": \"2022-05-23T21:19:10Z\", \"proofPurpose\": \"assertionMethod\", \"verificationMethod\": \"https://example.edu/issuers/565049#key-1\", \"bip322_sig\": \"MEUCIQDLQvF+0Dg0uruDJCydBwCV8vC03Y4VagBnEzKflu1HNQIgSKBu1Q6xWlQSZZVxUPgzVnTrXakcdBvV4BdWS4Oi/Qk=\"}}\n",
    "legacy_signed_vc"
   ]
  },
  {
   "cell_type": "code",
   "execution_count": 14,
   "id": "a38071f3",
   "metadata": {},
   "outputs": [
    {
     "name": "stdout",
     "output_type": "stream",
     "text": [
      "BIP 322 Legacy Signature MEUCIQDLQvF+0Dg0uruDJCydBwCV8vC03Y4VagBnEzKflu1HNQIgSKBu1Q6xWlQSZZVxUPgzVnTrXakcdBvV4BdWS4Oi/Qk=\n"
     ]
    }
   ],
   "source": [
    "proof = legacy_signed_vc[\"proof\"]\n",
    "bip322_sig = proof[\"bip322_sig\"]\n",
    "print(\"BIP 322 Legacy Signature\", bip322_sig)"
   ]
  },
  {
   "cell_type": "code",
   "execution_count": 15,
   "id": "396f5b79",
   "metadata": {},
   "outputs": [
    {
     "data": {
      "text/plain": [
       "{'@context': ['https://www.w3.org/2018/credentials/v1',\n",
       "  'https://www.w3.org/2018/credentials/examples/v1'],\n",
       " 'id': 'http://example.edu/credentials/1872',\n",
       " 'type': ['VerifiableCredential', 'AlumniCredential'],\n",
       " 'issuer': 'https://example.edu/issuers/565049',\n",
       " 'issuanceDate': '2010-01-01T19:23:24Z',\n",
       " 'credentialSubject': {'id': 'did:example:ebfeb1f712ebc6f1c276e12ec21',\n",
       "  'alumniOf': {'id': 'did:example:c276e12ec21ebfeb1f712ebc6f1',\n",
       "   'name': [{'value': 'Example University', 'lang': 'en'},\n",
       "    {'value': \"Exemple d'Université\", 'lang': 'fr'}]}}}"
      ]
     },
     "execution_count": 15,
     "metadata": {},
     "output_type": "execute_result"
    }
   ],
   "source": [
    "vc = legacy_signed_vc\n",
    "del vc[\"proof\"]\n",
    "\n",
    "vc"
   ]
  },
  {
   "cell_type": "code",
   "execution_count": 16,
   "id": "534b94ff",
   "metadata": {},
   "outputs": [],
   "source": [
    "vc_payload = json.dumps(vc)"
   ]
  },
  {
   "cell_type": "code",
   "execution_count": 17,
   "id": "948e9a22",
   "metadata": {},
   "outputs": [
    {
     "name": "stdout",
     "output_type": "stream",
     "text": [
      "Is taproot False\n",
      "Signature is not full\n",
      "Signature is niether an encoded witness or full transaction. Fall back to legacy\n"
     ]
    },
    {
     "ename": "NotImplementedError",
     "evalue": "TODO",
     "output_type": "error",
     "traceback": [
      "\u001b[0;31m---------------------------------------------------------------------------\u001b[0m",
      "\u001b[0;31mNotImplementedError\u001b[0m                       Traceback (most recent call last)",
      "Input \u001b[0;32mIn [17]\u001b[0m, in \u001b[0;36m<cell line: 1>\u001b[0;34m()\u001b[0m\n\u001b[0;32m----> 1\u001b[0m verification_result \u001b[38;5;241m=\u001b[39m \u001b[43mverify_message\u001b[49m\u001b[43m(\u001b[49m\u001b[43maddress\u001b[49m\u001b[43m,\u001b[49m\u001b[43m \u001b[49m\u001b[43mbip322_sig\u001b[49m\u001b[43m,\u001b[49m\u001b[43m \u001b[49m\u001b[43mvc_payload\u001b[49m\u001b[43m)\u001b[49m\n",
      "File \u001b[0;32m~/work/LegendaryRequirements/clients/dcd/bip0322-sigs/src/message.py:223\u001b[0m, in \u001b[0;36mverify_message\u001b[0;34m(address, signature, message)\u001b[0m\n\u001b[1;32m    216\u001b[0m to_sign \u001b[38;5;241m=\u001b[39m create_to_sign_tx(to_spend\u001b[38;5;241m.\u001b[39mhash(), sig_bytes)\n\u001b[1;32m    218\u001b[0m \u001b[38;5;28;01mif\u001b[39;00m to_sign \u001b[38;5;241m==\u001b[39m \u001b[38;5;28;01mNone\u001b[39;00m:\n\u001b[1;32m    219\u001b[0m     \u001b[38;5;66;03m# try LEGACY\u001b[39;00m\n\u001b[1;32m    220\u001b[0m     \u001b[38;5;66;03m# Check address is a p2pkh\u001b[39;00m\n\u001b[1;32m    221\u001b[0m     \u001b[38;5;66;03m# Recover Secp256 point from signature?\u001b[39;00m\n\u001b[1;32m    222\u001b[0m     \u001b[38;5;66;03m# Verify signature\u001b[39;00m\n\u001b[0;32m--> 223\u001b[0m     \u001b[38;5;28;01mraise\u001b[39;00m \u001b[38;5;167;01mNotImplementedError\u001b[39;00m(\u001b[38;5;124m\"\u001b[39m\u001b[38;5;124mTODO\u001b[39m\u001b[38;5;124m\"\u001b[39m)\n\u001b[1;32m    225\u001b[0m to_sign\u001b[38;5;241m.\u001b[39mtx_ins[\u001b[38;5;241m0\u001b[39m]\u001b[38;5;241m.\u001b[39m_script_pubkey \u001b[38;5;241m=\u001b[39m to_spend\u001b[38;5;241m.\u001b[39mtx_outs[\u001b[38;5;241m0\u001b[39m]\u001b[38;5;241m.\u001b[39mscript_pubkey\n\u001b[1;32m    226\u001b[0m to_sign\u001b[38;5;241m.\u001b[39mtx_ins[\u001b[38;5;241m0\u001b[39m]\u001b[38;5;241m.\u001b[39m_value \u001b[38;5;241m=\u001b[39m to_spend\u001b[38;5;241m.\u001b[39mtx_outs[\u001b[38;5;241m0\u001b[39m]\u001b[38;5;241m.\u001b[39mamount\n",
      "\u001b[0;31mNotImplementedError\u001b[0m: TODO"
     ]
    }
   ],
   "source": [
    "verification_result = verify_message(address, bip322_sig, vc_payload)"
   ]
  },
  {
   "cell_type": "code",
   "execution_count": null,
   "id": "a66960a5",
   "metadata": {},
   "outputs": [],
   "source": [
    "from buidl.helper import base64_decode\n",
    "\n",
    "der_sig = base64_decode(bip322_sig)\n",
    "\n",
    "len(der_sig)\n",
    "\n",
    "# str_to_bytes(bip322_sig)"
   ]
  },
  {
   "cell_type": "code",
   "execution_count": null,
   "id": "8e575b50",
   "metadata": {},
   "outputs": [],
   "source": [
    "from buidl.ecc import Signature"
   ]
  },
  {
   "cell_type": "code",
   "execution_count": null,
   "id": "b7b61885",
   "metadata": {},
   "outputs": [],
   "source": [
    "Signature.parse(base64_decode(bip322_sig)).der().hex()"
   ]
  },
  {
   "cell_type": "code",
   "execution_count": null,
   "id": "863c8fee",
   "metadata": {},
   "outputs": [],
   "source": []
  },
  {
   "cell_type": "code",
   "execution_count": null,
   "id": "7294765b",
   "metadata": {},
   "outputs": [],
   "source": []
  },
  {
   "cell_type": "markdown",
   "id": "bd10f4b3",
   "metadata": {},
   "source": [
    "## Verify BIP 322 Full Signature on the VC\n",
    "\n",
    "Signature created using a p2pkh address"
   ]
  },
  {
   "cell_type": "code",
   "execution_count": 18,
   "id": "c9585903",
   "metadata": {},
   "outputs": [],
   "source": [
    "p2pkh_address = \"12vTLer5v6RyMpnxetu7mGxtveRsVSps5R\""
   ]
  },
  {
   "cell_type": "code",
   "execution_count": 19,
   "id": "87152c9a",
   "metadata": {},
   "outputs": [
    {
     "data": {
      "text/plain": [
       "{'@context': ['https://www.w3.org/2018/credentials/v1',\n",
       "  'https://www.w3.org/2018/credentials/examples/v1'],\n",
       " 'id': 'http://example.edu/credentials/1872',\n",
       " 'type': ['VerifiableCredential', 'AlumniCredential'],\n",
       " 'issuer': 'https://example.edu/issuers/565049',\n",
       " 'issuanceDate': '2010-01-01T19:23:24Z',\n",
       " 'credentialSubject': {'id': 'did:example:ebfeb1f712ebc6f1c276e12ec21',\n",
       "  'alumniOf': {'id': 'did:example:c276e12ec21ebfeb1f712ebc6f1',\n",
       "   'name': [{'value': 'Example University', 'lang': 'en'},\n",
       "    {'value': \"Exemple d'Université\", 'lang': 'fr'}]}},\n",
       " 'proof': {'type': 'BIP322Signature2022',\n",
       "  'created': '2022-05-23T21:19:10Z',\n",
       "  'proofPurpose': 'assertionMethod',\n",
       "  'verificationMethod': 'https://example.edu/issuers/565049#key-1',\n",
       "  'bip322_sig': 'AAAAAAABAar/MRPVK4zsVrD/SuHuzaw0Ki4QBvsUHTk6+RSUe4f/AAAAAGpHMEQCIGQwJ85k5iVzzuUh7kyLejW4JUW+ZLTl2vcuA4TbIi07AiB0s13e3VuS/prBmbnu6togBAy4pPxbCvU1iMp6O32newEhA8iCJXTXxwVa3nx91ZjdWvR+cjVLVuP6HiwsPPAl9s8xAAAAAAEAAAAAAAAAAAFqAAAAAAA='}}"
      ]
     },
     "execution_count": 19,
     "metadata": {},
     "output_type": "execute_result"
    }
   ],
   "source": [
    "full_signed_vc = {\"@context\": [\"https://www.w3.org/2018/credentials/v1\", \"https://www.w3.org/2018/credentials/examples/v1\"], \"id\": \"http://example.edu/credentials/1872\", \"type\": [\"VerifiableCredential\", \"AlumniCredential\"], \"issuer\": \"https://example.edu/issuers/565049\", \"issuanceDate\": \"2010-01-01T19:23:24Z\", \"credentialSubject\": {\"id\": \"did:example:ebfeb1f712ebc6f1c276e12ec21\", \"alumniOf\": {\"id\": \"did:example:c276e12ec21ebfeb1f712ebc6f1\", \"name\": [{\"value\": \"Example University\", \"lang\": \"en\"}, {\"value\": \"Exemple d'Universit\\u00e9\", \"lang\": \"fr\"}]}}, \"proof\": {\"type\": \"BIP322Signature2022\", \"created\": \"2022-05-23T21:19:10Z\", \"proofPurpose\": \"assertionMethod\", \"verificationMethod\": \"https://example.edu/issuers/565049#key-1\", \"bip322_sig\": \"AAAAAAABAar/MRPVK4zsVrD/SuHuzaw0Ki4QBvsUHTk6+RSUe4f/AAAAAGpHMEQCIGQwJ85k5iVzzuUh7kyLejW4JUW+ZLTl2vcuA4TbIi07AiB0s13e3VuS/prBmbnu6togBAy4pPxbCvU1iMp6O32newEhA8iCJXTXxwVa3nx91ZjdWvR+cjVLVuP6HiwsPPAl9s8xAAAAAAEAAAAAAAAAAAFqAAAAAAA=\"}}\n",
    "\n",
    "full_signed_vc"
   ]
  },
  {
   "cell_type": "code",
   "execution_count": 20,
   "id": "abb67a20",
   "metadata": {},
   "outputs": [
    {
     "name": "stdout",
     "output_type": "stream",
     "text": [
      "BIP 322 FULL Signature AAAAAAABAar/MRPVK4zsVrD/SuHuzaw0Ki4QBvsUHTk6+RSUe4f/AAAAAGpHMEQCIGQwJ85k5iVzzuUh7kyLejW4JUW+ZLTl2vcuA4TbIi07AiB0s13e3VuS/prBmbnu6togBAy4pPxbCvU1iMp6O32newEhA8iCJXTXxwVa3nx91ZjdWvR+cjVLVuP6HiwsPPAl9s8xAAAAAAEAAAAAAAAAAAFqAAAAAAA=\n"
     ]
    }
   ],
   "source": [
    "proof = full_signed_vc[\"proof\"]\n",
    "bip322_sig = proof[\"bip322_sig\"]\n",
    "print(\"BIP 322 FULL Signature\", bip322_sig)"
   ]
  },
  {
   "cell_type": "code",
   "execution_count": 21,
   "id": "2975076a",
   "metadata": {},
   "outputs": [
    {
     "data": {
      "text/plain": [
       "{'@context': ['https://www.w3.org/2018/credentials/v1',\n",
       "  'https://www.w3.org/2018/credentials/examples/v1'],\n",
       " 'id': 'http://example.edu/credentials/1872',\n",
       " 'type': ['VerifiableCredential', 'AlumniCredential'],\n",
       " 'issuer': 'https://example.edu/issuers/565049',\n",
       " 'issuanceDate': '2010-01-01T19:23:24Z',\n",
       " 'credentialSubject': {'id': 'did:example:ebfeb1f712ebc6f1c276e12ec21',\n",
       "  'alumniOf': {'id': 'did:example:c276e12ec21ebfeb1f712ebc6f1',\n",
       "   'name': [{'value': 'Example University', 'lang': 'en'},\n",
       "    {'value': \"Exemple d'Université\", 'lang': 'fr'}]}}}"
      ]
     },
     "execution_count": 21,
     "metadata": {},
     "output_type": "execute_result"
    }
   ],
   "source": [
    "vc = full_signed_vc\n",
    "del vc[\"proof\"]\n",
    "\n",
    "vc"
   ]
  },
  {
   "cell_type": "code",
   "execution_count": 22,
   "id": "284e5a5b",
   "metadata": {},
   "outputs": [],
   "source": [
    "import json\n",
    "vc_payload = json.dumps(vc)"
   ]
  },
  {
   "cell_type": "code",
   "execution_count": 23,
   "id": "ea1f1117",
   "metadata": {},
   "outputs": [
    {
     "name": "stdout",
     "output_type": "stream",
     "text": [
      "Is taproot False\n"
     ]
    }
   ],
   "source": [
    "verification_result = verify_message(p2pkh_address, bip322_sig, vc_payload)"
   ]
  },
  {
   "cell_type": "code",
   "execution_count": 24,
   "id": "69bc5199",
   "metadata": {},
   "outputs": [
    {
     "data": {
      "text/plain": [
       "True"
      ]
     },
     "execution_count": 24,
     "metadata": {},
     "output_type": "execute_result"
    }
   ],
   "source": [
    "verification_result"
   ]
  },
  {
   "cell_type": "code",
   "execution_count": null,
   "id": "926cefc0",
   "metadata": {},
   "outputs": [],
   "source": []
  },
  {
   "cell_type": "code",
   "execution_count": null,
   "id": "3bd5efdd",
   "metadata": {},
   "outputs": [],
   "source": []
  },
  {
   "cell_type": "code",
   "execution_count": null,
   "id": "812b21a9",
   "metadata": {},
   "outputs": [],
   "source": []
  },
  {
   "cell_type": "code",
   "execution_count": null,
   "id": "fcb89e07",
   "metadata": {},
   "outputs": [],
   "source": []
  },
  {
   "cell_type": "code",
   "execution_count": null,
   "id": "162690ac",
   "metadata": {},
   "outputs": [],
   "source": []
  },
  {
   "cell_type": "code",
   "execution_count": null,
   "id": "13e919fe",
   "metadata": {},
   "outputs": [],
   "source": []
  }
 ],
 "metadata": {
  "kernelspec": {
   "display_name": "Python 3",
   "language": "python",
   "name": "python3"
  },
  "language_info": {
   "codemirror_mode": {
    "name": "ipython",
    "version": 3
   },
   "file_extension": ".py",
   "mimetype": "text/x-python",
   "name": "python",
   "nbconvert_exporter": "python",
   "pygments_lexer": "ipython3",
   "version": "3.8.5"
  }
 },
 "nbformat": 4,
 "nbformat_minor": 5
}
