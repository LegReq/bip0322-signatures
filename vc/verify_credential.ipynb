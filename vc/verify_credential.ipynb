{
 "cells": [
  {
   "cell_type": "markdown",
   "id": "e3cdeb1f",
   "metadata": {},
   "source": [
    "# Verify Credential\n",
    "\n",
    "This notebook illustrates how a VC signed using a BIP 322 signature could be parsed and verified by a verifier."
   ]
  },
  {
   "cell_type": "markdown",
   "id": "803ee893",
   "metadata": {},
   "source": [
    "## Notebook Author\n",
    "\n",
    "* Will Abramson\n",
    "* [Legendary Requirements](http://legreq.com/)\n",
    "* Contact: will@legreq.com"
   ]
  },
  {
   "cell_type": "markdown",
   "id": "f5a42dd1",
   "metadata": {},
   "source": [
    "## Acknowledgements\n",
    "\n",
    "This work was funded by Ryan Grant and [Digital Contract Design](https://contract.design/). Thanks also go to Joe Andrieu, Kalle Alm, Pieter Wuille and Jimmy Song for engaging with and supporting various aspects of this work."
   ]
  },
  {
   "cell_type": "markdown",
   "id": "d50cc45e",
   "metadata": {},
   "source": [
    "## Steps\n",
    "\n",
    "1. Parse signature from signed VC\n",
    "2. Parse/resolve bitcoin address used the sign vc\n",
    "3. Remove proof from signed VC \n",
    "4. Canonicalize VC\n",
    "5. Verify signatue on VC"
   ]
  },
  {
   "cell_type": "code",
   "execution_count": 1,
   "id": "ae8a0242",
   "metadata": {},
   "outputs": [
    {
     "name": "stdout",
     "output_type": "stream",
     "text": [
      "/home/will/work/LegendaryRequirements/clients/dcd/bip0322-sigs\n"
     ]
    }
   ],
   "source": [
    "cd .."
   ]
  },
  {
   "cell_type": "markdown",
   "id": "3f1c568a",
   "metadata": {},
   "source": [
    "## 1. Parse signature from signed VC\n",
    "\n",
    "**YOU SHOULD COPY THE SIGNED VC PRODUCED IN the [issue_credential](http://localhost:8888/notebooks/vc/issue_credential.ipynb) NOTEBOOK**"
   ]
  },
  {
   "cell_type": "code",
   "execution_count": 2,
   "id": "719fa11e",
   "metadata": {},
   "outputs": [
    {
     "data": {
      "text/plain": [
       "{'@context': ['https://www.w3.org/2018/credentials/v1',\n",
       "  'https://www.w3.org/2018/credentials/examples/v1'],\n",
       " 'id': 'http://example.edu/credentials/1872',\n",
       " 'type': ['VerifiableCredential', 'AlumniCredential'],\n",
       " 'issuer': 'https://example.edu/issuers/565049',\n",
       " 'issuanceDate': '2010-01-01T19:23:24Z',\n",
       " 'credentialSubject': {'id': 'did:example:ebfeb1f712ebc6f1c276e12ec21',\n",
       "  'alumniOf': {'id': 'did:example:c276e12ec21ebfeb1f712ebc6f1',\n",
       "   'name': [{'value': 'Example University', 'lang': 'en'},\n",
       "    {'value': \"Exemple d'Université\", 'lang': 'fr'}]}},\n",
       " 'proof': {'type': 'BIP322SimpleSignature2022',\n",
       "  'created': '2022-05-23T21:19:10Z',\n",
       "  'proofPurpose': 'assertionMethod',\n",
       "  'verificationMethod': 'https://example.edu/issuers/565049#key-1',\n",
       "  'bip322_sig': 'AkgwRQIhAKgZ4oVu51lwBxQ+u0yz1xHBg60ovueTTvU8Wl5RkrhoAiAfY5WS+ghkFmQZzhLcGN6wSAjlQeLbBYgPi1Ve3hvnswEhA8iCJXTXxwVa3nx91ZjdWvR+cjVLVuP6HiwsPPAl9s8x'}}"
      ]
     },
     "execution_count": 2,
     "metadata": {},
     "output_type": "execute_result"
    }
   ],
   "source": [
    "import json\n",
    "signed_vc ={\"@context\": [\"https://www.w3.org/2018/credentials/v1\", \"https://www.w3.org/2018/credentials/examples/v1\"], \"id\": \"http://example.edu/credentials/1872\", \"type\": [\"VerifiableCredential\", \"AlumniCredential\"], \"issuer\": \"https://example.edu/issuers/565049\", \"issuanceDate\": \"2010-01-01T19:23:24Z\", \"credentialSubject\": {\"id\": \"did:example:ebfeb1f712ebc6f1c276e12ec21\", \"alumniOf\": {\"id\": \"did:example:c276e12ec21ebfeb1f712ebc6f1\", \"name\": [{\"value\": \"Example University\", \"lang\": \"en\"}, {\"value\": \"Exemple d'Universit\\u00e9\", \"lang\": \"fr\"}]}}, \"proof\": {\"type\": \"BIP322SimpleSignature2022\", \"created\": \"2022-05-23T21:19:10Z\", \"proofPurpose\": \"assertionMethod\", \"verificationMethod\": \"https://example.edu/issuers/565049#key-1\", \"bip322_sig\": \"AkgwRQIhAKgZ4oVu51lwBxQ+u0yz1xHBg60ovueTTvU8Wl5RkrhoAiAfY5WS+ghkFmQZzhLcGN6wSAjlQeLbBYgPi1Ve3hvnswEhA8iCJXTXxwVa3nx91ZjdWvR+cjVLVuP6HiwsPPAl9s8x\"}}\n",
    "\n",
    "\n",
    "signed_vc"
   ]
  },
  {
   "cell_type": "code",
   "execution_count": 3,
   "id": "899d24fb",
   "metadata": {},
   "outputs": [],
   "source": [
    "proof = signed_vc[\"proof\"]\n",
    "bip322_sig = proof[\"bip322_sig\"]"
   ]
  },
  {
   "cell_type": "code",
   "execution_count": 4,
   "id": "9e9f7365",
   "metadata": {},
   "outputs": [
    {
     "name": "stdout",
     "output_type": "stream",
     "text": [
      "bip322 signature in VC : \n",
      " AkgwRQIhAKgZ4oVu51lwBxQ+u0yz1xHBg60ovueTTvU8Wl5RkrhoAiAfY5WS+ghkFmQZzhLcGN6wSAjlQeLbBYgPi1Ve3hvnswEhA8iCJXTXxwVa3nx91ZjdWvR+cjVLVuP6HiwsPPAl9s8x\n"
     ]
    }
   ],
   "source": [
    "print(\"bip322 signature in VC : \\n\", bip322_sig)"
   ]
  },
  {
   "cell_type": "markdown",
   "id": "7ebdb0d9",
   "metadata": {},
   "source": [
    "## 2. Resove Bitcoin address used to sign VC\n",
    "\n",
    "This could either be from:\n",
    "\n",
    "- TxRef\n",
    "- Secp public key and script type\n",
    "- Script and public key\n",
    "- UTXO\n",
    "- A did:btcr(2)?"
   ]
  },
  {
   "cell_type": "code",
   "execution_count": 5,
   "id": "80c96677",
   "metadata": {},
   "outputs": [
    {
     "name": "stdout",
     "output_type": "stream",
     "text": [
      "This needs to be something that can be resolved to a BTC address : https://example.edu/issuers/565049\n"
     ]
    }
   ],
   "source": [
    "print(\"This needs to be something that can be resolved to a BTC address :\", signed_vc[\"issuer\"])"
   ]
  },
  {
   "cell_type": "code",
   "execution_count": 6,
   "id": "64acae94",
   "metadata": {},
   "outputs": [],
   "source": [
    "## TODO: this should be contained within the VC or retrievable through did resolution.\n",
    "## Currently just copied from issue_credential\n",
    "address = 'bc1qz52z3pe9fg3qxv9n6yhxgj7rcn8wsvpq56v9ck'"
   ]
  },
  {
   "cell_type": "markdown",
   "id": "d9fd96ee",
   "metadata": {},
   "source": [
    "## 3. Remove proof from signed_vc payload"
   ]
  },
  {
   "cell_type": "code",
   "execution_count": 7,
   "id": "85884690",
   "metadata": {},
   "outputs": [
    {
     "data": {
      "text/plain": [
       "{'@context': ['https://www.w3.org/2018/credentials/v1',\n",
       "  'https://www.w3.org/2018/credentials/examples/v1'],\n",
       " 'id': 'http://example.edu/credentials/1872',\n",
       " 'type': ['VerifiableCredential', 'AlumniCredential'],\n",
       " 'issuer': 'https://example.edu/issuers/565049',\n",
       " 'issuanceDate': '2010-01-01T19:23:24Z',\n",
       " 'credentialSubject': {'id': 'did:example:ebfeb1f712ebc6f1c276e12ec21',\n",
       "  'alumniOf': {'id': 'did:example:c276e12ec21ebfeb1f712ebc6f1',\n",
       "   'name': [{'value': 'Example University', 'lang': 'en'},\n",
       "    {'value': \"Exemple d'Université\", 'lang': 'fr'}]}}}"
      ]
     },
     "execution_count": 7,
     "metadata": {},
     "output_type": "execute_result"
    }
   ],
   "source": [
    "vc = signed_vc\n",
    "del vc[\"proof\"]\n",
    "\n",
    "vc"
   ]
  },
  {
   "cell_type": "markdown",
   "id": "a7d0fef7",
   "metadata": {},
   "source": [
    "## 4. Canonicalize VC payload"
   ]
  },
  {
   "cell_type": "code",
   "execution_count": 8,
   "id": "3e356deb",
   "metadata": {},
   "outputs": [],
   "source": [
    "import json\n",
    "from buidl.helper import str_to_bytes\n",
    "from buidl.script import address_to_script_pubkey"
   ]
  },
  {
   "cell_type": "code",
   "execution_count": 9,
   "id": "42694551",
   "metadata": {},
   "outputs": [],
   "source": [
    "vc_payload = json.dumps(vc)"
   ]
  },
  {
   "cell_type": "code",
   "execution_count": 10,
   "id": "fcb00232",
   "metadata": {},
   "outputs": [
    {
     "data": {
      "text/plain": [
       "b'{\"@context\": [\"https://www.w3.org/2018/credentials/v1\", \"https://www.w3.org/2018/credentials/examples/v1\"], \"id\": \"http://example.edu/credentials/1872\", \"type\": [\"VerifiableCredential\", \"AlumniCredential\"], \"issuer\": \"https://example.edu/issuers/565049\", \"issuanceDate\": \"2010-01-01T19:23:24Z\", \"credentialSubject\": {\"id\": \"did:example:ebfeb1f712ebc6f1c276e12ec21\", \"alumniOf\": {\"id\": \"did:example:c276e12ec21ebfeb1f712ebc6f1\", \"name\": [{\"value\": \"Example University\", \"lang\": \"en\"}, {\"value\": \"Exemple d\\'Universit\\\\u00e9\", \"lang\": \"fr\"}]}}}'"
      ]
     },
     "execution_count": 10,
     "metadata": {},
     "output_type": "execute_result"
    }
   ],
   "source": [
    "str_to_bytes(vc_payload)"
   ]
  },
  {
   "cell_type": "markdown",
   "id": "1d7c95af",
   "metadata": {},
   "source": [
    "## 5. Verify bip322 signature on VC"
   ]
  },
  {
   "cell_type": "code",
   "execution_count": 11,
   "id": "ecb28a11",
   "metadata": {},
   "outputs": [],
   "source": [
    "from src.message import verify_message"
   ]
  },
  {
   "cell_type": "markdown",
   "id": "b3d02c87",
   "metadata": {},
   "source": [
    "### NOTE: the output `\"mismatch between length and consumed bytes 88 vs 31\"` is expected\" and occurs when attempting to parse the signature as a full Bitcoin transaction. See is_full_signature in [src/message.py](../../edit/src/message.py) and the [script.py](https://github.com/buidl-bitcoin/buidl-python/blob/e62e0b9fd4271473cf641cde0fe366e65c787403/buidl/script.py#L109) file from Buidl Python"
   ]
  },
  {
   "cell_type": "code",
   "execution_count": 12,
   "id": "57a6ec98",
   "metadata": {},
   "outputs": [
    {
     "name": "stdout",
     "output_type": "stream",
     "text": [
      "Is taproot False\n",
      "mismatch between length and consumed bytes 88 vs 31\n",
      "Signature is not full\n",
      "Signature is verified :  True\n"
     ]
    }
   ],
   "source": [
    "\n",
    "verification_result = verify_message(address, bip322_sig, vc_payload)\n",
    "\n",
    "print(\"Signature is verified : \", verification_result)"
   ]
  },
  {
   "cell_type": "code",
   "execution_count": null,
   "id": "9d62bcdb",
   "metadata": {},
   "outputs": [],
   "source": []
  },
  {
   "cell_type": "code",
   "execution_count": null,
   "id": "a1b7e886",
   "metadata": {},
   "outputs": [],
   "source": []
  },
  {
   "cell_type": "code",
   "execution_count": null,
   "id": "48f4c83c",
   "metadata": {},
   "outputs": [],
   "source": []
  },
  {
   "cell_type": "code",
   "execution_count": null,
   "id": "960f45d5",
   "metadata": {},
   "outputs": [],
   "source": []
  },
  {
   "cell_type": "markdown",
   "id": "e164d23c",
   "metadata": {},
   "source": [
    "## Verify Legacy Signature on VC\n",
    "\n",
    "Note: this is incomplete. Somehow need to be able to retrieve the Secp256k1 ECC point associated with the p2pkh_address used to sign the message. Currently unsure exactly how. Bitcoin core has a method privateKey.SignCompact which does this - possibly missing from buidl-python\n",
    "\n",
    "Note: Legacy signatures are not recommened, rather it is recommended to encode p2pkh bip322 signatures using the full encoding."
   ]
  },
  {
   "cell_type": "code",
   "execution_count": 13,
   "id": "98a04c2d",
   "metadata": {},
   "outputs": [
    {
     "data": {
      "text/plain": [
       "{'@context': ['https://www.w3.org/2018/credentials/v1',\n",
       "  'https://www.w3.org/2018/credentials/examples/v1'],\n",
       " 'id': 'http://example.edu/credentials/1872',\n",
       " 'type': ['VerifiableCredential', 'AlumniCredential'],\n",
       " 'issuer': 'https://example.edu/issuers/565049',\n",
       " 'issuanceDate': '2010-01-01T19:23:24Z',\n",
       " 'credentialSubject': {'id': 'did:example:ebfeb1f712ebc6f1c276e12ec21',\n",
       "  'alumniOf': {'id': 'did:example:c276e12ec21ebfeb1f712ebc6f1',\n",
       "   'name': [{'value': 'Example University', 'lang': 'en'},\n",
       "    {'value': \"Exemple d'Université\", 'lang': 'fr'}]}},\n",
       " 'proof': {'type': 'BIP322Signature2022',\n",
       "  'created': '2022-05-23T21:19:10Z',\n",
       "  'proofPurpose': 'assertionMethod',\n",
       "  'verificationMethod': 'https://example.edu/issuers/565049#key-1',\n",
       "  'bip322_sig': 'MEUCIQDLQvF+0Dg0uruDJCydBwCV8vC03Y4VagBnEzKflu1HNQIgSKBu1Q6xWlQSZZVxUPgzVnTrXakcdBvV4BdWS4Oi/Qk='}}"
      ]
     },
     "execution_count": 13,
     "metadata": {},
     "output_type": "execute_result"
    }
   ],
   "source": [
    "legacy_signed_vc = {\"@context\": [\"https://www.w3.org/2018/credentials/v1\", \"https://www.w3.org/2018/credentials/examples/v1\"], \"id\": \"http://example.edu/credentials/1872\", \"type\": [\"VerifiableCredential\", \"AlumniCredential\"], \"issuer\": \"https://example.edu/issuers/565049\", \"issuanceDate\": \"2010-01-01T19:23:24Z\", \"credentialSubject\": {\"id\": \"did:example:ebfeb1f712ebc6f1c276e12ec21\", \"alumniOf\": {\"id\": \"did:example:c276e12ec21ebfeb1f712ebc6f1\", \"name\": [{\"value\": \"Example University\", \"lang\": \"en\"}, {\"value\": \"Exemple d'Universit\\u00e9\", \"lang\": \"fr\"}]}}, \"proof\": {\"type\": \"BIP322Signature2022\", \"created\": \"2022-05-23T21:19:10Z\", \"proofPurpose\": \"assertionMethod\", \"verificationMethod\": \"https://example.edu/issuers/565049#key-1\", \"bip322_sig\": \"MEUCIQDLQvF+0Dg0uruDJCydBwCV8vC03Y4VagBnEzKflu1HNQIgSKBu1Q6xWlQSZZVxUPgzVnTrXakcdBvV4BdWS4Oi/Qk=\"}}\n",
    "legacy_signed_vc"
   ]
  },
  {
   "cell_type": "code",
   "execution_count": 14,
   "id": "a38071f3",
   "metadata": {},
   "outputs": [
    {
     "name": "stdout",
     "output_type": "stream",
     "text": [
      "BIP 322 Legacy Signature MEUCIQDLQvF+0Dg0uruDJCydBwCV8vC03Y4VagBnEzKflu1HNQIgSKBu1Q6xWlQSZZVxUPgzVnTrXakcdBvV4BdWS4Oi/Qk=\n"
     ]
    }
   ],
   "source": [
    "proof = legacy_signed_vc[\"proof\"]\n",
    "bip322_sig = proof[\"bip322_sig\"]\n",
    "print(\"BIP 322 Legacy Signature\", bip322_sig)"
   ]
  },
  {
   "cell_type": "code",
   "execution_count": 15,
   "id": "396f5b79",
   "metadata": {},
   "outputs": [
    {
     "data": {
      "text/plain": [
       "{'@context': ['https://www.w3.org/2018/credentials/v1',\n",
       "  'https://www.w3.org/2018/credentials/examples/v1'],\n",
       " 'id': 'http://example.edu/credentials/1872',\n",
       " 'type': ['VerifiableCredential', 'AlumniCredential'],\n",
       " 'issuer': 'https://example.edu/issuers/565049',\n",
       " 'issuanceDate': '2010-01-01T19:23:24Z',\n",
       " 'credentialSubject': {'id': 'did:example:ebfeb1f712ebc6f1c276e12ec21',\n",
       "  'alumniOf': {'id': 'did:example:c276e12ec21ebfeb1f712ebc6f1',\n",
       "   'name': [{'value': 'Example University', 'lang': 'en'},\n",
       "    {'value': \"Exemple d'Université\", 'lang': 'fr'}]}}}"
      ]
     },
     "execution_count": 15,
     "metadata": {},
     "output_type": "execute_result"
    }
   ],
   "source": [
    "vc = legacy_signed_vc\n",
    "del vc[\"proof\"]\n",
    "\n",
    "vc"
   ]
  },
  {
   "cell_type": "code",
   "execution_count": 16,
   "id": "534b94ff",
   "metadata": {},
   "outputs": [],
   "source": [
    "vc_payload = json.dumps(vc)"
   ]
  },
  {
   "cell_type": "code",
   "execution_count": 17,
   "id": "948e9a22",
   "metadata": {},
   "outputs": [
    {
     "name": "stdout",
     "output_type": "stream",
     "text": [
      "Is taproot False\n",
      "Signature is not full\n",
      "Signature is niether an encoded witness or full transaction. Fall back to legacy\n"
     ]
    },
    {
     "ename": "NotImplementedError",
     "evalue": "TODO",
     "output_type": "error",
     "traceback": [
      "\u001b[0;31m---------------------------------------------------------------------------\u001b[0m",
      "\u001b[0;31mNotImplementedError\u001b[0m                       Traceback (most recent call last)",
      "Input \u001b[0;32mIn [17]\u001b[0m, in \u001b[0;36m<cell line: 1>\u001b[0;34m()\u001b[0m\n\u001b[0;32m----> 1\u001b[0m verification_result \u001b[38;5;241m=\u001b[39m \u001b[43mverify_message\u001b[49m\u001b[43m(\u001b[49m\u001b[43maddress\u001b[49m\u001b[43m,\u001b[49m\u001b[43m \u001b[49m\u001b[43mbip322_sig\u001b[49m\u001b[43m,\u001b[49m\u001b[43m \u001b[49m\u001b[43mvc_payload\u001b[49m\u001b[43m)\u001b[49m\n",
      "File \u001b[0;32m~/work/LegendaryRequirements/clients/dcd/bip0322-sigs/src/message.py:223\u001b[0m, in \u001b[0;36mverify_message\u001b[0;34m(address, signature, message)\u001b[0m\n\u001b[1;32m    216\u001b[0m to_sign \u001b[38;5;241m=\u001b[39m create_to_sign_tx(to_spend\u001b[38;5;241m.\u001b[39mhash(), sig_bytes)\n\u001b[1;32m    218\u001b[0m \u001b[38;5;28;01mif\u001b[39;00m to_sign \u001b[38;5;241m==\u001b[39m \u001b[38;5;28;01mNone\u001b[39;00m:\n\u001b[1;32m    219\u001b[0m     \u001b[38;5;66;03m# try LEGACY\u001b[39;00m\n\u001b[1;32m    220\u001b[0m     \u001b[38;5;66;03m# Check address is a p2pkh\u001b[39;00m\n\u001b[1;32m    221\u001b[0m     \u001b[38;5;66;03m# Recover Secp256 point from signature?\u001b[39;00m\n\u001b[1;32m    222\u001b[0m     \u001b[38;5;66;03m# Verify signature\u001b[39;00m\n\u001b[0;32m--> 223\u001b[0m     \u001b[38;5;28;01mraise\u001b[39;00m \u001b[38;5;167;01mNotImplementedError\u001b[39;00m(\u001b[38;5;124m\"\u001b[39m\u001b[38;5;124mTODO\u001b[39m\u001b[38;5;124m\"\u001b[39m)\n\u001b[1;32m    225\u001b[0m to_sign\u001b[38;5;241m.\u001b[39mtx_ins[\u001b[38;5;241m0\u001b[39m]\u001b[38;5;241m.\u001b[39m_script_pubkey \u001b[38;5;241m=\u001b[39m to_spend\u001b[38;5;241m.\u001b[39mtx_outs[\u001b[38;5;241m0\u001b[39m]\u001b[38;5;241m.\u001b[39mscript_pubkey\n\u001b[1;32m    226\u001b[0m to_sign\u001b[38;5;241m.\u001b[39mtx_ins[\u001b[38;5;241m0\u001b[39m]\u001b[38;5;241m.\u001b[39m_value \u001b[38;5;241m=\u001b[39m to_spend\u001b[38;5;241m.\u001b[39mtx_outs[\u001b[38;5;241m0\u001b[39m]\u001b[38;5;241m.\u001b[39mamount\n",
      "\u001b[0;31mNotImplementedError\u001b[0m: TODO"
     ]
    }
   ],
   "source": [
    "verification_result = verify_message(address, bip322_sig, vc_payload)"
   ]
  },
  {
   "cell_type": "code",
   "execution_count": null,
   "id": "a66960a5",
   "metadata": {},
   "outputs": [],
   "source": [
    "from buidl.helper import base64_decode\n",
    "\n",
    "der_sig = base64_decode(bip322_sig)\n",
    "\n",
    "len(der_sig)\n",
    "\n",
    "# str_to_bytes(bip322_sig)"
   ]
  },
  {
   "cell_type": "code",
   "execution_count": null,
   "id": "8e575b50",
   "metadata": {},
   "outputs": [],
   "source": [
    "from buidl.ecc import Signature"
   ]
  },
  {
   "cell_type": "code",
   "execution_count": null,
   "id": "b7b61885",
   "metadata": {},
   "outputs": [],
   "source": [
    "Signature.parse(base64_decode(bip322_sig)).der().hex()"
   ]
  },
  {
   "cell_type": "code",
   "execution_count": null,
   "id": "863c8fee",
   "metadata": {},
   "outputs": [],
   "source": []
  },
  {
   "cell_type": "code",
   "execution_count": null,
   "id": "7294765b",
   "metadata": {},
   "outputs": [],
   "source": []
  },
  {
   "cell_type": "markdown",
   "id": "bd10f4b3",
   "metadata": {},
   "source": [
    "## Verify BIP 322 Full Signature on the VC\n",
    "\n",
    "Signature created using a p2pkh address"
   ]
  },
  {
   "cell_type": "code",
   "execution_count": 18,
   "id": "c9585903",
   "metadata": {},
   "outputs": [],
   "source": [
    "p2pkh_address = \"12vTLer5v6RyMpnxetu7mGxtveRsVSps5R\""
   ]
  },
  {
   "cell_type": "code",
   "execution_count": 19,
   "id": "87152c9a",
   "metadata": {},
   "outputs": [
    {
     "data": {
      "text/plain": [
       "{'@context': ['https://www.w3.org/2018/credentials/v1',\n",
       "  'https://www.w3.org/2018/credentials/examples/v1'],\n",
       " 'id': 'http://example.edu/credentials/1872',\n",
       " 'type': ['VerifiableCredential', 'AlumniCredential'],\n",
       " 'issuer': 'https://example.edu/issuers/565049',\n",
       " 'issuanceDate': '2010-01-01T19:23:24Z',\n",
       " 'credentialSubject': {'id': 'did:example:ebfeb1f712ebc6f1c276e12ec21',\n",
       "  'alumniOf': {'id': 'did:example:c276e12ec21ebfeb1f712ebc6f1',\n",
       "   'name': [{'value': 'Example University', 'lang': 'en'},\n",
       "    {'value': \"Exemple d'Université\", 'lang': 'fr'}]}},\n",
       " 'proof': {'type': 'BIP322Signature2022',\n",
       "  'created': '2022-05-23T21:19:10Z',\n",
       "  'proofPurpose': 'assertionMethod',\n",
       "  'verificationMethod': 'https://example.edu/issuers/565049#key-1',\n",
       "  'bip322_sig': 'AAAAAAABAar/MRPVK4zsVrD/SuHuzaw0Ki4QBvsUHTk6+RSUe4f/AAAAAGpHMEQCIGQwJ85k5iVzzuUh7kyLejW4JUW+ZLTl2vcuA4TbIi07AiB0s13e3VuS/prBmbnu6togBAy4pPxbCvU1iMp6O32newEhA8iCJXTXxwVa3nx91ZjdWvR+cjVLVuP6HiwsPPAl9s8xAAAAAAEAAAAAAAAAAAFqAAAAAAA='}}"
      ]
     },
     "execution_count": 19,
     "metadata": {},
     "output_type": "execute_result"
    }
   ],
   "source": [
    "full_signed_vc = {\"@context\": [\"https://www.w3.org/2018/credentials/v1\", \"https://www.w3.org/2018/credentials/examples/v1\"], \"id\": \"http://example.edu/credentials/1872\", \"type\": [\"VerifiableCredential\", \"AlumniCredential\"], \"issuer\": \"https://example.edu/issuers/565049\", \"issuanceDate\": \"2010-01-01T19:23:24Z\", \"credentialSubject\": {\"id\": \"did:example:ebfeb1f712ebc6f1c276e12ec21\", \"alumniOf\": {\"id\": \"did:example:c276e12ec21ebfeb1f712ebc6f1\", \"name\": [{\"value\": \"Example University\", \"lang\": \"en\"}, {\"value\": \"Exemple d'Universit\\u00e9\", \"lang\": \"fr\"}]}}, \"proof\": {\"type\": \"BIP322Signature2022\", \"created\": \"2022-05-23T21:19:10Z\", \"proofPurpose\": \"assertionMethod\", \"verificationMethod\": \"https://example.edu/issuers/565049#key-1\", \"bip322_sig\": \"AAAAAAABAar/MRPVK4zsVrD/SuHuzaw0Ki4QBvsUHTk6+RSUe4f/AAAAAGpHMEQCIGQwJ85k5iVzzuUh7kyLejW4JUW+ZLTl2vcuA4TbIi07AiB0s13e3VuS/prBmbnu6togBAy4pPxbCvU1iMp6O32newEhA8iCJXTXxwVa3nx91ZjdWvR+cjVLVuP6HiwsPPAl9s8xAAAAAAEAAAAAAAAAAAFqAAAAAAA=\"}}\n",
    "\n",
    "full_signed_vc"
   ]
  },
  {
   "cell_type": "code",
   "execution_count": 20,
   "id": "abb67a20",
   "metadata": {},
   "outputs": [
    {
     "name": "stdout",
     "output_type": "stream",
     "text": [
      "BIP 322 FULL Signature AAAAAAABAar/MRPVK4zsVrD/SuHuzaw0Ki4QBvsUHTk6+RSUe4f/AAAAAGpHMEQCIGQwJ85k5iVzzuUh7kyLejW4JUW+ZLTl2vcuA4TbIi07AiB0s13e3VuS/prBmbnu6togBAy4pPxbCvU1iMp6O32newEhA8iCJXTXxwVa3nx91ZjdWvR+cjVLVuP6HiwsPPAl9s8xAAAAAAEAAAAAAAAAAAFqAAAAAAA=\n"
     ]
    }
   ],
   "source": [
    "proof = full_signed_vc[\"proof\"]\n",
    "bip322_sig = proof[\"bip322_sig\"]\n",
    "print(\"BIP 322 FULL Signature\", bip322_sig)"
   ]
  },
  {
   "cell_type": "code",
   "execution_count": 21,
   "id": "2975076a",
   "metadata": {},
   "outputs": [
    {
     "data": {
      "text/plain": [
       "{'@context': ['https://www.w3.org/2018/credentials/v1',\n",
       "  'https://www.w3.org/2018/credentials/examples/v1'],\n",
       " 'id': 'http://example.edu/credentials/1872',\n",
       " 'type': ['VerifiableCredential', 'AlumniCredential'],\n",
       " 'issuer': 'https://example.edu/issuers/565049',\n",
       " 'issuanceDate': '2010-01-01T19:23:24Z',\n",
       " 'credentialSubject': {'id': 'did:example:ebfeb1f712ebc6f1c276e12ec21',\n",
       "  'alumniOf': {'id': 'did:example:c276e12ec21ebfeb1f712ebc6f1',\n",
       "   'name': [{'value': 'Example University', 'lang': 'en'},\n",
       "    {'value': \"Exemple d'Université\", 'lang': 'fr'}]}}}"
      ]
     },
     "execution_count": 21,
     "metadata": {},
     "output_type": "execute_result"
    }
   ],
   "source": [
    "vc = full_signed_vc\n",
    "del vc[\"proof\"]\n",
    "\n",
    "vc"
   ]
  },
  {
   "cell_type": "code",
   "execution_count": 22,
   "id": "284e5a5b",
   "metadata": {},
   "outputs": [],
   "source": [
    "import json\n",
    "vc_payload = json.dumps(vc)"
   ]
  },
  {
   "cell_type": "code",
   "execution_count": 23,
   "id": "ea1f1117",
   "metadata": {},
   "outputs": [
    {
     "name": "stdout",
     "output_type": "stream",
     "text": [
      "Is taproot False\n"
     ]
    }
   ],
   "source": [
    "verification_result = verify_message(p2pkh_address, bip322_sig, vc_payload)"
   ]
  },
  {
   "cell_type": "code",
   "execution_count": 24,
   "id": "69bc5199",
   "metadata": {},
   "outputs": [
    {
     "data": {
      "text/plain": [
       "True"
      ]
     },
     "execution_count": 24,
     "metadata": {},
     "output_type": "execute_result"
    }
   ],
   "source": [
    "verification_result"
   ]
  },
  {
   "cell_type": "code",
   "execution_count": null,
   "id": "926cefc0",
   "metadata": {},
   "outputs": [],
   "source": []
  },
  {
   "cell_type": "code",
   "execution_count": null,
   "id": "3bd5efdd",
   "metadata": {},
   "outputs": [],
   "source": []
  },
  {
   "cell_type": "code",
   "execution_count": null,
   "id": "812b21a9",
   "metadata": {},
   "outputs": [],
   "source": []
  },
  {
   "cell_type": "code",
   "execution_count": null,
   "id": "fcb89e07",
   "metadata": {},
   "outputs": [],
   "source": []
  },
  {
   "cell_type": "code",
   "execution_count": null,
   "id": "162690ac",
   "metadata": {},
   "outputs": [],
   "source": []
  },
  {
   "cell_type": "code",
   "execution_count": null,
   "id": "13e919fe",
   "metadata": {},
   "outputs": [],
   "source": []
  }
 ],
 "metadata": {
  "kernelspec": {
   "display_name": "Python 3",
   "language": "python",
   "name": "python3"
  },
  "language_info": {
   "codemirror_mode": {
    "name": "ipython",
    "version": 3
   },
   "file_extension": ".py",
   "mimetype": "text/x-python",
   "name": "python",
   "nbconvert_exporter": "python",
   "pygments_lexer": "ipython3",
   "version": "3.8.5"
  }
 },
 "nbformat": 4,
 "nbformat_minor": 5
}
