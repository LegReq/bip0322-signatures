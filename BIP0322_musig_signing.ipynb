{
 "cells": [
  {
   "cell_type": "markdown",
   "id": "529e7c52",
   "metadata": {},
   "source": [
    "# Using BIP322 with a P2SH MultiSig Locking Script\n",
    "\n",
    "## This notebook explores PSBT to create a multisig BIP0322\n"
   ]
  },
  {
   "cell_type": "markdown",
   "id": "0a82ee6c",
   "metadata": {},
   "source": [
    "## Notebook Author\n",
    "\n",
    "* Will Abramson\n",
    "* [Legendary Requirements](http://legreq.com/)\n",
    "* Contact: will@legreq.com"
   ]
  },
  {
   "cell_type": "markdown",
   "id": "e98a3b44",
   "metadata": {},
   "source": [
    "## Acknowledgements\n",
    "\n",
    "This work was funded by Ryan Grant and [Digital Contract Design](https://contract.design/). Thanks also go to Joe Andrieu, Kalle Alm, Pieter Wuille and Jimmy Song for engaging with and supporting various aspects of this work."
   ]
  },
  {
   "cell_type": "markdown",
   "id": "f02a4563",
   "metadata": {},
   "source": [
    "## Notebook Steps\n",
    "\n",
    "1. Generate a tagged hash of the message to sign (verify against test vector)\n",
    "2. Define 3 signing parties\n",
    "3. Create 2-of-3 MultiSig Pay-to-Script Hash\n",
    "4. Create the virtual to_spend transaction\n",
    "4. Create unsigned PSBT virtual to_sign transaction\n",
    "5. Sign the PSBT to Satisfy MultiSig\n",
    "6. Finalize the PSBT\n",
    "7. Generated the Bitcoin Tx from PSBT\n",
    "8. Serialize and encode to_sign Transaction as BIP322 Signature\n",
    "9. Verify the signature is a valid BIP322 signature on the message and address"
   ]
  },
  {
   "cell_type": "markdown",
   "id": "98a10c54",
   "metadata": {},
   "source": [
    "## 1. Generate a Tagged Hash of Message to Sign"
   ]
  },
  {
   "cell_type": "code",
   "execution_count": 1,
   "id": "71242db3",
   "metadata": {},
   "outputs": [],
   "source": [
    "from buidl.hash import tagged_hash"
   ]
  },
  {
   "cell_type": "code",
   "execution_count": 2,
   "id": "bbcc3d9c",
   "metadata": {},
   "outputs": [],
   "source": [
    "message = b\"Hello World\"\n",
    "\n",
    "# The tag defined in BIP0322 that should be used\n",
    "tag = b\"BIP0322-signed-message\"\n",
    "\n",
    "tagged_hash = tagged_hash(tag,message)"
   ]
  },
  {
   "cell_type": "markdown",
   "id": "8d4ea6a5",
   "metadata": {},
   "source": [
    "## 2. Define 3 Signing Parties\n",
    "\n",
    "Note: These would normally be distinct entities who would not have knowledge of each others private keys."
   ]
  },
  {
   "cell_type": "markdown",
   "id": "df7b4709",
   "metadata": {},
   "source": [
    "### 2.1. Generate a Root HDPrivateKey from a Seed for each actor"
   ]
  },
  {
   "cell_type": "code",
   "execution_count": 3,
   "id": "a65c0f12",
   "metadata": {},
   "outputs": [],
   "source": [
    "from buidl.ecc import PrivateKey\n",
    "from buidl.hd import HDPrivateKey\n",
    "\n",
    "seed_a = b\"willssecretseed\"\n",
    "hd_root_a= HDPrivateKey.from_seed(seed_a)\n",
    "\n",
    "seed_b = b\"signer2secretseed\"\n",
    "hd_root_b= HDPrivateKey.from_seed(seed_b)\n",
    "\n",
    "seed_c = b\"signer3secretseed\"\n",
    "hd_root_c= HDPrivateKey.from_seed(seed_c)"
   ]
  },
  {
   "cell_type": "markdown",
   "id": "090a8e4d",
   "metadata": {},
   "source": [
    "### 2.2. Take the fingerprint of the root HDPublicKey\n",
    "\n",
    "Note: A fingerprint is the hash160's first 4 bytes"
   ]
  },
  {
   "cell_type": "code",
   "execution_count": 4,
   "id": "19787cea",
   "metadata": {},
   "outputs": [
    {
     "name": "stdout",
     "output_type": "stream",
     "text": [
      "d131705e 80e54fd9 e0af9290\n"
     ]
    }
   ],
   "source": [
    "xfp_a = hd_root_a.fingerprint().hex()\n",
    "xfp_b = hd_root_b.fingerprint().hex()\n",
    "xfp_c = hd_root_c.fingerprint().hex()\n",
    "\n",
    "print(xfp_a, xfp_b, xfp_c)"
   ]
  },
  {
   "cell_type": "markdown",
   "id": "a70649ef",
   "metadata": {},
   "source": [
    "### 2.3 Define a HD path to traverse from the root to get a public/private key pair to be used for signing\n",
    "\n",
    "Note: in this instance we have the same path used for all actors. This does not need to be the case."
   ]
  },
  {
   "cell_type": "code",
   "execution_count": 5,
   "id": "5f82a6ee",
   "metadata": {},
   "outputs": [],
   "source": [
    "# Typically root path traversing handled by wallet software\n",
    "root_path = \"m/45'/0/0/0\"\n",
    "\n",
    "hd_priv_a = hd_root_a.traverse(root_path)\n",
    "hd_priv_b = hd_root_b.traverse(root_path)\n",
    "hd_priv_c = hd_root_c.traverse(root_path)\n",
    "\n"
   ]
  },
  {
   "cell_type": "code",
   "execution_count": 6,
   "id": "4d6da59d",
   "metadata": {},
   "outputs": [],
   "source": [
    "# S256Point representing public key for each actor at a specific HD Path\n",
    "\n",
    "pubkey_a = hd_priv_a.pub.point\n",
    "pubkey_b = hd_priv_b.pub.point\n",
    "pubkey_c = hd_priv_c.pub.point"
   ]
  },
  {
   "cell_type": "markdown",
   "id": "fcc40618",
   "metadata": {},
   "source": [
    "### 2.4 Create xPub representations of public key to be used in multisig"
   ]
  },
  {
   "cell_type": "code",
   "execution_count": 7,
   "id": "a8f8da80",
   "metadata": {},
   "outputs": [],
   "source": [
    "xpub_a = hd_priv_a.xpub()\n",
    "xpub_b = hd_priv_b.xpub()\n",
    "xpub_c = hd_priv_c.xpub()\n"
   ]
  },
  {
   "cell_type": "markdown",
   "id": "588117a9",
   "metadata": {},
   "source": [
    "## 3. Create 2-of-3 MultiSig Pay-to-Script Hash\n",
    "\n",
    "Script commands are `2 <Public Key A> <Public Key B> <Public Key C> 3 CHECKMULTISIG`\n"
   ]
  },
  {
   "cell_type": "code",
   "execution_count": 8,
   "id": "f33d3cfd",
   "metadata": {},
   "outputs": [],
   "source": [
    "from buidl.script import RedeemScript\n",
    "\n",
    "redeem_script_to_use = RedeemScript.create_p2sh_multisig(\n",
    "            quorum_m=2,\n",
    "            pubkey_hexes=[pubkey_a.sec().hex(),pubkey_b.sec().hex(),pubkey_c.sec().hex()],\n",
    "            sort_keys=False,\n",
    "        )\n",
    "\n",
    "# commands = [2, sk_a.point.sec(), sk_b.point.sec(), sk_c.point.sec(), 3, 174]\n",
    "\n",
    "# redeem_script = RedeemScript(commands)\n",
    "\n",
    "script_pubkey = redeem_script_to_use.script_pubkey()\n",
    "p2sh_address = redeem_script_to_use.address()"
   ]
  },
  {
   "cell_type": "code",
   "execution_count": 9,
   "id": "2a186e10",
   "metadata": {},
   "outputs": [
    {
     "name": "stdout",
     "output_type": "stream",
     "text": [
      "OP_2 02e7d79fa51fa52a6cc4e7dfbd53f9bcbe3c1726f1166bef2a7ecaee24548096e1 03ecb9100910c957b5003ff8529226effb28d510a0dbec15f08949e914aa1c6000 03058bbc8764b23c4b007a36d29dcdf00af8c3dbad72a5888e75380f15d3505378 OP_3 OP_CHECKMULTISIG \n",
      "OP_HASH160 78cf5a9a660f330b60396d42b050f9db89e00276 OP_EQUAL \n",
      "3ChoQmPrnmuuyW3tebfrMqiZgfXYRvXb99\n"
     ]
    }
   ],
   "source": [
    "print(redeem_script_to_use)\n",
    "print(script_pubkey)\n",
    "print(p2sh_address)"
   ]
  },
  {
   "cell_type": "markdown",
   "id": "b0763893",
   "metadata": {},
   "source": [
    "### 3.* Messing around with P2WSH\n",
    "\n",
    "Note: currently the helper function `create_multisig_psbt` does not support anything other than `p2sh` addresses.\n",
    "\n",
    "It SHOULD be possible to instatiate a PSBT without the helper function that is a p2wsh multisig. Similarly with p2tr multisig.\n",
    "\n",
    "It WOULD be ideal to extend the helper function to support these additional script types."
   ]
  },
  {
   "cell_type": "code",
   "execution_count": 10,
   "id": "d70b90d0",
   "metadata": {},
   "outputs": [],
   "source": [
    "from buidl.script import WitnessScript\n",
    "\n",
    "witness_script = WitnessScript.convert(redeem_script_to_use.raw_serialize())\n",
    "p2wsh_script_pubkey = witness_script.script_pubkey()\n",
    "p2wsh_address = witness_script.address()\n",
    "# segwit_script_pubkey.address()"
   ]
  },
  {
   "cell_type": "markdown",
   "id": "0f8f8a3b",
   "metadata": {},
   "source": [
    "## 4. Create the virtual to_spend transaction locked with the p2sh_multisig\n",
    "\n",
    "BIP 0322 defines the structure of this transaction as follows:\n",
    "\n",
    "```python\n",
    "    nVersion = 0\n",
    "    nLockTime = 0\n",
    "    vin[0].prevout.hash = 0000...000\n",
    "    vin[0].prevout.n = 0xFFFFFFFF\n",
    "    vin[0].nSequence = 0\n",
    "    vin[0].scriptSig = OP_0 PUSH32[ message_hash ]\n",
    "    vin[0].scriptWitness = []\n",
    "    vout[0].nValue = 0\n",
    "    vout[0].scriptPubKey = message_challenge\n",
    "```\n",
    "\n",
    "The message_challenge is the above 2-3 p2sh scriptPubKey"
   ]
  },
  {
   "cell_type": "code",
   "execution_count": 11,
   "id": "079a5c69",
   "metadata": {},
   "outputs": [],
   "source": [
    "from buidl.tx import Tx, TxIn, TxOut\n",
    "from buidl.script import Script,P2WPKHScriptPubKey\n",
    "from buidl.helper import big_endian_to_int"
   ]
  },
  {
   "cell_type": "markdown",
   "id": "ae57c0fd",
   "metadata": {},
   "source": [
    "### 4.1 Create the single transaction input\n",
    "\n",
    "Note: the script commands `[0x00, 0x20, message_hash]`\n",
    "- `0` is OP_0, which pushes a 0 onto the stack\n",
    "- `32` is PUSH32 which pushes the next 32 bytes onto the stack\n",
    "- `message_hash` is that next 32 bytes. Which is a tagged_hash of the message being signed.\n",
    "\n",
    "**However, the implementation only requires commands [0, message_hash] be input. PUSH32 is implied by the size of the message_hash and added by the underlying library.**\n"
   ]
  },
  {
   "cell_type": "code",
   "execution_count": 12,
   "id": "ef8f3769",
   "metadata": {},
   "outputs": [],
   "source": [
    "# Not a valid Tx hash. Will never be spendable on any BTC network.\n",
    "prevout_hash = bytes.fromhex('0000000000000000000000000000000000000000000000000000000000000000')\n",
    "# prevout.n\n",
    "prevout_index = big_endian_to_int(bytes.fromhex('FFFFFFFF'))\n",
    "sequence = 0\n",
    "\n",
    "# Byte array of message hash\n",
    "message_hash = tagged_hash\n",
    "\n",
    "# Note this used to be: commands = [0, 32, message_hash] (as per BIP)\n",
    "# It appears the PUSH32 is implied and added by the size of the message added to the stack\n",
    "commands = [0, message_hash]\n",
    "scriptSig = Script(commands)\n",
    "# Create Tx Input\n",
    "tx_in = TxIn(prevout_hash,prevout_index,scriptSig,sequence)"
   ]
  },
  {
   "cell_type": "markdown",
   "id": "a672a180",
   "metadata": {},
   "source": [
    "### 4.2 Create the single transaction output"
   ]
  },
  {
   "cell_type": "code",
   "execution_count": 13,
   "id": "ac289b52",
   "metadata": {},
   "outputs": [
    {
     "name": "stdout",
     "output_type": "stream",
     "text": [
      "OP_HASH160 78cf5a9a660f330b60396d42b050f9db89e00276 OP_EQUAL \n"
     ]
    }
   ],
   "source": [
    "# Value of tx output\n",
    "value = 0\n",
    "\n",
    "# Convert segwit address to script_pubkey\n",
    "script_pubkey = script_pubkey\n",
    "\n",
    "print(script_pubkey)\n",
    "tx_out = TxOut(value,script_pubkey)"
   ]
  },
  {
   "cell_type": "markdown",
   "id": "cddd857a",
   "metadata": {},
   "source": [
    "### 4.3 Create transaction using tx_in and tx_out"
   ]
  },
  {
   "cell_type": "code",
   "execution_count": 14,
   "id": "4f6c5204",
   "metadata": {},
   "outputs": [],
   "source": [
    "# create transaction\n",
    "version=0\n",
    "tx_inputs = [tx_in]\n",
    "tx_outputs = [tx_out]\n",
    "locktime=0\n",
    "network=\"mainnet\"\n",
    "\n",
    "# Could be false, but using a segwit address. I think this is the \"Simple Signature\" in BIP-0322\n",
    "segwit=True\n",
    "\n",
    "virtual_to_spend_tx = Tx(version,tx_inputs,tx_outputs,locktime,network,segwit)"
   ]
  },
  {
   "cell_type": "code",
   "execution_count": 15,
   "id": "00875c3b",
   "metadata": {},
   "outputs": [
    {
     "data": {
      "text/plain": [
       "\n",
       "tx: f7fd427441201342a93a9252b4e95458acca7fb12aef4dd5145d22c0cd1af6a6\n",
       "version: 0\n",
       "locktime: 0\n",
       "tx_ins:\n",
       "0000000000000000000000000000000000000000000000000000000000000000:4294967295\n",
       "tx_outs:\n",
       "0:OP_HASH160 78cf5a9a660f330b60396d42b050f9db89e00276 OP_EQUAL "
      ]
     },
     "execution_count": 15,
     "metadata": {},
     "output_type": "execute_result"
    }
   ],
   "source": [
    "virtual_to_spend_tx"
   ]
  },
  {
   "cell_type": "markdown",
   "id": "d7c0539b",
   "metadata": {},
   "source": [
    "## 5. Create PSBT virtual to_sign transaction\n",
    "\n",
    "The PSBT data structure is defined in [BIP174](https://github.com/bitcoin/bips/blob/master/bip-0174.mediawiki)\n",
    "\n",
    "The structure as defined in BIP 0322:\n",
    "\n",
    "```python\n",
    "    nVersion = 0 or (FULL format only) as appropriate (e.g. 2, for time locks)\n",
    "    nLockTime = 0 or (FULL format only) as appropriate (for time locks)\n",
    "    vin[0].prevout.hash = to_spend.txid\n",
    "    vin[0].prevout.n = 0\n",
    "    vin[0].nSequence = 0 or (FULL format only) as appropriate (for time locks)\n",
    "    vin[0].scriptWitness = message_signature\n",
    "    vout[0].nValue = 0\n",
    "    vout[0].scriptPubKey = OP_RETURN\n",
    "```\n",
    "\n"
   ]
  },
  {
   "cell_type": "markdown",
   "id": "bdb93264",
   "metadata": {},
   "source": [
    "### 5.1 Define Public Key Records of participants in MultiSig\n",
    "\n",
    "These values were produced in Step 2. \n",
    "\n",
    "Note: This requires some coordination between MultiSig participants, at least one party must know this information for all participants to be able to produce a PSBT.\n",
    "\n",
    "Each record contains:\n",
    "* A fingerprint\n",
    "* An xpub\n",
    "* A root path through HD key"
   ]
  },
  {
   "cell_type": "code",
   "execution_count": 16,
   "id": "70347385",
   "metadata": {},
   "outputs": [],
   "source": [
    "pubkey_records = [\n",
    "    [xfp_a,xpub_a,root_path],\n",
    "    [xfp_b,xpub_b,root_path],\n",
    "    [xfp_c,xpub_c,root_path]\n",
    "]\n"
   ]
  },
  {
   "cell_type": "code",
   "execution_count": 17,
   "id": "4976e678",
   "metadata": {},
   "outputs": [
    {
     "data": {
      "text/plain": [
       "[['d131705e',\n",
       "  'xpub6EyAEVH13bj6wGsMw79nTAeRhKm7d1LV3NzsUosqocvTuNi9MMk6vGNnWvFN4b1tVRjumnkawQUxMTsySnq74PcEcTnqXVT92t3wq9ztUsM',\n",
       "  \"m/45'/0/0/0\"],\n",
       " ['80e54fd9',\n",
       "  'xpub6EEcNjCVVKJedKvLsWJD8zNDuNXfzMxHZc4R71qwVPBjh3ByZYSeDsCQnVcpjMhWzi9iuqVaBYX2WiucFyXUxc7oYzeiAwpbnJq1jDimhQN',\n",
       "  \"m/45'/0/0/0\"],\n",
       " ['e0af9290',\n",
       "  'xpub6DhSeTsokQiYjDHcqZwE8iTrj9BYuDoLeXJPhAieoNuTt3sr74kELp4CDMJ6s3RRLciTs3goxP89yJadMSDsazHQHb7sVB9uQyoxUAkqMvE',\n",
       "  \"m/45'/0/0/0\"]]"
      ]
     },
     "execution_count": 17,
     "metadata": {},
     "output_type": "execute_result"
    }
   ],
   "source": [
    "pubkey_records"
   ]
  },
  {
   "cell_type": "markdown",
   "id": "f49f8615",
   "metadata": {},
   "source": [
    "### 5.2 Define Input Dicts\n",
    "\n",
    "This is used in the helper function"
   ]
  },
  {
   "cell_type": "markdown",
   "id": "6ebf7dfd",
   "metadata": {},
   "source": [
    "Structure taken from buidl-python `test_psbt_helper.py` file\n",
    "\n",
    "```json\n",
    "            \"input_dicts\": [\n",
    "                {\n",
    "                    \"quorum_m\": 1,\n",
    "                    \"path_list\": [\n",
    "                        # (xfp, root_path)\n",
    "                        (\"838f3ff9\", \"m/45'/0/0/0\"),\n",
    "                        (\"e0c595c5\", \"m/45'/0/0/0\"),\n",
    "                    ],\n",
    "                    \"prev_tx_dict\": {\n",
    "                        \"hex\": \"02000000000101380bff9db676d159ad34849079c77e0d5c1df9c841b6a6640cba9bfc15077eea0100000000feffffff02008312000000000017a914d96bb9c5888f473dbd077d77009fb49ba2fda24287611c92a00100000017a9148722f07fbcf0fc506ea4ba9daa811d11396bbcfd870247304402202fe3c2f18e1486407bf0baabd2b3376102f0844a754d8e2fb8de71b39b3f76c702200c1fe8f7f9ef5165929ed51bf754edd7dd3e591921979cf5b891c841a1fd19d80121037c8fe1fa1ae4dfff522c532917c73c4884469e3b6a284e9a039ec612dca78eefd29c1e00\",\n",
    "                        \"hash_hex\": \"4412d2a7664d01bb784a0a359e9aacf160ee436067c6a42dca355da4817ca7da\",\n",
    "                        \"output_idx\": 0,\n",
    "                        \"output_sats\": 1213184,\n",
    "                    },\n",
    "                },\n",
    "            ],\n",
    "            \"output_dicts\": [\n",
    "                {\n",
    "                    \"sats\": 999500,\n",
    "                    \"address\": \"mkHS9ne12qx9pS9VojpwU5xtRd4T7X7ZUt\",\n",
    "                },\n",
    "            ],\n",
    "```"
   ]
  },
  {
   "cell_type": "code",
   "execution_count": 18,
   "id": "680ab79f",
   "metadata": {},
   "outputs": [],
   "source": [
    "# A hex encoding of the transaction to be included as an input to the PSBT\n",
    "\n",
    "hextx = virtual_to_spend_tx.serialize().hex()"
   ]
  },
  {
   "cell_type": "code",
   "execution_count": 19,
   "id": "9822b635",
   "metadata": {},
   "outputs": [],
   "source": [
    "input_dicts = [{\n",
    "    \"quorum_m\": 2,\n",
    "    \"path_list\": [\n",
    "        # (xfp, root_path)\n",
    "        (xfp_a, root_path),\n",
    "        (xfp_b, root_path),\n",
    "        (xfp_c, root_path)\n",
    "    ],\n",
    "    \"prev_tx_dict\": {\n",
    "        \"hex\": virtual_to_spend_tx.serialize().hex(),\n",
    "        \"hash_hex\": virtual_to_spend_tx.id(),\n",
    "        \"output_idx\": 0,\n",
    "        \"output_sats\": 0\n",
    "    }\n",
    "}]\n",
    "\n",
    "\n",
    "\n",
    "fee = 0\n",
    "\n"
   ]
  },
  {
   "cell_type": "markdown",
   "id": "44c0f261",
   "metadata": {},
   "source": [
    "### 5.3 Define Output Dicts"
   ]
  },
  {
   "cell_type": "code",
   "execution_count": 20,
   "id": "93a7eded",
   "metadata": {},
   "outputs": [],
   "source": [
    "output_dicts = [{\n",
    "    \"sats\": 0,\n",
    "    # Note: we need to update this. For BIP322 the output is OP_RETURN\n",
    "    \"address\": \"3BgtPWtDCzgCbRpCbc48dgffkdbywi9Wr5\",\n",
    "}]\n"
   ]
  },
  {
   "cell_type": "markdown",
   "id": "5fb4c744",
   "metadata": {},
   "source": [
    "### 5.4 Create MultiSig PSBT"
   ]
  },
  {
   "cell_type": "code",
   "execution_count": 21,
   "id": "d1b7c4ed",
   "metadata": {},
   "outputs": [],
   "source": [
    "from buidl.psbt_helper import create_multisig_psbt"
   ]
  },
  {
   "cell_type": "code",
   "execution_count": 22,
   "id": "2dd8369b",
   "metadata": {},
   "outputs": [],
   "source": [
    "fee = 0\n",
    "psbt_to_sign_bip322 = create_multisig_psbt(pubkey_records,input_dicts,output_dicts,fee)"
   ]
  },
  {
   "cell_type": "code",
   "execution_count": 27,
   "id": "4cc5941f",
   "metadata": {},
   "outputs": [],
   "source": [
    "base64 = psbt_to_sign_bip322.serialize_base64()\n"
   ]
  },
  {
   "cell_type": "code",
   "execution_count": 25,
   "id": "b3a8873d",
   "metadata": {},
   "outputs": [
    {
     "data": {
      "text/plain": [
       "\n",
       "Tx:\n",
       "\n",
       "tx: f9c93111cdc7a121998f9c8c98e96cbad12dd361f875676a61a81619cba0852e\n",
       "version: 1\n",
       "locktime: 0\n",
       "tx_ins:\n",
       "f7fd427441201342a93a9252b4e95458acca7fb12aef4dd5145d22c0cd1af6a6:0\n",
       "tx_outs:\n",
       "0:OP_HASH160 6daaf7ccd845378a71bec802b1af09008683c2c6 OP_EQUAL \n",
       "\n",
       "\n",
       "PSBT XPUBS:\n",
       "{b'O\\x01\\x04\\x88\\xb2\\x1e\\x04\\xc3K\\x1e\\xd0\\x00\\x00\\x00\\x00\\xcb\\xed!\\xb3\\x19\\xc4\\x8a\\xbbN\\xb8!\\x91\\x9a\\xfb`\\xf8\\xed\\xe8}\\x126\\xbb\\xe0\\xc4%\\xb1\\x9d\\x92\\xa3L\\xde\\xc5\\x02\\xe7\\xd7\\x9f\\xa5\\x1f\\xa5*l\\xc4\\xe7\\xdf\\xbdS\\xf9\\xbc\\xbe<\\x17&\\xf1\\x16k\\xef*~\\xca\\xee$T\\x80\\x96\\xe1\\x14\\xd11p^-\\x00\\x00\\x80\\x00\\x00\\x00\\x00\\x00\\x00\\x00\\x00\\x00\\x00\\x00\\x00': \n",
       "HD: xpub6EyAEVH13bj6wGsMw79nTAeRhKm7d1LV3NzsUosqocvTuNi9MMk6vGNnWvFN4b1tVRjumnkawQUxMTsySnq74PcEcTnqXVT92t3wq9ztUsM\n",
       "Path: d131705e:m/45'/0/0/0\n",
       ", b'O\\x01\\x04\\x88\\xb2\\x1e\\x04_|:\\x0e\\x00\\x00\\x00\\x00\\xd0\\x0cU*\\x12\\xc3\\x0b\\xdd4\\xc8/\\x9c\\xec\\\\\\x91\\xac\\x98&\\xafF\\x84\\xbc\\x95\\x86@\\xd9Hr\\xad\\xbc\\xbf\\xf5\\x03\\xec\\xb9\\x10\\t\\x10\\xc9W\\xb5\\x00?\\xf8R\\x92&\\xef\\xfb(\\xd5\\x10\\xa0\\xdb\\xec\\x15\\xf0\\x89I\\xe9\\x14\\xaa\\x1c`\\x00\\x14\\x80\\xe5O\\xd9-\\x00\\x00\\x80\\x00\\x00\\x00\\x00\\x00\\x00\\x00\\x00\\x00\\x00\\x00\\x00': \n",
       "HD: xpub6EEcNjCVVKJedKvLsWJD8zNDuNXfzMxHZc4R71qwVPBjh3ByZYSeDsCQnVcpjMhWzi9iuqVaBYX2WiucFyXUxc7oYzeiAwpbnJq1jDimhQN\n",
       "Path: 80e54fd9:m/45'/0/0/0\n",
       ", b'O\\x01\\x04\\x88\\xb2\\x1e\\x04\\x16_\\xf6+\\x00\\x00\\x00\\x00\\x84\\x1f\\xd7d\\xe4\\xd6\\x08\\x9dX\\x06\\xd9\\xd8\\xc4\\xa1\\xd5\\xc8q+&\\xae/\\xa9\\x1f(jV\\xd8\\x9fr(\\xf4]\\x03\\x05\\x8b\\xbc\\x87d\\xb2<K\\x00z6\\xd2\\x9d\\xcd\\xf0\\n\\xf8\\xc3\\xdb\\xadr\\xa5\\x88\\x8eu8\\x0f\\x15\\xd3PSx\\x14\\xe0\\xaf\\x92\\x90-\\x00\\x00\\x80\\x00\\x00\\x00\\x00\\x00\\x00\\x00\\x00\\x00\\x00\\x00\\x00': \n",
       "HD: xpub6DhSeTsokQiYjDHcqZwE8iTrj9BYuDoLeXJPhAieoNuTt3sr74kELp4CDMJ6s3RRLciTs3goxP89yJadMSDsazHQHb7sVB9uQyoxUAkqMvE\n",
       "Path: e0af9290:m/45'/0/0/0\n",
       "}\n",
       "\n",
       "Psbt_Ins:\n",
       "[\n",
       "TxIn:\n",
       "f7fd427441201342a93a9252b4e95458acca7fb12aef4dd5145d22c0cd1af6a6:0\n",
       "Prev Tx:\n",
       "\n",
       "tx: f7fd427441201342a93a9252b4e95458acca7fb12aef4dd5145d22c0cd1af6a6\n",
       "version: 0\n",
       "locktime: 0\n",
       "tx_ins:\n",
       "0000000000000000000000000000000000000000000000000000000000000000:4294967295\n",
       "tx_outs:\n",
       "0:OP_HASH160 78cf5a9a660f330b60396d42b050f9db89e00276 OP_EQUAL \n",
       "\n",
       "Prev Output:\n",
       "None\n",
       "Sigs:\n",
       "{}\n",
       "RedeemScript:\n",
       "OP_2 02e7d79fa51fa52a6cc4e7dfbd53f9bcbe3c1726f1166bef2a7ecaee24548096e1 03ecb9100910c957b5003ff8529226effb28d510a0dbec15f08949e914aa1c6000 03058bbc8764b23c4b007a36d29dcdf00af8c3dbad72a5888e75380f15d3505378 OP_3 OP_CHECKMULTISIG \n",
       "WitnessScript:\n",
       "None\n",
       "PSBT Pubs:\n",
       "{b'\\x02\\xe7\\xd7\\x9f\\xa5\\x1f\\xa5*l\\xc4\\xe7\\xdf\\xbdS\\xf9\\xbc\\xbe<\\x17&\\xf1\\x16k\\xef*~\\xca\\xee$T\\x80\\x96\\xe1': \n",
       "Point: 02e7d79fa51fa52a6cc4e7dfbd53f9bcbe3c1726f1166bef2a7ecaee24548096e1\n",
       "Path: d131705e:m/45'/0/0/0\n",
       ", b'\\x03\\xec\\xb9\\x10\\t\\x10\\xc9W\\xb5\\x00?\\xf8R\\x92&\\xef\\xfb(\\xd5\\x10\\xa0\\xdb\\xec\\x15\\xf0\\x89I\\xe9\\x14\\xaa\\x1c`\\x00': \n",
       "Point: 03ecb9100910c957b5003ff8529226effb28d510a0dbec15f08949e914aa1c6000\n",
       "Path: 80e54fd9:m/45'/0/0/0\n",
       ", b'\\x03\\x05\\x8b\\xbc\\x87d\\xb2<K\\x00z6\\xd2\\x9d\\xcd\\xf0\\n\\xf8\\xc3\\xdb\\xadr\\xa5\\x88\\x8eu8\\x0f\\x15\\xd3PSx': \n",
       "Point: 03058bbc8764b23c4b007a36d29dcdf00af8c3dbad72a5888e75380f15d3505378\n",
       "Path: e0af9290:m/45'/0/0/0\n",
       "}\n",
       "ScriptSig:\n",
       "None\n",
       "Witness:\n",
       "None\n",
       "]\n",
       "\n",
       "Psbt_Outs:\n",
       "[\n",
       "TxOut:\n",
       "0:OP_HASH160 6daaf7ccd845378a71bec802b1af09008683c2c6 OP_EQUAL \n",
       "RedeemScript:\n",
       "None\n",
       "WitnessScript\n",
       "None\n",
       "PSBT Pubs:\n",
       "{}\n",
       "]\n",
       "\n",
       "Extra:\n",
       "{}"
      ]
     },
     "execution_count": 25,
     "metadata": {},
     "output_type": "execute_result"
    }
   ],
   "source": [
    "psbt_to_sign_bip322"
   ]
  },
  {
   "cell_type": "code",
   "execution_count": 28,
   "id": "b0ad9ce3",
   "metadata": {},
   "outputs": [
    {
     "data": {
      "text/plain": [
       "\n",
       "Tx:\n",
       "\n",
       "tx: 614be192b5aef7f17325ceb04179e7132822687eb34e0346ed57732a30e3bac4\n",
       "version: 1\n",
       "locktime: 0\n",
       "tx_ins:\n",
       "f7fd427441201342a93a9252b4e95458acca7fb12aef4dd5145d22c0cd1af6a6:0\n",
       "tx_outs:\n",
       "0:OP_RETURN \n",
       "\n",
       "\n",
       "PSBT XPUBS:\n",
       "{b'\\x04\\x88\\xb2\\x1e\\x04\\x16_\\xf6+\\x00\\x00\\x00\\x00\\x84\\x1f\\xd7d\\xe4\\xd6\\x08\\x9dX\\x06\\xd9\\xd8\\xc4\\xa1\\xd5\\xc8q+&\\xae/\\xa9\\x1f(jV\\xd8\\x9fr(\\xf4]\\x03\\x05\\x8b\\xbc\\x87d\\xb2<K\\x00z6\\xd2\\x9d\\xcd\\xf0\\n\\xf8\\xc3\\xdb\\xadr\\xa5\\x88\\x8eu8\\x0f\\x15\\xd3PSx': \n",
       "HD: xpub6DhSeTsokQiYjDHcqZwE8iTrj9BYuDoLeXJPhAieoNuTt3sr74kELp4CDMJ6s3RRLciTs3goxP89yJadMSDsazHQHb7sVB9uQyoxUAkqMvE\n",
       "Path: e0af9290:m/45'/0/0/0\n",
       ", b'\\x04\\x88\\xb2\\x1e\\x04_|:\\x0e\\x00\\x00\\x00\\x00\\xd0\\x0cU*\\x12\\xc3\\x0b\\xdd4\\xc8/\\x9c\\xec\\\\\\x91\\xac\\x98&\\xafF\\x84\\xbc\\x95\\x86@\\xd9Hr\\xad\\xbc\\xbf\\xf5\\x03\\xec\\xb9\\x10\\t\\x10\\xc9W\\xb5\\x00?\\xf8R\\x92&\\xef\\xfb(\\xd5\\x10\\xa0\\xdb\\xec\\x15\\xf0\\x89I\\xe9\\x14\\xaa\\x1c`\\x00': \n",
       "HD: xpub6EEcNjCVVKJedKvLsWJD8zNDuNXfzMxHZc4R71qwVPBjh3ByZYSeDsCQnVcpjMhWzi9iuqVaBYX2WiucFyXUxc7oYzeiAwpbnJq1jDimhQN\n",
       "Path: 80e54fd9:m/45'/0/0/0\n",
       ", b'\\x04\\x88\\xb2\\x1e\\x04\\xc3K\\x1e\\xd0\\x00\\x00\\x00\\x00\\xcb\\xed!\\xb3\\x19\\xc4\\x8a\\xbbN\\xb8!\\x91\\x9a\\xfb`\\xf8\\xed\\xe8}\\x126\\xbb\\xe0\\xc4%\\xb1\\x9d\\x92\\xa3L\\xde\\xc5\\x02\\xe7\\xd7\\x9f\\xa5\\x1f\\xa5*l\\xc4\\xe7\\xdf\\xbdS\\xf9\\xbc\\xbe<\\x17&\\xf1\\x16k\\xef*~\\xca\\xee$T\\x80\\x96\\xe1': \n",
       "HD: xpub6EyAEVH13bj6wGsMw79nTAeRhKm7d1LV3NzsUosqocvTuNi9MMk6vGNnWvFN4b1tVRjumnkawQUxMTsySnq74PcEcTnqXVT92t3wq9ztUsM\n",
       "Path: d131705e:m/45'/0/0/0\n",
       "}\n",
       "\n",
       "Psbt_Ins:\n",
       "[\n",
       "TxIn:\n",
       "f7fd427441201342a93a9252b4e95458acca7fb12aef4dd5145d22c0cd1af6a6:0\n",
       "Prev Tx:\n",
       "\n",
       "tx: f7fd427441201342a93a9252b4e95458acca7fb12aef4dd5145d22c0cd1af6a6\n",
       "version: 0\n",
       "locktime: 0\n",
       "tx_ins:\n",
       "0000000000000000000000000000000000000000000000000000000000000000:4294967295\n",
       "tx_outs:\n",
       "0:OP_HASH160 78cf5a9a660f330b60396d42b050f9db89e00276 OP_EQUAL \n",
       "\n",
       "Prev Output:\n",
       "None\n",
       "Sigs:\n",
       "{}\n",
       "RedeemScript:\n",
       "OP_2 02e7d79fa51fa52a6cc4e7dfbd53f9bcbe3c1726f1166bef2a7ecaee24548096e1 03ecb9100910c957b5003ff8529226effb28d510a0dbec15f08949e914aa1c6000 03058bbc8764b23c4b007a36d29dcdf00af8c3dbad72a5888e75380f15d3505378 OP_3 OP_CHECKMULTISIG \n",
       "WitnessScript:\n",
       "None\n",
       "PSBT Pubs:\n",
       "{b'\\x02\\xe7\\xd7\\x9f\\xa5\\x1f\\xa5*l\\xc4\\xe7\\xdf\\xbdS\\xf9\\xbc\\xbe<\\x17&\\xf1\\x16k\\xef*~\\xca\\xee$T\\x80\\x96\\xe1': \n",
       "Point: 02e7d79fa51fa52a6cc4e7dfbd53f9bcbe3c1726f1166bef2a7ecaee24548096e1\n",
       "Path: d131705e:m/45'/0/0/0\n",
       ", b'\\x03\\x05\\x8b\\xbc\\x87d\\xb2<K\\x00z6\\xd2\\x9d\\xcd\\xf0\\n\\xf8\\xc3\\xdb\\xadr\\xa5\\x88\\x8eu8\\x0f\\x15\\xd3PSx': \n",
       "Point: 03058bbc8764b23c4b007a36d29dcdf00af8c3dbad72a5888e75380f15d3505378\n",
       "Path: e0af9290:m/45'/0/0/0\n",
       ", b'\\x03\\xec\\xb9\\x10\\t\\x10\\xc9W\\xb5\\x00?\\xf8R\\x92&\\xef\\xfb(\\xd5\\x10\\xa0\\xdb\\xec\\x15\\xf0\\x89I\\xe9\\x14\\xaa\\x1c`\\x00': \n",
       "Point: 03ecb9100910c957b5003ff8529226effb28d510a0dbec15f08949e914aa1c6000\n",
       "Path: 80e54fd9:m/45'/0/0/0\n",
       "}\n",
       "ScriptSig:\n",
       "None\n",
       "Witness:\n",
       "None\n",
       "]\n",
       "\n",
       "Psbt_Outs:\n",
       "[\n",
       "TxOut:\n",
       "0:OP_RETURN \n",
       "RedeemScript:\n",
       "None\n",
       "WitnessScript\n",
       "None\n",
       "PSBT Pubs:\n",
       "{}\n",
       "]\n",
       "\n",
       "Extra:\n",
       "{}"
      ]
     },
     "execution_count": 28,
     "metadata": {},
     "output_type": "execute_result"
    }
   ],
   "source": [
    "from buidl.psbt import PSBT\n",
    "\n",
    "PSBT.parse_base64(base64)"
   ]
  },
  {
   "cell_type": "markdown",
   "id": "95945946",
   "metadata": {},
   "source": [
    "### 5.5 Update the output of the Transaction so that the output script_pubkey is OP_RETURN as per BIP322"
   ]
  },
  {
   "cell_type": "code",
   "execution_count": 26,
   "id": "29132c4e",
   "metadata": {},
   "outputs": [],
   "source": [
    "psbt_to_sign_bip322.tx_obj.tx_outs[0].script_pubkey = Script([106])"
   ]
  },
  {
   "cell_type": "markdown",
   "id": "4d971278",
   "metadata": {},
   "source": [
    "## 6. Sign the PSBT to Satisfy MultiSig"
   ]
  },
  {
   "cell_type": "code",
   "execution_count": 24,
   "id": "c7a19820",
   "metadata": {},
   "outputs": [
    {
     "data": {
      "text/plain": [
       "True"
      ]
     },
     "execution_count": 24,
     "metadata": {},
     "output_type": "execute_result"
    }
   ],
   "source": [
    "psbt_to_sign_bip322.sign(hd_root_b)"
   ]
  },
  {
   "cell_type": "code",
   "execution_count": 25,
   "id": "69e51852",
   "metadata": {},
   "outputs": [
    {
     "data": {
      "text/plain": [
       "True"
      ]
     },
     "execution_count": 25,
     "metadata": {},
     "output_type": "execute_result"
    }
   ],
   "source": [
    "psbt_to_sign_bip322.sign(hd_root_a)"
   ]
  },
  {
   "cell_type": "code",
   "execution_count": 26,
   "id": "8db80c42",
   "metadata": {},
   "outputs": [
    {
     "data": {
      "text/plain": [
       "{b'\\x03\\xec\\xb9\\x10\\t\\x10\\xc9W\\xb5\\x00?\\xf8R\\x92&\\xef\\xfb(\\xd5\\x10\\xa0\\xdb\\xec\\x15\\xf0\\x89I\\xe9\\x14\\xaa\\x1c`\\x00': b'0D\\x02 4\\xc4\\xc5\\xeb#IU\\xfbU\\xbel/\\xfa\\xe5\\xaa\\xd8\\xeb\\x16\\x02U1\\xe8D\\xa5\\xa0\\x91\\x9e\\xcee\\x1c\\xee\\xa5\\x02 cO\\x9d\\xb7\\xb5q\\xdb\\x9a\\xc7\\x93n\\xbe\\xae\\xa3zl\\xab\\x9fbO\\xfd=\"\\xe3\\xd7\\xd63\\xc7\\xa0>RJ\\x01',\n",
       " b'\\x02\\xe7\\xd7\\x9f\\xa5\\x1f\\xa5*l\\xc4\\xe7\\xdf\\xbdS\\xf9\\xbc\\xbe<\\x17&\\xf1\\x16k\\xef*~\\xca\\xee$T\\x80\\x96\\xe1': b'0D\\x02 Y\\\\\\x15\\xc1\\xb2\\xd1\\x14\\xcd\\xf1_\\xd7t\\xf7<\\xc5<$\\xae\\xebk\\xae\\x13\\x86\\xa7\\x82Q\\x9e\\xcc\\xd3\\xa8\\xc4\\xe8\\x02 Yr\\xf2\\xcc\\xea\\xcd\\xd5\\x91\\xe6\\x17\\x1c8-}\\xdc\\x06\\xafA\\xa9\\xe4\\x18\\x1b\\xb6p\\xc4\\xe2\\xd8.AL0b\\x01'}"
      ]
     },
     "execution_count": 26,
     "metadata": {},
     "output_type": "execute_result"
    }
   ],
   "source": [
    "psbt_to_sign_bip322.psbt_ins[0].sigs"
   ]
  },
  {
   "cell_type": "markdown",
   "id": "ecb3703a",
   "metadata": {},
   "source": [
    "## Finalize the PSBT\n",
    "\n",
    "This populates the script_sig on the tx inputs of the PSBT if possible"
   ]
  },
  {
   "cell_type": "code",
   "execution_count": 27,
   "id": "21db5009",
   "metadata": {},
   "outputs": [],
   "source": [
    "psbt_to_sign_bip322.finalize()"
   ]
  },
  {
   "cell_type": "code",
   "execution_count": 28,
   "id": "0e2a2363",
   "metadata": {},
   "outputs": [
    {
     "data": {
      "text/plain": [
       "OP_0 30440220595c15c1b2d114cdf15fd774f73cc53c24aeeb6bae1386a782519eccd3a8c4e802205972f2cceacdd591e6171c382d7ddc06af41a9e4181bb670c4e2d82e414c306201 3044022034c4c5eb234955fb55be6c2ffae5aad8eb16025531e844a5a0919ece651ceea50220634f9db7b571db9ac7936ebeaea37a6cab9f624ffd3d22e3d7d633c7a03e524a01 522102e7d79fa51fa52a6cc4e7dfbd53f9bcbe3c1726f1166bef2a7ecaee24548096e12103ecb9100910c957b5003ff8529226effb28d510a0dbec15f08949e914aa1c60002103058bbc8764b23c4b007a36d29dcdf00af8c3dbad72a5888e75380f15d350537853ae "
      ]
     },
     "execution_count": 28,
     "metadata": {},
     "output_type": "execute_result"
    }
   ],
   "source": [
    "psbt_to_sign_bip322.psbt_ins[0].script_sig"
   ]
  },
  {
   "cell_type": "code",
   "execution_count": 29,
   "id": "9e291a5e",
   "metadata": {},
   "outputs": [
    {
     "data": {
      "text/plain": []
     },
     "execution_count": 29,
     "metadata": {},
     "output_type": "execute_result"
    }
   ],
   "source": [
    "# Note: the script_sig for the input on the Tx object is not yet set\n",
    "\n",
    "psbt_to_sign_bip322.tx_obj.tx_ins[0].script_sig"
   ]
  },
  {
   "cell_type": "markdown",
   "id": "7bfc6012",
   "metadata": {},
   "source": [
    "## 7. Generate Final Tx able to be spent on network"
   ]
  },
  {
   "cell_type": "markdown",
   "id": "2f051147",
   "metadata": {},
   "source": [
    "### Note: final_tx() throws error, because we set no fee. BUT for BIP322 we do not need a fee.\n",
    "\n",
    "```python\n",
    "    def final_tx(self):\n",
    "        \"\"\"Returns the broadcast-able transaction\"\"\"\n",
    "        # clone the transaction from self.tx_obj\n",
    "        tx_obj = self.tx_obj.clone()\n",
    "        # determine if the transaction is segwit by looking for a witness field\n",
    "        #  in any PSBTIn. if so, set tx_obj.segwit = True\n",
    "        if any([psbt_in.witness for psbt_in in self.psbt_ins]):\n",
    "            tx_obj.segwit = True\n",
    "        # iterate through the transaction and PSBT inputs together\n",
    "        #  using zip(tx_obj.tx_ins, self.psbt_ins)\n",
    "        for tx_in, psbt_in in zip(tx_obj.tx_ins, self.psbt_ins):\n",
    "            # set the ScriptSig of the transaction input\n",
    "            tx_in.script_sig = psbt_in.script_sig\n",
    "            # Exercise 7: if the tx is segwit, set the witness as well\n",
    "            if tx_obj.segwit:\n",
    "                # witness should be the PSBTIn witness or an empty Witness()\n",
    "                tx_in.witness = psbt_in.witness or Witness()\n",
    "        # check to see that the transaction verifies\n",
    "        if not tx_obj.verify():\n",
    "            raise RuntimeError(\"transaction invalid\")\n",
    "        # return the now filled in transaction\n",
    "        return tx_obj\n",
    "```"
   ]
  },
  {
   "cell_type": "code",
   "execution_count": 30,
   "id": "3807b7f1",
   "metadata": {},
   "outputs": [
    {
     "name": "stdout",
     "output_type": "stream",
     "text": [
      "This transaction won't relay without having a fee of at least 313\n"
     ]
    },
    {
     "ename": "RuntimeError",
     "evalue": "transaction invalid",
     "output_type": "error",
     "traceback": [
      "\u001b[0;31m---------------------------------------------------------------------------\u001b[0m",
      "\u001b[0;31mRuntimeError\u001b[0m                              Traceback (most recent call last)",
      "Input \u001b[0;32mIn [30]\u001b[0m, in \u001b[0;36m<cell line: 2>\u001b[0;34m()\u001b[0m\n\u001b[1;32m      1\u001b[0m \u001b[38;5;66;03m# THIS WILL FAIL\u001b[39;00m\n\u001b[0;32m----> 2\u001b[0m \u001b[43mpsbt_to_sign_bip322\u001b[49m\u001b[38;5;241;43m.\u001b[39;49m\u001b[43mfinal_tx\u001b[49m\u001b[43m(\u001b[49m\u001b[43m)\u001b[49m\n",
      "File \u001b[0;32m~/work/LegendaryRequirements/clients/dcd/DCD_repo/btcr/bip0322-sigs/venv/lib/python3.8/site-packages/buidl/psbt.py:536\u001b[0m, in \u001b[0;36mPSBT.final_tx\u001b[0;34m(self)\u001b[0m\n\u001b[1;32m    534\u001b[0m \u001b[38;5;66;03m# check to see that the transaction verifies\u001b[39;00m\n\u001b[1;32m    535\u001b[0m \u001b[38;5;28;01mif\u001b[39;00m \u001b[38;5;129;01mnot\u001b[39;00m tx_obj\u001b[38;5;241m.\u001b[39mverify():\n\u001b[0;32m--> 536\u001b[0m     \u001b[38;5;28;01mraise\u001b[39;00m \u001b[38;5;167;01mRuntimeError\u001b[39;00m(\u001b[38;5;124m\"\u001b[39m\u001b[38;5;124mtransaction invalid\u001b[39m\u001b[38;5;124m\"\u001b[39m)\n\u001b[1;32m    537\u001b[0m \u001b[38;5;66;03m# return the now filled in transaction\u001b[39;00m\n\u001b[1;32m    538\u001b[0m \u001b[38;5;28;01mreturn\u001b[39;00m tx_obj\n",
      "\u001b[0;31mRuntimeError\u001b[0m: transaction invalid"
     ]
    }
   ],
   "source": [
    "# THIS WILL FAIL\n",
    "psbt_to_sign_bip322.final_tx()"
   ]
  },
  {
   "cell_type": "markdown",
   "id": "9603ff3b",
   "metadata": {},
   "source": [
    "### So lets rewrite that fn"
   ]
  },
  {
   "cell_type": "code",
   "execution_count": 31,
   "id": "da057efa",
   "metadata": {},
   "outputs": [],
   "source": [
    "def final_bip322_tx(psbt_obj):\n",
    "    \"\"\"Returns the broadcast-able transaction\"\"\"\n",
    "    # clone the transaction from self.tx_obj\n",
    "    tx_obj = psbt_obj.tx_obj.clone()\n",
    "    # determine if the transaction is segwit by looking for a witness field\n",
    "    #  in any PSBTIn. if so, set tx_obj.segwit = True\n",
    "    if any([psbt_in.witness for psbt_in in psbt_obj.psbt_ins]):\n",
    "        tx_obj.segwit = True\n",
    "    # iterate through the transaction and PSBT inputs together\n",
    "    #  using zip(tx_obj.tx_ins, self.psbt_ins)\n",
    "    for tx_in, psbt_in in zip(tx_obj.tx_ins, psbt_obj.psbt_ins):\n",
    "        # set the ScriptSig of the transaction input\n",
    "        tx_in.script_sig = psbt_in.script_sig\n",
    "        print(tx_in.script_sig)\n",
    "        # Exercise 7: if the tx is segwit, set the witness as well\n",
    "        if tx_obj.segwit:\n",
    "            # witness should be the PSBTIn witness or an empty Witness()\n",
    "            tx_in.witness = psbt_in.witness or Witness()\n",
    "    # check to see that the transaction verifies MINUS FEE CHECK\n",
    "    for i in range(len(tx_obj.tx_ins)):\n",
    "        if not tx_obj.verify_input(i):\n",
    "            raise RuntimeError(\"transaction invalid\")\n",
    "#     if not tx_obj.verify():\n",
    "#         raise RuntimeError(\"transaction invalid\")\n",
    "    # return the now filled in transaction\n",
    "    return tx_obj"
   ]
  },
  {
   "cell_type": "code",
   "execution_count": 32,
   "id": "b1b27dac",
   "metadata": {},
   "outputs": [
    {
     "name": "stdout",
     "output_type": "stream",
     "text": [
      "OP_0 30440220595c15c1b2d114cdf15fd774f73cc53c24aeeb6bae1386a782519eccd3a8c4e802205972f2cceacdd591e6171c382d7ddc06af41a9e4181bb670c4e2d82e414c306201 3044022034c4c5eb234955fb55be6c2ffae5aad8eb16025531e844a5a0919ece651ceea50220634f9db7b571db9ac7936ebeaea37a6cab9f624ffd3d22e3d7d633c7a03e524a01 522102e7d79fa51fa52a6cc4e7dfbd53f9bcbe3c1726f1166bef2a7ecaee24548096e12103ecb9100910c957b5003ff8529226effb28d510a0dbec15f08949e914aa1c60002103058bbc8764b23c4b007a36d29dcdf00af8c3dbad72a5888e75380f15d350537853ae \n"
     ]
    }
   ],
   "source": [
    "finalized_to_sign_tx = final_bip322_tx(psbt_to_sign_bip322)"
   ]
  },
  {
   "cell_type": "code",
   "execution_count": 33,
   "id": "10787310",
   "metadata": {},
   "outputs": [
    {
     "data": {
      "text/plain": [
       "OP_RETURN "
      ]
     },
     "execution_count": 33,
     "metadata": {},
     "output_type": "execute_result"
    }
   ],
   "source": [
    "finalized_to_sign_tx.tx_outs[0].script_pubkey"
   ]
  },
  {
   "cell_type": "code",
   "execution_count": 34,
   "id": "ec85fdad",
   "metadata": {},
   "outputs": [
    {
     "data": {
      "text/plain": [
       "OP_0 30440220595c15c1b2d114cdf15fd774f73cc53c24aeeb6bae1386a782519eccd3a8c4e802205972f2cceacdd591e6171c382d7ddc06af41a9e4181bb670c4e2d82e414c306201 3044022034c4c5eb234955fb55be6c2ffae5aad8eb16025531e844a5a0919ece651ceea50220634f9db7b571db9ac7936ebeaea37a6cab9f624ffd3d22e3d7d633c7a03e524a01 522102e7d79fa51fa52a6cc4e7dfbd53f9bcbe3c1726f1166bef2a7ecaee24548096e12103ecb9100910c957b5003ff8529226effb28d510a0dbec15f08949e914aa1c60002103058bbc8764b23c4b007a36d29dcdf00af8c3dbad72a5888e75380f15d350537853ae "
      ]
     },
     "execution_count": 34,
     "metadata": {},
     "output_type": "execute_result"
    }
   ],
   "source": [
    "finalized_to_sign_tx.tx_ins[0].script_sig"
   ]
  },
  {
   "cell_type": "code",
   "execution_count": 35,
   "id": "65ec4bf8",
   "metadata": {},
   "outputs": [
    {
     "data": {
      "text/plain": [
       "'10cf02c00a5c350238c265dc44e4e402c1802cee71eecbdacaaf859558dbe07f'"
      ]
     },
     "execution_count": 35,
     "metadata": {},
     "output_type": "execute_result"
    }
   ],
   "source": [
    "finalized_to_sign_tx.id()"
   ]
  },
  {
   "cell_type": "code",
   "execution_count": 37,
   "id": "af8c4ac9",
   "metadata": {},
   "outputs": [
    {
     "data": {
      "text/plain": [
       "True"
      ]
     },
     "execution_count": 37,
     "metadata": {},
     "output_type": "execute_result"
    }
   ],
   "source": [
    "# Double check the single tx_input is valid\n",
    "finalized_to_sign_tx.verify_input(0)"
   ]
  },
  {
   "cell_type": "markdown",
   "id": "1a88bc07",
   "metadata": {},
   "source": [
    "## 8. Serialize and encode to_sign Transaction as BIP322 Signature"
   ]
  },
  {
   "cell_type": "code",
   "execution_count": 38,
   "id": "8d2f3d9c",
   "metadata": {},
   "outputs": [],
   "source": [
    "from buidl.helper import base64_encode\n",
    "bip322_musig = base64_encode(finalized_to_sign_tx.serialize())"
   ]
  },
  {
   "cell_type": "code",
   "execution_count": 39,
   "id": "49cc135e",
   "metadata": {},
   "outputs": [
    {
     "data": {
      "text/plain": [
       "'AQAAAAGm9hrNwCJdFNVN7yqxf8qsWFTptFKSOqlCEyBBdEL99wAAAAD8AEcwRAIgWVwVwbLRFM3xX9d09zzFPCSu62uuE4anglGezNOoxOgCIFly8szqzdWR5hccOC193AavQankGBu2cMTi2C5BTDBiAUcwRAIgNMTF6yNJVftVvmwv+uWq2OsWAlUx6ESloJGezmUc7qUCIGNPnbe1cduax5Nuvq6jemyrn2JP/T0i49fWM8egPlJKAUxpUiEC59efpR+lKmzE59+9U/m8vjwXJvEWa+8qfsruJFSAluEhA+y5EAkQyVe1AD/4UpIm7/so1RCg2+wV8IlJ6RSqHGAAIQMFi7yHZLI8SwB6NtKdzfAK+MPbrXKliI51OA8V01BTeFOu/////wEAAAAAAAAAAAFqAAAAAA=='"
      ]
     },
     "execution_count": 39,
     "metadata": {},
     "output_type": "execute_result"
    }
   ],
   "source": [
    "bip322_musig"
   ]
  },
  {
   "cell_type": "markdown",
   "id": "14fa54a4",
   "metadata": {},
   "source": [
    "## 9. Verify The Produced BIP322 Signature"
   ]
  },
  {
   "cell_type": "code",
   "execution_count": 40,
   "id": "e1690ebf",
   "metadata": {},
   "outputs": [
    {
     "name": "stdout",
     "output_type": "stream",
     "text": [
      "/home/will/work/LegendaryRequirements/clients/dcd\n"
     ]
    }
   ],
   "source": [
    "cd .."
   ]
  },
  {
   "cell_type": "code",
   "execution_count": 41,
   "id": "fa1c32bd",
   "metadata": {},
   "outputs": [],
   "source": [
    "signing_address = p2sh_address\n",
    "bip322_sig = bip322_musig\n",
    "message = \"Hello World\"\n"
   ]
  },
  {
   "cell_type": "code",
   "execution_count": 42,
   "id": "5476e59b",
   "metadata": {},
   "outputs": [],
   "source": [
    "from src.message import verify_message"
   ]
  },
  {
   "cell_type": "code",
   "execution_count": 43,
   "id": "ccff2bc5",
   "metadata": {},
   "outputs": [
    {
     "name": "stdout",
     "output_type": "stream",
     "text": [
      "Signature is verified :  True\n"
     ]
    }
   ],
   "source": [
    "\n",
    "verification_result = verify_message(signing_address, bip322_sig, message)\n",
    "\n",
    "print(\"Signature is verified : \", verification_result)"
   ]
  },
  {
   "cell_type": "code",
   "execution_count": 46,
   "id": "07c03474",
   "metadata": {},
   "outputs": [
    {
     "data": {
      "text/plain": [
       "'3ChoQmPrnmuuyW3tebfrMqiZgfXYRvXb99'"
      ]
     },
     "execution_count": 46,
     "metadata": {},
     "output_type": "execute_result"
    }
   ],
   "source": [
    "# This is the p2sh address that the to_spend tx was locked with.\n",
    "finalized_to_sign_tx.tx_ins[0].script_pubkey().address()"
   ]
  },
  {
   "cell_type": "code",
   "execution_count": null,
   "id": "7c17ffd8",
   "metadata": {},
   "outputs": [],
   "source": []
  },
  {
   "cell_type": "code",
   "execution_count": null,
   "id": "830bb173",
   "metadata": {},
   "outputs": [],
   "source": []
  },
  {
   "cell_type": "code",
   "execution_count": null,
   "id": "209b46f5",
   "metadata": {},
   "outputs": [],
   "source": []
  },
  {
   "cell_type": "code",
   "execution_count": null,
   "id": "efcf15a2",
   "metadata": {},
   "outputs": [],
   "source": []
  },
  {
   "cell_type": "code",
   "execution_count": null,
   "id": "0cd6f40b",
   "metadata": {},
   "outputs": [],
   "source": []
  }
 ],
 "metadata": {
  "kernelspec": {
   "display_name": "Python 3",
   "language": "python",
   "name": "python3"
  },
  "language_info": {
   "codemirror_mode": {
    "name": "ipython",
    "version": 3
   },
   "file_extension": ".py",
   "mimetype": "text/x-python",
   "name": "python",
   "nbconvert_exporter": "python",
   "pygments_lexer": "ipython3",
   "version": "3.8.5"
  }
 },
 "nbformat": 4,
 "nbformat_minor": 5
}
