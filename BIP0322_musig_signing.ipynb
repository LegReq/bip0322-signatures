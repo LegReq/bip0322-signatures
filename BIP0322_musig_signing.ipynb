{
 "cells": [
  {
   "cell_type": "markdown",
   "id": "529e7c52",
   "metadata": {},
   "source": [
    "# Using BIP322 with a P2SH MultiSig Locking Script\n",
    "\n",
    "## Signing Notebook\n",
    "\n",
    "This notebook generates a BIP 0322 signature on the message \"Hello World\" using private key `L3VFeEujGtevx9w18HD1fhRbCH67Az2dpCymeRE1SoPK6XQtaN2k` which is listed as a test vector with a coresponding signature in the BIP.\n",
    "\n",
    "A BIP 0322 signature involves producing two virtual Bitcoin transactions, which are unspendable on any network but otherwise valid. The first transaction, refered to as `to_spend`, encapsulates the message to be signed and the scriptPubKey which must be unlocked to produce a valid signature on this message. The second transaction, `to_sign`, is a transaction that takes the single tx_output of `to_spend` as an input and \"spends\" this output with a valid signature that unlocks the output and can be interpretted by any Bitcoin script engine. The resulting signature is stored in the witness of the `to_sign` transaction (unless a legacy version) and in the simple case it is this witness that is encoded and forms the signature that would be provided to a verifier.\n",
    "\n",
    "* [BIP 0322](https://github.com/bitcoin/bips/blob/master/bip-0322.mediawiki)\n",
    "* Implemented using the [buidl-python](https://github.com/buidl-bitcoin/buidl-python) library."
   ]
  },
  {
   "cell_type": "markdown",
   "id": "0a82ee6c",
   "metadata": {},
   "source": [
    "## Notebook Author\n",
    "\n",
    "* Will Abramson\n",
    "* [Legendary Requirements](http://legreq.com/)\n",
    "* Contact: will@legreq.com"
   ]
  },
  {
   "cell_type": "markdown",
   "id": "e98a3b44",
   "metadata": {},
   "source": [
    "## Acknowledgements\n",
    "\n",
    "This work was funded by Ryan Grant and [Digital Contract Design](https://contract.design/). Thanks also go to Joe Andrieu, Kalle Alm, Pieter Wuille and Jimmy Song for engaging with and supporting various aspects of this work."
   ]
  },
  {
   "cell_type": "markdown",
   "id": "f02a4563",
   "metadata": {},
   "source": [
    "## Notebook Steps\n",
    "\n",
    "1. Generate a tagged hash of the message to sign (verify against test vector)\n",
    "2. Import the provided private key and generate its associated address\n",
    "3. Create the virtual to_spend transaction\n",
    "4. Create unsigned virtual to_sign transaction\n",
    "5. Sign the to_sign transaction using the private key (from 2.)"
   ]
  },
  {
   "cell_type": "markdown",
   "id": "98a10c54",
   "metadata": {},
   "source": [
    "## 1. Generate a Tagged Hash of Message to Sign"
   ]
  },
  {
   "cell_type": "code",
   "execution_count": 8,
   "id": "71242db3",
   "metadata": {},
   "outputs": [],
   "source": [
    "from buidl.hash import tagged_hash"
   ]
  },
  {
   "cell_type": "code",
   "execution_count": 9,
   "id": "bbcc3d9c",
   "metadata": {},
   "outputs": [],
   "source": [
    "message = b\"Hello World\"\n",
    "\n",
    "# The tag defined in BIP0322 that should be used\n",
    "tag = b\"BIP0322-signed-message\"\n",
    "\n",
    "tagged_hash = tagged_hash(tag,message)"
   ]
  },
  {
   "cell_type": "markdown",
   "id": "8cd8e80a",
   "metadata": {},
   "source": [
    "### Verify Hash matches BIP 0322 Test Vector\n",
    "\n",
    "https://github.com/bitcoin/bips/blob/master/bip-0322.mediawiki#message-hashing "
   ]
  },
  {
   "cell_type": "code",
   "execution_count": 3,
   "id": "ba744f9b",
   "metadata": {},
   "outputs": [],
   "source": [
    "test_vector = 'f0eb03b1a75ac6d9847f55c624a99169b5dccba2a31f5b23bea77ba270de0a7a'\n",
    "assert(test_vector == tagged_hash.hex())"
   ]
  },
  {
   "cell_type": "markdown",
   "id": "588117a9",
   "metadata": {},
   "source": [
    "## 2. Create 2-of-3 MultiSig Pay-to-Script Hash\n",
    "\n",
    "Script commands are `2 <Public Key A> <Public Key B> <Public Key C> 3 CHECKMULTISIG`\n"
   ]
  },
  {
   "cell_type": "code",
   "execution_count": 2,
   "id": "a65c0f12",
   "metadata": {},
   "outputs": [],
   "source": [
    "from buidl.ecc import PrivateKey\n",
    "\n",
    "secret_a = 287432\n",
    "sk_a = PrivateKey(secret=secret_a)\n",
    "\n",
    "secret_b = 187480\n",
    "sk_b = PrivateKey(secret=secret_b)\n",
    "\n",
    "secret_c = 286767\n",
    "sk_c = PrivateKey(secret=secret_c)"
   ]
  },
  {
   "cell_type": "code",
   "execution_count": 37,
   "id": "f33d3cfd",
   "metadata": {},
   "outputs": [],
   "source": [
    "from buidl.script import RedeemScript\n",
    "commands = [2, sk_a.point.sec(), sk_b.point.sec(), sk_c.point.sec(), 3, 174]\n",
    "\n",
    "redeem_script = RedeemScript(commands)\n",
    "\n",
    "script_pubkey = script.script_pubkey()\n",
    "address = script.address()"
   ]
  },
  {
   "cell_type": "code",
   "execution_count": 38,
   "id": "2a186e10",
   "metadata": {},
   "outputs": [
    {
     "name": "stdout",
     "output_type": "stream",
     "text": [
      "OP_[2] 0376aafb2f8a2503733df4d2d1eefde462d277ea1c9a437336b5d2c27de4894b1d 03e321dab12de7f0d9c11cc62a99536b06c11d239f539c538beb36b1a68be5fb24 0228c1122a8c869edc5cd204b999b8643689a5ad773ee1c788465c8e8957541128 OP_[3] OP_CHECKMULTISIG \n",
      "OP_HASH160 20fe1dfd52b356dc13ebf04470b8d44a56adb84e OP_EQUAL \n",
      "34hTy3vY3t3sND26koPHZtXv6tiohVq238\n"
     ]
    }
   ],
   "source": [
    "print(redeem_script)\n",
    "print(script_pubkey)\n",
    "print(address)"
   ]
  },
  {
   "cell_type": "markdown",
   "id": "0f8f8a3b",
   "metadata": {},
   "source": [
    "## 3. Create the virtual to_spend transaction\n",
    "\n",
    "BIP 0322 defines the structure of this transaction as follows:\n",
    "\n",
    "```python\n",
    "    nVersion = 0\n",
    "    nLockTime = 0\n",
    "    vin[0].prevout.hash = 0000...000\n",
    "    vin[0].prevout.n = 0xFFFFFFFF\n",
    "    vin[0].nSequence = 0\n",
    "    vin[0].scriptSig = OP_0 PUSH32[ message_hash ]\n",
    "    vin[0].scriptWitness = []\n",
    "    vout[0].nValue = 0\n",
    "    vout[0].scriptPubKey = message_challenge\n",
    "```"
   ]
  },
  {
   "cell_type": "code",
   "execution_count": 6,
   "id": "079a5c69",
   "metadata": {},
   "outputs": [],
   "source": [
    "from buidl.tx import Tx, TxIn, TxOut\n",
    "from buidl.script import Script,P2WPKHScriptPubKey\n",
    "from buidl.helper import big_endian_to_int"
   ]
  },
  {
   "cell_type": "markdown",
   "id": "ae57c0fd",
   "metadata": {},
   "source": [
    "### 3.1 Create the single transaction input\n",
    "\n",
    "Note: the script commands `[0x00, 0x20, message_hash]`\n",
    "- `0` is OP_0, which pushes a 0 onto the stack\n",
    "- `32` is PUSH32 which pushes the next 32 bytes onto the stack\n",
    "- `message_hash` is that next 32 bytes. Which is a tagged_hash of the message being signed.\n",
    "\n",
    "**However, the implementation only requires commands [0, message_hash] be input. PUSH32 is implied by the size of the message_hash and added by the underlying library.**\n"
   ]
  },
  {
   "cell_type": "code",
   "execution_count": 10,
   "id": "ef8f3769",
   "metadata": {},
   "outputs": [],
   "source": [
    "# Not a valid Tx hash. Will never be spendable on any BTC network.\n",
    "prevout_hash = bytes.fromhex('0000000000000000000000000000000000000000000000000000000000000000')\n",
    "# prevout.n\n",
    "prevout_index = big_endian_to_int(bytes.fromhex('FFFFFFFF'))\n",
    "sequence = 0\n",
    "\n",
    "# Byte array of message hash\n",
    "message_hash = tagged_hash\n",
    "\n",
    "# Note this used to be: commands = [0, 32, message_hash] (as per BIP)\n",
    "# It appears the PUSH32 is implied and added by the size of the message added to the stack\n",
    "commands = [0, message_hash]\n",
    "scriptSig = Script(commands)\n",
    "# Create Tx Input\n",
    "tx_in = TxIn(prevout_hash,prevout_index,scriptSig,sequence)"
   ]
  },
  {
   "cell_type": "code",
   "execution_count": 11,
   "id": "d49f4f7a",
   "metadata": {},
   "outputs": [
    {
     "data": {
      "text/plain": [
       "0000000000000000000000000000000000000000000000000000000000000000:4294967295"
      ]
     },
     "execution_count": 11,
     "metadata": {},
     "output_type": "execute_result"
    }
   ],
   "source": [
    "tx_in"
   ]
  },
  {
   "cell_type": "markdown",
   "id": "a672a180",
   "metadata": {},
   "source": [
    "### 3.2 Create the single transaction output"
   ]
  },
  {
   "cell_type": "code",
   "execution_count": 12,
   "id": "ac289b52",
   "metadata": {},
   "outputs": [
    {
     "name": "stdout",
     "output_type": "stream",
     "text": [
      "OP_HASH160 20fe1dfd52b356dc13ebf04470b8d44a56adb84e OP_EQUAL \n"
     ]
    }
   ],
   "source": [
    "# Value of tx output\n",
    "value = 0\n",
    "\n",
    "# Convert segwit address to script_pubkey\n",
    "script_pubkey = script_pubkey\n",
    "\n",
    "print(script_pubkey)\n",
    "tx_out = TxOut(value,script_pubkey)"
   ]
  },
  {
   "cell_type": "markdown",
   "id": "cddd857a",
   "metadata": {},
   "source": [
    "### 3.3 Create transaction using tx_in and tx_out"
   ]
  },
  {
   "cell_type": "code",
   "execution_count": 13,
   "id": "4f6c5204",
   "metadata": {},
   "outputs": [],
   "source": [
    "# create transaction\n",
    "version=0\n",
    "tx_inputs = [tx_in]\n",
    "tx_outputs = [tx_out]\n",
    "locktime=0\n",
    "network=\"mainnet\"\n",
    "\n",
    "# Could be false, but using a segwit address. I think this is the \"Simple Signature\" in BIP-0322\n",
    "segwit=True\n",
    "\n",
    "virtual_to_spend_tx = Tx(version,tx_inputs,tx_outputs,locktime,network,segwit)"
   ]
  },
  {
   "cell_type": "code",
   "execution_count": 14,
   "id": "00875c3b",
   "metadata": {},
   "outputs": [
    {
     "data": {
      "text/plain": [
       "\n",
       "tx: 7320be304ad9309bcaca6a93b8ad4b6662a287f98ec560a9ab1175289fc2f2b0\n",
       "version: 0\n",
       "locktime: 0\n",
       "tx_ins:\n",
       "0000000000000000000000000000000000000000000000000000000000000000:4294967295\n",
       "tx_outs:\n",
       "0:OP_HASH160 20fe1dfd52b356dc13ebf04470b8d44a56adb84e OP_EQUAL "
      ]
     },
     "execution_count": 14,
     "metadata": {},
     "output_type": "execute_result"
    }
   ],
   "source": [
    "virtual_to_spend_tx"
   ]
  },
  {
   "cell_type": "markdown",
   "id": "d7c0539b",
   "metadata": {},
   "source": [
    "## 4. Create virtual to_sign transaction\n",
    "\n",
    "The structure as defined in BIP 0322:\n",
    "\n",
    "```python\n",
    "    nVersion = 0 or (FULL format only) as appropriate (e.g. 2, for time locks)\n",
    "    nLockTime = 0 or (FULL format only) as appropriate (for time locks)\n",
    "    vin[0].prevout.hash = to_spend.txid\n",
    "    vin[0].prevout.n = 0\n",
    "    vin[0].nSequence = 0 or (FULL format only) as appropriate (for time locks)\n",
    "    vin[0].scriptWitness = message_signature\n",
    "    vout[0].nValue = 0\n",
    "    vout[0].scriptPubKey = OP_RETURN\n",
    "```"
   ]
  },
  {
   "cell_type": "markdown",
   "id": "4f6fbdd1",
   "metadata": {},
   "source": [
    "### 4.1 Create single transaction input"
   ]
  },
  {
   "cell_type": "code",
   "execution_count": 15,
   "id": "2d549946",
   "metadata": {},
   "outputs": [],
   "source": [
    "from buidl.witness import Witness"
   ]
  },
  {
   "cell_type": "code",
   "execution_count": 16,
   "id": "d73cb3d9",
   "metadata": {},
   "outputs": [],
   "source": [
    "# Identify the virtual_to_spend tx hash. \n",
    "pretx_hash = virtual_to_spend_tx.hash()\n",
    "# Identifies the index of the output from the virtual_to_spend_tx to be \"spent\"\n",
    "prevout_index = 0\n",
    "sequence = 0\n",
    "\n",
    "\n",
    "tx_input = TxIn(pretx_hash,prevout_index,script_sig=None,sequence=sequence)"
   ]
  },
  {
   "cell_type": "markdown",
   "id": "fba78080",
   "metadata": {},
   "source": [
    "### 4.2 Create single transaction output"
   ]
  },
  {
   "cell_type": "code",
   "execution_count": 17,
   "id": "1c8bc3d5",
   "metadata": {},
   "outputs": [
    {
     "name": "stdout",
     "output_type": "stream",
     "text": [
      "OP_RETURN \n"
     ]
    }
   ],
   "source": [
    "value = 0\n",
    "# OP Code 106 for OP_RETURN\n",
    "commands = [106]\n",
    "scriptPubKey = Script(commands)\n",
    "\n",
    "tx_output = TxOut(value,scriptPubKey)\n",
    "tx_output.serialize()\n",
    "print(scriptPubKey)"
   ]
  },
  {
   "cell_type": "markdown",
   "id": "7f512d95",
   "metadata": {},
   "source": [
    "### 4.3 Create unsigned virtual to_sign transaction"
   ]
  },
  {
   "cell_type": "code",
   "execution_count": 18,
   "id": "f32f501f",
   "metadata": {},
   "outputs": [],
   "source": [
    "# create transaction on mainnet\n",
    "version=0\n",
    "tx_inputs = [tx_input]\n",
    "tx_outputs = [tx_output]\n",
    "locktime=0\n",
    "network=\"mainnet\"\n",
    "\n",
    "# Could be false, but using a segwit address. I think this is the \"Simple Signature\" in BIP-0322\n",
    "segwit=True\n",
    "\n",
    "virtual_to_sign_tx = Tx(version,tx_inputs,tx_outputs,locktime,network,segwit)"
   ]
  },
  {
   "cell_type": "code",
   "execution_count": 19,
   "id": "900845c0",
   "metadata": {},
   "outputs": [
    {
     "data": {
      "text/plain": [
       "'41074f45efd6f6311982173c7b9cd8816f3482689b224f0010576f303da01602'"
      ]
     },
     "execution_count": 19,
     "metadata": {},
     "output_type": "execute_result"
    }
   ],
   "source": [
    "virtual_to_sign_tx.id()"
   ]
  },
  {
   "cell_type": "markdown",
   "id": "429a6487",
   "metadata": {},
   "source": [
    "## 5. Sign the virtual to_sign transaction\n",
    "\n",
    "This populates the witness value on the only tx_input to the transaction"
   ]
  },
  {
   "cell_type": "code",
   "execution_count": 20,
   "id": "a4e29da6",
   "metadata": {},
   "outputs": [
    {
     "name": "stdout",
     "output_type": "stream",
     "text": [
      "Witness :  \n"
     ]
    }
   ],
   "source": [
    "# Note: it is not currently set\n",
    "print(\"Witness : \", virtual_to_sign_tx.tx_ins[0].witness)"
   ]
  },
  {
   "cell_type": "markdown",
   "id": "edaea6a0",
   "metadata": {},
   "source": [
    "### 5.1 Manually \"fetch\" the to_spend tx to populate scriptPubKey and Value in the to_sign tx input\n",
    "\n",
    "Note: the prev_tx is the hash of the to_spend transaction, identifying it and cryptographically binding it to the to_sign transaction. Normally, a Bitcoin node would query the network for the transaction identified by this hash. In BIP 0322 this must be manually done."
   ]
  },
  {
   "cell_type": "code",
   "execution_count": 23,
   "id": "664c3ce8",
   "metadata": {},
   "outputs": [],
   "source": [
    "# Have to manually set these, because cannot FETCH to_spend from network\n",
    "# Note: Would ideally submit a P.R. to the buidl library to support this\n",
    "virtual_to_sign_tx.tx_ins[0]._script_pubkey = script_pubkey\n",
    "virtual_to_sign_tx.tx_ins[0]._value = 0\n"
   ]
  },
  {
   "cell_type": "markdown",
   "id": "63a5cb7e",
   "metadata": {},
   "source": [
    "### 5.2 Sign the only tx_input\n",
    "\n",
    "Note: the tx_input is identified as the output from the to_spend transaction"
   ]
  },
  {
   "cell_type": "code",
   "execution_count": 30,
   "id": "0e34127c",
   "metadata": {},
   "outputs": [
    {
     "data": {
      "text/plain": [
       "True"
      ]
     },
     "execution_count": 30,
     "metadata": {},
     "output_type": "execute_result"
    }
   ],
   "source": [
    "script.is_p2sh_multisig()"
   ]
  },
  {
   "cell_type": "code",
   "execution_count": 32,
   "id": "801adad5",
   "metadata": {},
   "outputs": [],
   "source": [
    "from buidl.psbt import PSBT"
   ]
  },
  {
   "cell_type": "code",
   "execution_count": 39,
   "id": "c712945c",
   "metadata": {},
   "outputs": [],
   "source": [
    "redeem_lookup = {}\n",
    "redeem_lookup[redeem_script.commands[1]] = redeem_script "
   ]
  },
  {
   "cell_type": "code",
   "execution_count": 40,
   "id": "d92ea397",
   "metadata": {},
   "outputs": [],
   "source": [
    "psbt = PSBT.create(virtual_to_sign_tx, redeem_lookup=redeem_lookup)"
   ]
  },
  {
   "cell_type": "code",
   "execution_count": 42,
   "id": "8ececd45",
   "metadata": {},
   "outputs": [
    {
     "data": {
      "text/plain": [
       "False"
      ]
     },
     "execution_count": 42,
     "metadata": {},
     "output_type": "execute_result"
    }
   ],
   "source": [
    "psbt.sign_with_private_keys([sk_a])"
   ]
  },
  {
   "cell_type": "code",
   "execution_count": 27,
   "id": "52ae5d1c",
   "metadata": {},
   "outputs": [
    {
     "ename": "RuntimeError",
     "evalue": "Unknown ScriptPubKey",
     "output_type": "error",
     "traceback": [
      "\u001b[0;31m---------------------------------------------------------------------------\u001b[0m",
      "\u001b[0;31mRuntimeError\u001b[0m                              Traceback (most recent call last)",
      "Input \u001b[0;32mIn [27]\u001b[0m, in \u001b[0;36m<cell line: 2>\u001b[0;34m()\u001b[0m\n\u001b[1;32m      1\u001b[0m \u001b[38;5;66;03m# print(virtual_to_sign_tx.tx_ins[0]._script_pubkey)\u001b[39;00m\n\u001b[0;32m----> 2\u001b[0m \u001b[43mvirtual_to_sign_tx\u001b[49m\u001b[38;5;241;43m.\u001b[39;49m\u001b[43msign_input\u001b[49m\u001b[43m(\u001b[49m\u001b[38;5;241;43m0\u001b[39;49m\u001b[43m,\u001b[49m\u001b[43msk_a\u001b[49m\u001b[43m,\u001b[49m\u001b[43m \u001b[49m\u001b[43mredeem_script\u001b[49m\u001b[38;5;241;43m=\u001b[39;49m\u001b[43mscript\u001b[49m\u001b[43m)\u001b[49m\n",
      "File \u001b[0;32m~/work/LegendaryRequirements/clients/dcd/DCD_repo/btcr/bip0322-sigs/venv/lib/python3.8/site-packages/buidl/tx.py:691\u001b[0m, in \u001b[0;36mTx.sign_input\u001b[0;34m(self, input_index, private_key, redeem_script, hash_type)\u001b[0m\n\u001b[1;32m    688\u001b[0m     \u001b[38;5;28;01mreturn\u001b[39;00m \u001b[38;5;28mself\u001b[39m\u001b[38;5;241m.\u001b[39msign_p2tr_keypath(input_index, private_key, hash_type\u001b[38;5;241m=\u001b[39mhash_type)\n\u001b[1;32m    689\u001b[0m \u001b[38;5;66;03m# else return a RuntimeError\u001b[39;00m\n\u001b[1;32m    690\u001b[0m \u001b[38;5;28;01melse\u001b[39;00m:\n\u001b[0;32m--> 691\u001b[0m     \u001b[38;5;28;01mraise\u001b[39;00m \u001b[38;5;167;01mRuntimeError\u001b[39;00m(\u001b[38;5;124m\"\u001b[39m\u001b[38;5;124mUnknown ScriptPubKey\u001b[39m\u001b[38;5;124m\"\u001b[39m)\n",
      "\u001b[0;31mRuntimeError\u001b[0m: Unknown ScriptPubKey"
     ]
    }
   ],
   "source": [
    "# print(virtual_to_sign_tx.tx_ins[0]._script_pubkey)\n",
    "virtual_to_sign_tx.sign_input(0,sk_a, redeem_script=script)\n",
    "\n"
   ]
  },
  {
   "cell_type": "code",
   "execution_count": 26,
   "id": "0bb3aad1",
   "metadata": {},
   "outputs": [
    {
     "data": {
      "text/plain": [
       "OP_HASH160 20fe1dfd52b356dc13ebf04470b8d44a56adb84e OP_EQUAL "
      ]
     },
     "execution_count": 26,
     "metadata": {},
     "output_type": "execute_result"
    }
   ],
   "source": [
    "virtual_to_sign_tx.tx_ins[0]._script_pubkey"
   ]
  },
  {
   "cell_type": "code",
   "execution_count": 23,
   "id": "5a442ed5",
   "metadata": {},
   "outputs": [
    {
     "name": "stdout",
     "output_type": "stream",
     "text": [
      "Witness :  3044022004a59ea55271540152a988f07c9f35098b81ee00e5e7913c709bc28c7e8ba48e0220620246b02e5da7ff849b172923b9b2862deb15fb06dfad2bda163e28350f201501 02c7f12003196442943d8588e01aee840423cc54fc1521526a3b85c2b0cbd58872 \n"
     ]
    }
   ],
   "source": [
    "# Now the witness has been populated\n",
    "print(\"Witness : \", virtual_to_sign_tx.tx_ins[0].witness)"
   ]
  },
  {
   "cell_type": "code",
   "execution_count": 24,
   "id": "4e46fe09",
   "metadata": {},
   "outputs": [
    {
     "data": {
      "text/plain": [
       "True"
      ]
     },
     "execution_count": 24,
     "metadata": {},
     "output_type": "execute_result"
    }
   ],
   "source": [
    "virtual_to_sign_tx.verify_input(0)"
   ]
  },
  {
   "cell_type": "markdown",
   "id": "474bdd6d",
   "metadata": {},
   "source": [
    "## 6. Serialize the Witness and Base64 Encode\n",
    "\n",
    "From the BIP-0322:\n",
    "\n",
    "`A simple signature consists of a witness stack, consensus encoded as a vector of vectors of bytes, and base64-encoded. Validators should construct to_spend and to_sign as defined below, with default values for all fields except that`"
   ]
  },
  {
   "cell_type": "code",
   "execution_count": 25,
   "id": "fa9b82bf",
   "metadata": {},
   "outputs": [
    {
     "name": "stdout",
     "output_type": "stream",
     "text": [
      "Copy across this signature output and use it in the verification notebook: \n",
      "\n",
      "AkcwRAIgBKWepVJxVAFSqYjwfJ81CYuB7gDl55E8cJvCjH6LpI4CIGICRrAuXaf/hJsXKSO5soYt6xX7Bt+tK9oWPig1DyAVASECx/EgAxlkQpQ9hYjgGu6EBCPMVPwVIVJqO4XCsMvViHI=\n"
     ]
    }
   ],
   "source": [
    "from buidl.helper import base64_encode\n",
    "# \n",
    "bip322_signature = base64_encode(virtual_to_sign_tx.serialize_witness())\n",
    "print(\"Copy across this signature output and use it in the verification notebook: \\n\")\n",
    "print(bip322_signature)"
   ]
  },
  {
   "cell_type": "markdown",
   "id": "2b4153ec",
   "metadata": {},
   "source": [
    "## 7. Verify Signature against BIP 0322 Test Vector\n",
    "\n",
    "Test vector taken from BIP0322"
   ]
  },
  {
   "cell_type": "markdown",
   "id": "70201e7b",
   "metadata": {},
   "source": [
    "### NOTE: This currently does not pass. Submitted a P.R to update the BIP 0322 signature test vector as it is currently incorrect"
   ]
  },
  {
   "cell_type": "code",
   "execution_count": 26,
   "id": "94354b8d",
   "metadata": {},
   "outputs": [
    {
     "ename": "AssertionError",
     "evalue": "",
     "output_type": "error",
     "traceback": [
      "\u001b[0;31m---------------------------------------------------------------------------\u001b[0m",
      "\u001b[0;31mAssertionError\u001b[0m                            Traceback (most recent call last)",
      "Input \u001b[0;32mIn [26]\u001b[0m, in \u001b[0;36m<cell line: 2>\u001b[0;34m()\u001b[0m\n\u001b[1;32m      1\u001b[0m sig_test_vector \u001b[38;5;241m=\u001b[39m \u001b[38;5;124m'\u001b[39m\u001b[38;5;124mAkcwRAIgG3PASL/vRTgAqogWT6S8rUOQXNnfRzX6JncmbFlHc1ACIGQdsW+rnVmsQzyAYRQisHKFMigDmKiL7LUw4x17Fw5tASECx/EgAxlkQpQ9hYjgGu6EBCPMVPwVIVJqO4XCsMvViHI=\u001b[39m\u001b[38;5;124m'\u001b[39m\n\u001b[0;32m----> 2\u001b[0m \u001b[38;5;28;01massert\u001b[39;00m(sig_test_vector \u001b[38;5;241m==\u001b[39m bip322_signature)\n",
      "\u001b[0;31mAssertionError\u001b[0m: "
     ]
    }
   ],
   "source": [
    "sig_test_vector = 'AkcwRAIgG3PASL/vRTgAqogWT6S8rUOQXNnfRzX6JncmbFlHc1ACIGQdsW+rnVmsQzyAYRQisHKFMigDmKiL7LUw4x17Fw5tASECx/EgAxlkQpQ9hYjgGu6EBCPMVPwVIVJqO4XCsMvViHI='\n",
    "assert(sig_test_vector == bip322_signature)"
   ]
  },
  {
   "cell_type": "code",
   "execution_count": null,
   "id": "5e48135c",
   "metadata": {},
   "outputs": [],
   "source": [
    "btc_core_sig_test_vector = 'AkcwRAIgZRfIY3p7/DoVTty6YZbWS71bc5Vct9p9Fia83eRmw2QCICK/ENGfwLtptFluMGs2KsqoNSk89pO7F29zJLUx9a/sASECx/EgAxlkQpQ9hYjgGu6EBCPMVPwVIVJqO4XCsMvViHI='\n",
    "assert(btc_core_sig_test_vectore == bip322_signature)"
   ]
  },
  {
   "cell_type": "code",
   "execution_count": null,
   "id": "7c17ffd8",
   "metadata": {},
   "outputs": [],
   "source": []
  }
 ],
 "metadata": {
  "kernelspec": {
   "display_name": "Python 3",
   "language": "python",
   "name": "python3"
  },
  "language_info": {
   "codemirror_mode": {
    "name": "ipython",
    "version": 3
   },
   "file_extension": ".py",
   "mimetype": "text/x-python",
   "name": "python",
   "nbconvert_exporter": "python",
   "pygments_lexer": "ipython3",
   "version": "3.8.5"
  }
 },
 "nbformat": 4,
 "nbformat_minor": 5
}
