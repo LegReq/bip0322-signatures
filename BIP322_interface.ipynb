{
 "cells": [
  {
   "cell_type": "markdown",
   "id": "ca647e2e",
   "metadata": {},
   "source": [
    "# Define Functional Interface to Buidl Python Library to Create BIP 322 Signatures"
   ]
  },
  {
   "cell_type": "markdown",
   "id": "e4c77bd4",
   "metadata": {},
   "source": [
    "## Required Interface\n",
    "\n",
    "* Hash message\n",
    "    * Message -> Tagged Hash of message\n",
    "    * Note: Must handle legacy (has diff code in btc P.R.)\n",
    "* Create BIP322Txs\n",
    "  * Inputs (btc_address, message, signature (opt)\n",
    "  * Output to_spend and to_sign Txs (Unsigned)\n",
    "* Sign Message\n",
    "    * Inputs (privkey, message)\n",
    "    * Output signature\n",
    "* Verify Message\n",
    "    * Inputs (address, signature, message)\n",
    "    * Output MessageVerificationResult"
   ]
  },
  {
   "cell_type": "markdown",
   "id": "5409c2ca",
   "metadata": {},
   "source": [
    "## Imports\n",
    "\n"
   ]
  },
  {
   "cell_type": "code",
   "execution_count": 1,
   "id": "1314b328",
   "metadata": {},
   "outputs": [],
   "source": [
    "from buidl.tx import Tx, TxIn, TxOut\n",
    "from buidl.script import Script,P2WPKHScriptPubKey\n",
    "from buidl.helper import big_endian_to_int, base64_decode, base64_encode, str_to_bytes\n",
    "\n",
    "from buidl.script import address_to_script_pubkey\n",
    "from buidl.hash import tagged_hash\n",
    "from buidl.witness import Witness\n",
    "\n",
    "from buidl.ecc import PrivateKey\n",
    "\n",
    "import io\n"
   ]
  },
  {
   "cell_type": "markdown",
   "id": "34e8fdfd",
   "metadata": {},
   "source": [
    "## Signature Formats"
   ]
  },
  {
   "cell_type": "code",
   "execution_count": 24,
   "id": "c06be631",
   "metadata": {},
   "outputs": [],
   "source": [
    "from enum import Enum\n",
    "\n",
    "class MessageSignatureFormat(Enum):\n",
    "    LEGACY = 0\n",
    "    SIMPLE = 1\n",
    "    FULL = 2\n",
    "    "
   ]
  },
  {
   "cell_type": "markdown",
   "id": "a4912483",
   "metadata": {},
   "source": [
    "## Hash Message"
   ]
  },
  {
   "cell_type": "code",
   "execution_count": 36,
   "id": "ee1608f2",
   "metadata": {},
   "outputs": [],
   "source": [
    "def hash_message(message: str, format: MessageSignatureFormat = None):\n",
    "    # TODO: Legacy hash\n",
    "    \n",
    "    if format == MessageSignatureFormat.LEGACY:\n",
    "        raise NotImplementedError(\"Legacy hashing not yet implemented\")\n",
    "    \n",
    "    b_msg = str_to_bytes(message)\n",
    "    # Byte array of message hash\n",
    "    # The tag defined in BIP0322 that should be used\n",
    "    tag = b\"BIP0322-signed-message\"\n",
    "\n",
    "    message_hash = tagged_hash(tag,b_msg)\n",
    "    \n",
    "    return message_hash"
   ]
  },
  {
   "cell_type": "code",
   "execution_count": 37,
   "id": "947b8e0a",
   "metadata": {},
   "outputs": [
    {
     "ename": "NotImplementedError",
     "evalue": "Legacy hashing not yet implemented",
     "output_type": "error",
     "traceback": [
      "\u001b[0;31m---------------------------------------------------------------------------\u001b[0m",
      "\u001b[0;31mNotImplementedError\u001b[0m                       Traceback (most recent call last)",
      "Input \u001b[0;32mIn [37]\u001b[0m, in \u001b[0;36m<cell line: 1>\u001b[0;34m()\u001b[0m\n\u001b[0;32m----> 1\u001b[0m \u001b[43mhash_message\u001b[49m\u001b[43m(\u001b[49m\u001b[38;5;124;43m\"\u001b[39;49m\u001b[38;5;124;43msomemsg\u001b[39;49m\u001b[38;5;124;43m\"\u001b[39;49m\u001b[43m,\u001b[49m\u001b[43m \u001b[49m\u001b[43mMessageSignatureFormat\u001b[49m\u001b[38;5;241;43m.\u001b[39;49m\u001b[43mLEGACY\u001b[49m\u001b[43m)\u001b[49m\n",
      "Input \u001b[0;32mIn [36]\u001b[0m, in \u001b[0;36mhash_message\u001b[0;34m(message, format)\u001b[0m\n\u001b[1;32m      1\u001b[0m \u001b[38;5;28;01mdef\u001b[39;00m \u001b[38;5;21mhash_message\u001b[39m(message: \u001b[38;5;28mstr\u001b[39m, \u001b[38;5;28mformat\u001b[39m: MessageSignatureFormat \u001b[38;5;241m=\u001b[39m \u001b[38;5;28;01mNone\u001b[39;00m):\n\u001b[1;32m      2\u001b[0m     \u001b[38;5;66;03m# TODO: Legacy hash\u001b[39;00m\n\u001b[1;32m      4\u001b[0m     \u001b[38;5;28;01mif\u001b[39;00m \u001b[38;5;28mformat\u001b[39m \u001b[38;5;241m==\u001b[39m MessageSignatureFormat\u001b[38;5;241m.\u001b[39mLEGACY:\n\u001b[0;32m----> 5\u001b[0m         \u001b[38;5;28;01mraise\u001b[39;00m \u001b[38;5;167;01mNotImplementedError\u001b[39;00m(\u001b[38;5;124m\"\u001b[39m\u001b[38;5;124mLegacy hashing not yet implemented\u001b[39m\u001b[38;5;124m\"\u001b[39m)\n\u001b[1;32m      7\u001b[0m     b_msg \u001b[38;5;241m=\u001b[39m str_to_bytes(message)\n\u001b[1;32m      8\u001b[0m     \u001b[38;5;66;03m# Byte array of message hash\u001b[39;00m\n\u001b[1;32m      9\u001b[0m     \u001b[38;5;66;03m# The tag defined in BIP0322 that should be used\u001b[39;00m\n",
      "\u001b[0;31mNotImplementedError\u001b[0m: Legacy hashing not yet implemented"
     ]
    }
   ],
   "source": [
    "hash_message(\"somemsg\", MessageSignatureFormat.LEGACY)"
   ]
  },
  {
   "cell_type": "markdown",
   "id": "28bb9963",
   "metadata": {},
   "source": [
    "## Create BIP322Txs"
   ]
  },
  {
   "cell_type": "code",
   "execution_count": 4,
   "id": "bcd298dc",
   "metadata": {},
   "outputs": [],
   "source": [
    "# def create_bip322_txs(btc_address, message, sig_bytes=None):\n",
    "    \n",
    "#     to_spend = create_to_spend_tx(btc_address, message)\n",
    "#     to_sign = create_to_sign_tx(to_spend.id(), sig_bytes)\n",
    "\n",
    "\n",
    "\n",
    "def create_to_spend_tx(script_pubkey, message):\n",
    "    # Not a valid Tx hash. Will never be spendable on any BTC network.\n",
    "    prevout_hash = bytes.fromhex('0000000000000000000000000000000000000000000000000000000000000000')\n",
    "    # prevout.n\n",
    "    prevout_index = big_endian_to_int(bytes.fromhex('FFFFFFFF'))\n",
    "    \n",
    "    sequence = 0\n",
    "\n",
    "\n",
    "    message_hash = hash_message(message)\n",
    "\n",
    "    # Note BIP322 to_spend scriptSig commands = [0, 32, message_hash]\n",
    "    # PUSH32 is implied and added by the size of the message added to the stack\n",
    "    commands = [0, message_hash]\n",
    "    script_sig = Script(commands)\n",
    "    # Create Tx Input\n",
    "    tx_in = TxIn(prevout_hash,prevout_index,script_sig,sequence)\n",
    "    \n",
    "    # Value of tx output\n",
    "    value = 0\n",
    "\n",
    "\n",
    "\n",
    "    tx_out = TxOut(value,script_pubkey)\n",
    "    \n",
    "    # create transaction\n",
    "    version=0\n",
    "    tx_inputs = [tx_in]\n",
    "    tx_outputs = [tx_out]\n",
    "    locktime=0\n",
    "    network=\"mainnet\"\n",
    "\n",
    "    # Could be false, but using a segwit address. I think this is the \"Simple Signature\" in BIP-0322\n",
    "    segwit=True\n",
    "\n",
    "    return Tx(version,tx_inputs,tx_outputs,locktime,network,segwit)\n",
    "\n",
    "\n"
   ]
  },
  {
   "cell_type": "code",
   "execution_count": 5,
   "id": "bd0abcfe",
   "metadata": {},
   "outputs": [],
   "source": [
    "def create_to_sign_tx(to_spend_tx_hash, sig_bytes=None):\n",
    "    to_sign = None\n",
    "    if (sig_bytes and is_full_signature(sig_bytes)):\n",
    "        \n",
    "        sig_stream = io.BytesIO(decoded_test_sig)\n",
    "        to_sign = Tx.parse(sig_stream)\n",
    "        \n",
    "        if (len(to_sign.tx_inputs) > 1):\n",
    "            \n",
    "            raise NotImplemented(\"Not yet implemented proof of funds yet\")\n",
    "        elif (len(to_sign.tx_inputs) == 0):\n",
    "            raise ValueError(\"No transaction input\")\n",
    "        elif (to_sign.tx_inputs[0].prev_tx != to_spend_txid):\n",
    "            raise ValueError(\"The to_sign transaction input's prevtx id does not equal the calculated to_spend transaction id\")\n",
    "        elif (len(to_sign.tx_outputs) != 1):\n",
    "            raise ValueError(\"to_sign does not have a single TxOutput\")\n",
    "        elif (to_sign.tx_outputs[0].amount != 0):\n",
    "            raise ValueError(\"Value is Non 0\", to_sign.tx_outputs[0].amount)\n",
    "        elif(to_sign.script_pubkey.commands != [106]):\n",
    "            raise ValueError(\"ScriptPubKey incorrect\", to_sign.script_pubkey)\n",
    "            \n",
    "    else:\n",
    "        # signature is either None or an encoded witness stack\n",
    "        \n",
    "        # Identifies the index of the output from the virtual to_spend tx to be \"spent\"\n",
    "        prevout_index = 0\n",
    "\n",
    "        sequence = 0\n",
    "\n",
    "        # TxInput identifies the output from to_spend\n",
    "        tx_input = TxIn(to_spend_tx_hash,prevout_index,script_sig=None,sequence=sequence)\n",
    "        \n",
    "\n",
    "    \n",
    "        value = 0\n",
    "        # OP Code 106 for OP_RETURN\n",
    "        commands = [106]\n",
    "        scriptPubKey = Script(commands)\n",
    "\n",
    "        tx_output = TxOut(value,scriptPubKey)\n",
    "        \n",
    "        version=0\n",
    "        tx_inputs = [tx_input]\n",
    "        tx_outputs = [tx_output]\n",
    "        locktime=0\n",
    "        network=\"mainnet\"\n",
    "        # Could be false, but using a segwit address. I think this is the \"Simple Signature\" in BIP-0322\n",
    "        segwit=True\n",
    "    \n",
    "        # create unsigned to_sign transaction\n",
    "\n",
    "        to_sign_tx = Tx(version,tx_inputs,tx_outputs,locktime,network,segwit)\n",
    "        \n",
    "        if sig_bytes:\n",
    "            try:\n",
    "                stream = io.BytesIO(sig_bytes)\n",
    "                witness = Witness.parse(stream)\n",
    "                # Set the witness on the to_sign tx input\n",
    "                to_sign_tx.tx_ins[0].witness = witness\n",
    "            except:\n",
    "                # TODO: Fall back to legacy ...\n",
    "                raise ValueError(\"Signature is neither a witness or full transaction\")\n",
    "                \n",
    "        return to_sign_tx\n",
    "            \n",
    "        \n",
    "        \n",
    "        \n",
    "        \n",
    "        \n",
    "        \n"
   ]
  },
  {
   "cell_type": "code",
   "execution_count": 6,
   "id": "e25cd086",
   "metadata": {},
   "outputs": [],
   "source": [
    "# Test is sig_bytes can be decoded to a transaction\n",
    "def is_full_signature(sig_bytes):\n",
    "    try:\n",
    "        sig_stream = io.BytesIO(decoded_test_sig)\n",
    "\n",
    "        Tx.parse(sig_stream)\n",
    "    # TODO: more specific exception handling\n",
    "    except:\n",
    "        return False\n",
    "    return True\n",
    "        "
   ]
  },
  {
   "cell_type": "markdown",
   "id": "3c85b04e",
   "metadata": {},
   "source": [
    "## Sign Message\n",
    "\n",
    "Bitcoin core code as a scriptpubkeyman.cpp file that manages key pairs associated with a specific script I believe. This is not replicated in the buidl-python library"
   ]
  },
  {
   "cell_type": "code",
   "execution_count": 26,
   "id": "6d2dbbc4",
   "metadata": {},
   "outputs": [],
   "source": [
    "# Bitcoin doesn't expose this interface apart from for legacy signatures. \n",
    "# It does something with a abstract wallet interface which seems be be provided somehow ...\n",
    "# I think this is partly about secure KMS\n",
    "# \n",
    "\n",
    "# TODO: sign_message should take in a script rather than a private key? Or at least a script as well as a private key.\n",
    "def sign_message(format: MessageSignatureFormat, private_key: PrivateKey, message: str):\n",
    "    \n",
    "    if (format != MessageSignatureFormat.LEGACY) {\n",
    "        return sign_message_bip322(format,private_key_message)\n",
    "    }\n",
    "\n",
    "    # TODO: Handle legacy signing using p2pkh script\n",
    "    \n",
    "    \n",
    "    \n",
    "\n",
    "def sign_message_bip322(format: MessageSignatureFormat, private_key: PrivateKey, message: str):\n",
    "    \n",
    "    assert(format != MessageSignatureFormat.LEGACY)\n",
    "    \n",
    "    # How do we know which type of address to generate from the private key? Is this where the wallet comes in?\n",
    "    \n",
    "    # TODO: Not always going to be a p2wpkh address?\n",
    "    \n",
    "    # Generate a pay-to-witness-public-key-hash address\n",
    "    p2wpkh_address = private_key.point.p2wpkh_address(network=\"mainnet\")\n",
    "    \n",
    "    # Convert address to script_pubkey\n",
    "    script_pubkey = address_to_script_pubkey(p2wpkh_address)\n",
    "    \n",
    "    to_spend = create_to_spend_tx(script_pubkey, message)\n",
    "    to_sign = create_to_sign_tx(to_spend.hash(), None)\n",
    "    \n",
    "    to_sign.tx_ins[0]._script_pubkey = to_spend.tx_outs[0].script_pubkey\n",
    "    to_sign.tx_ins[0]._value = to_spend.tx_outs[0].amount\n",
    "    \n",
    "    sig_ok = to_sign.sign_input(0, private_key)\n",
    "    \n",
    "    \n",
    "    # Force the format to FULL, if this turned out to be a legacy format (p2pkh) signature\n",
    "    if (len(to_sign.tx_ins[0].scriptSig) > 0 || len(to_sign.tx_ins[0].witness.items) == 0):\n",
    "        format = MessageSignatureFormat.FULL\n",
    "    \n",
    "    \n",
    "    if (!sig_ok):\n",
    "        raise RuntimeError(\"Unable to sign message\")\n",
    "    \n",
    "    if (format ==  MessageSignatureFormat.SIMPLE):\n",
    "            return base64_encode(to_sign.serialize_witness())\n",
    "\n",
    "    else:\n",
    "        return base64_encode(to_sign.serialize())\n",
    "    \n",
    "    \n",
    "\n",
    "    "
   ]
  },
  {
   "cell_type": "code",
   "execution_count": 27,
   "id": "8e9e6785",
   "metadata": {},
   "outputs": [
    {
     "data": {
      "text/plain": [
       "b'Hello World'"
      ]
     },
     "execution_count": 27,
     "metadata": {},
     "output_type": "execute_result"
    }
   ],
   "source": [
    "test = \"Hello World\"\n",
    "\n",
    "str_to_bytes(test)"
   ]
  },
  {
   "cell_type": "code",
   "execution_count": 29,
   "id": "1af52a05",
   "metadata": {},
   "outputs": [
    {
     "name": "stdout",
     "output_type": "stream",
     "text": [
      "AkgwRQIhAOzyynlqt93lOKJr+wmmxIens//zPzl9tqIOua93wO6MAiBi5n5EyAcPScOjf1lAqIUIQtr3zKNeavYabHyR8eGhowEhAsfxIAMZZEKUPYWI4BruhAQjzFT8FSFSajuFwrDL1Yhy\n"
     ]
    }
   ],
   "source": [
    "compressed_wif_private_key = 'L3VFeEujGtevx9w18HD1fhRbCH67Az2dpCymeRE1SoPK6XQtaN2k'\n",
    "private_key = PrivateKey.parse(compressed_wif_private_key)\n",
    "\n",
    "message = \"Hello World\"\n",
    "\n",
    "\n",
    "bip322_sig = sign_message(MessageSignatureFormat.SIMPLE,private_key, message)\n",
    "print(bip322_sig)"
   ]
  },
  {
   "cell_type": "markdown",
   "id": "267d1185",
   "metadata": {},
   "source": [
    "## Verify Message"
   ]
  },
  {
   "cell_type": "code",
   "execution_count": 16,
   "id": "d2a0e624",
   "metadata": {},
   "outputs": [
    {
     "ename": "SyntaxError",
     "evalue": "invalid syntax (4228999517.py, line 1)",
     "output_type": "error",
     "traceback": [
      "\u001b[0;36m  Input \u001b[0;32mIn [16]\u001b[0;36m\u001b[0m\n\u001b[0;31m    def verify_message(\"FULL\", address, signature, message):\u001b[0m\n\u001b[0m                       ^\u001b[0m\n\u001b[0;31mSyntaxError\u001b[0m\u001b[0;31m:\u001b[0m invalid syntax\n"
     ]
    }
   ],
   "source": [
    "def verify_message(address, signature, message):\n",
    "    \n",
    "    sig_bytes = base64_decode(signature)\n",
    "    \n",
    "    script_pubkey = address_to_script_pubkey(address)\n",
    "    \n",
    "    to_spend = create_to_spend_tx(script_pubkey, message)\n",
    "    \n",
    "    to_sign = create_to_sign_tx(to_spend.hash(), sig_bytes)\n",
    "    \n",
    "    to_sign.tx_ins[0]._script_pubkey = to_spend.tx_outs[0].script_pubkey\n",
    "    to_sign.tx_ins[0]._value = to_spend.tx_outs[0].amount\n",
    "    \n",
    "    return to_sign.verify_input(0)\n",
    "    \n",
    "    "
   ]
  },
  {
   "cell_type": "code",
   "execution_count": 11,
   "id": "922ae6e1",
   "metadata": {},
   "outputs": [
    {
     "data": {
      "text/plain": [
       "True"
      ]
     },
     "execution_count": 11,
     "metadata": {},
     "output_type": "execute_result"
    }
   ],
   "source": [
    "\n",
    "message = \"Hello World\"\n",
    "address = \"bc1q9vza2e8x573nczrlzms0wvx3gsqjx7vavgkx0l\"\n",
    "test_sig = \"AkcwRAIgZRfIY3p7/DoVTty6YZbWS71bc5Vct9p9Fia83eRmw2QCICK/ENGfwLtptFluMGs2KsqoNSk89pO7F29zJLUx9a/sASECx/EgAxlkQpQ9hYjgGu6EBCPMVPwVIVJqO4XCsMvViHI=\"\n",
    "\n",
    "\n",
    "verify_message(address, test_sig, message)"
   ]
  },
  {
   "cell_type": "code",
   "execution_count": 12,
   "id": "18ae6e89",
   "metadata": {},
   "outputs": [
    {
     "data": {
      "text/plain": [
       "True"
      ]
     },
     "execution_count": 12,
     "metadata": {},
     "output_type": "execute_result"
    }
   ],
   "source": [
    "verify_message(address, bip322_sig, message)"
   ]
  },
  {
   "cell_type": "code",
   "execution_count": null,
   "id": "30713b02",
   "metadata": {},
   "outputs": [],
   "source": []
  }
 ],
 "metadata": {
  "kernelspec": {
   "display_name": "Python 3",
   "language": "python",
   "name": "python3"
  },
  "language_info": {
   "codemirror_mode": {
    "name": "ipython",
    "version": 3
   },
   "file_extension": ".py",
   "mimetype": "text/x-python",
   "name": "python",
   "nbconvert_exporter": "python",
   "pygments_lexer": "ipython3",
   "version": "3.8.5"
  }
 },
 "nbformat": 4,
 "nbformat_minor": 5
}
