{
 "cells": [
  {
   "cell_type": "markdown",
   "id": "ca647e2e",
   "metadata": {},
   "source": [
    "# Define Functional Interface to Buidl Python Library to Create BIP 322 Signatures"
   ]
  },
  {
   "cell_type": "markdown",
   "id": "e4c77bd4",
   "metadata": {},
   "source": [
    "## Required Interface\n",
    "\n",
    "* Hash message\n",
    "    * Message -> Tagged Hash of message\n",
    "    * Note: Must handle legacy (has diff code in btc P.R.)\n",
    "* Create BIP322Txs\n",
    "  * Inputs (btc_address, message, signature (opt)\n",
    "  * Output to_spend and to_sign Txs (Unsigned)\n",
    "* Sign Message\n",
    "    * Inputs (privkey, message)\n",
    "    * Output signature\n",
    "* Verify Message\n",
    "    * Inputs (address, signature, message)\n",
    "    * Output MessageVerificationResult"
   ]
  },
  {
   "cell_type": "markdown",
   "id": "31a1889d",
   "metadata": {},
   "source": [
    "## The below interface has since been moved to the [message.py](../edit/src/message.py)\n",
    "\n",
    "The `sign_message` and `verify_message` from this file are imported and used throughout the other notebooks in this repo to create and verify bip322 signatures."
   ]
  },
  {
   "cell_type": "markdown",
   "id": "5409c2ca",
   "metadata": {},
   "source": [
    "## Imports\n",
    "\n"
   ]
  },
  {
   "cell_type": "code",
   "execution_count": 39,
   "id": "1314b328",
   "metadata": {},
   "outputs": [],
   "source": [
    "from buidl.tx import Tx, TxIn, TxOut\n",
    "from buidl.script import Script,P2WPKHScriptPubKey\n",
    "from buidl.helper import big_endian_to_int, base64_decode, base64_encode, str_to_bytes,sha256\n",
    "\n",
    "from buidl.script import address_to_script_pubkey\n",
    "from buidl.hash import tagged_hash\n",
    "from buidl.witness import Witness\n",
    "\n",
    "from buidl.ecc import PrivateKey\n",
    "\n",
    "import io\n"
   ]
  },
  {
   "cell_type": "markdown",
   "id": "34e8fdfd",
   "metadata": {},
   "source": [
    "## Signature Formats"
   ]
  },
  {
   "cell_type": "code",
   "execution_count": 40,
   "id": "c06be631",
   "metadata": {},
   "outputs": [],
   "source": [
    "from enum import Enum\n",
    "\n",
    "class MessageSignatureFormat(Enum):\n",
    "    LEGACY = 0\n",
    "    SIMPLE = 1\n",
    "    FULL = 2\n",
    "    "
   ]
  },
  {
   "cell_type": "markdown",
   "id": "a4912483",
   "metadata": {},
   "source": [
    "## Hash Message\n",
    "\n",
    "Note: Do not need hash_message to differentiate between LEGACY. buidl-python legacy signatures are implemented with the sign_message fn of PrivateKey. This handles the hashing."
   ]
  },
  {
   "cell_type": "code",
   "execution_count": 71,
   "id": "ee1608f2",
   "metadata": {},
   "outputs": [],
   "source": [
    "def hash_bip322message(msg: bytes):\n",
    "\n",
    "    # Byte array of message hash\n",
    "    # The tag defined in BIP0322 that should be used\n",
    "    tag = b\"BIP0322-signed-message\"\n",
    "\n",
    "    return tagged_hash(tag,msg)\n"
   ]
  },
  {
   "cell_type": "markdown",
   "id": "28bb9963",
   "metadata": {},
   "source": [
    "## Create BIP322Txs"
   ]
  },
  {
   "cell_type": "code",
   "execution_count": 72,
   "id": "bcd298dc",
   "metadata": {},
   "outputs": [],
   "source": [
    "\n",
    "def create_to_spend_tx(address, message):\n",
    "    # Not a valid Tx hash. Will never be spendable on any BTC network.\n",
    "    prevout_hash = bytes.fromhex('0000000000000000000000000000000000000000000000000000000000000000')\n",
    "    # prevout.n\n",
    "    prevout_index = big_endian_to_int(bytes.fromhex('FFFFFFFF'))\n",
    "    \n",
    "    sequence = 0\n",
    "\n",
    "    b_msg = str_to_bytes(message)\n",
    "    message_hash = hash_bip322message(b_msg)\n",
    "\n",
    "    # Note BIP322 to_spend scriptSig commands = [0, 32, message_hash]\n",
    "    # PUSH32 is implied and added by the size of the message added to the stack\n",
    "    commands = [0, message_hash]\n",
    "    script_sig = Script(commands)\n",
    "    # Create Tx Input\n",
    "    tx_in = TxIn(prevout_hash,prevout_index,script_sig,sequence)\n",
    "    \n",
    "    # Value of tx output\n",
    "    value = 0\n",
    "\n",
    "    # Convert address to a ScriptPubKey\n",
    "    # Will throw runtime error if unable to convert address to script_pubkey\n",
    "    script_pubkey = address_to_script_pubkey(address)\n",
    "        \n",
    "    tx_out = TxOut(value,script_pubkey)\n",
    "    \n",
    "    # create transaction\n",
    "    version=0\n",
    "    tx_inputs = [tx_in]\n",
    "    tx_outputs = [tx_out]\n",
    "    locktime=0\n",
    "    network=\"mainnet\"\n",
    "\n",
    "    # Could be false, but using a segwit address. I think this is the \"Simple Signature\" in BIP-0322\n",
    "    segwit=True\n",
    "\n",
    "    return Tx(version,tx_inputs,tx_outputs,locktime,network,segwit\n",
    "\n",
    "\n"
   ]
  },
  {
   "cell_type": "code",
   "execution_count": 1,
   "id": "bd0abcfe",
   "metadata": {},
   "outputs": [],
   "source": [
    "\n",
    "def create_to_sign_tx(to_spend_tx_hash, sig_bytes=None):\n",
    "    to_sign = None\n",
    "    if (sig_bytes and is_full_signature(sig_bytes)):\n",
    "        \n",
    "        sig_stream = io.BytesIO(sig_bytes)\n",
    "        to_sign = Tx.parse(sig_stream)\n",
    "        \n",
    "        if (len(to_sign.tx_ins) > 1):\n",
    "            \n",
    "            raise NotImplemented(\"Not yet implemented proof of funds yet\")\n",
    "        elif (len(to_sign.tx_ins) == 0):\n",
    "            raise ValueError(\"No transaction input\")\n",
    "        elif (to_sign.tx_ins[0].prev_tx != to_spend_tx_hash):\n",
    "            raise ValueError(\"The to_sign transaction input's prevtx id does not equal the calculated to_spend transaction id\")\n",
    "        elif (len(to_sign.tx_outs) != 1):\n",
    "            raise ValueError(\"to_sign does not have a single TxOutput\")\n",
    "        elif (to_sign.tx_outs[0].amount != 0):\n",
    "            raise ValueError(\"Value is Non 0\", to_sign.tx_outs[0].amount)\n",
    "        elif(to_sign.tx_outs[0].script_pubkey.commands != [106]):\n",
    "            raise ValueError(\"ScriptPubKey incorrect\", to_sign.tx_outs[0].script_pubkey)\n",
    "        else:\n",
    "            return to_sign\n",
    "            \n",
    "    else:\n",
    "        # signature is either None or an encoded witness stack\n",
    "        \n",
    "        # Identifies the index of the output from the virtual to_spend tx to be \"spent\"\n",
    "        prevout_index = 0\n",
    "\n",
    "        sequence = 0\n",
    "\n",
    "        # TxInput identifies the output from to_spend\n",
    "        tx_input = TxIn(to_spend_tx_hash,prevout_index,script_sig=None,sequence=sequence)\n",
    "        \n",
    "\n",
    "    \n",
    "        value = 0\n",
    "        # OP Code 106 for OP_RETURN\n",
    "        commands = [106]\n",
    "        scriptPubKey = Script(commands)\n",
    "\n",
    "        tx_output = TxOut(value,scriptPubKey)\n",
    "        locktime=0\n",
    "        version=0\n",
    "        tx_inputs = [tx_input]\n",
    "        tx_outputs = [tx_output]\n",
    "        network=\"mainnet\"\n",
    "        # Could be false, but using a segwit address. I think this is the \"Simple Signature\" in BIP-0322\n",
    "        segwit=True\n",
    "    \n",
    "        # create unsigned to_sign transaction\n",
    "\n",
    "        to_sign_tx = Tx(version,tx_inputs,tx_outputs,locktime,network,segwit)\n",
    "        \n",
    "        if sig_bytes:\n",
    "            try:\n",
    "                stream = io.BytesIO(sig_bytes)\n",
    "                witness = Witness.parse(stream)\n",
    "                # Set the witness on the to_sign tx input\n",
    "                to_sign_tx.tx_ins[0].witness = witness\n",
    "            except:\n",
    "                # TODO: Fall back to legacy ...\n",
    "                print(\"Signature is niether an encoded witness or full transaction. Fall back to legacy\")\n",
    "                return None\n",
    "                \n",
    "        return to_sign_tx"
   ]
  },
  {
   "cell_type": "code",
   "execution_count": 74,
   "id": "e25cd086",
   "metadata": {},
   "outputs": [],
   "source": [
    "# Test is sig_bytes can be decoded to a transaction\n",
    "def is_full_signature(sig_bytes):\n",
    "    try:\n",
    "        sig_stream = io.BytesIO(sig_bytes)\n",
    "\n",
    "        Tx.parse(sig_stream)\n",
    "    # TODO: more specific exception handling\n",
    "    except:\n",
    "        return False\n",
    "    return True\n",
    "        "
   ]
  },
  {
   "cell_type": "markdown",
   "id": "3c85b04e",
   "metadata": {},
   "source": [
    "## Sign Message\n",
    "\n",
    "Bitcoin core code as a scriptpubkeyman.cpp file that manages key pairs associated with a specific script I believe. This is not replicated in the buidl-python library"
   ]
  },
  {
   "cell_type": "code",
   "execution_count": 83,
   "id": "6d2dbbc4",
   "metadata": {},
   "outputs": [],
   "source": [
    "# Bitcoin doesn't expose this interface apart from for legacy signatures. \n",
    "# It does something with a abstract wallet interface which seems be be provided somehow ...\n",
    "# I think this is partly about secure KMS\n",
    "# \n",
    "\n",
    "def sign_message(format: MessageSignatureFormat, private_key: PrivateKey, address: str, message: str):\n",
    "    \n",
    "    if (format != MessageSignatureFormat.LEGACY):\n",
    "        return sign_message_bip322(format,private_key,address,message)\n",
    "\n",
    "\n",
    "    script_pubkey = address_to_script_pubkey(address)\n",
    "    \n",
    "    if (not script_pubkey.is_p2pkh):\n",
    "        raise ValueError(\"Address must be p2pkh for LEGACY signatures\")\n",
    "        \n",
    "    b_msg = str_to_bytes(message)\n",
    "    signature = private_key.sign_message(b_msg)\n",
    "    \n",
    "    return base64_encode(signature.der()) \n",
    "    \n",
    "\n",
    "def sign_message_bip322(format: MessageSignatureFormat, private_key: PrivateKey, address: str, message: str):\n",
    "    \n",
    "    assert(format != MessageSignatureFormat.LEGACY)\n",
    "        \n",
    "    # TODO: how can we check the private key \"controls\" the provided address\n",
    "    \n",
    "    to_spend = create_to_spend_tx(address, message)\n",
    "    to_sign = create_to_sign_tx(to_spend.hash(), None)\n",
    "    \n",
    "    to_sign.tx_ins[0]._script_pubkey = to_spend.tx_outs[0].script_pubkey\n",
    "    to_sign.tx_ins[0]._value = to_spend.tx_outs[0].amount\n",
    "    \n",
    "    sig_ok = to_sign.sign_input(0, private_key)\n",
    "    \n",
    "    \n",
    "    # Force the format to FULL, if this turned out to be a legacy format (p2pkh) signature\n",
    "    if (len(to_sign.tx_ins[0].script_sig.commands) > 0 or len(to_sign.tx_ins[0].witness.items) == 0):\n",
    "        format = MessageSignatureFormat.FULL\n",
    "\n",
    "    combined_script = to_sign.tx_ins[0].script_sig + to_sign.tx_ins[0].script_pubkey(\"mainnet\")\n",
    "    if (not sig_ok):\n",
    "        raise RuntimeError(\"Unable to sign message\")\n",
    "    \n",
    "    if (format ==  MessageSignatureFormat.SIMPLE):\n",
    "            return base64_encode(to_sign.serialize_witness())\n",
    "\n",
    "    else:\n",
    "        return base64_encode(to_sign.serialize())\n",
    "    \n",
    "    \n",
    "\n",
    "    "
   ]
  },
  {
   "cell_type": "code",
   "execution_count": 84,
   "id": "8e9e6785",
   "metadata": {},
   "outputs": [
    {
     "data": {
      "text/plain": [
       "b'Hello World'"
      ]
     },
     "execution_count": 84,
     "metadata": {},
     "output_type": "execute_result"
    }
   ],
   "source": [
    "test = \"Hello World\"\n",
    "\n",
    "str_to_bytes(test)"
   ]
  },
  {
   "cell_type": "code",
   "execution_count": 85,
   "id": "1af52a05",
   "metadata": {},
   "outputs": [
    {
     "name": "stdout",
     "output_type": "stream",
     "text": [
      "AkgwRQIhAOzyynlqt93lOKJr+wmmxIens//zPzl9tqIOua93wO6MAiBi5n5EyAcPScOjf1lAqIUIQtr3zKNeavYabHyR8eGhowEhAsfxIAMZZEKUPYWI4BruhAQjzFT8FSFSajuFwrDL1Yhy\n"
     ]
    }
   ],
   "source": [
    "compressed_wif_private_key = 'L3VFeEujGtevx9w18HD1fhRbCH67Az2dpCymeRE1SoPK6XQtaN2k'\n",
    "private_key = PrivateKey.parse(compressed_wif_private_key)\n",
    "\n",
    "message = \"Hello World\"\n",
    "\n",
    "address = private_key.point.p2wpkh_script().address()\n",
    "\n",
    "\n",
    "bip322_sig = sign_message(MessageSignatureFormat.SIMPLE,private_key,address, message)\n",
    "print(bip322_sig)"
   ]
  },
  {
   "cell_type": "markdown",
   "id": "de8966c9",
   "metadata": {},
   "source": [
    "## Check mismatch between address and private key\n",
    "\n",
    "No signature producable."
   ]
  },
  {
   "cell_type": "code",
   "execution_count": 86,
   "id": "56c35825",
   "metadata": {},
   "outputs": [
    {
     "name": "stdout",
     "output_type": "stream",
     "text": [
      "bad op: OP_EQUALVERIFY\n"
     ]
    },
    {
     "ename": "RuntimeError",
     "evalue": "Unable to sign message",
     "output_type": "error",
     "traceback": [
      "\u001b[0;31m---------------------------------------------------------------------------\u001b[0m",
      "\u001b[0;31mRuntimeError\u001b[0m                              Traceback (most recent call last)",
      "Input \u001b[0;32mIn [86]\u001b[0m, in \u001b[0;36m<cell line: 2>\u001b[0;34m()\u001b[0m\n\u001b[1;32m      1\u001b[0m mismatch_address \u001b[38;5;241m=\u001b[39m \u001b[38;5;124m\"\u001b[39m\u001b[38;5;124m12vTLer5v6RyMpnxetu7mGxtveRsVSps5R\u001b[39m\u001b[38;5;124m\"\u001b[39m\n\u001b[0;32m----> 2\u001b[0m bip322_sig \u001b[38;5;241m=\u001b[39m \u001b[43msign_message\u001b[49m\u001b[43m(\u001b[49m\u001b[43mMessageSignatureFormat\u001b[49m\u001b[38;5;241;43m.\u001b[39;49m\u001b[43mSIMPLE\u001b[49m\u001b[43m,\u001b[49m\u001b[43mprivate_key\u001b[49m\u001b[43m,\u001b[49m\u001b[43mmismatch_address\u001b[49m\u001b[43m,\u001b[49m\u001b[43m \u001b[49m\u001b[43mmessage\u001b[49m\u001b[43m)\u001b[49m\n\u001b[1;32m      3\u001b[0m \u001b[38;5;28mprint\u001b[39m(bip322_sig)\n",
      "Input \u001b[0;32mIn [83]\u001b[0m, in \u001b[0;36msign_message\u001b[0;34m(format, private_key, address, message)\u001b[0m\n\u001b[1;32m      7\u001b[0m \u001b[38;5;28;01mdef\u001b[39;00m \u001b[38;5;21msign_message\u001b[39m(\u001b[38;5;28mformat\u001b[39m: MessageSignatureFormat, private_key: PrivateKey, address: \u001b[38;5;28mstr\u001b[39m, message: \u001b[38;5;28mstr\u001b[39m):\n\u001b[1;32m      9\u001b[0m     \u001b[38;5;28;01mif\u001b[39;00m (\u001b[38;5;28mformat\u001b[39m \u001b[38;5;241m!=\u001b[39m MessageSignatureFormat\u001b[38;5;241m.\u001b[39mLEGACY):\n\u001b[0;32m---> 10\u001b[0m         \u001b[38;5;28;01mreturn\u001b[39;00m \u001b[43msign_message_bip322\u001b[49m\u001b[43m(\u001b[49m\u001b[38;5;28;43mformat\u001b[39;49m\u001b[43m,\u001b[49m\u001b[43mprivate_key\u001b[49m\u001b[43m,\u001b[49m\u001b[43maddress\u001b[49m\u001b[43m,\u001b[49m\u001b[43mmessage\u001b[49m\u001b[43m)\u001b[49m\n\u001b[1;32m     13\u001b[0m     script_pubkey \u001b[38;5;241m=\u001b[39m address_to_script_pubkey(address)\n\u001b[1;32m     15\u001b[0m     \u001b[38;5;28;01mif\u001b[39;00m (\u001b[38;5;129;01mnot\u001b[39;00m script_pubkey\u001b[38;5;241m.\u001b[39mis_p2pkh):\n",
      "Input \u001b[0;32mIn [83]\u001b[0m, in \u001b[0;36msign_message_bip322\u001b[0;34m(format, private_key, address, message)\u001b[0m\n\u001b[1;32m     46\u001b[0m     \u001b[38;5;28mformat\u001b[39m \u001b[38;5;241m=\u001b[39m MessageSignatureFormat\u001b[38;5;241m.\u001b[39mFULL\n\u001b[1;32m     49\u001b[0m \u001b[38;5;28;01mif\u001b[39;00m (\u001b[38;5;129;01mnot\u001b[39;00m sig_ok):\n\u001b[0;32m---> 50\u001b[0m     \u001b[38;5;28;01mraise\u001b[39;00m \u001b[38;5;167;01mRuntimeError\u001b[39;00m(\u001b[38;5;124m\"\u001b[39m\u001b[38;5;124mUnable to sign message\u001b[39m\u001b[38;5;124m\"\u001b[39m)\n\u001b[1;32m     52\u001b[0m \u001b[38;5;28;01mif\u001b[39;00m (\u001b[38;5;28mformat\u001b[39m \u001b[38;5;241m==\u001b[39m  MessageSignatureFormat\u001b[38;5;241m.\u001b[39mSIMPLE):\n\u001b[1;32m     53\u001b[0m         \u001b[38;5;28;01mreturn\u001b[39;00m base64_encode(to_sign\u001b[38;5;241m.\u001b[39mserialize_witness())\n",
      "\u001b[0;31mRuntimeError\u001b[0m: Unable to sign message"
     ]
    }
   ],
   "source": [
    "\n",
    "mismatch_address = \"12vTLer5v6RyMpnxetu7mGxtveRsVSps5R\"\n",
    "bip322_sig = sign_message(MessageSignatureFormat.SIMPLE,private_key,mismatch_address, message)\n",
    "print(bip322_sig)"
   ]
  },
  {
   "cell_type": "markdown",
   "id": "718dbc33",
   "metadata": {},
   "source": [
    "## Sign LEGACY"
   ]
  },
  {
   "cell_type": "code",
   "execution_count": 87,
   "id": "70378c1e",
   "metadata": {},
   "outputs": [],
   "source": [
    "p2pkh_address = private_key.point.p2pkh_script().address()"
   ]
  },
  {
   "cell_type": "code",
   "execution_count": 88,
   "id": "457e1833",
   "metadata": {},
   "outputs": [
    {
     "name": "stdout",
     "output_type": "stream",
     "text": [
      "3044022029ff0e488916ce863504e10244f7f02bbf4cb137632261239c6a3c5273d68e74022005ae3473446c536c88999aa941801ff078c5aea7b3cb73c29bb15a4df7f6ae37\n",
      "MEQCICn/DkiJFs6GNQThAkT38Cu/TLE3YyJhI5xqPFJz1o50AiAFrjRzRGxTbIiZmqlBgB/weMWup7PLc8KbsVpN9/auNw==\n"
     ]
    }
   ],
   "source": [
    "bip322_sig = sign_message(MessageSignatureFormat.LEGACY,private_key,p2pkh_address, message)\n",
    "print(bip322_sig)"
   ]
  },
  {
   "cell_type": "markdown",
   "id": "267d1185",
   "metadata": {},
   "source": [
    "## Verify Message"
   ]
  },
  {
   "cell_type": "code",
   "execution_count": 2,
   "id": "d2a0e624",
   "metadata": {},
   "outputs": [],
   "source": [
    "def verify_message(address: str, signature: str, message: str):\n",
    "\n",
    "    sig_bytes = base64_decode(signature)\n",
    "        \n",
    "    to_spend = create_to_spend_tx(address, message)\n",
    "    \n",
    "    \n",
    "    to_sign = create_to_sign_tx(to_spend.hash(), sig_bytes)\n",
    "    \n",
    "    if to_sign == None:\n",
    "        # try LEGACY\n",
    "        # Check address is a p2pkh\n",
    "        # Recover Secp256 point from signature?\n",
    "        # Verify signature\n",
    "        raise NotImplementedError(\"TODO\")\n",
    "    \n",
    "    to_sign.tx_ins[0]._script_pubkey = to_spend.tx_outs[0].script_pubkey\n",
    "    to_sign.tx_ins[0]._value = to_spend.tx_outs[0].amount\n",
    "    return to_sign.verify_input(0)\n",
    "    \n",
    "    "
   ]
  },
  {
   "cell_type": "code",
   "execution_count": 11,
   "id": "922ae6e1",
   "metadata": {},
   "outputs": [
    {
     "data": {
      "text/plain": [
       "True"
      ]
     },
     "execution_count": 11,
     "metadata": {},
     "output_type": "execute_result"
    }
   ],
   "source": [
    "\n",
    "message = \"Hello World\"\n",
    "address = \"bc1q9vza2e8x573nczrlzms0wvx3gsqjx7vavgkx0l\"\n",
    "test_sig = \"AkcwRAIgZRfIY3p7/DoVTty6YZbWS71bc5Vct9p9Fia83eRmw2QCICK/ENGfwLtptFluMGs2KsqoNSk89pO7F29zJLUx9a/sASECx/EgAxlkQpQ9hYjgGu6EBCPMVPwVIVJqO4XCsMvViHI=\"\n",
    "\n",
    "\n",
    "verify_message(address, test_sig, message)"
   ]
  },
  {
   "cell_type": "code",
   "execution_count": 12,
   "id": "18ae6e89",
   "metadata": {},
   "outputs": [
    {
     "data": {
      "text/plain": [
       "True"
      ]
     },
     "execution_count": 12,
     "metadata": {},
     "output_type": "execute_result"
    }
   ],
   "source": [
    "verify_message(address, bip322_sig, message)"
   ]
  },
  {
   "cell_type": "code",
   "execution_count": null,
   "id": "30713b02",
   "metadata": {},
   "outputs": [],
   "source": []
  }
 ],
 "metadata": {
  "kernelspec": {
   "display_name": "Python 3",
   "language": "python",
   "name": "python3"
  },
  "language_info": {
   "codemirror_mode": {
    "name": "ipython",
    "version": 3
   },
   "file_extension": ".py",
   "mimetype": "text/x-python",
   "name": "python",
   "nbconvert_exporter": "python",
   "pygments_lexer": "ipython3",
   "version": "3.8.5"
  }
 },
 "nbformat": 4,
 "nbformat_minor": 5
}
