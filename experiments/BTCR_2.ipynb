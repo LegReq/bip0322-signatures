{
 "cells": [
  {
   "cell_type": "markdown",
   "id": "d9a4cb41",
   "metadata": {},
   "source": [
    "# Experiments with BTCR 2.0 Offline Creation"
   ]
  },
  {
   "cell_type": "markdown",
   "id": "7ade0700",
   "metadata": {},
   "source": [
    "## Want to Support\n",
    "\n",
    "* Offline DID Creation\n",
    "* Resolution\n",
    "* Update\n",
    "* Deactivate"
   ]
  },
  {
   "cell_type": "markdown",
   "id": "8ca93fc0",
   "metadata": {},
   "source": [
    "## TODO\n",
    "\n",
    "* Define a JSONLD context for DID BTCR 2.0"
   ]
  },
  {
   "cell_type": "code",
   "execution_count": 1,
   "id": "de0205a1",
   "metadata": {},
   "outputs": [
    {
     "name": "stdout",
     "output_type": "stream",
     "text": [
      "/home/will/work/LegendaryRequirements/clients/dcd/bip0322-sigs\n"
     ]
    }
   ],
   "source": [
    "cd .."
   ]
  },
  {
   "cell_type": "markdown",
   "id": "a30b0bc4",
   "metadata": {},
   "source": [
    "## Generate Mnemonic and HDPrivateKey\n",
    "\n",
    "A HD is effectively a wallet / keyring that can be used to deterministically generate an infinite amount of public/private key pairs."
   ]
  },
  {
   "cell_type": "code",
   "execution_count": 3,
   "id": "027b87f4",
   "metadata": {},
   "outputs": [],
   "source": [
    "from buidl.mnemonic import secure_mnemonic\n",
    "from buidl.hd import HDPrivateKey\n",
    "\n",
    "mnemonic = secure_mnemonic()\n",
    "hd_privatekey = HDPrivateKey.from_mnemonic(mnemonic)"
   ]
  },
  {
   "cell_type": "code",
   "execution_count": 23,
   "id": "4a1e8989",
   "metadata": {},
   "outputs": [],
   "source": [
    "from buidl.helper import encode_base58\n",
    "\n",
    "# We could define a specific purpose (Current purposes are for different script types)\n",
    "didkey_purpose = \"11\"\n",
    "\n",
    "private_key = hd_privatekey.get_private_key(didkey_purpose, address_num=1)\n",
    "public_key = private_key.point\n",
    "sec_pubkey = public_key.sec()\n",
    "base58_pk = encode_base58(sec_pubkey)"
   ]
  },
  {
   "cell_type": "markdown",
   "id": "7d687a70",
   "metadata": {},
   "source": [
    "## Define Offline DID DID document\n",
    "\n",
    "1. Create proto DID document (no identifiers)\n",
    "2. SHA256 hash proto document\n",
    "3. Generate p2sh address for RedeemScript of `[OP_RETURN, PUSH_32, sha256_doc_hash]`\n",
    "4. Set DID to did:btcr:2:p2sh_address\n",
    "5. Populate `id` and `controller` fields in proto DID document to produce the final DID documen"
   ]
  },
  {
   "cell_type": "markdown",
   "id": "46274c4a",
   "metadata": {},
   "source": [
    "### 1. Define proto DID document\n",
    "\n",
    "This DID document can contain any verificationMethods, service endpoints etc. It will be passed along with the DID that identifies it."
   ]
  },
  {
   "cell_type": "code",
   "execution_count": 52,
   "id": "dac8d2e6",
   "metadata": {},
   "outputs": [],
   "source": [
    "proto_did_doc = {\n",
    "    \"@context\": [\"https://w3id.org/did/v0.11\", \"https://w3id.org/btcr/v2\"],\n",
    "    \"verificationMethod\": [\n",
    "       {\n",
    "            \"id\": \"#satoshi\",\n",
    "           # What would we do about this aswell. Since we don't have the controller identifier\n",
    "#             \"controller\": \"did:btcr:xyv2-xzpq-q9wa-p7t\",\n",
    "            \"type\": \"EcdsaSecp256k1VerificationKey2019\",\n",
    "            \"publicKeyBase58\": base58_pk\n",
    "        },\n",
    "    ##########################      EXAMPLE       #################################\n",
    "        ### What are the resolution rules that parse the Bitcoin Tx at ref xyv2-xzpq-q9wa-p7t\n",
    "        ### To populate this verificationMethod into the didDocument.\n",
    "        ### E.g. scriptPubKey from UTX0 at index 1 in tx at ref xyv2-xzpq-q9wa-p7t\n",
    "#         {\n",
    "#              \"id\": \"did:btcr2:xyv2-xzpq-q9wa-p7t#vm-1\",\n",
    "#              \"controller\": \"did:btcr:xyv2-xzpq-q9wa-p7t\",\n",
    "#              \"type\": \"BIP322\",\n",
    "#              \"address\": address\n",
    "#         }\n",
    "    \n",
    "    ###############################################################################\n",
    "    ],\n",
    "    \"authentication\": [\"#satoshi\"],\n",
    "    \"assertionMethod\": [\"#satoshi\"],\n",
    "    \"serviceEndpoint\": \"http://satoshi_endpoint.com\"\n",
    "}\n"
   ]
  },
  {
   "cell_type": "markdown",
   "id": "22202422",
   "metadata": {},
   "source": [
    "### 2. SHA256 hash the proto document\n",
    "\n",
    "Note: we should probably canonicalize the proto DID doc? But currently the context does not resolve. Would it matter that this is proto rather than a full DID doc?"
   ]
  },
  {
   "cell_type": "code",
   "execution_count": 53,
   "id": "886ce0f6",
   "metadata": {},
   "outputs": [
    {
     "data": {
      "text/plain": [
       "b'\\xcd\\x1b\\x83\\xe9\\x8a\\xe3\\xb8Dh4~\\xdd\\x1b\\xaf\\xd3\\xad;\\xf7\\x85r\\x9c\\xf3\\xafFb\\xe2\\xdd\\x00\\xfa\\xd9Ji'"
      ]
     },
     "execution_count": 53,
     "metadata": {},
     "output_type": "execute_result"
    }
   ],
   "source": [
    "from buidl.helper import sha256, str_to_bytes\n",
    "import json\n",
    "\n",
    "bytes_doc = str_to_bytes(json.dumps(offline_did_doc))\n",
    "sha256_doc = sha256(bytes_doc)\n",
    "sha256_doc"
   ]
  },
  {
   "cell_type": "markdown",
   "id": "8d3ce318",
   "metadata": {},
   "source": [
    "### 3. Generate p2sh address from doc hash\n",
    "\n",
    "Note: This p2sh has a redeem script containing OP_RETURN, hence is unspendable"
   ]
  },
  {
   "cell_type": "code",
   "execution_count": 54,
   "id": "f6e6c499",
   "metadata": {},
   "outputs": [],
   "source": [
    "from buidl.script import RedeemScript\n",
    "commands = [106, sha256_doc]\n",
    "\n",
    "script = RedeemScript(commands)"
   ]
  },
  {
   "cell_type": "code",
   "execution_count": 55,
   "id": "c87922f2",
   "metadata": {},
   "outputs": [
    {
     "data": {
      "text/plain": [
       "OP_HASH160 1f0f23653814bf80087bcd009eb9d3c07c9f7405 OP_EQUAL "
      ]
     },
     "execution_count": 55,
     "metadata": {},
     "output_type": "execute_result"
    }
   ],
   "source": [
    "# Notice the script_pubkey is a pay to script hash \n",
    "script.script_pubkey()"
   ]
  },
  {
   "cell_type": "code",
   "execution_count": 56,
   "id": "d9ff64df",
   "metadata": {},
   "outputs": [],
   "source": [
    "p2sh_address = script.address()"
   ]
  },
  {
   "cell_type": "markdown",
   "id": "685174eb",
   "metadata": {},
   "source": [
    "### 4. Set DID to did:btcr:2:ps2h_address"
   ]
  },
  {
   "cell_type": "code",
   "execution_count": 57,
   "id": "fb448015",
   "metadata": {},
   "outputs": [
    {
     "data": {
      "text/plain": [
       "'did:btcr:2:34XF1KFUpWUuJomsg9jVbaDgZ6x5KhJX3U'"
      ]
     },
     "execution_count": 57,
     "metadata": {},
     "output_type": "execute_result"
    }
   ],
   "source": [
    "offline_did = \"did:btcr:2:\" + script.address()\n",
    "offline_did"
   ]
  },
  {
   "cell_type": "markdown",
   "id": "2bcde822",
   "metadata": {},
   "source": [
    "### 5. Populate id and controller fields in proto_did_doc"
   ]
  },
  {
   "cell_type": "code",
   "execution_count": 58,
   "id": "9da014dc",
   "metadata": {},
   "outputs": [
    {
     "name": "stdout",
     "output_type": "stream",
     "text": [
      "{'@context': ['https://w3id.org/did/v0.11', 'https://w3id.org/btcr/v2'], 'verificationMethod': [{'id': '#satoshi', 'type': 'EcdsaSecp256k1VerificationKey2019', 'publicKeyBase58': 'hSrL7PDSmqTQwopWd6PJ45ddvkuGwsAESuxGw7yLrn1v', 'controller': 'did:btcr:2:34XF1KFUpWUuJomsg9jVbaDgZ6x5KhJX3U'}], 'authentication': ['#satoshi'], 'assertionMethod': ['#satoshi'], 'serviceEndpoint': 'http://satoshi_endpoint.com', 'id': 'did:btcr:2:34XF1KFUpWUuJomsg9jVbaDgZ6x5KhJX3U'}\n"
     ]
    }
   ],
   "source": [
    "did_doc = proto_did_doc\n",
    "did_doc[\"id\"] = offline_did\n",
    "\n",
    "for vm in did_doc[\"verificationMethod\"]:\n",
    "    vm[\"controller\"] = offline_did\n",
    "    \n",
    "# Does it matter about ordering? Is this where JSON LD canonicalization comes in?\n",
    "print(did_doc)"
   ]
  },
  {
   "cell_type": "markdown",
   "id": "46215a78",
   "metadata": {},
   "source": [
    "## Resolve Offline DID\n",
    "\n",
    "Will gives offline DID and associated DID document to Ryan who wishes to verify that the DID document is the correct and up to date.\n",
    "\n",
    "1. Verify did_doc `id` equals the did\n",
    "2. Check method specific identifier (p2sh_address) does not exist in TxOut on network\n",
    "-- If not\n",
    "\n",
    "3. Remove `id` and `controller` fields from did_doc\n",
    "4. SHA256 hash did_doc (canonicalize it)?\n",
    "5. Create p2sh with RedeemScript commands `[OP_RETURN, PUSH_32, sha256_doc_hash]`\n",
    "6. Create p2sh_address and check equal to method_identifier"
   ]
  },
  {
   "cell_type": "markdown",
   "id": "6da4a290",
   "metadata": {},
   "source": [
    "### 1. Verify did_doc id equals the did"
   ]
  },
  {
   "cell_type": "code",
   "execution_count": 59,
   "id": "9eb03f80",
   "metadata": {},
   "outputs": [],
   "source": [
    "assert(offline_did == did_doc[\"id\"])"
   ]
  },
  {
   "cell_type": "markdown",
   "id": "60203bf0",
   "metadata": {},
   "source": [
    "### 2. Check method specific identifier (p2sh_address) does not exist in TxOut on network"
   ]
  },
  {
   "cell_type": "code",
   "execution_count": 60,
   "id": "1f3a7914",
   "metadata": {},
   "outputs": [],
   "source": [
    "# TODO: Assume not on network for now"
   ]
  },
  {
   "cell_type": "markdown",
   "id": "2db78456",
   "metadata": {},
   "source": [
    "### 3. Remove id and controller fields from did_doc"
   ]
  },
  {
   "cell_type": "code",
   "execution_count": 61,
   "id": "b4ecdccf",
   "metadata": {},
   "outputs": [
    {
     "data": {
      "text/plain": [
       "{'@context': ['https://w3id.org/did/v0.11', 'https://w3id.org/btcr/v2'],\n",
       " 'verificationMethod': [{'id': '#satoshi',\n",
       "   'type': 'EcdsaSecp256k1VerificationKey2019',\n",
       "   'publicKeyBase58': 'hSrL7PDSmqTQwopWd6PJ45ddvkuGwsAESuxGw7yLrn1v'}],\n",
       " 'authentication': ['#satoshi'],\n",
       " 'assertionMethod': ['#satoshi'],\n",
       " 'serviceEndpoint': 'http://satoshi_endpoint.com'}"
      ]
     },
     "execution_count": 61,
     "metadata": {},
     "output_type": "execute_result"
    }
   ],
   "source": [
    "no_id_diddoc = did_doc\n",
    "del no_id_diddoc[\"id\"]\n",
    "\n",
    "for vm in no_id_diddoc[\"verificationMethod\"]:\n",
    "    del vm[\"controller\"]\n",
    "    \n",
    "no_id_diddoc"
   ]
  },
  {
   "cell_type": "markdown",
   "id": "eeced2f3",
   "metadata": {},
   "source": [
    "### 4. SHA256 hash did_doc"
   ]
  },
  {
   "cell_type": "code",
   "execution_count": 63,
   "id": "e58b9d1b",
   "metadata": {},
   "outputs": [
    {
     "data": {
      "text/plain": [
       "b'\\xcd\\x1b\\x83\\xe9\\x8a\\xe3\\xb8Dh4~\\xdd\\x1b\\xaf\\xd3\\xad;\\xf7\\x85r\\x9c\\xf3\\xafFb\\xe2\\xdd\\x00\\xfa\\xd9Ji'"
      ]
     },
     "execution_count": 63,
     "metadata": {},
     "output_type": "execute_result"
    }
   ],
   "source": [
    "bytes_doc = str_to_bytes(json.dumps(no_id_diddoc))\n",
    "sha256_doc = sha256(bytes_doc)\n",
    "sha256_doc"
   ]
  },
  {
   "cell_type": "markdown",
   "id": "6e382e6f",
   "metadata": {},
   "source": [
    "### 5. Create p2sh"
   ]
  },
  {
   "cell_type": "code",
   "execution_count": 64,
   "id": "a99c6199",
   "metadata": {},
   "outputs": [],
   "source": [
    "commands = [106, sha256_doc]\n",
    "\n",
    "script = RedeemScript(commands)\n",
    "p2sh_address = script.address()\n"
   ]
  },
  {
   "cell_type": "code",
   "execution_count": 71,
   "id": "711bc685",
   "metadata": {},
   "outputs": [
    {
     "data": {
      "text/plain": [
       "'34XF1KFUpWUuJomsg9jVbaDgZ6x5KhJX3U'"
      ]
     },
     "execution_count": 71,
     "metadata": {},
     "output_type": "execute_result"
    }
   ],
   "source": [
    "p2sh_address"
   ]
  },
  {
   "cell_type": "markdown",
   "id": "100725c7",
   "metadata": {},
   "source": [
    "### 6. Create p2sh_address and check equal to method_identifier"
   ]
  },
  {
   "cell_type": "code",
   "execution_count": 70,
   "id": "d220a1bd",
   "metadata": {},
   "outputs": [],
   "source": [
    "split_diddoc = offline_did.split(\":\")\n",
    "method_identifier = split_diddoc[3]\n",
    "assert(method_identifier == p2sh_address)"
   ]
  },
  {
   "cell_type": "markdown",
   "id": "7b443199",
   "metadata": {},
   "source": [
    "## Update the DID by publishing a Bitcoin Tx\n",
    "\n",
    "- Bitcoin Tx must contain UTXO with p2sh address used as DID method specific identifier\n",
    "- Can contain any number of other UTXO\n",
    "\n",
    "### Prerequisites \n",
    "\n",
    "- Control of a UTXO with funds\n",
    "\n",
    "### Questions\n",
    "\n",
    "- Is DID doc now deterministically resolvable from onchain inf alone\n",
    "    - Don't think this can be the case. How would the serviceEndpoint be retrieved?\n",
    "- Is the alternative to require a continuation document ALWAYS specified using the OP_RETURN approach defined in v0.1?\n",
    "    - If this is the case, then is any of the contents of the DID document determined from on chain data (e.g. other UTXO)\n",
    "- Should the offline DID document contain a verificationMethod containing the public key that will be used to sign the originating btc tx containing the p2sh identifier?"
   ]
  },
  {
   "cell_type": "markdown",
   "id": "d4c063b8",
   "metadata": {},
   "source": [
    "### Bitcoin Tx Format\n",
    "\n",
    "```\n",
    "    nVersion = 0 or (FULL format only) as appropriate (e.g. 2, for time locks)\n",
    "    nLockTime = 0 or (FULL format only) as appropriate (for time locks)\n",
    "    vin[0].prevout.hash = to_spend.txid\n",
    "    vin[0].prevout.n = 0\n",
    "    vin[0].nSequence = 0 or (FULL format only) as appropriate (for time locks)\n",
    "    vin[0].scriptWitness = message_signature\n",
    "    vout[0].nValue = 0\n",
    "    vout[0].scriptPubKey = p2sh_address (DID method specific identifier)\n",
    "```"
   ]
  },
  {
   "cell_type": "code",
   "execution_count": 36,
   "id": "174a8875",
   "metadata": {},
   "outputs": [],
   "source": []
  },
  {
   "cell_type": "markdown",
   "id": "fe4b213e",
   "metadata": {},
   "source": [
    "### Have TX1 with UTXO1 on Chain"
   ]
  },
  {
   "cell_type": "code",
   "execution_count": 76,
   "id": "54c3483f",
   "metadata": {},
   "outputs": [],
   "source": [
    "from buidl.tx import Tx, TxIn, TxOut\n",
    "from buidl.helper import str_to_bytes"
   ]
  },
  {
   "cell_type": "code",
   "execution_count": 56,
   "id": "2e02f888",
   "metadata": {},
   "outputs": [
    {
     "data": {
      "text/plain": [
       "0"
      ]
     },
     "execution_count": 56,
     "metadata": {},
     "output_type": "execute_result"
    }
   ],
   "source": [
    "# Some previous tx_id\n",
    "prev_tx=str_to_bytes(\"f4184fc596403b9d638783cf57adfe4c75c605f6356fbc91338530e9831e9e16\")\n",
    "# Index of output to spend\n",
    "prev_index=0\n",
    "\n",
    "tx_in = TxIn(prev_tx, prev_index)\n",
    "tx_in.prev_index"
   ]
  },
  {
   "cell_type": "code",
   "execution_count": 57,
   "id": "387e70d2",
   "metadata": {},
   "outputs": [
    {
     "data": {
      "text/plain": [
       "b'61e9e1389e03583319cbf6536f506c57c4efda75fc387836d9b304695cf4814f\\x00\\x00\\x00\\x00\\x00\\xff\\xff\\xff\\xff'"
      ]
     },
     "execution_count": 57,
     "metadata": {},
     "output_type": "execute_result"
    }
   ],
   "source": [
    "tx_in.serialize()"
   ]
  },
  {
   "cell_type": "code",
   "execution_count": 58,
   "id": "3feb68db",
   "metadata": {},
   "outputs": [],
   "source": [
    "# Amount int the TX Out\n",
    "amount = 200000\n",
    "\n",
    "# Locking pay to witness pubkey script (You know the private key)\n",
    "script_pubkey = private_key.point.p2wpkh_script()\n",
    "\n",
    "tx_out = TxOut(amount, script_pubkey)"
   ]
  },
  {
   "cell_type": "code",
   "execution_count": 59,
   "id": "3b93fd59",
   "metadata": {},
   "outputs": [],
   "source": [
    "# We are pretending this tx has been approriately signed and broadcast to network\n",
    "onchain_tx = Tx(0,[tx_in],[tx_out])"
   ]
  },
  {
   "cell_type": "markdown",
   "id": "ed37f580",
   "metadata": {},
   "source": [
    "## Write DID to Bitcoin\n",
    "\n",
    "Need to spend from a UTXO we control (UTX01) in a transaction that has a UTXO containing the script_pubkey of the DID. It may also contain additional UTXO specifying other verification methods.\n",
    "\n",
    "Note: this address is unspendable because the redeem script contains and OP Return"
   ]
  },
  {
   "cell_type": "code",
   "execution_count": 41,
   "id": "6c1f844b",
   "metadata": {},
   "outputs": [
    {
     "name": "stdout",
     "output_type": "stream",
     "text": [
      "did is :  did:btcr:2:3AwfyyBr3gG1rYnkWY57CAbi5x1vQySCHZ with address :  3AwfyyBr3gG1rYnkWY57CAbi5x1vQySCHZ  represenation of script_pubkey :  OP_HASH160 657eb9c2b217a8a3871c72101ccd3ee28680b7b0 OP_EQUAL \n",
      "Assocaited redeem script is :  OP_RETURN db3de05d88d61ddaf123eb65db790c64bc9662bdd8d8c46559b5aaa97461018d \n"
     ]
    }
   ],
   "source": [
    "print(\"did is : \", offline_did, \"with address : \", script.address(), \" represenation of script_pubkey : \", script.script_pubkey())\n",
    "\n",
    "print(\"Assocaited redeem script is : \", script)"
   ]
  },
  {
   "cell_type": "code",
   "execution_count": 61,
   "id": "53c832bb",
   "metadata": {},
   "outputs": [],
   "source": [
    "prev_tx = onchain_tx.hash()\n",
    "prev_index = 0\n",
    "\n",
    "# Identify UTXO1 as the input\n",
    "tx_in= TxIn(prev_tx, prev_index)"
   ]
  },
  {
   "cell_type": "code",
   "execution_count": 69,
   "id": "b81592c0",
   "metadata": {},
   "outputs": [],
   "source": [
    "# Need a output you can spend!\n",
    "amount = 2000\n",
    "script_pubkey = private_key.point.p2wpkh_script()\n",
    "\n",
    "tx_out0 = TxOut(amount,script_pubkey)"
   ]
  },
  {
   "cell_type": "code",
   "execution_count": 70,
   "id": "4a6dc288",
   "metadata": {},
   "outputs": [],
   "source": [
    "# Can never spend this output. But using it to create onchain whilst binding to document\n",
    "amount = 0\n",
    "script_pubkey = script.script_pubkey()\n",
    "\n",
    "tx_out1 = TxOut(amount,script_pubkey)"
   ]
  },
  {
   "cell_type": "code",
   "execution_count": 78,
   "id": "11b6be7a",
   "metadata": {},
   "outputs": [],
   "source": [
    "creation_tx = Tx(0, [tx_in], [tx_out0,tx_out1])"
   ]
  },
  {
   "cell_type": "markdown",
   "id": "d4d5aadd",
   "metadata": {},
   "source": [
    "## Sign Tx and Broadcast"
   ]
  },
  {
   "cell_type": "code",
   "execution_count": null,
   "id": "d0463f06",
   "metadata": {},
   "outputs": [],
   "source": [
    "#"
   ]
  }
 ],
 "metadata": {
  "kernelspec": {
   "display_name": "Python 3",
   "language": "python",
   "name": "python3"
  },
  "language_info": {
   "codemirror_mode": {
    "name": "ipython",
    "version": 3
   },
   "file_extension": ".py",
   "mimetype": "text/x-python",
   "name": "python",
   "nbconvert_exporter": "python",
   "pygments_lexer": "ipython3",
   "version": "3.8.5"
  }
 },
 "nbformat": 4,
 "nbformat_minor": 5
}
