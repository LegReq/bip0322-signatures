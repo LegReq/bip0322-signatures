{
 "cells": [
  {
   "cell_type": "markdown",
   "id": "f9d5e380",
   "metadata": {},
   "source": [
    "# Example of Using Pay-to-Script-Hash for BIP 322"
   ]
  },
  {
   "cell_type": "markdown",
   "id": "fdfd7bca",
   "metadata": {},
   "source": [
    "## Useful p2sh scripts for BIP 322\n",
    "\n",
    "* p2sh multisignature scripts"
   ]
  },
  {
   "cell_type": "code",
   "execution_count": 1,
   "id": "b9ebf483",
   "metadata": {},
   "outputs": [
    {
     "name": "stdout",
     "output_type": "stream",
     "text": [
      "/home/will/work/LegendaryRequirements/clients/dcd/bip0322-sigs\n"
     ]
    }
   ],
   "source": [
    "cd .."
   ]
  },
  {
   "cell_type": "code",
   "execution_count": 5,
   "id": "7622a016",
   "metadata": {},
   "outputs": [],
   "source": [
    "from buidl.ecc import PrivateKey\n",
    "\n",
    "secret_a = 287432\n",
    "sk_a = PrivateKey(secret=secret_a)\n",
    "\n",
    "secret_b = 187480\n",
    "sk_b = PrivateKey(secret=secret_b)\n",
    "\n",
    "secret_c = 286767\n",
    "sk_c = PrivateKey(secret=secret_c)"
   ]
  },
  {
   "cell_type": "markdown",
   "id": "a46b43d1",
   "metadata": {},
   "source": [
    "### Define 3 of 2 MultiSig Locking Script\n",
    "\n",
    "\n",
    "\n",
    "`2 <Public Key A> <Public Key B> <Public Key C> 3 CHECKMULTISIG`\n",
    "\n"
   ]
  },
  {
   "cell_type": "code",
   "execution_count": 16,
   "id": "397690dd",
   "metadata": {},
   "outputs": [],
   "source": [
    "from buidl.script import RedeemScript\n",
    "commands = [2, sk_a.point.sec(), sk_b.point.sec(), sk_c.point.sec(), 3, 174]\n",
    "\n",
    "script = RedeemScript(commands)"
   ]
  },
  {
   "cell_type": "code",
   "execution_count": 21,
   "id": "a449fd96",
   "metadata": {},
   "outputs": [
    {
     "data": {
      "text/plain": [
       "'34hTy3vY3t3sND26koPHZtXv6tiohVq238'"
      ]
     },
     "execution_count": 21,
     "metadata": {},
     "output_type": "execute_result"
    }
   ],
   "source": [
    "script.script_pubkey().address()"
   ]
  },
  {
   "cell_type": "code",
   "execution_count": 18,
   "id": "2e650894",
   "metadata": {},
   "outputs": [
    {
     "data": {
      "text/plain": [
       "True"
      ]
     },
     "execution_count": 18,
     "metadata": {},
     "output_type": "execute_result"
    }
   ],
   "source": [
    "script\n",
    "script.is_p2sh_multisig()"
   ]
  },
  {
   "cell_type": "code",
   "execution_count": 22,
   "id": "cac61573",
   "metadata": {},
   "outputs": [
    {
     "data": {
      "text/plain": [
       "'34hTy3vY3t3sND26koPHZtXv6tiohVq238'"
      ]
     },
     "execution_count": 22,
     "metadata": {},
     "output_type": "execute_result"
    }
   ],
   "source": [
    "script.address()"
   ]
  },
  {
   "cell_type": "markdown",
   "id": "bc082e64",
   "metadata": {},
   "source": [
    "### Need some way to partially sign the BIP 322"
   ]
  },
  {
   "cell_type": "code",
   "execution_count": null,
   "id": "21ab80cc",
   "metadata": {},
   "outputs": [],
   "source": []
  }
 ],
 "metadata": {
  "kernelspec": {
   "display_name": "Python 3",
   "language": "python",
   "name": "python3"
  },
  "language_info": {
   "codemirror_mode": {
    "name": "ipython",
    "version": 3
   },
   "file_extension": ".py",
   "mimetype": "text/x-python",
   "name": "python",
   "nbconvert_exporter": "python",
   "pygments_lexer": "ipython3",
   "version": "3.8.5"
  }
 },
 "nbformat": 4,
 "nbformat_minor": 5
}
