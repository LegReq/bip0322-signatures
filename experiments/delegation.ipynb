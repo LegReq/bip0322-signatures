{
 "cells": [
  {
   "cell_type": "markdown",
   "id": "2e5e20c3",
   "metadata": {},
   "source": [
    "# Delegation using BIP 322 Signatures"
   ]
  },
  {
   "cell_type": "code",
   "execution_count": 1,
   "id": "7df71110",
   "metadata": {},
   "outputs": [
    {
     "name": "stdout",
     "output_type": "stream",
     "text": [
      "/home/will/work/LegendaryRequirements/clients/dcd/bip0322-sigs\n"
     ]
    }
   ],
   "source": [
    "cd .."
   ]
  },
  {
   "cell_type": "code",
   "execution_count": 2,
   "id": "4acd28fa",
   "metadata": {},
   "outputs": [],
   "source": [
    "from buidl.mnemonic import secure_mnemonic"
   ]
  },
  {
   "cell_type": "code",
   "execution_count": 6,
   "id": "89d639e4",
   "metadata": {},
   "outputs": [],
   "source": [
    "# mnemonic = secure_mnemonic()\n",
    "mnemonic='quality extra black boy patch cup until achieve govern grid depart describe brand trash style tenant drill upon panda neither like depend okay pact'"
   ]
  },
  {
   "cell_type": "code",
   "execution_count": 7,
   "id": "4efad8e1",
   "metadata": {},
   "outputs": [],
   "source": [
    "from buidl.hd import HDPrivateKey\n",
    "hd_privatekey = HDPrivateKey.from_mnemonic(mnemonic)"
   ]
  },
  {
   "cell_type": "code",
   "execution_count": 11,
   "id": "c80e76a0",
   "metadata": {},
   "outputs": [
    {
     "data": {
      "text/plain": [
       "'bc1qxq4qcvym437jsjnhknh2p9qzrlnuu2vxau85xs'"
      ]
     },
     "execution_count": 11,
     "metadata": {},
     "output_type": "execute_result"
    }
   ],
   "source": [
    "key1 = hd_privatekey.get_p2wpkh_receiving_address(0,1)\n",
    "key1"
   ]
  },
  {
   "cell_type": "code",
   "execution_count": 12,
   "id": "0567e2da",
   "metadata": {},
   "outputs": [],
   "source": [
    "p2wpkh_address = hd_privatekey.p2wpkh_address()"
   ]
  },
  {
   "cell_type": "code",
   "execution_count": 13,
   "id": "b6c682f3",
   "metadata": {},
   "outputs": [
    {
     "data": {
      "text/plain": [
       "'bc1quk5p3p5wta8k8kl0gngqqav2t4zstyjazzjvqt'"
      ]
     },
     "execution_count": 13,
     "metadata": {},
     "output_type": "execute_result"
    }
   ],
   "source": [
    "p2wpkh_address"
   ]
  },
  {
   "cell_type": "code",
   "execution_count": 11,
   "id": "461158a7",
   "metadata": {},
   "outputs": [],
   "source": [
    "domain_diddoc = {\n",
    "    \"@context\": [\n",
    "        \"https://www.w3.org/ns/did/v1\",\n",
    "        \"context for bip322 signature suite\",\n",
    "        \"context for btcr 2.0\"\n",
    "        #\"https://w3id.org/security/suites/ed25519-2018/v1\",\n",
    "        #\"https://w3id.org/security/suites/x25519-2019/v1\"\n",
    "    ],\n",
    "    \"id\": \"did:dir:bc1q5ta3w7v7x5nmxqm43kvp8t93aypjfw74m03jvt\",\n",
    "    \"verificationMethod\": [\n",
    "    {\n",
    "      \"id\": \"#vm1\",\n",
    "      \"type\": \"BIP322\",\n",
    "      \"controller\": \"did:dir:bc1quk5p3p5wta8k8kl0gngqqav2t4zstyjazzjvqt\",\n",
    "      # This might also be a UTXO_REF\n",
    "#       \"script\": \"some scriptPubKey encoded\"\n",
    "      \"address\": \"bc1quk5p3p5wta8k8kl0gngqqav2t4zstyjazzjvqt\"\n",
    "    },\n",
    "    ],\n",
    "    # Ideally these should all use different verificationMethods/keys (NIST)\n",
    "    \"assertionMethod\": [\"#vm1\"],\n",
    "    \"authentication\": [\"#vm1\"],\n",
    "    \"capabilityInvocation\": [\"#vm1\"],\n",
    "    \"capabilityDelegation\": [\"#vm1\"],\n",
    "    \"keyAgreement\": [\"#vm1\"],\n",
    "    \"linkedResource\": [{\n",
    "        \"id\": \"#domain\",\n",
    "        \"path\": \"/domain\",\n",
    "        \"endpoint\": \"https://diddirectory.com\",\n",
    "        \"domain\": \"did:dir:domain:didmethods\"\n",
    "        \"rel\": \"rootAuthority\"\n",
    "    }]\n",
    "}"
   ]
  },
  {
   "cell_type": "code",
   "execution_count": 14,
   "id": "bf0ebadf",
   "metadata": {},
   "outputs": [],
   "source": [
    "did_dir_domain_didmethods = {\n",
    "    \"@context\": [\n",
    "        \"https://www.w3.org/ns/did/v1\",\n",
    "        \"context for bip322 signature suite\",\n",
    "        \"context for btcr 2.0\"\n",
    "        #\"https://w3id.org/security/suites/ed25519-2018/v1\",\n",
    "        #\"https://w3id.org/security/suites/x25519-2019/v1\"\n",
    "    ],\n",
    "    \"id\": \"did:dir:domain:didmethods\",\n",
    "    \"linkedResource\": [{\n",
    "        \"id\": \"#bc1q5ta3w7v7x5nmxqm43kvp8t93aypjfw74m03jvt\",\n",
    "        \"path\": \"/bc1q5ta3w7v7x5nmxqm43kvp8t93aypjfw74m03jvt\",\n",
    "        \"endpoint\": \"did:dir:bc1q5ta3w7v7x5nmxqm43kvp8t93aypjfw74m03jvt\",\n",
    "        \"rel\": \"claim\"\n",
    "    }]\n",
    "}"
   ]
  },
  {
   "cell_type": "code",
   "execution_count": 9,
   "id": "76f06930",
   "metadata": {},
   "outputs": [],
   "source": [
    "unsigned_zcap = {\n",
    "  \"@context\": [\"https://w3id.org/security/v2\",\n",
    "               \"https://autopower.example/\"],\n",
    "\n",
    "  \"id\": \"28379874320923\",\n",
    "    \n",
    "  \"parentCapability\": \"did:dir:bc1q5ta3w7v7x5nmxqm43kvp8t93aypjfw74m03jvt/domain\"\n",
    "\n",
    "\n",
    "  \"invoker\": \"https://social.example/alyssa#key-for-car\",\n",
    "\n",
    "  \"proof\": {\n",
    "    \"type\": \"Ed25519Signature2018\",\n",
    "    \"created\": \"2018-02-13T21:26:08Z\",\n",
    "    \"capabilityChain\": [\n",
    "      \"https://whatacar.example/a-fancy-car\"\n",
    "    ],\n",
    "    \"jws\": \"eyJhbGciOiJFZERTQSIsImI2NCI6ZmFsc2UsImNyaXQiOlsiYjY0Il19..lfAFjrWE-4RxhL0gtzSMRX72NR9SRDgaMmkjPA4if0ERbw4R2bnts5sAs8OyhAlbFzBAKOqrFk57AYqwSR2vCw\",\n",
    "    \"proofPurpose\": \"capabilityDelegation\",\n",
    "    \"verificationMethod\": \"https://example.com/i/alice/keys/1\"\n",
    "  }\n",
    "}"
   ]
  },
  {
   "cell_type": "code",
   "execution_count": null,
   "id": "99d2c0d1",
   "metadata": {},
   "outputs": [],
   "source": []
  },
  {
   "cell_type": "code",
   "execution_count": null,
   "id": "05782d66",
   "metadata": {},
   "outputs": [],
   "source": []
  }
 ],
 "metadata": {
  "kernelspec": {
   "display_name": "Python 3",
   "language": "python",
   "name": "python3"
  },
  "language_info": {
   "codemirror_mode": {
    "name": "ipython",
    "version": 3
   },
   "file_extension": ".py",
   "mimetype": "text/x-python",
   "name": "python",
   "nbconvert_exporter": "python",
   "pygments_lexer": "ipython3",
   "version": "3.8.5"
  }
 },
 "nbformat": 4,
 "nbformat_minor": 5
}
