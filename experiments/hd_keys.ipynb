{
 "cells": [
  {
   "cell_type": "markdown",
   "id": "69477125",
   "metadata": {},
   "source": [
    "# Test Keys from Mnemonic"
   ]
  },
  {
   "cell_type": "code",
   "execution_count": 1,
   "id": "718317e2",
   "metadata": {},
   "outputs": [
    {
     "name": "stdout",
     "output_type": "stream",
     "text": [
      "/home/will/work/LegendaryRequirements/clients/dcd/bip0322-sigs\n"
     ]
    }
   ],
   "source": [
    "cd .."
   ]
  },
  {
   "cell_type": "code",
   "execution_count": 2,
   "id": "ee97f0da",
   "metadata": {},
   "outputs": [],
   "source": [
    "from buidl.mnemonic import secure_mnemonic"
   ]
  },
  {
   "cell_type": "code",
   "execution_count": 3,
   "id": "72d09acb",
   "metadata": {},
   "outputs": [],
   "source": [
    "mnemonic = secure_mnemonic()"
   ]
  },
  {
   "cell_type": "code",
   "execution_count": 4,
   "id": "ab07c405",
   "metadata": {},
   "outputs": [
    {
     "data": {
      "text/plain": [
       "'promote armed life guard end industry develop museum comic panic race wait web bachelor slot brave sick candy expect shield forest draft prize will'"
      ]
     },
     "execution_count": 4,
     "metadata": {},
     "output_type": "execute_result"
    }
   ],
   "source": [
    "mnemonic"
   ]
  },
  {
   "cell_type": "code",
   "execution_count": 5,
   "id": "d1bc64a9",
   "metadata": {},
   "outputs": [],
   "source": [
    "from buidl.hd import HDPrivateKey"
   ]
  },
  {
   "cell_type": "code",
   "execution_count": 6,
   "id": "f2e5f806",
   "metadata": {},
   "outputs": [],
   "source": [
    "hd_privatekey = HDPrivateKey.from_mnemonic(mnemonic)"
   ]
  },
  {
   "cell_type": "code",
   "execution_count": 7,
   "id": "9d09925f",
   "metadata": {},
   "outputs": [
    {
     "data": {
      "text/plain": [
       "xprv9s21ZrQH143K3TwbAbwi5gEvtjWTz6wa77QpzGjzot7YL1imGDgdp8kxtow5p7fkhb7cR4Tjhx5epnS5JgG1F2h1cLFjVaBiqCgQocGxw7R"
      ]
     },
     "execution_count": 7,
     "metadata": {},
     "output_type": "execute_result"
    }
   ],
   "source": [
    "hd_privatekey"
   ]
  },
  {
   "cell_type": "code",
   "execution_count": 8,
   "id": "554f774e",
   "metadata": {},
   "outputs": [],
   "source": [
    "taproot_address = hd_privatekey.get_p2tr_receiving_address()"
   ]
  },
  {
   "cell_type": "code",
   "execution_count": 9,
   "id": "7e9fb9a6",
   "metadata": {},
   "outputs": [
    {
     "data": {
      "text/plain": [
       "'bc1pxdlss29y9l0cjkvmehuadppxvynclc4clzf00funvsxl8qhuua9s73y05v'"
      ]
     },
     "execution_count": 9,
     "metadata": {},
     "output_type": "execute_result"
    }
   ],
   "source": [
    "taproot_address"
   ]
  },
  {
   "cell_type": "code",
   "execution_count": 10,
   "id": "b41c21aa",
   "metadata": {},
   "outputs": [],
   "source": [
    "private_key = hd_privatekey.get_p2tr_receiving_privkey()"
   ]
  },
  {
   "cell_type": "code",
   "execution_count": 11,
   "id": "d2525c96",
   "metadata": {},
   "outputs": [
    {
     "data": {
      "text/plain": [
       "'bc1pxdlss29y9l0cjkvmehuadppxvynclc4clzf00funvsxl8qhuua9s73y05v'"
      ]
     },
     "execution_count": 11,
     "metadata": {},
     "output_type": "execute_result"
    }
   ],
   "source": [
    "private_key.point.p2tr_address()"
   ]
  },
  {
   "cell_type": "code",
   "execution_count": 14,
   "id": "c9511d14",
   "metadata": {},
   "outputs": [],
   "source": [
    "from buidl.taproot import P2PKTapScript"
   ]
  },
  {
   "cell_type": "code",
   "execution_count": 12,
   "id": "0a4cb257",
   "metadata": {},
   "outputs": [],
   "source": [
    "message = \"Hello World\""
   ]
  },
  {
   "cell_type": "code",
   "execution_count": 13,
   "id": "90422e17",
   "metadata": {},
   "outputs": [
    {
     "name": "stdout",
     "output_type": "stream",
     "text": [
      "Is taproot True\n",
      "\n",
      "tx: 642a71fdaba6fba121a3918d961ee86c3097cfb427177ebcb80925af45b28be6\n",
      "version: 0\n",
      "locktime: 0\n",
      "tx_ins:\n",
      "3b44d6fa658e6d4d72d0ba22ad361d67fdbebc2c9700d3a1f9fbac7cda09d140:0\n",
      "tx_outs:\n",
      "0:OP_RETURN \n",
      "\n",
      "txIn tap script None\n",
      "txIn witness 72f2b053ecb530069ba057de519ea4337dd42132b1b730e0eb39fa00c1ea5627c7af1c3c7a5e6ae92ae3194b28db1df9c4fe7af0e2562c82d912df92030fb63201 \n",
      "False\n",
      "Combined Script OP_1 337f0828a42fdf89599bcdf9d6842661278fe2b8f892f7a793640df382fce74b \n"
     ]
    },
    {
     "ename": "RuntimeError",
     "evalue": "Unable to sign message",
     "output_type": "error",
     "traceback": [
      "\u001b[0;31m---------------------------------------------------------------------------\u001b[0m",
      "\u001b[0;31mRuntimeError\u001b[0m                              Traceback (most recent call last)",
      "Input \u001b[0;32mIn [13]\u001b[0m, in \u001b[0;36m<cell line: 3>\u001b[0;34m()\u001b[0m\n\u001b[1;32m      1\u001b[0m \u001b[38;5;28;01mfrom\u001b[39;00m \u001b[38;5;21;01msrc\u001b[39;00m\u001b[38;5;21;01m.\u001b[39;00m\u001b[38;5;21;01mmessage\u001b[39;00m \u001b[38;5;28;01mimport\u001b[39;00m sign_message, MessageSignatureFormat\n\u001b[0;32m----> 3\u001b[0m signature \u001b[38;5;241m=\u001b[39m \u001b[43msign_message\u001b[49m\u001b[43m(\u001b[49m\u001b[43mMessageSignatureFormat\u001b[49m\u001b[38;5;241;43m.\u001b[39;49m\u001b[43mSIMPLE\u001b[49m\u001b[43m,\u001b[49m\u001b[43m \u001b[49m\u001b[43mprivate_key\u001b[49m\u001b[43m,\u001b[49m\u001b[43m \u001b[49m\u001b[43mtaproot_address\u001b[49m\u001b[43m,\u001b[49m\u001b[43m \u001b[49m\u001b[43mmessage\u001b[49m\u001b[43m)\u001b[49m\n",
      "File \u001b[0;32m~/work/LegendaryRequirements/clients/dcd/bip0322-sigs/src/message.py:153\u001b[0m, in \u001b[0;36msign_message\u001b[0;34m(format, private_key, address, message)\u001b[0m\n\u001b[1;32m    150\u001b[0m \u001b[38;5;28;01mdef\u001b[39;00m \u001b[38;5;21msign_message\u001b[39m(\u001b[38;5;28mformat\u001b[39m: MessageSignatureFormat, private_key: PrivateKey, address: \u001b[38;5;28mstr\u001b[39m, message: \u001b[38;5;28mstr\u001b[39m):\n\u001b[1;32m    152\u001b[0m     \u001b[38;5;28;01mif\u001b[39;00m (\u001b[38;5;28mformat\u001b[39m \u001b[38;5;241m!=\u001b[39m MessageSignatureFormat\u001b[38;5;241m.\u001b[39mLEGACY):\n\u001b[0;32m--> 153\u001b[0m         \u001b[38;5;28;01mreturn\u001b[39;00m \u001b[43msign_message_bip322\u001b[49m\u001b[43m(\u001b[49m\u001b[38;5;28;43mformat\u001b[39;49m\u001b[43m,\u001b[49m\u001b[43mprivate_key\u001b[49m\u001b[43m,\u001b[49m\u001b[43maddress\u001b[49m\u001b[43m,\u001b[49m\u001b[43mmessage\u001b[49m\u001b[43m)\u001b[49m\n\u001b[1;32m    156\u001b[0m     script_pubkey \u001b[38;5;241m=\u001b[39m address_to_script_pubkey(address)\n\u001b[1;32m    158\u001b[0m     \u001b[38;5;28;01mif\u001b[39;00m (\u001b[38;5;129;01mnot\u001b[39;00m script_pubkey\u001b[38;5;241m.\u001b[39mis_p2pkh):\n",
      "File \u001b[0;32m~/work/LegendaryRequirements/clients/dcd/bip0322-sigs/src/message.py:194\u001b[0m, in \u001b[0;36msign_message_bip322\u001b[0;34m(format, private_key, address, message)\u001b[0m\n\u001b[1;32m    192\u001b[0m \u001b[38;5;28mprint\u001b[39m(\u001b[38;5;124m\"\u001b[39m\u001b[38;5;124mCombined Script\u001b[39m\u001b[38;5;124m\"\u001b[39m, combined_script)\n\u001b[1;32m    193\u001b[0m \u001b[38;5;28;01mif\u001b[39;00m (\u001b[38;5;129;01mnot\u001b[39;00m sig_ok):\n\u001b[0;32m--> 194\u001b[0m     \u001b[38;5;28;01mraise\u001b[39;00m \u001b[38;5;167;01mRuntimeError\u001b[39;00m(\u001b[38;5;124m\"\u001b[39m\u001b[38;5;124mUnable to sign message\u001b[39m\u001b[38;5;124m\"\u001b[39m)\n\u001b[1;32m    196\u001b[0m \u001b[38;5;28;01mif\u001b[39;00m (\u001b[38;5;28mformat\u001b[39m \u001b[38;5;241m==\u001b[39m  MessageSignatureFormat\u001b[38;5;241m.\u001b[39mSIMPLE):\n\u001b[1;32m    197\u001b[0m         \u001b[38;5;28;01mreturn\u001b[39;00m base64_encode(to_sign\u001b[38;5;241m.\u001b[39mserialize_witness())\n",
      "\u001b[0;31mRuntimeError\u001b[0m: Unable to sign message"
     ]
    }
   ],
   "source": [
    "from src.message import sign_message, MessageSignatureFormat\n",
    "\n",
    "signature = sign_message(MessageSignatureFormat.SIMPLE, private_key, taproot_address, message)"
   ]
  },
  {
   "cell_type": "code",
   "execution_count": null,
   "id": "804f1d60",
   "metadata": {},
   "outputs": [],
   "source": []
  }
 ],
 "metadata": {
  "kernelspec": {
   "display_name": "Python 3",
   "language": "python",
   "name": "python3"
  },
  "language_info": {
   "codemirror_mode": {
    "name": "ipython",
    "version": 3
   },
   "file_extension": ".py",
   "mimetype": "text/x-python",
   "name": "python",
   "nbconvert_exporter": "python",
   "pygments_lexer": "ipython3",
   "version": "3.8.5"
  }
 },
 "nbformat": 4,
 "nbformat_minor": 5
}
