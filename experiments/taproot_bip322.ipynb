{
 "cells": [
  {
   "cell_type": "markdown",
   "id": "a7aedc14",
   "metadata": {},
   "source": [
    "# Taproot BIP 322 Signing\n",
    "\n",
    "This notebook experiments with using taproot based addresses for BIP 322 signing"
   ]
  },
  {
   "cell_type": "markdown",
   "id": "c83973bc",
   "metadata": {},
   "source": [
    "## Types of Taproot Scripts to Test\n",
    "\n",
    "See Jimmy Song presentation on [Taproot MultiSig](https://jimmysong.github.io/taproot-multisig/)\n",
    "\n",
    "1. Schnorr pay to public key\n",
    "2. Schnorr MuSig signer (n of n)\n",
    "3. Single leaf multi sig TapScript\n",
    "4. Multi leaf k-of-k TapScript\n",
    "5. Multi leaf MuSig TapScript\n",
    "6. Multi leaf everything TapScript\n",
    "\n",
    "Initially, this notebook will just focus creating and verify BIP 322 signatures using types 1 and 2. Although the presentation referenced above details why the other types may be interesting to support."
   ]
  },
  {
   "cell_type": "code",
   "execution_count": 1,
   "id": "9b1d3f2a",
   "metadata": {},
   "outputs": [
    {
     "name": "stdout",
     "output_type": "stream",
     "text": [
      "/home/will/work/LegendaryRequirements/clients/dcd/bip0322-sigs\n"
     ]
    }
   ],
   "source": [
    "cd .."
   ]
  },
  {
   "cell_type": "markdown",
   "id": "6e4d552e",
   "metadata": {},
   "source": [
    "## Schnorr pay to public key\n",
    "\n",
    "This just uses a taproot based address which can be unlocked with a single schnorr signature from a specific private key."
   ]
  },
  {
   "cell_type": "markdown",
   "id": "f22c16f2",
   "metadata": {},
   "source": [
    "### Import PrivateKey"
   ]
  },
  {
   "cell_type": "code",
   "execution_count": 2,
   "id": "560e843b",
   "metadata": {},
   "outputs": [],
   "source": [
    "from buidl.ecc import PrivateKey"
   ]
  },
  {
   "cell_type": "code",
   "execution_count": 3,
   "id": "1c2697f1",
   "metadata": {},
   "outputs": [],
   "source": [
    "private_key_wif = \"L3VFeEujGtevx9w18HD1fhRbCH67Az2dpCymeRE1SoPK6XQtaN2k\""
   ]
  },
  {
   "cell_type": "code",
   "execution_count": 4,
   "id": "f2253282",
   "metadata": {},
   "outputs": [],
   "source": [
    "private_key = PrivateKey.parse(private_key_wif)"
   ]
  },
  {
   "cell_type": "markdown",
   "id": "35f82ef0",
   "metadata": {},
   "source": [
    "### Define Message to Sign"
   ]
  },
  {
   "cell_type": "code",
   "execution_count": 5,
   "id": "010bbc0e",
   "metadata": {},
   "outputs": [],
   "source": [
    "message = \"Hello World\""
   ]
  },
  {
   "cell_type": "markdown",
   "id": "c5979550",
   "metadata": {},
   "source": [
    "### Generate A Pay to Tap Root Script for the Secp256k1 Point associated with The Private Key"
   ]
  },
  {
   "cell_type": "code",
   "execution_count": 6,
   "id": "6c99aa21",
   "metadata": {},
   "outputs": [
    {
     "name": "stdout",
     "output_type": "stream",
     "text": [
      "OP_1 0b34f2cc6f60d54e3fdc2d1dd053fcc393bd2db9acc8de4a7c3cc28a83d4d8e9 \n"
     ]
    }
   ],
   "source": [
    "p2tr_script = private_key.point.p2tr_script()\n",
    "print(p2tr_script)"
   ]
  },
  {
   "cell_type": "markdown",
   "id": "611561c7",
   "metadata": {},
   "source": [
    "### Convert Script to Bitcoin Address Representation"
   ]
  },
  {
   "cell_type": "code",
   "execution_count": 7,
   "id": "390b6d24",
   "metadata": {},
   "outputs": [
    {
     "name": "stdout",
     "output_type": "stream",
     "text": [
      "bc1ppv609nr0vr25u07u95waq5lucwfm6tde4nydujnu8npg4q75mr5sxq8lt3\n"
     ]
    }
   ],
   "source": [
    "p2tr_address = p2tr_script.address()\n",
    "print(p2tr_address)"
   ]
  },
  {
   "cell_type": "markdown",
   "id": "96054c61",
   "metadata": {},
   "source": [
    "### Calculate Teaked Private Key for the P2TR Address\n",
    "\n",
    "See the Tweaked Keys section :  https://medium.com/coinmonks/on-bitcoins-schnorr-signature-algorithm-and-taproot-script-and-witness-sizes-fe4d1e6591a7"
   ]
  },
  {
   "cell_type": "code",
   "execution_count": 8,
   "id": "b0f37292",
   "metadata": {},
   "outputs": [],
   "source": [
    "from buidl.taproot import TapRoot\n",
    "taproot = TapRoot(private_key.point)\n",
    "tweaked_private_key = private_key.tweaked(taproot.tweak)"
   ]
  },
  {
   "cell_type": "code",
   "execution_count": 9,
   "id": "927445d8",
   "metadata": {},
   "outputs": [
    {
     "data": {
      "text/plain": [
       "<buidl.taproot.TapRoot at 0x7f57b044d820>"
      ]
     },
     "execution_count": 9,
     "metadata": {},
     "output_type": "execute_result"
    }
   ],
   "source": [
    "taproot"
   ]
  },
  {
   "cell_type": "markdown",
   "id": "c800e739",
   "metadata": {},
   "source": [
    "### Sign Message using Tweaked Private Key and Taproot Address"
   ]
  },
  {
   "cell_type": "code",
   "execution_count": 10,
   "id": "954953a2",
   "metadata": {},
   "outputs": [
    {
     "name": "stdout",
     "output_type": "stream",
     "text": [
      "BIP 322 p2tr based Signature:  AUHd69PrJQEv+oKTfZ8l+WROBHuy9HKrbFCJu7U1iK2iiEy1vMU5EfMtjc+VSHM7aU0SDbak5IUZRVno2P5mjSafAQ==\n"
     ]
    }
   ],
   "source": [
    "from src.message import sign_message, MessageSignatureFormat\n",
    "signature = sign_message(MessageSignatureFormat.SIMPLE, tweaked_private_key, p2tr_address, message)\n",
    "print(\"BIP 322 p2tr based Signature: \", signature)"
   ]
  },
  {
   "cell_type": "markdown",
   "id": "db26c3ea",
   "metadata": {},
   "source": [
    "### Verify Signature against p2tr_address and message"
   ]
  },
  {
   "cell_type": "code",
   "execution_count": 19,
   "id": "d60d5fb9",
   "metadata": {},
   "outputs": [
    {
     "name": "stdout",
     "output_type": "stream",
     "text": [
      "mismatch between length and consumed bytes 76 vs 25\n",
      "BIP 322 Signature \n",
      "AUHd69PrJQEv+oKTfZ8l+WROBHuy9HKrbFCJu7U1iK2iiEy1vMU5EfMtjc+VSHM7aU0SDbak5IUZRVno2P5mjSafAQ==\n",
      "against message : Hello World and address : bc1ppv609nr0vr25u07u95waq5lucwfm6tde4nydujnu8npg4q75mr5sxq8lt3\n",
      "is valid?  False\n"
     ]
    }
   ],
   "source": [
    "from src.message import verify_message\n",
    "\n",
    "is_valid = verify_message(p2tr_address, signature, \"HelloWorldasd\")\n",
    "\n",
    "print(\"BIP 322 Signature \\n\" + signature + \"\\nagainst message : \" + message + \" and address : \" + p2tr_address + \"\\nis valid? \", is_valid)"
   ]
  },
  {
   "cell_type": "code",
   "execution_count": 12,
   "id": "011d0019",
   "metadata": {},
   "outputs": [
    {
     "data": {
      "text/plain": [
       "True"
      ]
     },
     "execution_count": 12,
     "metadata": {},
     "output_type": "execute_result"
    }
   ],
   "source": [
    "is_valid"
   ]
  },
  {
   "cell_type": "markdown",
   "id": "4a86a17b",
   "metadata": {},
   "source": [
    "## Schnorr MuSig Signing\n",
    "\n",
    "This is a p2tr address that requires a n-of-n Schnorr aggregated signature.\n",
    "\n",
    "**Note: The current API defined in message.py cannot support MuSig. Or other more complex Bitcoin Script. Need something along the lines of Partially Signed BIP 322 Signature**\n",
    "\n",
    "**Note2: PSBT in buidl-python does not to support taproot yet (See open issue https://github.com/buidl-bitcoin/buidl-python/issues/107)**"
   ]
  },
  {
   "cell_type": "code",
   "execution_count": 13,
   "id": "9b5db88d",
   "metadata": {},
   "outputs": [],
   "source": [
    "secret1 = 123817492183\n",
    "priv_key1 = PrivateKey(secret=secret1)\n",
    "\n",
    "secret2 = 7529884329432\n",
    "priv_key2 = PrivateKey(secret=secret2)"
   ]
  },
  {
   "cell_type": "code",
   "execution_count": 14,
   "id": "881aeef3",
   "metadata": {},
   "outputs": [],
   "source": [
    "aggregated_pubkey = priv_key1.point + priv_key2.point"
   ]
  },
  {
   "cell_type": "code",
   "execution_count": 15,
   "id": "d0124966",
   "metadata": {},
   "outputs": [
    {
     "data": {
      "text/plain": [
       "9288271874445777610288052398967688125321604121694257413205830807510323674645"
      ]
     },
     "execution_count": 15,
     "metadata": {},
     "output_type": "execute_result"
    }
   ],
   "source": [
    "taproot = TapRoot(aggregated_pubkey)\n",
    "taproot.tweak"
   ]
  },
  {
   "cell_type": "code",
   "execution_count": 16,
   "id": "6dfc3000",
   "metadata": {},
   "outputs": [],
   "source": [
    "musig_taproot_address = taproot.address()"
   ]
  },
  {
   "cell_type": "code",
   "execution_count": 17,
   "id": "e6289d54",
   "metadata": {},
   "outputs": [],
   "source": [
    "tweaked_pk_1 = priv_key1.tweaked(taproot.tweak)"
   ]
  },
  {
   "cell_type": "code",
   "execution_count": 18,
   "id": "854a0cfc",
   "metadata": {},
   "outputs": [
    {
     "ename": "RuntimeError",
     "evalue": "Unable to sign message",
     "output_type": "error",
     "traceback": [
      "\u001b[0;31m---------------------------------------------------------------------------\u001b[0m",
      "\u001b[0;31mRuntimeError\u001b[0m                              Traceback (most recent call last)",
      "Input \u001b[0;32mIn [18]\u001b[0m, in \u001b[0;36m<cell line: 1>\u001b[0;34m()\u001b[0m\n\u001b[0;32m----> 1\u001b[0m signature \u001b[38;5;241m=\u001b[39m \u001b[43msign_message\u001b[49m\u001b[43m(\u001b[49m\u001b[43mMessageSignatureFormat\u001b[49m\u001b[38;5;241;43m.\u001b[39;49m\u001b[43mFULL\u001b[49m\u001b[43m,\u001b[49m\u001b[43mtweaked_pk_1\u001b[49m\u001b[43m,\u001b[49m\u001b[43mmusig_taproot_address\u001b[49m\u001b[43m,\u001b[49m\u001b[43mmessage\u001b[49m\u001b[43m)\u001b[49m\n",
      "File \u001b[0;32m~/work/LegendaryRequirements/clients/dcd/bip0322-sigs/src/message.py:154\u001b[0m, in \u001b[0;36msign_message\u001b[0;34m(format, private_key, address, message)\u001b[0m\n\u001b[1;32m    151\u001b[0m \u001b[38;5;28;01mdef\u001b[39;00m \u001b[38;5;21msign_message\u001b[39m(\u001b[38;5;28mformat\u001b[39m: MessageSignatureFormat, private_key: PrivateKey, address: \u001b[38;5;28mstr\u001b[39m, message: \u001b[38;5;28mstr\u001b[39m):\n\u001b[1;32m    153\u001b[0m     \u001b[38;5;28;01mif\u001b[39;00m (\u001b[38;5;28mformat\u001b[39m \u001b[38;5;241m!=\u001b[39m MessageSignatureFormat\u001b[38;5;241m.\u001b[39mLEGACY):\n\u001b[0;32m--> 154\u001b[0m         \u001b[38;5;28;01mreturn\u001b[39;00m \u001b[43msign_message_bip322\u001b[49m\u001b[43m(\u001b[49m\u001b[38;5;28;43mformat\u001b[39;49m\u001b[43m,\u001b[49m\u001b[43mprivate_key\u001b[49m\u001b[43m,\u001b[49m\u001b[43maddress\u001b[49m\u001b[43m,\u001b[49m\u001b[43mmessage\u001b[49m\u001b[43m)\u001b[49m\n\u001b[1;32m    157\u001b[0m     script_pubkey \u001b[38;5;241m=\u001b[39m address_to_script_pubkey(address)\n\u001b[1;32m    159\u001b[0m     \u001b[38;5;28;01mif\u001b[39;00m (\u001b[38;5;129;01mnot\u001b[39;00m script_pubkey\u001b[38;5;241m.\u001b[39mis_p2pkh):\n",
      "File \u001b[0;32m~/work/LegendaryRequirements/clients/dcd/bip0322-sigs/src/message.py:191\u001b[0m, in \u001b[0;36msign_message_bip322\u001b[0;34m(format, private_key, address, message)\u001b[0m\n\u001b[1;32m    188\u001b[0m combined_script \u001b[38;5;241m=\u001b[39m to_sign\u001b[38;5;241m.\u001b[39mtx_ins[\u001b[38;5;241m0\u001b[39m]\u001b[38;5;241m.\u001b[39mscript_sig \u001b[38;5;241m+\u001b[39m to_sign\u001b[38;5;241m.\u001b[39mtx_ins[\u001b[38;5;241m0\u001b[39m]\u001b[38;5;241m.\u001b[39mscript_pubkey(\u001b[38;5;124m\"\u001b[39m\u001b[38;5;124mmainnet\u001b[39m\u001b[38;5;124m\"\u001b[39m)\n\u001b[1;32m    189\u001b[0m \u001b[38;5;28;01mif\u001b[39;00m (\u001b[38;5;129;01mnot\u001b[39;00m sig_ok):\n\u001b[1;32m    190\u001b[0m     \u001b[38;5;66;03m# TODO: this may be a multisig which successfully signed but needed additional signatures\u001b[39;00m\n\u001b[0;32m--> 191\u001b[0m     \u001b[38;5;28;01mraise\u001b[39;00m \u001b[38;5;167;01mRuntimeError\u001b[39;00m(\u001b[38;5;124m\"\u001b[39m\u001b[38;5;124mUnable to sign message\u001b[39m\u001b[38;5;124m\"\u001b[39m)\n\u001b[1;32m    193\u001b[0m \u001b[38;5;28;01mif\u001b[39;00m (\u001b[38;5;28mformat\u001b[39m \u001b[38;5;241m==\u001b[39m  MessageSignatureFormat\u001b[38;5;241m.\u001b[39mSIMPLE):\n\u001b[1;32m    194\u001b[0m         \u001b[38;5;28;01mreturn\u001b[39;00m base64_encode(to_sign\u001b[38;5;241m.\u001b[39mserialize_witness())\n",
      "\u001b[0;31mRuntimeError\u001b[0m: Unable to sign message"
     ]
    }
   ],
   "source": [
    "signature = sign_message(MessageSignatureFormat.FULL,tweaked_pk_1,musig_taproot_address,message)"
   ]
  },
  {
   "cell_type": "code",
   "execution_count": null,
   "id": "890dfc44",
   "metadata": {},
   "outputs": [],
   "source": []
  },
  {
   "cell_type": "code",
   "execution_count": null,
   "id": "87e6d630",
   "metadata": {},
   "outputs": [],
   "source": []
  },
  {
   "cell_type": "code",
   "execution_count": null,
   "id": "e35defc7",
   "metadata": {},
   "outputs": [],
   "source": []
  },
  {
   "cell_type": "code",
   "execution_count": null,
   "id": "2aea6b07",
   "metadata": {},
   "outputs": [],
   "source": []
  },
  {
   "cell_type": "code",
   "execution_count": null,
   "id": "0cc16ddc",
   "metadata": {},
   "outputs": [],
   "source": []
  }
 ],
 "metadata": {
  "kernelspec": {
   "display_name": "Python 3",
   "language": "python",
   "name": "python3"
  },
  "language_info": {
   "codemirror_mode": {
    "name": "ipython",
    "version": 3
   },
   "file_extension": ".py",
   "mimetype": "text/x-python",
   "name": "python",
   "nbconvert_exporter": "python",
   "pygments_lexer": "ipython3",
   "version": "3.8.5"
  }
 },
 "nbformat": 4,
 "nbformat_minor": 5
}
