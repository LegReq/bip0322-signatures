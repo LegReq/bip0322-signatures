{
 "cells": [
  {
   "cell_type": "markdown",
   "id": "a7aedc14",
   "metadata": {},
   "source": [
    "# Taproot BIP 322 Signing\n",
    "\n",
    "This notebook experiments with using taproot addresses for BIP 322 signing"
   ]
  },
  {
   "cell_type": "code",
   "execution_count": 2,
   "id": "9b1d3f2a",
   "metadata": {},
   "outputs": [
    {
     "name": "stdout",
     "output_type": "stream",
     "text": [
      "/home/will/work/LegendaryRequirements/clients/dcd/bip0322-sigs\n"
     ]
    }
   ],
   "source": [
    "cd .."
   ]
  },
  {
   "cell_type": "code",
   "execution_count": 3,
   "id": "560e843b",
   "metadata": {},
   "outputs": [],
   "source": [
    "from buidl.ecc import PrivateKey"
   ]
  },
  {
   "cell_type": "code",
   "execution_count": 4,
   "id": "1c2697f1",
   "metadata": {},
   "outputs": [],
   "source": [
    "private_key_wif = \"L3VFeEujGtevx9w18HD1fhRbCH67Az2dpCymeRE1SoPK6XQtaN2k\""
   ]
  },
  {
   "cell_type": "code",
   "execution_count": 5,
   "id": "f2253282",
   "metadata": {},
   "outputs": [],
   "source": [
    "private_key = PrivateKey.parse(private_key_wif)"
   ]
  },
  {
   "cell_type": "code",
   "execution_count": 6,
   "id": "6c99aa21",
   "metadata": {},
   "outputs": [
    {
     "name": "stdout",
     "output_type": "stream",
     "text": [
      "OP_1 0b34f2cc6f60d54e3fdc2d1dd053fcc393bd2db9acc8de4a7c3cc28a83d4d8e9 \n"
     ]
    }
   ],
   "source": [
    "tap_script = private_key.point.p2tr_script()\n",
    "print(tap_script)"
   ]
  },
  {
   "cell_type": "code",
   "execution_count": 7,
   "id": "390b6d24",
   "metadata": {},
   "outputs": [],
   "source": [
    "taproot_address = private_key.point.p2tr_address()"
   ]
  },
  {
   "cell_type": "code",
   "execution_count": 8,
   "id": "8aad5961",
   "metadata": {},
   "outputs": [
    {
     "data": {
      "text/plain": [
       "'bc1ppv609nr0vr25u07u95waq5lucwfm6tde4nydujnu8npg4q75mr5sxq8lt3'"
      ]
     },
     "execution_count": 8,
     "metadata": {},
     "output_type": "execute_result"
    }
   ],
   "source": [
    "taproot_address"
   ]
  },
  {
   "cell_type": "code",
   "execution_count": 14,
   "id": "51cab481",
   "metadata": {},
   "outputs": [
    {
     "data": {
      "text/plain": [
       "b' \\xc7\\xf1 \\x03\\x19dB\\x94=\\x85\\x88\\xe0\\x1a\\xee\\x84\\x04#\\xccT\\xfc\\x15!Rj;\\x85\\xc2\\xb0\\xcb\\xd5\\x88r\\xac'"
      ]
     },
     "execution_count": 14,
     "metadata": {},
     "output_type": "execute_result"
    }
   ],
   "source": [
    "from buidl.taproot import P2PKTapScript\n",
    "p2pk_tap_script = P2PKTapScript(private_key.point)\n",
    "p2pk_tap_script.raw_serialize()"
   ]
  },
  {
   "cell_type": "code",
   "execution_count": 8,
   "id": "010bbc0e",
   "metadata": {},
   "outputs": [],
   "source": [
    "message = \"Hello World\""
   ]
  },
  {
   "cell_type": "code",
   "execution_count": 9,
   "id": "954953a2",
   "metadata": {},
   "outputs": [],
   "source": [
    "from src.message import sign_message, MessageSignatureFormat"
   ]
  },
  {
   "cell_type": "code",
   "execution_count": 10,
   "id": "d7b75aa6",
   "metadata": {},
   "outputs": [
    {
     "name": "stdout",
     "output_type": "stream",
     "text": [
      "Is taproot True\n",
      "\n",
      "tx: a83d0d887b7a139502d417c8b66ebeb514dc8f53ef3bb659329143e3981a8340\n",
      "version: 0\n",
      "locktime: 0\n",
      "tx_ins:\n",
      "21666e9fd208b18d127b655275a9bb9831c33678ba9879a3a57c6a1623db7906:0\n",
      "tx_outs:\n",
      "0:OP_RETURN \n",
      "\n",
      "txIn tap script None\n",
      "txIn witness 6a7f21f6a3548ae7e2707aaaabef76134d2e761b21829f053e7b1c0aee0dc7365939e7054125fa17f2a21fac41695b82606aba00c31e64546dc463ab5ab92abf01 \n",
      "False\n",
      "Combined Script OP_1 0b34f2cc6f60d54e3fdc2d1dd053fcc393bd2db9acc8de4a7c3cc28a83d4d8e9 \n"
     ]
    },
    {
     "ename": "RuntimeError",
     "evalue": "Unable to sign message",
     "output_type": "error",
     "traceback": [
      "\u001b[0;31m---------------------------------------------------------------------------\u001b[0m",
      "\u001b[0;31mRuntimeError\u001b[0m                              Traceback (most recent call last)",
      "Input \u001b[0;32mIn [10]\u001b[0m, in \u001b[0;36m<cell line: 1>\u001b[0;34m()\u001b[0m\n\u001b[0;32m----> 1\u001b[0m signature \u001b[38;5;241m=\u001b[39m \u001b[43msign_message\u001b[49m\u001b[43m(\u001b[49m\u001b[43mMessageSignatureFormat\u001b[49m\u001b[38;5;241;43m.\u001b[39;49m\u001b[43mSIMPLE\u001b[49m\u001b[43m,\u001b[49m\u001b[43m \u001b[49m\u001b[43mprivate_key\u001b[49m\u001b[43m,\u001b[49m\u001b[43m \u001b[49m\u001b[43mtaproot_address\u001b[49m\u001b[43m,\u001b[49m\u001b[43m \u001b[49m\u001b[43mmessage\u001b[49m\u001b[43m)\u001b[49m\n",
      "File \u001b[0;32m~/work/LegendaryRequirements/clients/dcd/bip0322-sigs/src/message.py:153\u001b[0m, in \u001b[0;36msign_message\u001b[0;34m(format, private_key, address, message)\u001b[0m\n\u001b[1;32m    150\u001b[0m \u001b[38;5;28;01mdef\u001b[39;00m \u001b[38;5;21msign_message\u001b[39m(\u001b[38;5;28mformat\u001b[39m: MessageSignatureFormat, private_key: PrivateKey, address: \u001b[38;5;28mstr\u001b[39m, message: \u001b[38;5;28mstr\u001b[39m):\n\u001b[1;32m    152\u001b[0m     \u001b[38;5;28;01mif\u001b[39;00m (\u001b[38;5;28mformat\u001b[39m \u001b[38;5;241m!=\u001b[39m MessageSignatureFormat\u001b[38;5;241m.\u001b[39mLEGACY):\n\u001b[0;32m--> 153\u001b[0m         \u001b[38;5;28;01mreturn\u001b[39;00m \u001b[43msign_message_bip322\u001b[49m\u001b[43m(\u001b[49m\u001b[38;5;28;43mformat\u001b[39;49m\u001b[43m,\u001b[49m\u001b[43mprivate_key\u001b[49m\u001b[43m,\u001b[49m\u001b[43maddress\u001b[49m\u001b[43m,\u001b[49m\u001b[43mmessage\u001b[49m\u001b[43m)\u001b[49m\n\u001b[1;32m    156\u001b[0m     script_pubkey \u001b[38;5;241m=\u001b[39m address_to_script_pubkey(address)\n\u001b[1;32m    158\u001b[0m     \u001b[38;5;28;01mif\u001b[39;00m (\u001b[38;5;129;01mnot\u001b[39;00m script_pubkey\u001b[38;5;241m.\u001b[39mis_p2pkh):\n",
      "File \u001b[0;32m~/work/LegendaryRequirements/clients/dcd/bip0322-sigs/src/message.py:194\u001b[0m, in \u001b[0;36msign_message_bip322\u001b[0;34m(format, private_key, address, message)\u001b[0m\n\u001b[1;32m    192\u001b[0m \u001b[38;5;28mprint\u001b[39m(\u001b[38;5;124m\"\u001b[39m\u001b[38;5;124mCombined Script\u001b[39m\u001b[38;5;124m\"\u001b[39m, combined_script)\n\u001b[1;32m    193\u001b[0m \u001b[38;5;28;01mif\u001b[39;00m (\u001b[38;5;129;01mnot\u001b[39;00m sig_ok):\n\u001b[0;32m--> 194\u001b[0m     \u001b[38;5;28;01mraise\u001b[39;00m \u001b[38;5;167;01mRuntimeError\u001b[39;00m(\u001b[38;5;124m\"\u001b[39m\u001b[38;5;124mUnable to sign message\u001b[39m\u001b[38;5;124m\"\u001b[39m)\n\u001b[1;32m    196\u001b[0m \u001b[38;5;28;01mif\u001b[39;00m (\u001b[38;5;28mformat\u001b[39m \u001b[38;5;241m==\u001b[39m  MessageSignatureFormat\u001b[38;5;241m.\u001b[39mSIMPLE):\n\u001b[1;32m    197\u001b[0m         \u001b[38;5;28;01mreturn\u001b[39;00m base64_encode(to_sign\u001b[38;5;241m.\u001b[39mserialize_witness())\n",
      "\u001b[0;31mRuntimeError\u001b[0m: Unable to sign message"
     ]
    }
   ],
   "source": [
    "signature = sign_message(MessageSignatureFormat.SIMPLE, private_key, taproot_address, message)"
   ]
  },
  {
   "cell_type": "code",
   "execution_count": null,
   "id": "a013606a",
   "metadata": {},
   "outputs": [],
   "source": []
  }
 ],
 "metadata": {
  "kernelspec": {
   "display_name": "Python 3",
   "language": "python",
   "name": "python3"
  },
  "language_info": {
   "codemirror_mode": {
    "name": "ipython",
    "version": 3
   },
   "file_extension": ".py",
   "mimetype": "text/x-python",
   "name": "python",
   "nbconvert_exporter": "python",
   "pygments_lexer": "ipython3",
   "version": "3.8.5"
  }
 },
 "nbformat": 4,
 "nbformat_minor": 5
}
