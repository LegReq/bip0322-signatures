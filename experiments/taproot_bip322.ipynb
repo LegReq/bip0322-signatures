{
 "cells": [
  {
   "cell_type": "markdown",
   "id": "a7aedc14",
   "metadata": {},
   "source": [
    "# Taproot BIP 322 Signing\n",
    "\n",
    "This notebook experiments with using taproot based addresses for BIP 322 signing"
   ]
  },
  {
   "cell_type": "markdown",
   "id": "c83973bc",
   "metadata": {},
   "source": [
    "## Types of Taproot Scripts to Test\n",
    "\n",
    "See Jimmy Song presentation on [Taproot MultiSig](https://jimmysong.github.io/taproot-multisig/)\n",
    "\n",
    "1. Schnorr pay to public key\n",
    "2. Schnorr MuSig signer (n of n)\n",
    "3. Single leaf multi sig TapScript\n",
    "4. Multi leaf k-of-k TapScript\n",
    "5. Multi leaf MuSig TapScript\n",
    "6. Multi leaf everything TapScript\n",
    "\n",
    "Initially, this notebook will just focus creating and verify BIP 322 signatures using types 1 and 2. Although the presentation referenced above details why the other types may be interesting to support."
   ]
  },
  {
   "cell_type": "code",
   "execution_count": null,
   "id": "9b1d3f2a",
   "metadata": {},
   "outputs": [],
   "source": [
    "cd .."
   ]
  },
  {
   "cell_type": "markdown",
   "id": "6e4d552e",
   "metadata": {},
   "source": [
    "## Schnorr pay to public key\n",
    "\n",
    "This just uses a taproot based address which can be unlocked with a single schnorr signature from a specific private key."
   ]
  },
  {
   "cell_type": "markdown",
   "id": "f22c16f2",
   "metadata": {},
   "source": [
    "### Import PrivateKey"
   ]
  },
  {
   "cell_type": "code",
   "execution_count": null,
   "id": "560e843b",
   "metadata": {},
   "outputs": [],
   "source": [
    "from buidl.ecc import PrivateKey"
   ]
  },
  {
   "cell_type": "code",
   "execution_count": null,
   "id": "1c2697f1",
   "metadata": {},
   "outputs": [],
   "source": [
    "private_key_wif = \"L3VFeEujGtevx9w18HD1fhRbCH67Az2dpCymeRE1SoPK6XQtaN2k\""
   ]
  },
  {
   "cell_type": "code",
   "execution_count": null,
   "id": "f2253282",
   "metadata": {},
   "outputs": [],
   "source": [
    "private_key = PrivateKey.parse(private_key_wif)"
   ]
  },
  {
   "cell_type": "markdown",
   "id": "35f82ef0",
   "metadata": {},
   "source": [
    "### Define Message to Sign"
   ]
  },
  {
   "cell_type": "code",
   "execution_count": null,
   "id": "010bbc0e",
   "metadata": {},
   "outputs": [],
   "source": [
    "message = \"Hello World\""
   ]
  },
  {
   "cell_type": "markdown",
   "id": "c5979550",
   "metadata": {},
   "source": [
    "### Generate A Pay to Tap Root Script for the Secp256k1 Point associated with The Private Key"
   ]
  },
  {
   "cell_type": "code",
   "execution_count": null,
   "id": "6c99aa21",
   "metadata": {},
   "outputs": [],
   "source": [
    "p2tr_script = private_key.point.p2tr_script()\n",
    "print(p2tr_script)"
   ]
  },
  {
   "cell_type": "markdown",
   "id": "611561c7",
   "metadata": {},
   "source": [
    "### Convert Script to Bitcoin Address Representation"
   ]
  },
  {
   "cell_type": "code",
   "execution_count": null,
   "id": "390b6d24",
   "metadata": {},
   "outputs": [],
   "source": [
    "p2tr_address = p2tr_script.address()\n",
    "print(p2tr_address)"
   ]
  },
  {
   "cell_type": "markdown",
   "id": "96054c61",
   "metadata": {},
   "source": [
    "### Calculate Teaked Private Key for the P2TR Address\n",
    "\n",
    "See the Tweaked Keys section :  https://medium.com/coinmonks/on-bitcoins-schnorr-signature-algorithm-and-taproot-script-and-witness-sizes-fe4d1e6591a7"
   ]
  },
  {
   "cell_type": "code",
   "execution_count": null,
   "id": "b0f37292",
   "metadata": {},
   "outputs": [],
   "source": [
    "from buidl.taproot import TapRoot\n",
    "taproot = TapRoot(private_key.point)\n",
    "tweaked_private_key = private_key.tweaked(taproot.tweak)"
   ]
  },
  {
   "cell_type": "code",
   "execution_count": null,
   "id": "927445d8",
   "metadata": {},
   "outputs": [],
   "source": [
    "taproot"
   ]
  },
  {
   "cell_type": "markdown",
   "id": "c800e739",
   "metadata": {},
   "source": [
    "### Sign Message using Tweaked Private Key and Taproot Address"
   ]
  },
  {
   "cell_type": "code",
   "execution_count": null,
   "id": "954953a2",
   "metadata": {},
   "outputs": [],
   "source": [
    "from src.message import sign_message, MessageSignatureFormat\n",
    "signature = sign_message(MessageSignatureFormat.SIMPLE, tweaked_private_key, p2tr_address, message)\n",
    "print(\"BIP 322 p2tr based Signature: \", signature)"
   ]
  },
  {
   "cell_type": "markdown",
   "id": "db26c3ea",
   "metadata": {},
   "source": [
    "### Verify Signature against p2tr_address and message"
   ]
  },
  {
   "cell_type": "code",
   "execution_count": null,
   "id": "d60d5fb9",
   "metadata": {},
   "outputs": [],
   "source": [
    "from src.message import verify_message\n",
    "\n",
    "is_valid = verify_message(p2tr_address, signature, message)\n",
    "\n",
    "print(\"BIP 322 Signature \\n\" + signature + \"\\nagainst message : \" + message + \" and address : \" + p2tr_address + \"\\nis valid? \", is_valid)"
   ]
  },
  {
   "cell_type": "code",
   "execution_count": null,
   "id": "011d0019",
   "metadata": {},
   "outputs": [],
   "source": [
    "is_valid"
   ]
  },
  {
   "cell_type": "markdown",
   "id": "4a86a17b",
   "metadata": {},
   "source": [
    "## Schnorr MuSig Signing\n",
    "\n",
    "This is a p2tr address that requires a n-of-n Schnorr aggregated signature.\n",
    "\n",
    "**Note: The current API defined in message.py cannot support MuSig. Or other more complex Bitcoin Script. Need something along the lines of Partially Signed BIP 322 Signature**\n",
    "\n",
    "**Note2: PSBT in buidl-python does not to support taproot yet (See open issue https://github.com/buidl-bitcoin/buidl-python/issues/107)**"
   ]
  },
  {
   "cell_type": "code",
   "execution_count": null,
   "id": "9b5db88d",
   "metadata": {},
   "outputs": [],
   "source": [
    "secret1 = 123817492183\n",
    "priv_key1 = PrivateKey(secret=secret1)\n",
    "\n",
    "secret2 = 7529884329432\n",
    "priv_key2 = PrivateKey(secret=secret2)"
   ]
  },
  {
   "cell_type": "code",
   "execution_count": null,
   "id": "881aeef3",
   "metadata": {},
   "outputs": [],
   "source": [
    "aggregated_pubkey = priv_key1.point + priv_key2.point"
   ]
  },
  {
   "cell_type": "code",
   "execution_count": null,
   "id": "d0124966",
   "metadata": {},
   "outputs": [],
   "source": [
    "taproot = TapRoot(aggregated_pubkey)\n",
    "taproot.tweak"
   ]
  },
  {
   "cell_type": "code",
   "execution_count": null,
   "id": "6dfc3000",
   "metadata": {},
   "outputs": [],
   "source": [
    "musig_taproot_address = taproot.address()"
   ]
  },
  {
   "cell_type": "code",
   "execution_count": null,
   "id": "e6289d54",
   "metadata": {},
   "outputs": [],
   "source": [
    "tweaked_pk_1 = priv_key1.tweaked(taproot.tweak)"
   ]
  },
  {
   "cell_type": "code",
   "execution_count": null,
   "id": "854a0cfc",
   "metadata": {},
   "outputs": [],
   "source": [
    "signature = sign_message(MessageSignatureFormat.FULL,tweaked_pk_1,musig_taproot_address,message)"
   ]
  },
  {
   "cell_type": "code",
   "execution_count": null,
   "id": "890dfc44",
   "metadata": {},
   "outputs": [],
   "source": []
  }
 ],
 "metadata": {
  "kernelspec": {
   "display_name": "Python 3",
   "language": "python",
   "name": "python3"
  },
  "language_info": {
   "codemirror_mode": {
    "name": "ipython",
    "version": 3
   },
   "file_extension": ".py",
   "mimetype": "text/x-python",
   "name": "python",
   "nbconvert_exporter": "python",
   "pygments_lexer": "ipython3",
   "version": "3.8.5"
  }
 },
 "nbformat": 4,
 "nbformat_minor": 5
}
